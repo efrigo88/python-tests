{
 "cells": [
  {
   "cell_type": "code",
   "execution_count": 1,
   "metadata": {},
   "outputs": [],
   "source": [
    "import pathlib\n",
    "from datetime import datetime\n",
    "from typing import List, Tuple, Union, Dict\n",
    "\n",
    "import pyspark.sql.functions as F\n",
    "import pyspark.sql.types as T\n",
    "from pyspark.sql import Column\n",
    "\n",
    "from pyspark.sql import DataFrame\n",
    "from pyspark.sql import SparkSession\n",
    "from pyspark.sql import Window"
   ]
  },
  {
   "cell_type": "code",
   "execution_count": 2,
   "metadata": {},
   "outputs": [
    {
     "name": "stdout",
     "output_type": "stream",
     "text": [
      "23/08/25 11:27:42 WARN Utils: Your hostname, Emilianos-MacBook-Pro.local resolves to a loopback address: 127.0.0.1; using 192.168.1.130 instead (on interface en0)\n",
      "23/08/25 11:27:42 WARN Utils: Set SPARK_LOCAL_IP if you need to bind to another address\n"
     ]
    },
    {
     "name": "stderr",
     "output_type": "stream",
     "text": [
      "Setting default log level to \"WARN\".\n",
      "To adjust logging level use sc.setLogLevel(newLevel). For SparkR, use setLogLevel(newLevel).\n"
     ]
    },
    {
     "name": "stdout",
     "output_type": "stream",
     "text": [
      "23/08/25 11:27:43 WARN NativeCodeLoader: Unable to load native-hadoop library for your platform... using builtin-java classes where applicable\n",
      "23/08/25 11:27:44 WARN Utils: Service 'SparkUI' could not bind on port 4040. Attempting port 4041.\n"
     ]
    }
   ],
   "source": [
    "# master configuration to use only 4 CPU cores\n",
    "spark = SparkSession.builder.master(\"local[4]\").getOrCreate()\n",
    "\n",
    "# basic configuration to use only a reasonable number of partitions\n",
    "spark.conf.set(\"spark.sql.shuffle.partition\", 4)\n",
    "\n",
    "# configuration to work in UTC\n",
    "spark.conf.set(\"spark.sql.session.timeZone\", \"UTC\")"
   ]
  },
  {
   "cell_type": "code",
   "execution_count": 6,
   "metadata": {},
   "outputs": [],
   "source": [
    "df = spark.createDataFrame(\n",
    "    [\n",
    "        {\"name\": \"John\", \"age\": 25, \"example_date\": \"2023-08-23\"},\n",
    "        {\"name\": \"John\", \"age\": 25, \"example_date\": \"2023-08-24\"},\n",
    "        {\"name\": \"John\", \"age\": 26, \"example_date\": \"2023-08-25\"},\n",
    "        {\"name\": \"Mary\", \"age\": 50, \"example_date\": \"2023-08-23\"},\n",
    "        {\"name\": \"Mary\", \"age\": 50, \"example_date\": \"2023-08-23\"},\n",
    "    ]\n",
    ")"
   ]
  },
  {
   "cell_type": "code",
   "execution_count": 7,
   "metadata": {},
   "outputs": [
    {
     "name": "stdout",
     "output_type": "stream",
     "text": [
      "+---+------------+----+\n",
      "|age|example_date|name|\n",
      "+---+------------+----+\n",
      "| 25|  2023-08-23|John|\n",
      "| 25|  2023-08-24|John|\n",
      "| 26|  2023-08-25|John|\n",
      "| 50|  2023-08-23|Mary|\n",
      "| 50|  2023-08-23|Mary|\n",
      "+---+------------+----+\n",
      "\n"
     ]
    }
   ],
   "source": [
    "df.show()"
   ]
  },
  {
   "cell_type": "code",
   "execution_count": 8,
   "metadata": {},
   "outputs": [
    {
     "name": "stdout",
     "output_type": "stream",
     "text": [
      "+---+------------+----+----------+\n",
      "|age|example_date|name|  max_date|\n",
      "+---+------------+----+----------+\n",
      "| 25|  2023-08-23|John|2023-08-24|\n",
      "| 25|  2023-08-24|John|2023-08-24|\n",
      "| 26|  2023-08-25|John|2023-08-25|\n",
      "| 50|  2023-08-23|Mary|2023-08-23|\n",
      "| 50|  2023-08-23|Mary|2023-08-23|\n",
      "+---+------------+----+----------+\n",
      "\n"
     ]
    }
   ],
   "source": [
    "# Define the window specification\n",
    "window_spec = Window.partitionBy(\"name\", \"age\")\n",
    "\n",
    "# Add the max window function column\n",
    "df_with_max = df.withColumn(\"max_date\", F.max(\"example_date\").over(window_spec))\n",
    "df_with_max.show()"
   ]
  },
  {
   "cell_type": "code",
   "execution_count": 16,
   "metadata": {},
   "outputs": [],
   "source": [
    "class DummyConfig:\n",
    "    def __init__(self, config: dict):\n",
    "        self.config = config\n",
    "\n",
    "    def __getitem__(self, key):\n",
    "        return self.config[key]\n",
    "\n",
    "    def get(self, key, default=None):\n",
    "        return self.config.get(key, default)"
   ]
  },
  {
   "cell_type": "code",
   "execution_count": 20,
   "metadata": {},
   "outputs": [],
   "source": [
    "def partition_by_max(\n",
    "    df: DataFrame, config: Dict[str, Union[List[str], str]]\n",
    ") -> DataFrame:\n",
    "    \"\"\"\n",
    "    Adds a new column to the DataFrame with the maximum value of a specified column within each partition.\n",
    "\n",
    "    Args:\n",
    "        df (DataFrame): The input DataFrame.\n",
    "        config (dict): A dictionary containing configuration parameters.\n",
    "            - partition_cols (List[str]): List of column names to partition by.\n",
    "            - max_column (str): The column for which the maximum value will be calculated within each partition.\n",
    "            - column_name (str): The name of the new column that will contain the maximum values.\n",
    "\n",
    "    Returns:\n",
    "        DataFrame: A new DataFrame with the added column containing the maximum values.\n",
    "    \"\"\"\n",
    "    partition_cols = config[\"partition_cols\"]\n",
    "    max_column = config[\"max_column\"]\n",
    "    column_name = config[\"column_name\"]\n",
    "\n",
    "    window_spec = Window.partitionBy(*partition_cols)\n",
    "    df = df.withColumn(column_name, F.max(max_column).over(window_spec))\n",
    "    return df\n",
    "\n",
    "\n",
    "config = DummyConfig(\n",
    "    {\n",
    "        \"partition_cols\": [\"name\", \"age\"],\n",
    "        \"max_column\": \"example_date\",\n",
    "        \"column_name\": \"max_date\",\n",
    "    }\n",
    ")\n",
    "\n",
    "# Call the function to add the max window function column\n",
    "output_df = partition_by_max(df, config)"
   ]
  },
  {
   "cell_type": "code",
   "execution_count": 21,
   "metadata": {},
   "outputs": [
    {
     "name": "stdout",
     "output_type": "stream",
     "text": [
      "+---+------------+----+----------+\n",
      "|age|example_date|name|  max_date|\n",
      "+---+------------+----+----------+\n",
      "| 25|  2023-08-23|John|2023-08-24|\n",
      "| 25|  2023-08-24|John|2023-08-24|\n",
      "| 26|  2023-08-25|John|2023-08-25|\n",
      "| 50|  2023-08-23|Mary|2023-08-23|\n",
      "| 50|  2023-08-23|Mary|2023-08-23|\n",
      "+---+------------+----+----------+\n",
      "\n"
     ]
    }
   ],
   "source": [
    "output_df.show()"
   ]
  },
  {
   "cell_type": "code",
   "execution_count": null,
   "metadata": {},
   "outputs": [],
   "source": []
  },
  {
   "cell_type": "code",
   "execution_count": null,
   "metadata": {},
   "outputs": [],
   "source": []
  }
 ],
 "metadata": {
  "kernelspec": {
   "display_name": ".venv",
   "language": "python",
   "name": "python3"
  },
  "language_info": {
   "codemirror_mode": {
    "name": "ipython",
    "version": 3
   },
   "file_extension": ".py",
   "mimetype": "text/x-python",
   "name": "python",
   "nbconvert_exporter": "python",
   "pygments_lexer": "ipython3",
   "version": "3.10.12"
  },
  "orig_nbformat": 4
 },
 "nbformat": 4,
 "nbformat_minor": 2
}

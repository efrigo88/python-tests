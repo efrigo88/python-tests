{
 "cells": [
  {
   "cell_type": "markdown",
   "id": "1ca07505",
   "metadata": {},
   "source": [
    "# SP API Examples\n",
    "This notebook is an bare-bone example on how to query Amazon SP API.\n",
    "Useful for API exploration and debugging purposes."
   ]
  },
  {
   "cell_type": "code",
   "execution_count": 2,
   "id": "a8f135bf",
   "metadata": {},
   "outputs": [],
   "source": [
    "import boto3\n",
    "import requests\n",
    "import json\n",
    "import os\n",
    "import zlib\n",
    "import json\n",
    "import io\n",
    "\n",
    "from botocore.exceptions import ClientError"
   ]
  },
  {
   "cell_type": "markdown",
   "id": "9783815e",
   "metadata": {},
   "source": [
    "## Configuration"
   ]
  },
  {
   "cell_type": "code",
   "execution_count": 3,
   "id": "16e71640",
   "metadata": {},
   "outputs": [],
   "source": [
    "aws_access_key_id = \"your_access_key\"\n",
    "aws_secret_access_key = \"your_secret_key\"\n",
    "aws_session_token = \"your_session_token\"\n",
    "\n",
    "# config this\n",
    "account_name = \"boba\"\n",
    "account_region = \"NA\"\n",
    "asin = \"B005SP5TX0\"\n",
    "marketplace_id = (\n",
    "    \"ATVPDKIKX0DER\"  # developer-docs.amazon.com/sp-api/docs/marketplace-ids\n",
    ")\n",
    "base_url = \"https://sellingpartnerapi-na.amazon.com\"\n",
    "\n",
    "account_secret_key = \"prod/airbyte/sources/sp_api/\" + account_name"
   ]
  },
  {
   "cell_type": "markdown",
   "id": "2dac2f1f",
   "metadata": {},
   "source": [
    "## Authentication"
   ]
  },
  {
   "cell_type": "code",
   "execution_count": 4,
   "metadata": {},
   "outputs": [],
   "source": [
    "def get_secret_by_name(secret_name: str):\n",
    "    secret_str = _get_secret(secret_name)\n",
    "    return json.loads(secret_str)\n",
    "\n",
    "\n",
    "def _get_secret(secret_name: str, region_name: str = \"eu-west-1\"):\n",
    "\n",
    "    # Create a Secrets Manager client\n",
    "    session = boto3.session.Session(profile_name=\"data-prod\")\n",
    "    client = session.client(service_name=\"secretsmanager\", region_name=region_name)\n",
    "\n",
    "    try:\n",
    "        get_secret_value_response = client.get_secret_value(SecretId=secret_name)\n",
    "    except ClientError as e:\n",
    "        # For a list of exceptions thrown, see\n",
    "        # https://docs.aws.amazon.com/secretsmanager/latest/apireference/API_GetSecretValue.html\n",
    "        raise e\n",
    "\n",
    "    # Decrypts secret using the associated KMS key.\n",
    "    return get_secret_value_response[\"SecretString\"]"
   ]
  },
  {
   "cell_type": "code",
   "execution_count": 5,
   "metadata": {},
   "outputs": [],
   "source": [
    "secret = get_secret_by_name(account_secret_key)"
   ]
  },
  {
   "cell_type": "code",
   "execution_count": null,
   "id": "bb4538dd",
   "metadata": {},
   "outputs": [],
   "source": [
    "# Get access token\n",
    "url = \"https://api.amazon.com/auth/o2/token\"\n",
    "client_secret = secret[\"lwa_client_secret\"]\n",
    "refresh_token = secret[\"refresh_tokens\"][account_region]\n",
    "client_id = secret[\"lwa_app_id\"]\n",
    "\n",
    "payload = f\"grant_type=refresh_token&refresh_token={refresh_token}&client_id={client_id}&client_secret={client_secret}\"\n",
    "headers = {\"Content-Type\": \"application/x-www-form-urlencoded\"}\n",
    "\n",
    "response = requests.request(\"POST\", url, headers=headers, data=payload)\n",
    "print(response.json())\n",
    "\n",
    "access_token = response.json()[\"access_token\"]\n",
    "print(access_token)"
   ]
  },
  {
   "cell_type": "markdown",
   "id": "9b4d0192",
   "metadata": {},
   "source": [
    "## get Catalog Item"
   ]
  },
  {
   "cell_type": "code",
   "execution_count": null,
   "id": "731bc92d",
   "metadata": {},
   "outputs": [],
   "source": [
    "# Create report\n",
    "\n",
    "url = f\"{base_url}/catalog/2020-12-01/items\"\n",
    "\n",
    "# catalog/2020-12-01/items/:asin?marketplaceIds=boba\n",
    "\n",
    "payload = {\n",
    "    \"marketplaceIds\": [marketplace_id],\n",
    "}\n",
    "\n",
    "# payload={\n",
    "#     \"asin\": asin,\n",
    "#     \"marketplaceIds\":[marketplace_id],\n",
    "# }\n",
    "\n",
    "headers = {\n",
    "    \"Accept\": \"application/json\",\n",
    "    \"x-amz-access-token\": access_token,\n",
    "    \"X-Amz-Security-Token\": aws_session_token,\n",
    "    \"content-type\": \"application/json; charset=utf-8\",\n",
    "}\n",
    "\n",
    "response = requests.request(\"GET\", url, headers=headers, data=json.dumps(payload))\n",
    "\n",
    "response\n",
    "\n",
    "# response.json()"
   ]
  },
  {
   "cell_type": "code",
   "execution_count": null,
   "id": "5323a39a",
   "metadata": {},
   "outputs": [],
   "source": [
    "## get the report\n",
    "url = f\"{base_url}/reports/2021-06-30/reports/{response.json()['reportId']}\"\n",
    "\n",
    "headers = {\n",
    "    \"Accept\": \"application/json\",\n",
    "    \"x-amz-access-token\": access_token,\n",
    "    \"X-Amz-Security-Token\": aws_session_token,\n",
    "    \"content-type\": \"application/json; charset=utf-8\",\n",
    "}\n",
    "\n",
    "response = requests.request(\"get\", url, headers=headers)\n",
    "report = response.json()\n",
    "report"
   ]
  },
  {
   "cell_type": "code",
   "execution_count": 62,
   "id": "add261be",
   "metadata": {},
   "outputs": [],
   "source": [
    "## get the doc of the report\n",
    "report_doc_id = report[\"reportDocumentId\"]\n",
    "url = f\"{base_url}/reports/2021-06-30/documents/{report_doc_id}\"\n",
    "\n",
    "headers = {\n",
    "    \"Accept\": \"application/json\",\n",
    "    \"x-amz-access-token\": access_token,\n",
    "    \"X-Amz-Security-Token\": credentials[\"SessionToken\"],\n",
    "    \"content-type\": \"application/json; charset=utf-8\",\n",
    "}\n",
    "\n",
    "response = requests.request(\"get\", url, headers=headers)"
   ]
  },
  {
   "cell_type": "code",
   "execution_count": null,
   "id": "7af0f358",
   "metadata": {},
   "outputs": [],
   "source": [
    "response.json()"
   ]
  },
  {
   "cell_type": "code",
   "execution_count": null,
   "id": "caf45025",
   "metadata": {},
   "outputs": [],
   "source": [
    "url = response.json()[\"url\"]\n",
    "url"
   ]
  },
  {
   "cell_type": "code",
   "execution_count": 65,
   "id": "2e8e0b71",
   "metadata": {},
   "outputs": [],
   "source": [
    "report = requests.get(url)\n",
    "decoded = zlib.decompress(bytearray(report.content), 15 + 32).decode(\"iso-8859-1\")"
   ]
  },
  {
   "cell_type": "code",
   "execution_count": null,
   "id": "cc2e27d9",
   "metadata": {},
   "outputs": [],
   "source": [
    "data = json.loads(decoded)\n",
    "json.dumps(data)"
   ]
  },
  {
   "cell_type": "code",
   "execution_count": 67,
   "id": "66fdfcc4",
   "metadata": {},
   "outputs": [],
   "source": [
    "with open(\n",
    "    f\"report_samples/{account_name}_{account_region}_{reportType}.json\",\n",
    "    \"w\",\n",
    "    encoding=\"utf-8\",\n",
    ") as f:\n",
    "    json.dump(data, f, ensure_ascii=False, indent=4)"
   ]
  },
  {
   "cell_type": "markdown",
   "id": "cb28a37d",
   "metadata": {},
   "source": [
    "## GET_COUPON_PERFORMANCE_REPORT"
   ]
  },
  {
   "cell_type": "code",
   "execution_count": null,
   "id": "ea987661",
   "metadata": {},
   "outputs": [],
   "source": [
    "# Create report\n",
    "data_start = \"2023-01-01T00:00:00Z\"\n",
    "data_end = \"2023-08-31T23:59:59Z\"\n",
    "reportType = \"GET_COUPON_PERFORMANCE_REPORT\"\n",
    "# config this url!\n",
    "url = f\"{base_url}/reports/2021-06-30/reports\"\n",
    "\n",
    "payload = {\n",
    "    \"marketplaceIds\": [marketplace_id],\n",
    "    \"reportType\": reportType,\n",
    "    \"reportOptions\": {\"couponStartDateFrom\": data_start, \"couponStartDateTo\": data_end},\n",
    "}\n",
    "\n",
    "headers = {\n",
    "    \"Accept\": \"application/json\",\n",
    "    \"x-amz-access-token\": access_token,\n",
    "    \"X-Amz-Security-Token\": credentials[\"SessionToken\"],\n",
    "    \"content-type\": \"application/json; charset=utf-8\",\n",
    "}\n",
    "\n",
    "response = requests.request(\"POST\", url, headers=headers, data=json.dumps(payload))\n",
    "response.json()"
   ]
  },
  {
   "cell_type": "code",
   "execution_count": null,
   "id": "dd61039b",
   "metadata": {},
   "outputs": [],
   "source": [
    "## get the report\n",
    "# config this url!\n",
    "url = f\"{base_url}/reports/2021-06-30/reports/{response.json()['reportId']}\"\n",
    "\n",
    "headers = {\n",
    "    \"Accept\": \"application/json\",\n",
    "    \"x-amz-access-token\": access_token,\n",
    "    \"X-Amz-Security-Token\": credentials[\"SessionToken\"],\n",
    "    \"content-type\": \"application/json; charset=utf-8\",\n",
    "}\n",
    "\n",
    "response = requests.request(\"get\", url, headers=headers)\n",
    "report = response.json()\n",
    "report"
   ]
  },
  {
   "cell_type": "code",
   "execution_count": 49,
   "id": "26c0139c",
   "metadata": {},
   "outputs": [],
   "source": [
    "## get the doc of the report\n",
    "report_doc_id = report[\"reportDocumentId\"]\n",
    "url = f\"{base_url}/reports/2021-06-30/documents/{report_doc_id}\"\n",
    "\n",
    "headers = {\n",
    "    \"Accept\": \"application/json\",\n",
    "    \"x-amz-access-token\": access_token,\n",
    "    \"X-Amz-Security-Token\": credentials[\"SessionToken\"],\n",
    "    \"content-type\": \"application/json; charset=utf-8\",\n",
    "}\n",
    "\n",
    "\n",
    "response = requests.request(\"get\", url, headers=headers)"
   ]
  },
  {
   "cell_type": "code",
   "execution_count": null,
   "id": "023813be",
   "metadata": {},
   "outputs": [],
   "source": [
    "response.json()"
   ]
  },
  {
   "cell_type": "code",
   "execution_count": null,
   "id": "cc95a56b",
   "metadata": {},
   "outputs": [],
   "source": [
    "url = response.json()[\"url\"]\n",
    "url"
   ]
  },
  {
   "cell_type": "code",
   "execution_count": 52,
   "id": "3294fdb5",
   "metadata": {},
   "outputs": [],
   "source": [
    "report = requests.get(url)\n",
    "decoded = zlib.decompress(bytearray(report.content), 15 + 32).decode(\"iso-8859-1\")"
   ]
  },
  {
   "cell_type": "code",
   "execution_count": null,
   "id": "cdbb0f8c",
   "metadata": {},
   "outputs": [],
   "source": [
    "data = json.loads(decoded)\n",
    "json.dumps(data)"
   ]
  },
  {
   "cell_type": "code",
   "execution_count": 54,
   "id": "523b6198",
   "metadata": {},
   "outputs": [],
   "source": [
    "with open(\n",
    "    f\"report_samples/{account_name}_{account_region}_{reportType}.json\",\n",
    "    \"w\",\n",
    "    encoding=\"utf-8\",\n",
    ") as f:\n",
    "    json.dump(data, f, ensure_ascii=False, indent=4)"
   ]
  },
  {
   "cell_type": "code",
   "execution_count": null,
   "id": "4d32a53c",
   "metadata": {},
   "outputs": [],
   "source": []
  }
 ],
 "metadata": {
  "kernelspec": {
   "display_name": "Python 3 (ipykernel)",
   "language": "python",
   "name": "python3"
  },
  "language_info": {
   "codemirror_mode": {
    "name": "ipython",
    "version": 3
   },
   "file_extension": ".py",
   "mimetype": "text/x-python",
   "name": "python",
   "nbconvert_exporter": "python",
   "pygments_lexer": "ipython3",
   "version": "3.10.12"
  }
 },
 "nbformat": 4,
 "nbformat_minor": 5
}

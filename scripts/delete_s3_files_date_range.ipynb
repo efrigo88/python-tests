{
 "cells": [
  {
   "cell_type": "code",
   "execution_count": 19,
   "metadata": {},
   "outputs": [],
   "source": [
    "import boto3\n",
    "\n",
    "s3 = boto3.Session(profile_name=\"data-prod\").client(\"s3\")"
   ]
  },
  {
   "cell_type": "code",
   "execution_count": 20,
   "metadata": {},
   "outputs": [],
   "source": [
    "def s3_items_from_table(bucket, prefix):\n",
    "    paginator = s3.get_paginator(\"list_objects_v2\")\n",
    "    pages = paginator.paginate(Bucket=bucket, Prefix=prefix)\n",
    "    objects = []\n",
    "\n",
    "    for page in pages:\n",
    "        for item in page[\"Contents\"]:\n",
    "            objects.append(item[\"Key\"])\n",
    "\n",
    "    return objects"
   ]
  },
  {
   "cell_type": "code",
   "execution_count": 21,
   "metadata": {},
   "outputs": [],
   "source": [
    "bucket = \"heroes-dl-raw-prod\"\n",
    "s3_keys = s3_items_from_table(bucket=bucket, prefix=\"airbyte/sp_api/\")"
   ]
  },
  {
   "cell_type": "code",
   "execution_count": null,
   "metadata": {},
   "outputs": [],
   "source": [
    "print(len(s3_keys))\n",
    "print(s3_keys[:5])"
   ]
  },
  {
   "cell_type": "code",
   "execution_count": 14,
   "metadata": {},
   "outputs": [],
   "source": [
    "dt_from = \"1970-01-01\"\n",
    "dt_to = \"2023-07-25\"\n",
    "\n",
    "selected_entity = \"ListFinancialEvents\""
   ]
  },
  {
   "cell_type": "code",
   "execution_count": 22,
   "metadata": {},
   "outputs": [
    {
     "name": "stdout",
     "output_type": "stream",
     "text": [
      "Elements to delete for entity ListFinancialEvents: 333\n",
      "\n"
     ]
    }
   ],
   "source": [
    "uris_filtered = []\n",
    "for uri in s3_keys:\n",
    "    if selected_entity in uri:\n",
    "        aux = uri.split(\"/\")[6]\n",
    "        aux = aux.replace(\"p_ingestion_dt=\", \"\")\n",
    "\n",
    "        if dt_from <= aux <= dt_to:\n",
    "            uris_filtered.append(uri)\n",
    "\n",
    "print(f\"Elements to delete for entity {selected_entity}: {len(uris_filtered)}\")\n",
    "print()"
   ]
  },
  {
   "cell_type": "code",
   "execution_count": null,
   "metadata": {},
   "outputs": [],
   "source": [
    "uris_filtered[:10]"
   ]
  },
  {
   "cell_type": "code",
   "execution_count": 24,
   "metadata": {},
   "outputs": [],
   "source": [
    "def s3_one_by_one(bucket, key):\n",
    "    try:\n",
    "        s3.delete_object(Bucket=bucket, Key=key)\n",
    "        return f\"key: >>{key}<< successfully deleted\"\n",
    "    except ValueError as e:\n",
    "        return f\"there was a problem with key: >>{key}<<, {e}\""
   ]
  },
  {
   "cell_type": "code",
   "execution_count": null,
   "metadata": {},
   "outputs": [],
   "source": [
    "# deleting objects one by one\n",
    "for i in uris_filtered:\n",
    "    print(s3_one_by_one(bucket, i))"
   ]
  }
 ],
 "metadata": {
  "interpreter": {
   "hash": "aee8b7b246df8f9039afb4144a1f6fd8d2ca17a180786b69acc140d282b71a49"
  },
  "kernelspec": {
   "display_name": "Python 3.9.2 64-bit",
   "name": "python3"
  },
  "language_info": {
   "codemirror_mode": {
    "name": "ipython",
    "version": 3
   },
   "file_extension": ".py",
   "mimetype": "text/x-python",
   "name": "python",
   "nbconvert_exporter": "python",
   "pygments_lexer": "ipython3",
   "version": "3.10.12"
  },
  "orig_nbformat": 4
 },
 "nbformat": 4,
 "nbformat_minor": 2
}

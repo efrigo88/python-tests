{
 "cells": [
  {
   "cell_type": "code",
   "execution_count": 13,
   "metadata": {},
   "outputs": [],
   "source": [
    "import boto3\n",
    "\n",
    "s3 = boto3.Session(profile_name=\"data-prod\").client(\"s3\")"
   ]
  },
  {
   "cell_type": "code",
   "execution_count": 12,
   "metadata": {},
   "outputs": [],
   "source": [
    "bucket = \"heroes-dl-raw-prod\""
   ]
  },
  {
   "cell_type": "code",
   "execution_count": 14,
   "metadata": {},
   "outputs": [],
   "source": [
    "s3_keys = [\n",
    "    \"s3://heroes-dl-raw-dev/airbyte/sp_api/p_account_id=CLEVER_YELLOW/p_region_id=NA/p_marketplace_id=US/p_entity_id=GET_V2_SETTLEMENT_REPORT_DATA_FLAT_FILE_V2/p_ingestion_dt=2023-08-28/1693214044809_0.jsonl\",\n",
    "    \"s3://heroes-dl-raw-dev/airbyte/sp_api/p_account_id=TRUNKI_EU/p_region_id=EU/p_marketplace_id=UK/p_entity_id=GET_V2_SETTLEMENT_REPORT_DATA_FLAT_FILE_V2/p_ingestion_dt=2023-08-29/1693287833124_0.jsonl\",\n",
    "    \"s3://heroes-dl-raw-dev/airbyte/sp_api/p_account_id=DOGROOK/p_region_id=NA/p_marketplace_id=US/p_entity_id=GET_V2_SETTLEMENT_REPORT_DATA_FLAT_FILE_V2/p_ingestion_dt=2023-08-17/1692250728297_0.jsonl\",\n",
    "    \"s3://heroes-dl-raw-dev/airbyte/sp_api/p_account_id=CLEVER_YELLOW/p_region_id=EU/p_marketplace_id=UK/p_entity_id=GET_V2_SETTLEMENT_REPORT_DATA_FLAT_FILE_V2/p_ingestion_dt=2023-08-17/1692263677995_0.jsonl\",\n",
    "    \"s3://heroes-dl-raw-dev/airbyte/sp_api/p_account_id=CLEVER_YELLOW/p_region_id=NA/p_marketplace_id=US/p_entity_id=GET_V2_SETTLEMENT_REPORT_DATA_FLAT_FILE_V2/p_ingestion_dt=2023-08-28/1693214044809_0.jsonl\",\n",
    "    \"s3://heroes-dl-raw-dev/airbyte/sp_api/p_account_id=CLEVER_YELLOW/p_region_id=NA/p_marketplace_id=US/p_entity_id=GET_V2_SETTLEMENT_REPORT_DATA_FLAT_FILE_V2/p_ingestion_dt=2023-08-28/1693214044809_0.jsonl\",\n",
    "    \"s3://heroes-dl-raw-dev/airbyte/sp_api/p_account_id=CLEVER_YELLOW/p_region_id=EU/p_marketplace_id=UK/p_entity_id=GET_V2_SETTLEMENT_REPORT_DATA_FLAT_FILE_V2/p_ingestion_dt=2023-08-17/1692263677995_0.jsonl\",\n",
    "]"
   ]
  },
  {
   "cell_type": "code",
   "execution_count": 6,
   "metadata": {},
   "outputs": [
    {
     "name": "stdout",
     "output_type": "stream",
     "text": [
      "['airbyte/sp_api/p_account_id=CLEVER_YELLOW/p_region_id=NA/p_marketplace_id=US/p_entity_id=GET_V2_SETTLEMENT_REPORT_DATA_FLAT_FILE_V2/p_ingestion_dt=2023-08-28/1693214044809_0.jsonl', 'airbyte/sp_api/p_account_id=TRUNKI_EU/p_region_id=EU/p_marketplace_id=UK/p_entity_id=GET_V2_SETTLEMENT_REPORT_DATA_FLAT_FILE_V2/p_ingestion_dt=2023-08-29/1693287833124_0.jsonl', 'airbyte/sp_api/p_account_id=DOGROOK/p_region_id=NA/p_marketplace_id=US/p_entity_id=GET_V2_SETTLEMENT_REPORT_DATA_FLAT_FILE_V2/p_ingestion_dt=2023-08-17/1692250728297_0.jsonl', 'airbyte/sp_api/p_account_id=CLEVER_YELLOW/p_region_id=EU/p_marketplace_id=UK/p_entity_id=GET_V2_SETTLEMENT_REPORT_DATA_FLAT_FILE_V2/p_ingestion_dt=2023-08-17/1692263677995_0.jsonl', 'airbyte/sp_api/p_account_id=CLEVER_YELLOW/p_region_id=NA/p_marketplace_id=US/p_entity_id=GET_V2_SETTLEMENT_REPORT_DATA_FLAT_FILE_V2/p_ingestion_dt=2023-08-28/1693214044809_0.jsonl', 'airbyte/sp_api/p_account_id=CLEVER_YELLOW/p_region_id=NA/p_marketplace_id=US/p_entity_id=GET_V2_SETTLEMENT_REPORT_DATA_FLAT_FILE_V2/p_ingestion_dt=2023-08-28/1693214044809_0.jsonl', 'airbyte/sp_api/p_account_id=CLEVER_YELLOW/p_region_id=EU/p_marketplace_id=UK/p_entity_id=GET_V2_SETTLEMENT_REPORT_DATA_FLAT_FILE_V2/p_ingestion_dt=2023-08-17/1692263677995_0.jsonl']\n"
     ]
    }
   ],
   "source": [
    "s3_keys_cleaned = []\n",
    "\n",
    "for i in s3_keys:\n",
    "    split = i.split(\"/\")[3:]\n",
    "    joined = \"/\".join(split)\n",
    "    s3_keys_cleaned.append(joined)\n",
    "\n",
    "print(s3_keys_cleaned)"
   ]
  },
  {
   "cell_type": "code",
   "execution_count": 8,
   "metadata": {},
   "outputs": [],
   "source": [
    "def s3_one_by_one(bucket, key):\n",
    "    try:\n",
    "        s3.delete_object(Bucket=bucket, Key=key)\n",
    "        return f\"key: >>{key}<< successfully deleted\"\n",
    "    except ValueError as e:\n",
    "        return f\"there was a problem with key: >>{key}<<, {e}\""
   ]
  },
  {
   "cell_type": "code",
   "execution_count": 15,
   "metadata": {},
   "outputs": [
    {
     "name": "stdout",
     "output_type": "stream",
     "text": [
      "key: >>airbyte/sp_api/p_account_id=CLEVER_YELLOW/p_region_id=NA/p_marketplace_id=US/p_entity_id=GET_V2_SETTLEMENT_REPORT_DATA_FLAT_FILE_V2/p_ingestion_dt=2023-08-28/1693214044809_0.jsonl<< successfully deleted\n",
      "key: >>airbyte/sp_api/p_account_id=TRUNKI_EU/p_region_id=EU/p_marketplace_id=UK/p_entity_id=GET_V2_SETTLEMENT_REPORT_DATA_FLAT_FILE_V2/p_ingestion_dt=2023-08-29/1693287833124_0.jsonl<< successfully deleted\n",
      "key: >>airbyte/sp_api/p_account_id=DOGROOK/p_region_id=NA/p_marketplace_id=US/p_entity_id=GET_V2_SETTLEMENT_REPORT_DATA_FLAT_FILE_V2/p_ingestion_dt=2023-08-17/1692250728297_0.jsonl<< successfully deleted\n",
      "key: >>airbyte/sp_api/p_account_id=CLEVER_YELLOW/p_region_id=EU/p_marketplace_id=UK/p_entity_id=GET_V2_SETTLEMENT_REPORT_DATA_FLAT_FILE_V2/p_ingestion_dt=2023-08-17/1692263677995_0.jsonl<< successfully deleted\n",
      "key: >>airbyte/sp_api/p_account_id=CLEVER_YELLOW/p_region_id=NA/p_marketplace_id=US/p_entity_id=GET_V2_SETTLEMENT_REPORT_DATA_FLAT_FILE_V2/p_ingestion_dt=2023-08-28/1693214044809_0.jsonl<< successfully deleted\n",
      "key: >>airbyte/sp_api/p_account_id=CLEVER_YELLOW/p_region_id=NA/p_marketplace_id=US/p_entity_id=GET_V2_SETTLEMENT_REPORT_DATA_FLAT_FILE_V2/p_ingestion_dt=2023-08-28/1693214044809_0.jsonl<< successfully deleted\n",
      "key: >>airbyte/sp_api/p_account_id=CLEVER_YELLOW/p_region_id=EU/p_marketplace_id=UK/p_entity_id=GET_V2_SETTLEMENT_REPORT_DATA_FLAT_FILE_V2/p_ingestion_dt=2023-08-17/1692263677995_0.jsonl<< successfully deleted\n"
     ]
    }
   ],
   "source": [
    "# deleting objects one by one\n",
    "for i in s3_keys_cleaned:\n",
    "    print(s3_one_by_one(bucket, i))"
   ]
  }
 ],
 "metadata": {
  "interpreter": {
   "hash": "aee8b7b246df8f9039afb4144a1f6fd8d2ca17a180786b69acc140d282b71a49"
  },
  "kernelspec": {
   "display_name": "Python 3.9.2 64-bit",
   "name": "python3"
  },
  "language_info": {
   "codemirror_mode": {
    "name": "ipython",
    "version": 3
   },
   "file_extension": ".py",
   "mimetype": "text/x-python",
   "name": "python",
   "nbconvert_exporter": "python",
   "pygments_lexer": "ipython3",
   "version": "3.10.13"
  },
  "orig_nbformat": 4
 },
 "nbformat": 4,
 "nbformat_minor": 2
}

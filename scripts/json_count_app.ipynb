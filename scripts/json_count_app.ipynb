{
 "cells": [
  {
   "cell_type": "code",
   "execution_count": 1,
   "metadata": {},
   "outputs": [],
   "source": [
    "import json"
   ]
  },
  {
   "cell_type": "code",
   "execution_count": 5,
   "metadata": {},
   "outputs": [],
   "source": [
    "def get_json(file_path):\n",
    "    try:\n",
    "        with open(file_path, \"r\") as file:\n",
    "            # Read the entire file content\n",
    "            content = file.read()\n",
    "\n",
    "            # Parse the JSON structure\n",
    "            json_data = json.loads(content)\n",
    "\n",
    "            return json_data\n",
    "\n",
    "    except json.JSONDecodeError as e:\n",
    "        print(f\"Error decoding JSON: {e}\")\n",
    "        return None\n",
    "    except FileNotFoundError:\n",
    "        print(f\"File not found: {file_path}\")\n",
    "        return None\n",
    "    except Exception as e:\n",
    "        print(f\"An error occurred: {e}\")\n",
    "        return None"
   ]
  },
  {
   "cell_type": "code",
   "execution_count": 6,
   "metadata": {},
   "outputs": [],
   "source": [
    "def count_results_elements(json_data):\n",
    "    try:\n",
    "        # Check if \"results\" key exists and is a list\n",
    "        if \"results\" in json_data and isinstance(json_data[\"results\"], list):\n",
    "            # Count the number of elements in the \"results\" array\n",
    "            results_count = len(json_data[\"results\"])\n",
    "            return results_count\n",
    "        else:\n",
    "            print(\"Invalid JSON structure. 'results' key not found or not a list.\")\n",
    "            return None\n",
    "\n",
    "    except json.JSONDecodeError as e:\n",
    "        print(f\"Error decoding JSON: {e}\")\n",
    "        return None\n",
    "    except Exception as e:\n",
    "        print(f\"An error occurred: {e}\")\n",
    "        return None"
   ]
  },
  {
   "cell_type": "code",
   "execution_count": 7,
   "metadata": {},
   "outputs": [
    {
     "name": "stdout",
     "output_type": "stream",
     "text": [
      "1000\n"
     ]
    }
   ],
   "source": [
    "# Example usage\n",
    "file_path = \"/Users/emilianofrigo/Downloads/test_json.txt\"\n",
    "\n",
    "json_data = get_json(file_path)\n",
    "count_results = count_results_elements(json_data)\n",
    "\n",
    "print(count_results)"
   ]
  },
  {
   "cell_type": "code",
   "execution_count": 14,
   "metadata": {},
   "outputs": [
    {
     "name": "stdout",
     "output_type": "stream",
     "text": [
      "{'script': '1818', 'deploy': '1', 'compid': '6914496', 'searchID': '8752', 'rowNum': '1000', 'pageNum': '2'}\n"
     ]
    }
   ],
   "source": [
    "from urllib.parse import parse_qsl, urlparse\n",
    "\n",
    "example_url = \"https://6914496.restlets.api.netsuite.com/app/site/hosting/restlet.nl?script=1818&deploy=1&compid=6914496&searchID=8752&rowNum=1000&pageNum=2\"\n",
    "\n",
    "\n",
    "# test = dict(parse_qsl(urlparse(example_url.get(\"url\")).query))\n",
    "\n",
    "test = dict(parse_qsl(urlparse(example_url).query))\n",
    "\n",
    "print(test)"
   ]
  },
  {
   "cell_type": "code",
   "execution_count": null,
   "metadata": {},
   "outputs": [],
   "source": []
  },
  {
   "cell_type": "code",
   "execution_count": null,
   "metadata": {},
   "outputs": [],
   "source": []
  },
  {
   "cell_type": "code",
   "execution_count": null,
   "metadata": {},
   "outputs": [],
   "source": []
  }
 ],
 "metadata": {
  "kernelspec": {
   "display_name": ".venv",
   "language": "python",
   "name": "python3"
  },
  "language_info": {
   "codemirror_mode": {
    "name": "ipython",
    "version": 3
   },
   "file_extension": ".py",
   "mimetype": "text/x-python",
   "name": "python",
   "nbconvert_exporter": "python",
   "pygments_lexer": "ipython3",
   "version": "3.10.12"
  }
 },
 "nbformat": 4,
 "nbformat_minor": 2
}

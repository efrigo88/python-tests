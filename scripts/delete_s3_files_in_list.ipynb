{
 "cells": [
  {
   "cell_type": "code",
   "execution_count": 67,
   "metadata": {},
   "outputs": [],
   "source": [
    "env = \"prod\"\n",
    "bucket = f\"heroes-dl-raw-{env}\"\n",
    "prefix = \"airbyte/sp_api/\"\n",
    "selected_entity = \"GET_V2_SETTLEMENT_REPORT_DATA_FLAT_FILE_V2\""
   ]
  },
  {
   "cell_type": "code",
   "execution_count": 68,
   "metadata": {},
   "outputs": [],
   "source": [
    "file_list = [\n",
    "    \"1692943073700_0\",\n",
    "]"
   ]
  },
  {
   "cell_type": "code",
   "execution_count": 69,
   "metadata": {},
   "outputs": [],
   "source": [
    "import boto3\n",
    "\n",
    "s3 = boto3.Session(profile_name=f\"data-{env}\").client(\"s3\")"
   ]
  },
  {
   "cell_type": "code",
   "execution_count": 70,
   "metadata": {},
   "outputs": [],
   "source": [
    "def s3_items_from_table(bucket, prefix):\n",
    "    paginator = s3.get_paginator(\"list_objects_v2\")\n",
    "    pages = paginator.paginate(Bucket=bucket, Prefix=prefix)\n",
    "    objects = []\n",
    "\n",
    "    for page in pages:\n",
    "        for item in page[\"Contents\"]:\n",
    "            objects.append(item[\"Key\"])\n",
    "\n",
    "    return objects"
   ]
  },
  {
   "cell_type": "code",
   "execution_count": 71,
   "metadata": {},
   "outputs": [],
   "source": [
    "s3_keys = s3_items_from_table(bucket=bucket, prefix=prefix)"
   ]
  },
  {
   "cell_type": "code",
   "execution_count": 72,
   "metadata": {},
   "outputs": [
    {
     "name": "stdout",
     "output_type": "stream",
     "text": [
      "86830\n",
      "airbyte/sp_api/p_account_id=AMZ_PETS/p_region_id=EU/p_marketplace_id=UK/p_entity_id=GET_FBA_FULFILLMENT_CUSTOMER_RETURNS_DATA/p_ingestion_dt=2023-06-26/1687741321322_0.jsonl\n",
      "airbyte/sp_api/p_account_id=AMZ_PETS/p_region_id=EU/p_marketplace_id=UK/p_entity_id=GET_FBA_FULFILLMENT_CUSTOMER_RETURNS_DATA/p_ingestion_dt=2023-06-26/1687799089097_0.jsonl\n",
      "airbyte/sp_api/p_account_id=AMZ_PETS/p_region_id=EU/p_marketplace_id=UK/p_entity_id=GET_FBA_FULFILLMENT_CUSTOMER_RETURNS_DATA/p_ingestion_dt=2023-06-28/1687996093122_0.jsonl\n",
      "airbyte/sp_api/p_account_id=AMZ_PETS/p_region_id=EU/p_marketplace_id=UK/p_entity_id=GET_FBA_FULFILLMENT_CUSTOMER_RETURNS_DATA/p_ingestion_dt=2023-06-29/1688004453066_0.jsonl\n",
      "airbyte/sp_api/p_account_id=AMZ_PETS/p_region_id=EU/p_marketplace_id=UK/p_entity_id=GET_FBA_FULFILLMENT_CUSTOMER_RETURNS_DATA/p_ingestion_dt=2023-07-08/1688784104796_0.jsonl\n"
     ]
    }
   ],
   "source": [
    "print(len(s3_keys))\n",
    "for element in s3_keys[:5]:\n",
    "    print(element)"
   ]
  },
  {
   "cell_type": "code",
   "execution_count": 73,
   "metadata": {},
   "outputs": [
    {
     "name": "stdout",
     "output_type": "stream",
     "text": [
      "1096\n",
      "airbyte/sp_api/p_account_id=AMZ_PETS/p_region_id=EU/p_marketplace_id=UK/p_entity_id=GET_V2_SETTLEMENT_REPORT_DATA_FLAT_FILE_V2/p_ingestion_dt=2023-05-11/1683766869318_0.jsonl\n",
      "airbyte/sp_api/p_account_id=AMZ_PETS/p_region_id=EU/p_marketplace_id=UK/p_entity_id=GET_V2_SETTLEMENT_REPORT_DATA_FLAT_FILE_V2/p_ingestion_dt=2023-05-11/1683771314066_0.jsonl\n",
      "airbyte/sp_api/p_account_id=AMZ_PETS/p_region_id=EU/p_marketplace_id=UK/p_entity_id=GET_V2_SETTLEMENT_REPORT_DATA_FLAT_FILE_V2/p_ingestion_dt=2023-05-11/1683775272522_0.jsonl\n",
      "airbyte/sp_api/p_account_id=AMZ_PETS/p_region_id=EU/p_marketplace_id=UK/p_entity_id=GET_V2_SETTLEMENT_REPORT_DATA_FLAT_FILE_V2/p_ingestion_dt=2023-05-13/1683939678937_0.jsonl\n",
      "airbyte/sp_api/p_account_id=AMZ_PETS/p_region_id=EU/p_marketplace_id=UK/p_entity_id=GET_V2_SETTLEMENT_REPORT_DATA_FLAT_FILE_V2/p_ingestion_dt=2023-05-13/1683943181202_0.jsonl\n"
     ]
    }
   ],
   "source": [
    "s3_keys_filtered = []\n",
    "for i in s3_keys:\n",
    "    if selected_entity in i:\n",
    "        s3_keys_filtered.append(i)\n",
    "\n",
    "print(len(s3_keys_filtered))\n",
    "for element in s3_keys_filtered[:5]:\n",
    "    print(element)"
   ]
  },
  {
   "cell_type": "code",
   "execution_count": 74,
   "metadata": {},
   "outputs": [
    {
     "name": "stdout",
     "output_type": "stream",
     "text": [
      "1\n",
      "airbyte/sp_api/p_account_id=DOGROOK_COMPANY_LTD/p_region_id=EU/p_marketplace_id=UK/p_entity_id=GET_V2_SETTLEMENT_REPORT_DATA_FLAT_FILE_V2/p_ingestion_dt=2023-08-25/1692943073700_0.jsonl\n"
     ]
    }
   ],
   "source": [
    "uris_filtered = []\n",
    "for uri in s3_keys_filtered:\n",
    "    for file in file_list:\n",
    "        if file in uri:\n",
    "            uris_filtered.append(uri)\n",
    "\n",
    "\n",
    "print(len(uris_filtered))\n",
    "for element in uris_filtered[:]:\n",
    "    print(element)"
   ]
  },
  {
   "cell_type": "code",
   "execution_count": 75,
   "metadata": {},
   "outputs": [],
   "source": [
    "def s3_one_by_one(bucket, key):\n",
    "    try:\n",
    "        s3.delete_object(Bucket=bucket, Key=key)\n",
    "        return f\"key: >>{key}<< successfully deleted\"\n",
    "    except ValueError as e:\n",
    "        return f\"there was a problem with key: >>{key}<<, {e}\""
   ]
  },
  {
   "cell_type": "code",
   "execution_count": 76,
   "metadata": {},
   "outputs": [
    {
     "name": "stdout",
     "output_type": "stream",
     "text": [
      "key: >>airbyte/sp_api/p_account_id=DOGROOK_COMPANY_LTD/p_region_id=EU/p_marketplace_id=UK/p_entity_id=GET_V2_SETTLEMENT_REPORT_DATA_FLAT_FILE_V2/p_ingestion_dt=2023-08-25/1692943073700_0.jsonl<< successfully deleted\n"
     ]
    }
   ],
   "source": [
    "# deleting objects one by one\n",
    "for i in uris_filtered:\n",
    "    print(s3_one_by_one(bucket, i))"
   ]
  }
 ],
 "metadata": {
  "interpreter": {
   "hash": "aee8b7b246df8f9039afb4144a1f6fd8d2ca17a180786b69acc140d282b71a49"
  },
  "kernelspec": {
   "display_name": "Python 3.9.2 64-bit",
   "name": "python3"
  },
  "language_info": {
   "codemirror_mode": {
    "name": "ipython",
    "version": 3
   },
   "file_extension": ".py",
   "mimetype": "text/x-python",
   "name": "python",
   "nbconvert_exporter": "python",
   "pygments_lexer": "ipython3",
   "version": "3.10.12"
  },
  "orig_nbformat": 4
 },
 "nbformat": 4,
 "nbformat_minor": 2
}

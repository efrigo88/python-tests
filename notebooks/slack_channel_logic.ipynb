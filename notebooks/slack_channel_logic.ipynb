{
 "cells": [
  {
   "cell_type": "code",
   "execution_count": 1,
   "metadata": {},
   "outputs": [],
   "source": [
    "import yaml"
   ]
  },
  {
   "cell_type": "code",
   "execution_count": 2,
   "metadata": {},
   "outputs": [],
   "source": [
    "yaml_file_path = 'slack_channel_configs/config.yaml'"
   ]
  },
  {
   "cell_type": "code",
   "execution_count": 3,
   "metadata": {},
   "outputs": [],
   "source": [
    "def read_slack_config_file(path):\n",
    "    with open(path, 'r') as file:\n",
    "        data = yaml.safe_load(file)\n",
    "    return data"
   ]
  },
  {
   "cell_type": "code",
   "execution_count": 4,
   "metadata": {},
   "outputs": [],
   "source": [
    "data = read_slack_config_file(yaml_file_path)"
   ]
  },
  {
   "cell_type": "code",
   "execution_count": 5,
   "metadata": {},
   "outputs": [],
   "source": [
    "env_name = \"dev\"\n",
    "channel = \"data-eng-alerts-env\""
   ]
  },
  {
   "cell_type": "code",
   "execution_count": 6,
   "metadata": {},
   "outputs": [
    {
     "data": {
      "text/plain": [
       "'data-eng-alerts-dev'"
      ]
     },
     "execution_count": 6,
     "metadata": {},
     "output_type": "execute_result"
    }
   ],
   "source": [
    "slack_channel = channel.replace(\"-env\", f\"-{env_name}\")\n",
    "slack_channel"
   ]
  },
  {
   "cell_type": "code",
   "execution_count": 12,
   "metadata": {},
   "outputs": [],
   "source": [
    "def get_slack_channel(channel_name):\n",
    "    for channel in data.get('slack_channels', []):\n",
    "        if channel['channel']['name'] == channel_name:\n",
    "            return channel['channel']['name'], channel['channel']['webhook'], channel['channel']['username']\n",
    "    return None"
   ]
  },
  {
   "cell_type": "code",
   "execution_count": 13,
   "metadata": {},
   "outputs": [
    {
     "name": "stdout",
     "output_type": "stream",
     "text": [
      "Channel name: data-eng-alerts-dev\n",
      "Webhook: webhook_dev\n",
      "Username: username_dev\n"
     ]
    }
   ],
   "source": [
    "# Example usage:\n",
    "channel_details = dict()\n",
    "if get_slack_channel(slack_channel):\n",
    "    channel_name, channel_webhook, channel_username = get_slack_channel(slack_channel)\n",
    "    print(f\"Channel name: {channel_name}\")\n",
    "    print(f\"Webhook: {channel_webhook}\")\n",
    "    print(f\"Username: {channel_username}\")\n",
    "else:\n",
    "    print(f\"Channel '{slack_channel}' not found.\")\n"
   ]
  }
 ],
 "metadata": {
  "kernelspec": {
   "display_name": ".venv",
   "language": "python",
   "name": "python3"
  },
  "language_info": {
   "codemirror_mode": {
    "name": "ipython",
    "version": 3
   },
   "file_extension": ".py",
   "mimetype": "text/x-python",
   "name": "python",
   "nbconvert_exporter": "python",
   "pygments_lexer": "ipython3",
   "version": "3.10.12"
  }
 },
 "nbformat": 4,
 "nbformat_minor": 2
}

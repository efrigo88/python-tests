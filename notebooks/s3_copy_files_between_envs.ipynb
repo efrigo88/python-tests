{
 "cells": [
  {
   "cell_type": "code",
   "execution_count": 1,
   "metadata": {},
   "outputs": [],
   "source": [
    "import boto3\n",
    "import progressbar"
   ]
  },
  {
   "cell_type": "code",
   "execution_count": 2,
   "metadata": {},
   "outputs": [],
   "source": [
    "source_env = \"dev\"\n",
    "target_env = \"prod\"\n",
    "\n",
    "source_bucket_name = f\"heroes-dl-silver-{source_env}\"\n",
    "destination_bucket_name = f\"heroes-dl-silver-{target_env}\"\n",
    "prefix = \"direct_airbyte_syncs/sp_api/\"\n",
    "# Keyword to search for\n",
    "keyword = \"GET_V2_SELLER_PERFORMANCE_REPORT\"\n",
    "\n",
    "# Define ingestion dates to copy\n",
    "p_ingestion_dt_list = [\n",
    "    \"2024-07-10\",\n",
    "]"
   ]
  },
  {
   "cell_type": "code",
   "execution_count": 3,
   "metadata": {},
   "outputs": [],
   "source": [
    "s3 = boto3.Session(profile_name=f\"data-{target_env}\").client(\"s3\")"
   ]
  },
  {
   "cell_type": "code",
   "execution_count": 4,
   "metadata": {},
   "outputs": [],
   "source": [
    "def s3_items_from_table(bucket, prefix):\n",
    "    paginator = s3.get_paginator(\"list_objects_v2\")\n",
    "    pages = paginator.paginate(Bucket=bucket, Prefix=prefix)\n",
    "    objects = []\n",
    "\n",
    "    for page in pages:\n",
    "        for item in page[\"Contents\"]:\n",
    "            objects.append(item[\"Key\"])\n",
    "\n",
    "    return objects"
   ]
  },
  {
   "cell_type": "code",
   "execution_count": 5,
   "metadata": {},
   "outputs": [],
   "source": [
    "def copy_s3_object(source_bucket, source_key, destination_bucket, destination_key):\n",
    "    copy_source = {\"Bucket\": source_bucket, \"Key\": source_key}\n",
    "    destination = {\"Bucket\": destination_bucket, \"Key\": destination_key}\n",
    "\n",
    "    try:\n",
    "        # will overwrite a file in destination if one shows up\n",
    "        s3.copy_object(\n",
    "            CopySource=copy_source, Bucket=destination[\"Bucket\"], Key=destination[\"Key\"]\n",
    "        )\n",
    "        print(\n",
    "            f\"S3 object copied from {source_bucket}/{source_key} to {destination_bucket}/{destination_key}\"\n",
    "        )\n",
    "    except Exception as e:\n",
    "        print(f\"Error copying S3 object: {e}\")"
   ]
  },
  {
   "cell_type": "code",
   "execution_count": 6,
   "metadata": {},
   "outputs": [
    {
     "name": "stdout",
     "output_type": "stream",
     "text": [
      "6477\n",
      "direct_airbyte_syncs/sp_api/p_account_id=AMZ_PETS/p_region_id=EU/p_marketplace_id=DE/p_entity_id=GET_FBA_INVENTORY_PLANNING_DATA/p_ingestion_dt=2024-02-21/1708525848588_0.jsonl\n",
      "direct_airbyte_syncs/sp_api/p_account_id=AMZ_PETS/p_region_id=EU/p_marketplace_id=DE/p_entity_id=GET_FBA_INVENTORY_PLANNING_DATA/p_ingestion_dt=2024-02-22/1708563758592_0.jsonl\n",
      "direct_airbyte_syncs/sp_api/p_account_id=AMZ_PETS/p_region_id=EU/p_marketplace_id=DE/p_entity_id=GET_FBA_INVENTORY_PLANNING_DATA/p_ingestion_dt=2024-02-22/1708607009014_0.jsonl\n",
      "direct_airbyte_syncs/sp_api/p_account_id=AMZ_PETS/p_region_id=EU/p_marketplace_id=DE/p_entity_id=GET_FBA_INVENTORY_PLANNING_DATA/p_ingestion_dt=2024-02-22/1708615552978_0.jsonl\n",
      "direct_airbyte_syncs/sp_api/p_account_id=AMZ_PETS/p_region_id=EU/p_marketplace_id=DE/p_entity_id=GET_FBA_INVENTORY_PLANNING_DATA/p_ingestion_dt=2024-02-23/1708650163957_0.jsonl\n"
     ]
    }
   ],
   "source": [
    "# Get all s3 objets for selected bucket and prefix\n",
    "s3_keys = s3_items_from_table(bucket=source_bucket_name, prefix=prefix)\n",
    "\n",
    "print(len(s3_keys))\n",
    "for element in s3_keys[:5]:\n",
    "    print(element)"
   ]
  },
  {
   "cell_type": "code",
   "execution_count": 8,
   "metadata": {},
   "outputs": [
    {
     "name": "stdout",
     "output_type": "stream",
     "text": [
      "54\n",
      "direct_airbyte_syncs/sp_api/p_account_id=AMZ_PETS/p_region_id=EU/p_marketplace_id=UK/p_entity_id=GET_V2_SELLER_PERFORMANCE_REPORT/p_ingestion_dt=2024-07-10/1720602855563_0.jsonl\n",
      "direct_airbyte_syncs/sp_api/p_account_id=AMZ_PETS/p_region_id=NA/p_marketplace_id=US/p_entity_id=GET_V2_SELLER_PERFORMANCE_REPORT/p_ingestion_dt=2024-07-10/1720602326928_0.jsonl\n",
      "direct_airbyte_syncs/sp_api/p_account_id=BABY_UMA/p_region_id=AU/p_marketplace_id=AU/p_entity_id=GET_V2_SELLER_PERFORMANCE_REPORT/p_ingestion_dt=2024-07-10/1720602554440_0.jsonl\n",
      "direct_airbyte_syncs/sp_api/p_account_id=BABY_UMA/p_region_id=EU/p_marketplace_id=UK/p_entity_id=GET_V2_SELLER_PERFORMANCE_REPORT/p_ingestion_dt=2024-07-10/1720602659791_0.jsonl\n",
      "direct_airbyte_syncs/sp_api/p_account_id=BABY_UMA/p_region_id=JP/p_marketplace_id=JP/p_entity_id=GET_V2_SELLER_PERFORMANCE_REPORT/p_ingestion_dt=2024-07-10/1720601908739_0.jsonl\n"
     ]
    }
   ],
   "source": [
    "# Filter the keyword\n",
    "s3_keys_keyword_filtered = []\n",
    "for i in s3_keys:\n",
    "    if keyword in i:\n",
    "        s3_keys_keyword_filtered.append(i)\n",
    "\n",
    "print(len(s3_keys_keyword_filtered))\n",
    "for element in s3_keys_keyword_filtered[:5]:\n",
    "    print(element)"
   ]
  },
  {
   "cell_type": "code",
   "execution_count": 9,
   "metadata": {},
   "outputs": [
    {
     "name": "stdout",
     "output_type": "stream",
     "text": [
      "54\n",
      "direct_airbyte_syncs/sp_api/p_account_id=AMZ_PETS/p_region_id=EU/p_marketplace_id=UK/p_entity_id=GET_V2_SELLER_PERFORMANCE_REPORT/p_ingestion_dt=2024-07-10/1720602855563_0.jsonl\n",
      "direct_airbyte_syncs/sp_api/p_account_id=AMZ_PETS/p_region_id=NA/p_marketplace_id=US/p_entity_id=GET_V2_SELLER_PERFORMANCE_REPORT/p_ingestion_dt=2024-07-10/1720602326928_0.jsonl\n",
      "direct_airbyte_syncs/sp_api/p_account_id=BABY_UMA/p_region_id=AU/p_marketplace_id=AU/p_entity_id=GET_V2_SELLER_PERFORMANCE_REPORT/p_ingestion_dt=2024-07-10/1720602554440_0.jsonl\n",
      "direct_airbyte_syncs/sp_api/p_account_id=BABY_UMA/p_region_id=EU/p_marketplace_id=UK/p_entity_id=GET_V2_SELLER_PERFORMANCE_REPORT/p_ingestion_dt=2024-07-10/1720602659791_0.jsonl\n",
      "direct_airbyte_syncs/sp_api/p_account_id=BABY_UMA/p_region_id=JP/p_marketplace_id=JP/p_entity_id=GET_V2_SELLER_PERFORMANCE_REPORT/p_ingestion_dt=2024-07-10/1720601908739_0.jsonl\n"
     ]
    }
   ],
   "source": [
    "# Filter only selected ingestion dates\n",
    "s3_keys_final = []\n",
    "for i in s3_keys_keyword_filtered:\n",
    "    for j in p_ingestion_dt_list:\n",
    "        if j in i:\n",
    "            s3_keys_final.append(i)\n",
    "\n",
    "print(len(s3_keys_final))\n",
    "for element in s3_keys_final[:5]:\n",
    "    print(element)"
   ]
  },
  {
   "cell_type": "code",
   "execution_count": 10,
   "metadata": {},
   "outputs": [
    {
     "name": "stderr",
     "output_type": "stream",
     "text": [
      "  0% (0 of 54) |                         | Elapsed Time: 0:00:00 ETA:  --:--:--\n"
     ]
    },
    {
     "name": "stdout",
     "output_type": "stream",
     "text": [
      "S3 object copied from heroes-dl-silver-dev/direct_airbyte_syncs/sp_api/p_account_id=AMZ_PETS/p_region_id=EU/p_marketplace_id=UK/p_entity_id=GET_V2_SELLER_PERFORMANCE_REPORT/p_ingestion_dt=2024-07-10/1720602855563_0.jsonl to heroes-dl-silver-prod/direct_airbyte_syncs/sp_api/p_account_id=AMZ_PETS/p_region_id=EU/p_marketplace_id=UK/p_entity_id=GET_V2_SELLER_PERFORMANCE_REPORT/p_ingestion_dt=2024-07-10/1720602855563_0.jsonl\n"
     ]
    },
    {
     "name": "stderr",
     "output_type": "stream",
     "text": [
      "  1% (1 of 54) |                         | Elapsed Time: 0:00:00 ETA:   0:00:12\n"
     ]
    },
    {
     "name": "stdout",
     "output_type": "stream",
     "text": [
      "S3 object copied from heroes-dl-silver-dev/direct_airbyte_syncs/sp_api/p_account_id=AMZ_PETS/p_region_id=NA/p_marketplace_id=US/p_entity_id=GET_V2_SELLER_PERFORMANCE_REPORT/p_ingestion_dt=2024-07-10/1720602326928_0.jsonl to heroes-dl-silver-prod/direct_airbyte_syncs/sp_api/p_account_id=AMZ_PETS/p_region_id=NA/p_marketplace_id=US/p_entity_id=GET_V2_SELLER_PERFORMANCE_REPORT/p_ingestion_dt=2024-07-10/1720602326928_0.jsonl\n"
     ]
    },
    {
     "name": "stderr",
     "output_type": "stream",
     "text": [
      "  3% (2 of 54) |                         | Elapsed Time: 0:00:00 ETA:   0:00:11\n"
     ]
    },
    {
     "name": "stdout",
     "output_type": "stream",
     "text": [
      "S3 object copied from heroes-dl-silver-dev/direct_airbyte_syncs/sp_api/p_account_id=BABY_UMA/p_region_id=AU/p_marketplace_id=AU/p_entity_id=GET_V2_SELLER_PERFORMANCE_REPORT/p_ingestion_dt=2024-07-10/1720602554440_0.jsonl to heroes-dl-silver-prod/direct_airbyte_syncs/sp_api/p_account_id=BABY_UMA/p_region_id=AU/p_marketplace_id=AU/p_entity_id=GET_V2_SELLER_PERFORMANCE_REPORT/p_ingestion_dt=2024-07-10/1720602554440_0.jsonl\n"
     ]
    },
    {
     "name": "stderr",
     "output_type": "stream",
     "text": [
      "  5% (3 of 54) |#                        | Elapsed Time: 0:00:00 ETA:   0:00:06\n"
     ]
    },
    {
     "name": "stdout",
     "output_type": "stream",
     "text": [
      "S3 object copied from heroes-dl-silver-dev/direct_airbyte_syncs/sp_api/p_account_id=BABY_UMA/p_region_id=EU/p_marketplace_id=UK/p_entity_id=GET_V2_SELLER_PERFORMANCE_REPORT/p_ingestion_dt=2024-07-10/1720602659791_0.jsonl to heroes-dl-silver-prod/direct_airbyte_syncs/sp_api/p_account_id=BABY_UMA/p_region_id=EU/p_marketplace_id=UK/p_entity_id=GET_V2_SELLER_PERFORMANCE_REPORT/p_ingestion_dt=2024-07-10/1720602659791_0.jsonl\n"
     ]
    },
    {
     "name": "stderr",
     "output_type": "stream",
     "text": [
      "  7% (4 of 54) |#                        | Elapsed Time: 0:00:00 ETA:   0:00:06\n"
     ]
    },
    {
     "name": "stdout",
     "output_type": "stream",
     "text": [
      "S3 object copied from heroes-dl-silver-dev/direct_airbyte_syncs/sp_api/p_account_id=BABY_UMA/p_region_id=JP/p_marketplace_id=JP/p_entity_id=GET_V2_SELLER_PERFORMANCE_REPORT/p_ingestion_dt=2024-07-10/1720601908739_0.jsonl to heroes-dl-silver-prod/direct_airbyte_syncs/sp_api/p_account_id=BABY_UMA/p_region_id=JP/p_marketplace_id=JP/p_entity_id=GET_V2_SELLER_PERFORMANCE_REPORT/p_ingestion_dt=2024-07-10/1720601908739_0.jsonl\n"
     ]
    },
    {
     "name": "stderr",
     "output_type": "stream",
     "text": [
      "  9% (5 of 54) |##                       | Elapsed Time: 0:00:00 ETA:   0:00:06\n"
     ]
    },
    {
     "name": "stdout",
     "output_type": "stream",
     "text": [
      "S3 object copied from heroes-dl-silver-dev/direct_airbyte_syncs/sp_api/p_account_id=BABY_UMA/p_region_id=NA/p_marketplace_id=US/p_entity_id=GET_V2_SELLER_PERFORMANCE_REPORT/p_ingestion_dt=2024-07-10/1720601978238_0.jsonl to heroes-dl-silver-prod/direct_airbyte_syncs/sp_api/p_account_id=BABY_UMA/p_region_id=NA/p_marketplace_id=US/p_entity_id=GET_V2_SELLER_PERFORMANCE_REPORT/p_ingestion_dt=2024-07-10/1720601978238_0.jsonl\n"
     ]
    },
    {
     "name": "stderr",
     "output_type": "stream",
     "text": [
      " 11% (6 of 54) |##                       | Elapsed Time: 0:00:00 ETA:   0:00:05\n"
     ]
    },
    {
     "name": "stdout",
     "output_type": "stream",
     "text": [
      "S3 object copied from heroes-dl-silver-dev/direct_airbyte_syncs/sp_api/p_account_id=BECO/p_region_id=EU/p_marketplace_id=UK/p_entity_id=GET_V2_SELLER_PERFORMANCE_REPORT/p_ingestion_dt=2024-07-10/1720601988077_0.jsonl to heroes-dl-silver-prod/direct_airbyte_syncs/sp_api/p_account_id=BECO/p_region_id=EU/p_marketplace_id=UK/p_entity_id=GET_V2_SELLER_PERFORMANCE_REPORT/p_ingestion_dt=2024-07-10/1720601988077_0.jsonl\n"
     ]
    },
    {
     "name": "stderr",
     "output_type": "stream",
     "text": [
      " 12% (7 of 54) |###                      | Elapsed Time: 0:00:00 ETA:   0:00:05\n"
     ]
    },
    {
     "name": "stdout",
     "output_type": "stream",
     "text": [
      "S3 object copied from heroes-dl-silver-dev/direct_airbyte_syncs/sp_api/p_account_id=BECO/p_region_id=IN/p_marketplace_id=IN/p_entity_id=GET_V2_SELLER_PERFORMANCE_REPORT/p_ingestion_dt=2024-07-10/1720602518041_0.jsonl to heroes-dl-silver-prod/direct_airbyte_syncs/sp_api/p_account_id=BECO/p_region_id=IN/p_marketplace_id=IN/p_entity_id=GET_V2_SELLER_PERFORMANCE_REPORT/p_ingestion_dt=2024-07-10/1720602518041_0.jsonl\n"
     ]
    },
    {
     "name": "stderr",
     "output_type": "stream",
     "text": [
      " 14% (8 of 54) |###                      | Elapsed Time: 0:00:00 ETA:   0:00:05\n"
     ]
    },
    {
     "name": "stdout",
     "output_type": "stream",
     "text": [
      "S3 object copied from heroes-dl-silver-dev/direct_airbyte_syncs/sp_api/p_account_id=BECO/p_region_id=JP/p_marketplace_id=JP/p_entity_id=GET_V2_SELLER_PERFORMANCE_REPORT/p_ingestion_dt=2024-07-10/1720602622926_0.jsonl to heroes-dl-silver-prod/direct_airbyte_syncs/sp_api/p_account_id=BECO/p_region_id=JP/p_marketplace_id=JP/p_entity_id=GET_V2_SELLER_PERFORMANCE_REPORT/p_ingestion_dt=2024-07-10/1720602622926_0.jsonl\n"
     ]
    },
    {
     "name": "stderr",
     "output_type": "stream",
     "text": [
      " 16% (9 of 54) |####                     | Elapsed Time: 0:00:00 ETA:   0:00:05\n"
     ]
    },
    {
     "name": "stdout",
     "output_type": "stream",
     "text": [
      "S3 object copied from heroes-dl-silver-dev/direct_airbyte_syncs/sp_api/p_account_id=BECO/p_region_id=NA/p_marketplace_id=US/p_entity_id=GET_V2_SELLER_PERFORMANCE_REPORT/p_ingestion_dt=2024-07-10/1720602638689_0.jsonl to heroes-dl-silver-prod/direct_airbyte_syncs/sp_api/p_account_id=BECO/p_region_id=NA/p_marketplace_id=US/p_entity_id=GET_V2_SELLER_PERFORMANCE_REPORT/p_ingestion_dt=2024-07-10/1720602638689_0.jsonl\n"
     ]
    },
    {
     "name": "stderr",
     "output_type": "stream",
     "text": [
      " 18% (10 of 54) |####                    | Elapsed Time: 0:00:01 ETA:   0:00:04\n"
     ]
    },
    {
     "name": "stdout",
     "output_type": "stream",
     "text": [
      "S3 object copied from heroes-dl-silver-dev/direct_airbyte_syncs/sp_api/p_account_id=BOBA/p_region_id=NA/p_marketplace_id=US/p_entity_id=GET_V2_SELLER_PERFORMANCE_REPORT/p_ingestion_dt=2024-07-10/1720602698798_0.jsonl to heroes-dl-silver-prod/direct_airbyte_syncs/sp_api/p_account_id=BOBA/p_region_id=NA/p_marketplace_id=US/p_entity_id=GET_V2_SELLER_PERFORMANCE_REPORT/p_ingestion_dt=2024-07-10/1720602698798_0.jsonl\n"
     ]
    },
    {
     "name": "stderr",
     "output_type": "stream",
     "text": [
      " 20% (11 of 54) |####                    | Elapsed Time: 0:00:01 ETA:   0:00:04\n"
     ]
    },
    {
     "name": "stdout",
     "output_type": "stream",
     "text": [
      "S3 object copied from heroes-dl-silver-dev/direct_airbyte_syncs/sp_api/p_account_id=BOBA_JAPAN/p_region_id=JP/p_marketplace_id=JP/p_entity_id=GET_V2_SELLER_PERFORMANCE_REPORT/p_ingestion_dt=2024-07-10/1720601260935_0.jsonl to heroes-dl-silver-prod/direct_airbyte_syncs/sp_api/p_account_id=BOBA_JAPAN/p_region_id=JP/p_marketplace_id=JP/p_entity_id=GET_V2_SELLER_PERFORMANCE_REPORT/p_ingestion_dt=2024-07-10/1720601260935_0.jsonl\n"
     ]
    },
    {
     "name": "stderr",
     "output_type": "stream",
     "text": [
      " 22% (12 of 54) |#####                   | Elapsed Time: 0:00:01 ETA:   0:00:04\n"
     ]
    },
    {
     "name": "stdout",
     "output_type": "stream",
     "text": [
      "S3 object copied from heroes-dl-silver-dev/direct_airbyte_syncs/sp_api/p_account_id=BUMCO/p_region_id=EU/p_marketplace_id=UK/p_entity_id=GET_V2_SELLER_PERFORMANCE_REPORT/p_ingestion_dt=2024-07-10/1720602733011_0.jsonl to heroes-dl-silver-prod/direct_airbyte_syncs/sp_api/p_account_id=BUMCO/p_region_id=EU/p_marketplace_id=UK/p_entity_id=GET_V2_SELLER_PERFORMANCE_REPORT/p_ingestion_dt=2024-07-10/1720602733011_0.jsonl\n"
     ]
    },
    {
     "name": "stderr",
     "output_type": "stream",
     "text": [
      " 24% (13 of 54) |#####                   | Elapsed Time: 0:00:01 ETA:   0:00:04\n"
     ]
    },
    {
     "name": "stdout",
     "output_type": "stream",
     "text": [
      "S3 object copied from heroes-dl-silver-dev/direct_airbyte_syncs/sp_api/p_account_id=BUMCO/p_region_id=NA/p_marketplace_id=US/p_entity_id=GET_V2_SELLER_PERFORMANCE_REPORT/p_ingestion_dt=2024-07-10/1720601431561_0.jsonl to heroes-dl-silver-prod/direct_airbyte_syncs/sp_api/p_account_id=BUMCO/p_region_id=NA/p_marketplace_id=US/p_entity_id=GET_V2_SELLER_PERFORMANCE_REPORT/p_ingestion_dt=2024-07-10/1720601431561_0.jsonl\n"
     ]
    },
    {
     "name": "stderr",
     "output_type": "stream",
     "text": [
      " 25% (14 of 54) |######                  | Elapsed Time: 0:00:01 ETA:   0:00:03\n"
     ]
    },
    {
     "name": "stdout",
     "output_type": "stream",
     "text": [
      "S3 object copied from heroes-dl-silver-dev/direct_airbyte_syncs/sp_api/p_account_id=CHERISH_BABY_CARE/p_region_id=EU/p_marketplace_id=UK/p_entity_id=GET_V2_SELLER_PERFORMANCE_REPORT/p_ingestion_dt=2024-07-10/1720602698893_0.jsonl to heroes-dl-silver-prod/direct_airbyte_syncs/sp_api/p_account_id=CHERISH_BABY_CARE/p_region_id=EU/p_marketplace_id=UK/p_entity_id=GET_V2_SELLER_PERFORMANCE_REPORT/p_ingestion_dt=2024-07-10/1720602698893_0.jsonl\n"
     ]
    },
    {
     "name": "stderr",
     "output_type": "stream",
     "text": [
      " 27% (15 of 54) |######                  | Elapsed Time: 0:00:01 ETA:   0:00:03\n"
     ]
    },
    {
     "name": "stdout",
     "output_type": "stream",
     "text": [
      "S3 object copied from heroes-dl-silver-dev/direct_airbyte_syncs/sp_api/p_account_id=CHERISH_BABY_CARE/p_region_id=NA/p_marketplace_id=US/p_entity_id=GET_V2_SELLER_PERFORMANCE_REPORT/p_ingestion_dt=2024-07-10/1720602843884_0.jsonl to heroes-dl-silver-prod/direct_airbyte_syncs/sp_api/p_account_id=CHERISH_BABY_CARE/p_region_id=NA/p_marketplace_id=US/p_entity_id=GET_V2_SELLER_PERFORMANCE_REPORT/p_ingestion_dt=2024-07-10/1720602843884_0.jsonl\n"
     ]
    },
    {
     "name": "stderr",
     "output_type": "stream",
     "text": [
      " 29% (16 of 54) |#######                 | Elapsed Time: 0:00:01 ETA:   0:00:03\n"
     ]
    },
    {
     "name": "stdout",
     "output_type": "stream",
     "text": [
      "S3 object copied from heroes-dl-silver-dev/direct_airbyte_syncs/sp_api/p_account_id=CLEVER_YELLOW/p_region_id=EU/p_marketplace_id=UK/p_entity_id=GET_V2_SELLER_PERFORMANCE_REPORT/p_ingestion_dt=2024-07-10/1720602820545_0.jsonl to heroes-dl-silver-prod/direct_airbyte_syncs/sp_api/p_account_id=CLEVER_YELLOW/p_region_id=EU/p_marketplace_id=UK/p_entity_id=GET_V2_SELLER_PERFORMANCE_REPORT/p_ingestion_dt=2024-07-10/1720602820545_0.jsonl\n"
     ]
    },
    {
     "name": "stderr",
     "output_type": "stream",
     "text": [
      " 31% (17 of 54) |#######                 | Elapsed Time: 0:00:01 ETA:   0:00:03\n"
     ]
    },
    {
     "name": "stdout",
     "output_type": "stream",
     "text": [
      "S3 object copied from heroes-dl-silver-dev/direct_airbyte_syncs/sp_api/p_account_id=CLEVER_YELLOW/p_region_id=NA/p_marketplace_id=US/p_entity_id=GET_V2_SELLER_PERFORMANCE_REPORT/p_ingestion_dt=2024-07-10/1720602608598_0.jsonl to heroes-dl-silver-prod/direct_airbyte_syncs/sp_api/p_account_id=CLEVER_YELLOW/p_region_id=NA/p_marketplace_id=US/p_entity_id=GET_V2_SELLER_PERFORMANCE_REPORT/p_ingestion_dt=2024-07-10/1720602608598_0.jsonl\n"
     ]
    },
    {
     "name": "stderr",
     "output_type": "stream",
     "text": [
      " 33% (18 of 54) |########                | Elapsed Time: 0:00:01 ETA:   0:00:03\n"
     ]
    },
    {
     "name": "stdout",
     "output_type": "stream",
     "text": [
      "S3 object copied from heroes-dl-silver-dev/direct_airbyte_syncs/sp_api/p_account_id=CRADLE_STAR/p_region_id=NA/p_marketplace_id=US/p_entity_id=GET_V2_SELLER_PERFORMANCE_REPORT/p_ingestion_dt=2024-07-10/1720602269663_0.jsonl to heroes-dl-silver-prod/direct_airbyte_syncs/sp_api/p_account_id=CRADLE_STAR/p_region_id=NA/p_marketplace_id=US/p_entity_id=GET_V2_SELLER_PERFORMANCE_REPORT/p_ingestion_dt=2024-07-10/1720602269663_0.jsonl\n"
     ]
    },
    {
     "name": "stderr",
     "output_type": "stream",
     "text": [
      " 35% (19 of 54) |########                | Elapsed Time: 0:00:01 ETA:   0:00:03\n"
     ]
    },
    {
     "name": "stdout",
     "output_type": "stream",
     "text": [
      "S3 object copied from heroes-dl-silver-dev/direct_airbyte_syncs/sp_api/p_account_id=DAVAON/p_region_id=EU/p_marketplace_id=UK/p_entity_id=GET_V2_SELLER_PERFORMANCE_REPORT/p_ingestion_dt=2024-07-10/1720602287880_0.jsonl to heroes-dl-silver-prod/direct_airbyte_syncs/sp_api/p_account_id=DAVAON/p_region_id=EU/p_marketplace_id=UK/p_entity_id=GET_V2_SELLER_PERFORMANCE_REPORT/p_ingestion_dt=2024-07-10/1720602287880_0.jsonl\n"
     ]
    },
    {
     "name": "stderr",
     "output_type": "stream",
     "text": [
      " 37% (20 of 54) |########                | Elapsed Time: 0:00:01 ETA:   0:00:03\n"
     ]
    },
    {
     "name": "stdout",
     "output_type": "stream",
     "text": [
      "S3 object copied from heroes-dl-silver-dev/direct_airbyte_syncs/sp_api/p_account_id=DAVAON/p_region_id=JP/p_marketplace_id=JP/p_entity_id=GET_V2_SELLER_PERFORMANCE_REPORT/p_ingestion_dt=2024-07-10/1720601277724_0.jsonl to heroes-dl-silver-prod/direct_airbyte_syncs/sp_api/p_account_id=DAVAON/p_region_id=JP/p_marketplace_id=JP/p_entity_id=GET_V2_SELLER_PERFORMANCE_REPORT/p_ingestion_dt=2024-07-10/1720601277724_0.jsonl\n"
     ]
    },
    {
     "name": "stderr",
     "output_type": "stream",
     "text": [
      " 38% (21 of 54) |#########               | Elapsed Time: 0:00:02 ETA:   0:00:03\n"
     ]
    },
    {
     "name": "stdout",
     "output_type": "stream",
     "text": [
      "S3 object copied from heroes-dl-silver-dev/direct_airbyte_syncs/sp_api/p_account_id=DAVAON/p_region_id=NA/p_marketplace_id=US/p_entity_id=GET_V2_SELLER_PERFORMANCE_REPORT/p_ingestion_dt=2024-07-10/1720602153527_0.jsonl to heroes-dl-silver-prod/direct_airbyte_syncs/sp_api/p_account_id=DAVAON/p_region_id=NA/p_marketplace_id=US/p_entity_id=GET_V2_SELLER_PERFORMANCE_REPORT/p_ingestion_dt=2024-07-10/1720602153527_0.jsonl\n"
     ]
    },
    {
     "name": "stderr",
     "output_type": "stream",
     "text": [
      " 40% (22 of 54) |#########               | Elapsed Time: 0:00:02 ETA:   0:00:03\n"
     ]
    },
    {
     "name": "stdout",
     "output_type": "stream",
     "text": [
      "S3 object copied from heroes-dl-silver-dev/direct_airbyte_syncs/sp_api/p_account_id=DOGROOK/p_region_id=AU/p_marketplace_id=AU/p_entity_id=GET_V2_SELLER_PERFORMANCE_REPORT/p_ingestion_dt=2024-07-10/1720602759451_0.jsonl to heroes-dl-silver-prod/direct_airbyte_syncs/sp_api/p_account_id=DOGROOK/p_region_id=AU/p_marketplace_id=AU/p_entity_id=GET_V2_SELLER_PERFORMANCE_REPORT/p_ingestion_dt=2024-07-10/1720602759451_0.jsonl\n"
     ]
    },
    {
     "name": "stderr",
     "output_type": "stream",
     "text": [
      " 42% (23 of 54) |##########              | Elapsed Time: 0:00:02 ETA:   0:00:03\n"
     ]
    },
    {
     "name": "stdout",
     "output_type": "stream",
     "text": [
      "S3 object copied from heroes-dl-silver-dev/direct_airbyte_syncs/sp_api/p_account_id=DOGROOK/p_region_id=EU/p_marketplace_id=UK/p_entity_id=GET_V2_SELLER_PERFORMANCE_REPORT/p_ingestion_dt=2024-07-10/1720602807548_0.jsonl to heroes-dl-silver-prod/direct_airbyte_syncs/sp_api/p_account_id=DOGROOK/p_region_id=EU/p_marketplace_id=UK/p_entity_id=GET_V2_SELLER_PERFORMANCE_REPORT/p_ingestion_dt=2024-07-10/1720602807548_0.jsonl\n"
     ]
    },
    {
     "name": "stderr",
     "output_type": "stream",
     "text": [
      " 44% (24 of 54) |##########              | Elapsed Time: 0:00:02 ETA:   0:00:02\n"
     ]
    },
    {
     "name": "stdout",
     "output_type": "stream",
     "text": [
      "S3 object copied from heroes-dl-silver-dev/direct_airbyte_syncs/sp_api/p_account_id=DOGROOK/p_region_id=JP/p_marketplace_id=JP/p_entity_id=GET_V2_SELLER_PERFORMANCE_REPORT/p_ingestion_dt=2024-07-10/1720602769549_0.jsonl to heroes-dl-silver-prod/direct_airbyte_syncs/sp_api/p_account_id=DOGROOK/p_region_id=JP/p_marketplace_id=JP/p_entity_id=GET_V2_SELLER_PERFORMANCE_REPORT/p_ingestion_dt=2024-07-10/1720602769549_0.jsonl\n"
     ]
    },
    {
     "name": "stderr",
     "output_type": "stream",
     "text": [
      " 46% (25 of 54) |###########             | Elapsed Time: 0:00:02 ETA:   0:00:02\n"
     ]
    },
    {
     "name": "stdout",
     "output_type": "stream",
     "text": [
      "S3 object copied from heroes-dl-silver-dev/direct_airbyte_syncs/sp_api/p_account_id=DOGROOK/p_region_id=NA/p_marketplace_id=US/p_entity_id=GET_V2_SELLER_PERFORMANCE_REPORT/p_ingestion_dt=2024-07-10/1720602065993_0.jsonl to heroes-dl-silver-prod/direct_airbyte_syncs/sp_api/p_account_id=DOGROOK/p_region_id=NA/p_marketplace_id=US/p_entity_id=GET_V2_SELLER_PERFORMANCE_REPORT/p_ingestion_dt=2024-07-10/1720602065993_0.jsonl\n"
     ]
    },
    {
     "name": "stderr",
     "output_type": "stream",
     "text": [
      " 48% (26 of 54) |###########             | Elapsed Time: 0:00:02 ETA:   0:00:02\n"
     ]
    },
    {
     "name": "stdout",
     "output_type": "stream",
     "text": [
      "S3 object copied from heroes-dl-silver-dev/direct_airbyte_syncs/sp_api/p_account_id=DOGROOK_COMPANY_LTD/p_region_id=AU/p_marketplace_id=AU/p_entity_id=GET_V2_SELLER_PERFORMANCE_REPORT/p_ingestion_dt=2024-07-10/1720602461770_0.jsonl to heroes-dl-silver-prod/direct_airbyte_syncs/sp_api/p_account_id=DOGROOK_COMPANY_LTD/p_region_id=AU/p_marketplace_id=AU/p_entity_id=GET_V2_SELLER_PERFORMANCE_REPORT/p_ingestion_dt=2024-07-10/1720602461770_0.jsonl\n"
     ]
    },
    {
     "name": "stderr",
     "output_type": "stream",
     "text": [
      " 50% (27 of 54) |############            | Elapsed Time: 0:00:02 ETA:   0:00:02\n"
     ]
    },
    {
     "name": "stdout",
     "output_type": "stream",
     "text": [
      "S3 object copied from heroes-dl-silver-dev/direct_airbyte_syncs/sp_api/p_account_id=DOGROOK_COMPANY_LTD/p_region_id=EU/p_marketplace_id=UK/p_entity_id=GET_V2_SELLER_PERFORMANCE_REPORT/p_ingestion_dt=2024-07-10/1720601951794_0.jsonl to heroes-dl-silver-prod/direct_airbyte_syncs/sp_api/p_account_id=DOGROOK_COMPANY_LTD/p_region_id=EU/p_marketplace_id=UK/p_entity_id=GET_V2_SELLER_PERFORMANCE_REPORT/p_ingestion_dt=2024-07-10/1720601951794_0.jsonl\n"
     ]
    },
    {
     "name": "stderr",
     "output_type": "stream",
     "text": [
      " 51% (28 of 54) |############            | Elapsed Time: 0:00:02 ETA:   0:00:02\n"
     ]
    },
    {
     "name": "stdout",
     "output_type": "stream",
     "text": [
      "S3 object copied from heroes-dl-silver-dev/direct_airbyte_syncs/sp_api/p_account_id=DOGROOK_COMPANY_LTD/p_region_id=JP/p_marketplace_id=JP/p_entity_id=GET_V2_SELLER_PERFORMANCE_REPORT/p_ingestion_dt=2024-07-10/1720602591795_0.jsonl to heroes-dl-silver-prod/direct_airbyte_syncs/sp_api/p_account_id=DOGROOK_COMPANY_LTD/p_region_id=JP/p_marketplace_id=JP/p_entity_id=GET_V2_SELLER_PERFORMANCE_REPORT/p_ingestion_dt=2024-07-10/1720602591795_0.jsonl\n"
     ]
    },
    {
     "name": "stderr",
     "output_type": "stream",
     "text": [
      " 53% (29 of 54) |############            | Elapsed Time: 0:00:02 ETA:   0:00:02\n"
     ]
    },
    {
     "name": "stdout",
     "output_type": "stream",
     "text": [
      "S3 object copied from heroes-dl-silver-dev/direct_airbyte_syncs/sp_api/p_account_id=DOGROOK_COMPANY_LTD/p_region_id=NA/p_marketplace_id=US/p_entity_id=GET_V2_SELLER_PERFORMANCE_REPORT/p_ingestion_dt=2024-07-10/1720602795862_0.jsonl to heroes-dl-silver-prod/direct_airbyte_syncs/sp_api/p_account_id=DOGROOK_COMPANY_LTD/p_region_id=NA/p_marketplace_id=US/p_entity_id=GET_V2_SELLER_PERFORMANCE_REPORT/p_ingestion_dt=2024-07-10/1720602795862_0.jsonl\n"
     ]
    },
    {
     "name": "stderr",
     "output_type": "stream",
     "text": [
      " 55% (30 of 54) |#############           | Elapsed Time: 0:00:02 ETA:   0:00:02\n"
     ]
    },
    {
     "name": "stdout",
     "output_type": "stream",
     "text": [
      "S3 object copied from heroes-dl-silver-dev/direct_airbyte_syncs/sp_api/p_account_id=EARTHS_PEARL/p_region_id=NA/p_marketplace_id=US/p_entity_id=GET_V2_SELLER_PERFORMANCE_REPORT/p_ingestion_dt=2024-07-10/1720602834680_0.jsonl to heroes-dl-silver-prod/direct_airbyte_syncs/sp_api/p_account_id=EARTHS_PEARL/p_region_id=NA/p_marketplace_id=US/p_entity_id=GET_V2_SELLER_PERFORMANCE_REPORT/p_ingestion_dt=2024-07-10/1720602834680_0.jsonl\n"
     ]
    },
    {
     "name": "stderr",
     "output_type": "stream",
     "text": [
      " 57% (31 of 54) |#############           | Elapsed Time: 0:00:02 ETA:   0:00:02\n"
     ]
    },
    {
     "name": "stdout",
     "output_type": "stream",
     "text": [
      "S3 object copied from heroes-dl-silver-dev/direct_airbyte_syncs/sp_api/p_account_id=GOOD_NATURED_SUN_ORGANICS/p_region_id=EU/p_marketplace_id=UK/p_entity_id=GET_V2_SELLER_PERFORMANCE_REPORT/p_ingestion_dt=2024-07-10/1720602403535_0.jsonl to heroes-dl-silver-prod/direct_airbyte_syncs/sp_api/p_account_id=GOOD_NATURED_SUN_ORGANICS/p_region_id=EU/p_marketplace_id=UK/p_entity_id=GET_V2_SELLER_PERFORMANCE_REPORT/p_ingestion_dt=2024-07-10/1720602403535_0.jsonl\n"
     ]
    },
    {
     "name": "stderr",
     "output_type": "stream",
     "text": [
      " 59% (32 of 54) |##############          | Elapsed Time: 0:00:03 ETA:   0:00:01\n"
     ]
    },
    {
     "name": "stdout",
     "output_type": "stream",
     "text": [
      "S3 object copied from heroes-dl-silver-dev/direct_airbyte_syncs/sp_api/p_account_id=GOOD_NATURED_SUN_ORGANICS/p_region_id=NA/p_marketplace_id=US/p_entity_id=GET_V2_SELLER_PERFORMANCE_REPORT/p_ingestion_dt=2024-07-10/1720601317782_0.jsonl to heroes-dl-silver-prod/direct_airbyte_syncs/sp_api/p_account_id=GOOD_NATURED_SUN_ORGANICS/p_region_id=NA/p_marketplace_id=US/p_entity_id=GET_V2_SELLER_PERFORMANCE_REPORT/p_ingestion_dt=2024-07-10/1720601317782_0.jsonl\n"
     ]
    },
    {
     "name": "stderr",
     "output_type": "stream",
     "text": [
      " 61% (33 of 54) |##############          | Elapsed Time: 0:00:03 ETA:   0:00:01\n"
     ]
    },
    {
     "name": "stdout",
     "output_type": "stream",
     "text": [
      "S3 object copied from heroes-dl-silver-dev/direct_airbyte_syncs/sp_api/p_account_id=GOOD_NATURED_THE_ORGANIC_HEALER/p_region_id=NA/p_marketplace_id=US/p_entity_id=GET_V2_SELLER_PERFORMANCE_REPORT/p_ingestion_dt=2024-07-10/1720602635364_0.jsonl to heroes-dl-silver-prod/direct_airbyte_syncs/sp_api/p_account_id=GOOD_NATURED_THE_ORGANIC_HEALER/p_region_id=NA/p_marketplace_id=US/p_entity_id=GET_V2_SELLER_PERFORMANCE_REPORT/p_ingestion_dt=2024-07-10/1720602635364_0.jsonl\n"
     ]
    },
    {
     "name": "stderr",
     "output_type": "stream",
     "text": [
      " 62% (34 of 54) |###############         | Elapsed Time: 0:00:03 ETA:   0:00:01\n"
     ]
    },
    {
     "name": "stdout",
     "output_type": "stream",
     "text": [
      "S3 object copied from heroes-dl-silver-dev/direct_airbyte_syncs/sp_api/p_account_id=JNW_DIRECT_EU/p_region_id=EU/p_marketplace_id=UK/p_entity_id=GET_V2_SELLER_PERFORMANCE_REPORT/p_ingestion_dt=2024-07-10/1720602659644_0.jsonl to heroes-dl-silver-prod/direct_airbyte_syncs/sp_api/p_account_id=JNW_DIRECT_EU/p_region_id=EU/p_marketplace_id=UK/p_entity_id=GET_V2_SELLER_PERFORMANCE_REPORT/p_ingestion_dt=2024-07-10/1720602659644_0.jsonl\n"
     ]
    },
    {
     "name": "stderr",
     "output_type": "stream",
     "text": [
      " 64% (35 of 54) |###############         | Elapsed Time: 0:00:03 ETA:   0:00:01\n"
     ]
    },
    {
     "name": "stdout",
     "output_type": "stream",
     "text": [
      "S3 object copied from heroes-dl-silver-dev/direct_airbyte_syncs/sp_api/p_account_id=JNW_DIRECT_EU/p_region_id=NA/p_marketplace_id=US/p_entity_id=GET_V2_SELLER_PERFORMANCE_REPORT/p_ingestion_dt=2024-07-10/1720602439200_0.jsonl to heroes-dl-silver-prod/direct_airbyte_syncs/sp_api/p_account_id=JNW_DIRECT_EU/p_region_id=NA/p_marketplace_id=US/p_entity_id=GET_V2_SELLER_PERFORMANCE_REPORT/p_ingestion_dt=2024-07-10/1720602439200_0.jsonl\n"
     ]
    },
    {
     "name": "stderr",
     "output_type": "stream",
     "text": [
      " 66% (36 of 54) |################        | Elapsed Time: 0:00:03 ETA:   0:00:01\n"
     ]
    },
    {
     "name": "stdout",
     "output_type": "stream",
     "text": [
      "S3 object copied from heroes-dl-silver-dev/direct_airbyte_syncs/sp_api/p_account_id=KG_PHYSIO/p_region_id=EU/p_marketplace_id=UK/p_entity_id=GET_V2_SELLER_PERFORMANCE_REPORT/p_ingestion_dt=2024-07-10/1720601378424_0.jsonl to heroes-dl-silver-prod/direct_airbyte_syncs/sp_api/p_account_id=KG_PHYSIO/p_region_id=EU/p_marketplace_id=UK/p_entity_id=GET_V2_SELLER_PERFORMANCE_REPORT/p_ingestion_dt=2024-07-10/1720601378424_0.jsonl\n"
     ]
    },
    {
     "name": "stderr",
     "output_type": "stream",
     "text": [
      " 68% (37 of 54) |################        | Elapsed Time: 0:00:03 ETA:   0:00:01\n"
     ]
    },
    {
     "name": "stdout",
     "output_type": "stream",
     "text": [
      "S3 object copied from heroes-dl-silver-dev/direct_airbyte_syncs/sp_api/p_account_id=OLIVER_JAMES/p_region_id=AU/p_marketplace_id=AU/p_entity_id=GET_V2_SELLER_PERFORMANCE_REPORT/p_ingestion_dt=2024-07-10/1720602884927_0.jsonl to heroes-dl-silver-prod/direct_airbyte_syncs/sp_api/p_account_id=OLIVER_JAMES/p_region_id=AU/p_marketplace_id=AU/p_entity_id=GET_V2_SELLER_PERFORMANCE_REPORT/p_ingestion_dt=2024-07-10/1720602884927_0.jsonl\n"
     ]
    },
    {
     "name": "stderr",
     "output_type": "stream",
     "text": [
      " 70% (38 of 54) |################        | Elapsed Time: 0:00:03 ETA:   0:00:01\n"
     ]
    },
    {
     "name": "stdout",
     "output_type": "stream",
     "text": [
      "S3 object copied from heroes-dl-silver-dev/direct_airbyte_syncs/sp_api/p_account_id=OLIVER_JAMES/p_region_id=EU/p_marketplace_id=UK/p_entity_id=GET_V2_SELLER_PERFORMANCE_REPORT/p_ingestion_dt=2024-07-10/1720602383818_0.jsonl to heroes-dl-silver-prod/direct_airbyte_syncs/sp_api/p_account_id=OLIVER_JAMES/p_region_id=EU/p_marketplace_id=UK/p_entity_id=GET_V2_SELLER_PERFORMANCE_REPORT/p_ingestion_dt=2024-07-10/1720602383818_0.jsonl\n"
     ]
    },
    {
     "name": "stderr",
     "output_type": "stream",
     "text": [
      " 72% (39 of 54) |#################       | Elapsed Time: 0:00:03 ETA:   0:00:01\n"
     ]
    },
    {
     "name": "stdout",
     "output_type": "stream",
     "text": [
      "S3 object copied from heroes-dl-silver-dev/direct_airbyte_syncs/sp_api/p_account_id=OLIVER_JAMES/p_region_id=NA/p_marketplace_id=US/p_entity_id=GET_V2_SELLER_PERFORMANCE_REPORT/p_ingestion_dt=2024-07-10/1720602498512_0.jsonl to heroes-dl-silver-prod/direct_airbyte_syncs/sp_api/p_account_id=OLIVER_JAMES/p_region_id=NA/p_marketplace_id=US/p_entity_id=GET_V2_SELLER_PERFORMANCE_REPORT/p_ingestion_dt=2024-07-10/1720602498512_0.jsonl\n"
     ]
    },
    {
     "name": "stderr",
     "output_type": "stream",
     "text": [
      " 74% (40 of 54) |#################       | Elapsed Time: 0:00:03 ETA:   0:00:01\n"
     ]
    },
    {
     "name": "stdout",
     "output_type": "stream",
     "text": [
      "S3 object copied from heroes-dl-silver-dev/direct_airbyte_syncs/sp_api/p_account_id=ONCO/p_region_id=EU/p_marketplace_id=UK/p_entity_id=GET_V2_SELLER_PERFORMANCE_REPORT/p_ingestion_dt=2024-07-10/1720601327981_0.jsonl to heroes-dl-silver-prod/direct_airbyte_syncs/sp_api/p_account_id=ONCO/p_region_id=EU/p_marketplace_id=UK/p_entity_id=GET_V2_SELLER_PERFORMANCE_REPORT/p_ingestion_dt=2024-07-10/1720601327981_0.jsonl\n"
     ]
    },
    {
     "name": "stderr",
     "output_type": "stream",
     "text": [
      " 75% (41 of 54) |##################      | Elapsed Time: 0:00:03 ETA:   0:00:01\n"
     ]
    },
    {
     "name": "stdout",
     "output_type": "stream",
     "text": [
      "S3 object copied from heroes-dl-silver-dev/direct_airbyte_syncs/sp_api/p_account_id=ONCO/p_region_id=NA/p_marketplace_id=US/p_entity_id=GET_V2_SELLER_PERFORMANCE_REPORT/p_ingestion_dt=2024-07-10/1720602419345_0.jsonl to heroes-dl-silver-prod/direct_airbyte_syncs/sp_api/p_account_id=ONCO/p_region_id=NA/p_marketplace_id=US/p_entity_id=GET_V2_SELLER_PERFORMANCE_REPORT/p_ingestion_dt=2024-07-10/1720602419345_0.jsonl\n"
     ]
    },
    {
     "name": "stderr",
     "output_type": "stream",
     "text": [
      " 77% (42 of 54) |##################      | Elapsed Time: 0:00:03 ETA:   0:00:01\n"
     ]
    },
    {
     "name": "stdout",
     "output_type": "stream",
     "text": [
      "S3 object copied from heroes-dl-silver-dev/direct_airbyte_syncs/sp_api/p_account_id=PREMIUM_CARE/p_region_id=NA/p_marketplace_id=US/p_entity_id=GET_V2_SELLER_PERFORMANCE_REPORT/p_ingestion_dt=2024-07-10/1720601280515_0.jsonl to heroes-dl-silver-prod/direct_airbyte_syncs/sp_api/p_account_id=PREMIUM_CARE/p_region_id=NA/p_marketplace_id=US/p_entity_id=GET_V2_SELLER_PERFORMANCE_REPORT/p_ingestion_dt=2024-07-10/1720601280515_0.jsonl\n"
     ]
    },
    {
     "name": "stderr",
     "output_type": "stream",
     "text": [
      " 79% (43 of 54) |###################     | Elapsed Time: 0:00:03 ETA:   0:00:00\n"
     ]
    },
    {
     "name": "stdout",
     "output_type": "stream",
     "text": [
      "S3 object copied from heroes-dl-silver-dev/direct_airbyte_syncs/sp_api/p_account_id=SNUGGLE_ME_ORGANIC/p_region_id=NA/p_marketplace_id=US/p_entity_id=GET_V2_SELLER_PERFORMANCE_REPORT/p_ingestion_dt=2024-07-10/1720602896016_0.jsonl to heroes-dl-silver-prod/direct_airbyte_syncs/sp_api/p_account_id=SNUGGLE_ME_ORGANIC/p_region_id=NA/p_marketplace_id=US/p_entity_id=GET_V2_SELLER_PERFORMANCE_REPORT/p_ingestion_dt=2024-07-10/1720602896016_0.jsonl\n"
     ]
    },
    {
     "name": "stderr",
     "output_type": "stream",
     "text": [
      " 81% (44 of 54) |###################     | Elapsed Time: 0:00:04 ETA:   0:00:00\n"
     ]
    },
    {
     "name": "stdout",
     "output_type": "stream",
     "text": [
      "S3 object copied from heroes-dl-silver-dev/direct_airbyte_syncs/sp_api/p_account_id=THERA/p_region_id=EU/p_marketplace_id=UK/p_entity_id=GET_V2_SELLER_PERFORMANCE_REPORT/p_ingestion_dt=2024-07-10/1720601942841_0.jsonl to heroes-dl-silver-prod/direct_airbyte_syncs/sp_api/p_account_id=THERA/p_region_id=EU/p_marketplace_id=UK/p_entity_id=GET_V2_SELLER_PERFORMANCE_REPORT/p_ingestion_dt=2024-07-10/1720601942841_0.jsonl\n"
     ]
    },
    {
     "name": "stderr",
     "output_type": "stream",
     "text": [
      " 83% (45 of 54) |####################    | Elapsed Time: 0:00:04 ETA:   0:00:00\n"
     ]
    },
    {
     "name": "stdout",
     "output_type": "stream",
     "text": [
      "S3 object copied from heroes-dl-silver-dev/direct_airbyte_syncs/sp_api/p_account_id=THERA/p_region_id=NA/p_marketplace_id=US/p_entity_id=GET_V2_SELLER_PERFORMANCE_REPORT/p_ingestion_dt=2024-07-10/1720602039861_0.jsonl to heroes-dl-silver-prod/direct_airbyte_syncs/sp_api/p_account_id=THERA/p_region_id=NA/p_marketplace_id=US/p_entity_id=GET_V2_SELLER_PERFORMANCE_REPORT/p_ingestion_dt=2024-07-10/1720602039861_0.jsonl\n"
     ]
    },
    {
     "name": "stderr",
     "output_type": "stream",
     "text": [
      " 85% (46 of 54) |####################    | Elapsed Time: 0:00:04 ETA:   0:00:00\n"
     ]
    },
    {
     "name": "stdout",
     "output_type": "stream",
     "text": [
      "S3 object copied from heroes-dl-silver-dev/direct_airbyte_syncs/sp_api/p_account_id=THERAFLOW/p_region_id=AU/p_marketplace_id=AU/p_entity_id=GET_V2_SELLER_PERFORMANCE_REPORT/p_ingestion_dt=2024-07-10/1720602346041_0.jsonl to heroes-dl-silver-prod/direct_airbyte_syncs/sp_api/p_account_id=THERAFLOW/p_region_id=AU/p_marketplace_id=AU/p_entity_id=GET_V2_SELLER_PERFORMANCE_REPORT/p_ingestion_dt=2024-07-10/1720602346041_0.jsonl\n"
     ]
    },
    {
     "name": "stderr",
     "output_type": "stream",
     "text": [
      " 87% (47 of 54) |####################    | Elapsed Time: 0:00:04 ETA:   0:00:00\n"
     ]
    },
    {
     "name": "stdout",
     "output_type": "stream",
     "text": [
      "S3 object copied from heroes-dl-silver-dev/direct_airbyte_syncs/sp_api/p_account_id=THERAFLOW/p_region_id=EU/p_marketplace_id=UK/p_entity_id=GET_V2_SELLER_PERFORMANCE_REPORT/p_ingestion_dt=2024-07-10/1720602031801_0.jsonl to heroes-dl-silver-prod/direct_airbyte_syncs/sp_api/p_account_id=THERAFLOW/p_region_id=EU/p_marketplace_id=UK/p_entity_id=GET_V2_SELLER_PERFORMANCE_REPORT/p_ingestion_dt=2024-07-10/1720602031801_0.jsonl\n"
     ]
    },
    {
     "name": "stderr",
     "output_type": "stream",
     "text": [
      " 88% (48 of 54) |#####################   | Elapsed Time: 0:00:04 ETA:   0:00:00\n"
     ]
    },
    {
     "name": "stdout",
     "output_type": "stream",
     "text": [
      "S3 object copied from heroes-dl-silver-dev/direct_airbyte_syncs/sp_api/p_account_id=THERAFLOW/p_region_id=NA/p_marketplace_id=US/p_entity_id=GET_V2_SELLER_PERFORMANCE_REPORT/p_ingestion_dt=2024-07-10/1720601272880_0.jsonl to heroes-dl-silver-prod/direct_airbyte_syncs/sp_api/p_account_id=THERAFLOW/p_region_id=NA/p_marketplace_id=US/p_entity_id=GET_V2_SELLER_PERFORMANCE_REPORT/p_ingestion_dt=2024-07-10/1720601272880_0.jsonl\n"
     ]
    },
    {
     "name": "stderr",
     "output_type": "stream",
     "text": [
      " 90% (49 of 54) |#####################   | Elapsed Time: 0:00:04 ETA:   0:00:00\n"
     ]
    },
    {
     "name": "stdout",
     "output_type": "stream",
     "text": [
      "S3 object copied from heroes-dl-silver-dev/direct_airbyte_syncs/sp_api/p_account_id=TOLDI/p_region_id=EU/p_marketplace_id=UK/p_entity_id=GET_V2_SELLER_PERFORMANCE_REPORT/p_ingestion_dt=2024-07-10/1720602800448_0.jsonl to heroes-dl-silver-prod/direct_airbyte_syncs/sp_api/p_account_id=TOLDI/p_region_id=EU/p_marketplace_id=UK/p_entity_id=GET_V2_SELLER_PERFORMANCE_REPORT/p_ingestion_dt=2024-07-10/1720602800448_0.jsonl\n"
     ]
    },
    {
     "name": "stderr",
     "output_type": "stream",
     "text": [
      " 92% (50 of 54) |######################  | Elapsed Time: 0:00:04 ETA:   0:00:00\n"
     ]
    },
    {
     "name": "stdout",
     "output_type": "stream",
     "text": [
      "S3 object copied from heroes-dl-silver-dev/direct_airbyte_syncs/sp_api/p_account_id=TOLDI/p_region_id=NA/p_marketplace_id=US/p_entity_id=GET_V2_SELLER_PERFORMANCE_REPORT/p_ingestion_dt=2024-07-10/1720601312343_0.jsonl to heroes-dl-silver-prod/direct_airbyte_syncs/sp_api/p_account_id=TOLDI/p_region_id=NA/p_marketplace_id=US/p_entity_id=GET_V2_SELLER_PERFORMANCE_REPORT/p_ingestion_dt=2024-07-10/1720601312343_0.jsonl\n"
     ]
    },
    {
     "name": "stderr",
     "output_type": "stream",
     "text": [
      " 94% (51 of 54) |######################  | Elapsed Time: 0:00:04 ETA:   0:00:00\n"
     ]
    },
    {
     "name": "stdout",
     "output_type": "stream",
     "text": [
      "S3 object copied from heroes-dl-silver-dev/direct_airbyte_syncs/sp_api/p_account_id=TRUNKI_EU/p_region_id=EU/p_marketplace_id=UK/p_entity_id=GET_V2_SELLER_PERFORMANCE_REPORT/p_ingestion_dt=2024-07-10/1720602895960_0.jsonl to heroes-dl-silver-prod/direct_airbyte_syncs/sp_api/p_account_id=TRUNKI_EU/p_region_id=EU/p_marketplace_id=UK/p_entity_id=GET_V2_SELLER_PERFORMANCE_REPORT/p_ingestion_dt=2024-07-10/1720602895960_0.jsonl\n"
     ]
    },
    {
     "name": "stderr",
     "output_type": "stream",
     "text": [
      " 96% (52 of 54) |####################### | Elapsed Time: 0:00:04 ETA:   0:00:00\n"
     ]
    },
    {
     "name": "stdout",
     "output_type": "stream",
     "text": [
      "S3 object copied from heroes-dl-silver-dev/direct_airbyte_syncs/sp_api/p_account_id=TRUNKI_US/p_region_id=NA/p_marketplace_id=US/p_entity_id=GET_V2_SELLER_PERFORMANCE_REPORT/p_ingestion_dt=2024-07-10/1720602025332_0.jsonl to heroes-dl-silver-prod/direct_airbyte_syncs/sp_api/p_account_id=TRUNKI_US/p_region_id=NA/p_marketplace_id=US/p_entity_id=GET_V2_SELLER_PERFORMANCE_REPORT/p_ingestion_dt=2024-07-10/1720602025332_0.jsonl\n"
     ]
    },
    {
     "name": "stderr",
     "output_type": "stream",
     "text": [
      " 98% (53 of 54) |####################### | Elapsed Time: 0:00:04 ETA:   0:00:00\n"
     ]
    },
    {
     "name": "stdout",
     "output_type": "stream",
     "text": [
      "S3 object copied from heroes-dl-silver-dev/direct_airbyte_syncs/sp_api/p_account_id=TUTTI_BAMBINI/p_region_id=EU/p_marketplace_id=UK/p_entity_id=GET_V2_SELLER_PERFORMANCE_REPORT/p_ingestion_dt=2024-07-10/1720602575762_0.jsonl to heroes-dl-silver-prod/direct_airbyte_syncs/sp_api/p_account_id=TUTTI_BAMBINI/p_region_id=EU/p_marketplace_id=UK/p_entity_id=GET_V2_SELLER_PERFORMANCE_REPORT/p_ingestion_dt=2024-07-10/1720602575762_0.jsonl\n"
     ]
    },
    {
     "name": "stderr",
     "output_type": "stream",
     "text": [
      "100% (54 of 54) |########################| Elapsed Time: 0:00:05 Time:  0:00:05\n"
     ]
    }
   ],
   "source": [
    "# Copy the files from source to target one by one\n",
    "for i in progressbar.progressbar(s3_keys_final, redirect_stdout=True):\n",
    "    source_object_key = i\n",
    "    # destination_object_key = i.replace(\"p_ingestion_dt=2024-01-17\", \"p_ingestion_dt=2024-01-01\")\n",
    "    destination_object_key = source_object_key\n",
    "    copy_s3_object(\n",
    "        source_bucket_name,\n",
    "        source_object_key,\n",
    "        destination_bucket_name,\n",
    "        destination_object_key,\n",
    "    )"
   ]
  }
 ],
 "metadata": {
  "interpreter": {
   "hash": "aee8b7b246df8f9039afb4144a1f6fd8d2ca17a180786b69acc140d282b71a49"
  },
  "kernelspec": {
   "display_name": "Python 3.9.2 64-bit",
   "name": "python3"
  },
  "language_info": {
   "codemirror_mode": {
    "name": "ipython",
    "version": 3
   },
   "file_extension": ".py",
   "mimetype": "text/x-python",
   "name": "python",
   "nbconvert_exporter": "python",
   "pygments_lexer": "ipython3",
   "version": "3.10.14"
  },
  "orig_nbformat": 4
 },
 "nbformat": 4,
 "nbformat_minor": 2
}

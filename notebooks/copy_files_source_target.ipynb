{
 "cells": [
  {
   "cell_type": "code",
   "execution_count": 1,
   "metadata": {},
   "outputs": [],
   "source": [
    "import os\n",
    "import shutil"
   ]
  },
  {
   "cell_type": "code",
   "execution_count": 2,
   "metadata": {},
   "outputs": [],
   "source": [
    "def copy_files_flat(source_path, destination_path):\n",
    "    \"\"\"\n",
    "    Copies all files from a source directory to a destination directory,\n",
    "    ignoring the folder structure. Deletes the source files after successful copy.\n",
    "    \n",
    "    :param source_path: Path to the source directory.\n",
    "    :param destination_path: Path to the destination directory.\n",
    "    \"\"\"\n",
    "    if not os.path.exists(source_path):\n",
    "        print(f\"The source directory does not exist: {source_path}\")\n",
    "        return\n",
    "\n",
    "    if not os.path.exists(destination_path):\n",
    "        os.makedirs(destination_path)\n",
    "        print(f\"Created the destination directory: {destination_path}\")\n",
    "    \n",
    "    file_count = 0\n",
    "    for root, _, files in os.walk(source_path):\n",
    "        for file in files:\n",
    "            source_file = os.path.join(root, file)\n",
    "            destination_file = os.path.join(destination_path, file)\n",
    "            \n",
    "            # Copy the file (overwrites if exists)\n",
    "            shutil.copy2(source_file, destination_file)\n",
    "            file_count += 1\n",
    "            print(f\"Copied: {source_file} -> {destination_file}\")\n",
    "    \n",
    "    if file_count > 0:\n",
    "        # Delete all source files after successful copy\n",
    "        for root, _, files in os.walk(source_path, topdown=False):\n",
    "            for file in files:\n",
    "                os.remove(os.path.join(root, file))\n",
    "            # Optionally, remove empty directories\n",
    "            for dir in os.listdir(root):\n",
    "                dir_path = os.path.join(root, dir)\n",
    "                if os.path.isdir(dir_path) and not os.listdir(dir_path):\n",
    "                    os.rmdir(dir_path)\n",
    "        print(f\"\\nDeleted all source files and cleaned up empty folders.\")\n",
    "    else:\n",
    "        print(\"\\nNo files were found to copy.\")\n",
    "    \n",
    "    print(f\"\\nTotal files copied: {file_count}\")\n"
   ]
  },
  {
   "cell_type": "code",
   "execution_count": null,
   "metadata": {},
   "outputs": [],
   "source": [
    "source = \"/Volumes/Extreme SSD/jdown\"\n",
    "destination = \"/Volumes/Extreme SSD/DATA/Datos/Variado/Random\"\n",
    "\n",
    "copy_files_flat(source, destination)"
   ]
  }
 ],
 "metadata": {
  "kernelspec": {
   "display_name": ".venv",
   "language": "python",
   "name": "python3"
  },
  "language_info": {
   "codemirror_mode": {
    "name": "ipython",
    "version": 3
   },
   "file_extension": ".py",
   "mimetype": "text/x-python",
   "name": "python",
   "nbconvert_exporter": "python",
   "pygments_lexer": "ipython3",
   "version": "3.10.3"
  }
 },
 "nbformat": 4,
 "nbformat_minor": 2
}

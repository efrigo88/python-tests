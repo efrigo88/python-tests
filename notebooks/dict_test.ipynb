{
 "cells": [
  {
   "cell_type": "code",
   "execution_count": 4,
   "metadata": {},
   "outputs": [],
   "source": [
    "ENV_NAME = \"dev\"\n",
    "report = \"test_report\"\n",
    "\n",
    "env_vars = {\n",
    "                    \"input_path\": f\"s3://heroes-dl-raw-{ENV_NAME}/airbyte/sp_api\",\n",
    "                    \"output_path\": f\"s3://heroes-dl-bronze-{ENV_NAME}/amazon/{report.lower()}\",\n",
    "                    \"p_entity_id\": report,\n",
    "                    # \"full_refresh\": True,\n",
    "                    \"test_dict\" : {\"key1\": \"value1\", \"key2\": \"value2\"}\n",
    "                }"
   ]
  },
  {
   "cell_type": "code",
   "execution_count": 2,
   "metadata": {},
   "outputs": [],
   "source": [
    "full_refresh = env_vars.get(\"full_refresh\", False)"
   ]
  },
  {
   "cell_type": "code",
   "execution_count": 3,
   "metadata": {},
   "outputs": [
    {
     "data": {
      "text/plain": [
       "bool"
      ]
     },
     "execution_count": 3,
     "metadata": {},
     "output_type": "execute_result"
    }
   ],
   "source": [
    "type(full_refresh)"
   ]
  },
  {
   "cell_type": "code",
   "execution_count": 5,
   "metadata": {},
   "outputs": [
    {
     "name": "stdout",
     "output_type": "stream",
     "text": [
      "yes\n"
     ]
    }
   ],
   "source": [
    "if full_refresh:\n",
    "    print(\"yes\")"
   ]
  },
  {
   "cell_type": "code",
   "execution_count": 16,
   "metadata": {},
   "outputs": [],
   "source": [
    "import json\n",
    "\n",
    "if isinstance(env_vars, dict):\n",
    "    env_vars = json.dumps(env_vars)"
   ]
  },
  {
   "cell_type": "code",
   "execution_count": 17,
   "metadata": {},
   "outputs": [
    {
     "data": {
      "text/plain": [
       "'{\"input_path\": \"s3://heroes-dl-raw-dev/airbyte/sp_api\", \"output_path\": \"s3://heroes-dl-bronze-dev/amazon/test_report\", \"p_entity_id\": \"test_report\"}'"
      ]
     },
     "execution_count": 17,
     "metadata": {},
     "output_type": "execute_result"
    }
   ],
   "source": [
    "env_vars"
   ]
  },
  {
   "cell_type": "code",
   "execution_count": 18,
   "metadata": {},
   "outputs": [
    {
     "data": {
      "text/plain": [
       "str"
      ]
     },
     "execution_count": 18,
     "metadata": {},
     "output_type": "execute_result"
    }
   ],
   "source": [
    "type(env_vars)"
   ]
  },
  {
   "cell_type": "code",
   "execution_count": null,
   "metadata": {},
   "outputs": [],
   "source": []
  },
  {
   "cell_type": "code",
   "execution_count": 6,
   "metadata": {},
   "outputs": [
    {
     "name": "stdout",
     "output_type": "stream",
     "text": [
      "True\n"
     ]
    }
   ],
   "source": [
    "full_refresh = env_vars.get(\"test_dict\", None)\n",
    "\n",
    "if isinstance(full_refresh, dict):\n",
    "    print(True)\n",
    "else:\n",
    "    print(False)"
   ]
  },
  {
   "cell_type": "code",
   "execution_count": null,
   "metadata": {},
   "outputs": [],
   "source": []
  },
  {
   "cell_type": "code",
   "execution_count": 75,
   "metadata": {},
   "outputs": [],
   "source": [
    "spark_extra_configs = {\n",
    "    \"spark.sql.shuffle.partitions\": \"16\",\n",
    "}\n",
    "config = {\n",
    "        \n",
    "            \"event_name\": \"AdjustmentEventList\",\n",
    "            \"input_path\": \"s3://heroes-dl-raw-{{ var.value.env_name }}/airbyte/sp_api\",\n",
    "            \"output_path\": \"s3://heroes-dl-bronze-{{ var.value.env_name }}/amazon/financial_events/financial_adjustment_events\",\n",
    "            \"p_ingestion_dt\": \"{{ params.p_ingestion_dt }}\",\n",
    "            \"full_refresh\": \"{{ params.full_refresh }}\",\n",
    "            \"days_to_process\": \"{{ params.days_to_process }}\",\n",
    "            \"spark_extra_configs\": json.dumps(spark_extra_configs),\n",
    "}\n"
   ]
  },
  {
   "cell_type": "code",
   "execution_count": 76,
   "metadata": {},
   "outputs": [],
   "source": [
    "ENV_VARS = json.dumps(config)"
   ]
  },
  {
   "cell_type": "code",
   "execution_count": 77,
   "metadata": {},
   "outputs": [
    {
     "name": "stdout",
     "output_type": "stream",
     "text": [
      "<class 'dict'>\n",
      "{'event_name': 'AdjustmentEventList', 'input_path': 's3://heroes-dl-raw-{{ var.value.env_name }}/airbyte/sp_api', 'output_path': 's3://heroes-dl-bronze-{{ var.value.env_name }}/amazon/financial_events/financial_adjustment_events', 'p_ingestion_dt': '{{ params.p_ingestion_dt }}', 'full_refresh': '{{ params.full_refresh }}', 'days_to_process': '{{ params.days_to_process }}', 'spark_extra_configs': '{\"spark.sql.shuffle.partitions\": \"16\"}'}\n"
     ]
    }
   ],
   "source": [
    "import json\n",
    "\n",
    "env_vars = json.loads(ENV_VARS)\n",
    "print(type(env_vars))\n",
    "print(env_vars)\n"
   ]
  },
  {
   "cell_type": "code",
   "execution_count": 78,
   "metadata": {},
   "outputs": [
    {
     "name": "stdout",
     "output_type": "stream",
     "text": [
      "<class 'str'>\n",
      "{\"spark.sql.shuffle.partitions\": \"16\"}\n",
      "<class 'dict'>\n",
      "{'spark.sql.shuffle.partitions': '16'}\n"
     ]
    }
   ],
   "source": [
    "spark_extra_configs = env_vars.get(\"spark_extra_configs\", None)\n",
    "print(type(spark_extra_configs))\n",
    "print(spark_extra_configs)\n",
    "\n",
    "spark_extra_configs_dict = json.loads(spark_extra_configs)\n",
    "print(type(spark_extra_configs_dict))\n",
    "print(spark_extra_configs_dict)\n"
   ]
  },
  {
   "cell_type": "code",
   "execution_count": 80,
   "metadata": {},
   "outputs": [
    {
     "name": "stdout",
     "output_type": "stream",
     "text": [
      "{'spark.sql.shuffle.partitions': '16'}\n",
      "True\n"
     ]
    }
   ],
   "source": [
    "print(spark_extra_configs_dict)\n",
    "\n",
    "if isinstance(spark_extra_configs_dict, dict):\n",
    "    print(True)\n",
    "else:\n",
    "    print(False)"
   ]
  },
  {
   "cell_type": "code",
   "execution_count": 90,
   "metadata": {},
   "outputs": [],
   "source": [
    "input_path = \"blabla\"\n",
    "days_to_process = 3"
   ]
  },
  {
   "cell_type": "code",
   "execution_count": 91,
   "metadata": {},
   "outputs": [
    {
     "name": "stdout",
     "output_type": "stream",
     "text": [
      "No data available to read in path 'blabla' within 3 days ago and today. \n",
      "                             This might in indicate that data has not yet been processed in the previous layer \n",
      "                             or the process failed for some reason.\n"
     ]
    }
   ],
   "source": [
    "print(f\"\"\"No data available to read in path '{input_path}' within {days_to_process} days ago and today. \n",
    "                             This might in indicate that data has not yet been processed in the previous layer \n",
    "                             or the process failed for some reason.\"\"\")"
   ]
  },
  {
   "cell_type": "code",
   "execution_count": null,
   "metadata": {},
   "outputs": [],
   "source": []
  }
 ],
 "metadata": {
  "kernelspec": {
   "display_name": ".venv",
   "language": "python",
   "name": "python3"
  },
  "language_info": {
   "codemirror_mode": {
    "name": "ipython",
    "version": 3
   },
   "file_extension": ".py",
   "mimetype": "text/x-python",
   "name": "python",
   "nbconvert_exporter": "python",
   "pygments_lexer": "ipython3",
   "version": "3.10.12"
  }
 },
 "nbformat": 4,
 "nbformat_minor": 2
}

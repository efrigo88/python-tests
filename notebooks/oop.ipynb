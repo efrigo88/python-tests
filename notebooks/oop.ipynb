{
 "cells": [
  {
   "cell_type": "code",
   "execution_count": 12,
   "metadata": {},
   "outputs": [],
   "source": [
    "class Store:\n",
    "    def __init__(self, name: str):\n",
    "        # You'll need 'name' as an argument to this method.\n",
    "        # Then, initialise 'self.name' to be the argument, and 'self.items' to be an empty list.\n",
    "        self.name = name\n",
    "        self.items = []\n",
    "    \n",
    "    def add_item(self, name, price):\n",
    "        # Create a dictionary with keys name and price, and append that to self.items.\n",
    "        self.items.append(\n",
    "            {\"name\": name,\n",
    "             \"price\": price,\n",
    "            }\n",
    "        )\n",
    "\n",
    "    def stock_price(self):\n",
    "        # Add together all item prices in self.items and return the total.\n",
    "        total_price = 0\n",
    "        for item in self.items:\n",
    "            total_price += item[\"price\"]\n",
    "        return total_price\n"
   ]
  },
  {
   "cell_type": "code",
   "execution_count": 37,
   "metadata": {},
   "outputs": [],
   "source": [
    "class Store:\n",
    "    def __init__(self, name):\n",
    "        self.name = name\n",
    "        self.items = []\n",
    "\n",
    "    def add_item(self, name, price):\n",
    "        self.items.append({\n",
    "            'name': name,\n",
    "            'price': price\n",
    "        })\n",
    "\n",
    "    def stock_price(self):\n",
    "        total = 0\n",
    "        for item in self.items:\n",
    "            total += item['price']\n",
    "        return total\n",
    "\n",
    "    @classmethod\n",
    "    def franchise(cls, store):\n",
    "        # Return another store, with the same name as the argument's name, plus \" - franchise\"\n",
    "        new_store = cls(store.name + \" - franchise\")\n",
    "        return new_store\n",
    "\n",
    "    @staticmethod\n",
    "    def store_details(store):\n",
    "        # Return a string representing the argument\n",
    "        # It should be in the format 'NAME, total stock price: TOTAL'\n",
    "        return f\"{store.name}, total stock price: {store.stock_price()}\"\n"
   ]
  },
  {
   "cell_type": "code",
   "execution_count": 40,
   "metadata": {},
   "outputs": [
    {
     "name": "stdout",
     "output_type": "stream",
     "text": [
      "MIIN - franchise\n"
     ]
    },
    {
     "ename": "AttributeError",
     "evalue": "'Store' object has no attribute 'stock_details'",
     "output_type": "error",
     "traceback": [
      "\u001b[0;31m---------------------------------------------------------------------------\u001b[0m",
      "\u001b[0;31mAttributeError\u001b[0m                            Traceback (most recent call last)",
      "Cell \u001b[0;32mIn[40], line 7\u001b[0m\n\u001b[1;32m      3\u001b[0m new_store \u001b[38;5;241m=\u001b[39m store\u001b[38;5;241m.\u001b[39mfranchise(store)\n\u001b[1;32m      5\u001b[0m \u001b[38;5;28mprint\u001b[39m(new_store\u001b[38;5;241m.\u001b[39mname)\n\u001b[0;32m----> 7\u001b[0m \u001b[38;5;28mprint\u001b[39m(\u001b[43mStore\u001b[49m\u001b[43m(\u001b[49m\u001b[38;5;124;43m\"\u001b[39;49m\u001b[38;5;124;43mMIIN\u001b[39;49m\u001b[38;5;124;43m\"\u001b[39;49m\u001b[43m)\u001b[49m\u001b[38;5;241;43m.\u001b[39;49m\u001b[43mstock_details\u001b[49m())\n",
      "\u001b[0;31mAttributeError\u001b[0m: 'Store' object has no attribute 'stock_details'"
     ]
    }
   ],
   "source": [
    "store = Store(\"MIIN\")\n",
    "\n",
    "new_store = store.franchise(store)\n",
    "\n",
    "print(new_store.name)\n",
    "\n",
    "print(Store(\"MIIN\").stock_details())\n"
   ]
  },
  {
   "cell_type": "code",
   "execution_count": null,
   "metadata": {},
   "outputs": [],
   "source": [
    "\n"
   ]
  },
  {
   "cell_type": "code",
   "execution_count": null,
   "metadata": {},
   "outputs": [],
   "source": []
  },
  {
   "cell_type": "code",
   "execution_count": null,
   "metadata": {},
   "outputs": [],
   "source": []
  }
 ],
 "metadata": {
  "kernelspec": {
   "display_name": "Python 3",
   "language": "python",
   "name": "python3"
  },
  "language_info": {
   "codemirror_mode": {
    "name": "ipython",
    "version": 3
   },
   "file_extension": ".py",
   "mimetype": "text/x-python",
   "name": "python",
   "nbconvert_exporter": "python",
   "pygments_lexer": "ipython3",
   "version": "3.10.3"
  }
 },
 "nbformat": 4,
 "nbformat_minor": 2
}

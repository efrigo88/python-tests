{
 "cells": [
  {
   "cell_type": "code",
   "execution_count": 8,
   "metadata": {},
   "outputs": [
    {
     "data": {
      "text/plain": [
       "'\\nIn order for this script to work remember that:\\n\\nFirst, save the following file to ~/.aws/models/secretsmanager/2017-10-17/service-2.sdk-extras.json:\\n\\n{\\n  \"version\": 1.0,\\n  \"merge\": {\\n    \"shapes\": {\\n      \"ListSecretsRequest\": {\\n        \"members\": {\\n          \"IncludeDeleted\": {\\n            \"shape\": \"BooleanType\",\\n            \"documentation\": \"<p>If set, includes secrets that are disabled.</p>\"\\n          }\\n        }\\n      }\\n    }\\n  }\\n}\\n'"
      ]
     },
     "execution_count": 8,
     "metadata": {},
     "output_type": "execute_result"
    }
   ],
   "source": [
    "\"\"\"\n",
    "IMPORTANT:\n",
    "\n",
    "First, save the following file to ~/.aws/models/secretsmanager/2017-10-17/service-2.sdk-extras.json:\n",
    "\n",
    "{\n",
    "  \"version\": 1.0,\n",
    "  \"merge\": {\n",
    "    \"shapes\": {\n",
    "      \"ListSecretsRequest\": {\n",
    "        \"members\": {\n",
    "          \"IncludeDeleted\": {\n",
    "            \"shape\": \"BooleanType\",\n",
    "            \"documentation\": \"<p>If set, includes secrets that are disabled.</p>\"\n",
    "          }\n",
    "        }\n",
    "      }\n",
    "    }\n",
    "  }\n",
    "}\n",
    "\"\"\""
   ]
  },
  {
   "cell_type": "code",
   "execution_count": 7,
   "metadata": {},
   "outputs": [],
   "source": [
    "import boto3"
   ]
  },
  {
   "cell_type": "code",
   "execution_count": 9,
   "metadata": {},
   "outputs": [],
   "source": [
    "def list_secrets(session, **kwargs):\n",
    "    client = session.client(\"secretsmanager\")\n",
    "\n",
    "    for page in client.get_paginator(\"list_secrets\").paginate(**kwargs):\n",
    "        yield from page[\"SecretList\"]"
   ]
  },
  {
   "cell_type": "code",
   "execution_count": 10,
   "metadata": {},
   "outputs": [],
   "source": [
    "session = boto3.session.Session(profile_name='data-dev')\n",
    "\n",
    "for secret in list_secrets(session, IncludeDeleted=True):\n",
    "    if \"DeletedDate\" in secret:\n",
    "        print(secret)"
   ]
  }
 ],
 "metadata": {
  "kernelspec": {
   "display_name": ".venv",
   "language": "python",
   "name": "python3"
  },
  "language_info": {
   "codemirror_mode": {
    "name": "ipython",
    "version": 3
   },
   "file_extension": ".py",
   "mimetype": "text/x-python",
   "name": "python",
   "nbconvert_exporter": "python",
   "pygments_lexer": "ipython3",
   "version": "3.10.12"
  }
 },
 "nbformat": 4,
 "nbformat_minor": 2
}

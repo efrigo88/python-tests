{
 "cells": [
  {
   "cell_type": "code",
   "execution_count": 1,
   "metadata": {},
   "outputs": [],
   "source": [
    "import boto3\n",
    "from typing import Tuple"
   ]
  },
  {
   "cell_type": "code",
   "execution_count": 9,
   "metadata": {},
   "outputs": [],
   "source": [
    "env = \"prod\""
   ]
  },
  {
   "cell_type": "code",
   "execution_count": 10,
   "metadata": {},
   "outputs": [],
   "source": [
    "output_path = \"s3://heroes-dl-bronze-prod/amazon/settlement_report_data\""
   ]
  },
  {
   "cell_type": "code",
   "execution_count": 11,
   "metadata": {},
   "outputs": [],
   "source": [
    "def get_bucket_and_prefix(path: str) -> Tuple[str, str]:\n",
    "    \"\"\"\n",
    "    Extracts the bucket and prefix from a given path.\n",
    "\n",
    "    Args:\n",
    "        path (str): The path containing the bucket and prefix information.\n",
    "\n",
    "    Returns:\n",
    "        Tuple[str, str]: A tuple containing the extracted bucket and prefix.\n",
    "\n",
    "    Examples:\n",
    "        >>> get_bucket_and_prefix(\"s3://my-bucket/my-folder/my-file.txt\")\n",
    "        ('my-bucket', 'my-folder/my-file.txt')\n",
    "    \"\"\"\n",
    "    # Split the path using the '/' delimiter and retrieve the bucket and prefix parts\n",
    "    parts = path.split(\"/\")\n",
    "    bucket = parts[2]\n",
    "    prefix = \"/\".join(parts[3:])\n",
    "\n",
    "    return bucket, prefix"
   ]
  },
  {
   "cell_type": "code",
   "execution_count": 22,
   "metadata": {},
   "outputs": [],
   "source": [
    "def check_delta_table_exists(bucket_name: str, prefix: str) -> bool:\n",
    "    \"\"\"\n",
    "    Check if a path exists in an Amazon S3 bucket.\n",
    "\n",
    "    Args:\n",
    "        bucket_name (str): The name of the S3 bucket to check.\n",
    "        prefix (str): The path or prefix to check within the S3 bucket.\n",
    "\n",
    "    Returns:\n",
    "        bool: True if the path exists, False otherwise.\n",
    "\n",
    "    Raises:\n",
    "        Exception: If there is an error when validating the path.\n",
    "\n",
    "    Example:\n",
    "        >>> check_delta_table_exists('my-s3-bucket', 'path/to/check/')\n",
    "        True\n",
    "    \"\"\"\n",
    "    s3_client = boto3.client(\"s3\")\n",
    "    try:\n",
    "        response = s3_client.list_objects_v2(Bucket=bucket_name, Prefix=prefix)\n",
    "        if \"Contents\" in response:\n",
    "            print(f\"The path '{prefix}' exists in the S3 bucket '{bucket_name}'.\")\n",
    "            return True\n",
    "\n",
    "        print(f\"The path '{prefix}' does not exist in the S3 bucket '{bucket_name}'.\")\n",
    "        return False\n",
    "    except Exception as e:\n",
    "        print(f\"An error occurred when validating delta path: {e}\")"
   ]
  },
  {
   "cell_type": "code",
   "execution_count": 26,
   "metadata": {},
   "outputs": [
    {
     "name": "stdout",
     "output_type": "stream",
     "text": [
      "heroes-dl-bronze-prod amazon/settlement_report_data/_delta_log/\n"
     ]
    }
   ],
   "source": [
    "bucket, prefix = get_bucket_and_prefix(output_path)\n",
    "prefix = f\"{prefix}/_delta_log/\"\n",
    "\n",
    "print(bucket, prefix)"
   ]
  },
  {
   "cell_type": "code",
   "execution_count": 27,
   "metadata": {},
   "outputs": [
    {
     "name": "stdout",
     "output_type": "stream",
     "text": [
      "The path 'amazon/settlement_report_data/_delta_log/' exists in the S3 bucket 'heroes-dl-bronze-prod'.\n",
      "True\n"
     ]
    }
   ],
   "source": [
    "exists = check_delta_table_exists(bucket, prefix)\n",
    "print(exists)"
   ]
  },
  {
   "cell_type": "code",
   "execution_count": null,
   "metadata": {},
   "outputs": [],
   "source": []
  },
  {
   "cell_type": "code",
   "execution_count": null,
   "metadata": {},
   "outputs": [],
   "source": []
  },
  {
   "cell_type": "code",
   "execution_count": 19,
   "metadata": {},
   "outputs": [
    {
     "name": "stdout",
     "output_type": "stream",
     "text": [
      "{'ResponseMetadata': {'RequestId': '93P26S3DTP3M79FR', 'HostId': '7iSCXIpvCTeivh0mWfWWV6GVGZkLD1ZiXj41CNBAwN9bkVlILyYI0KpSJJLJysuS0LTJybmBJyo=', 'HTTPStatusCode': 200, 'HTTPHeaders': {'x-amz-id-2': '7iSCXIpvCTeivh0mWfWWV6GVGZkLD1ZiXj41CNBAwN9bkVlILyYI0KpSJJLJysuS0LTJybmBJyo=', 'x-amz-request-id': '93P26S3DTP3M79FR', 'date': 'Thu, 07 Sep 2023 08:40:34 GMT', 'x-amz-bucket-region': 'eu-west-1', 'content-type': 'application/xml', 'transfer-encoding': 'chunked', 'server': 'AmazonS3'}, 'RetryAttempts': 0}, 'IsTruncated': False, 'Name': 'heroes-dl-bronze-prod', 'Prefix': 'amazon/settlement_report_data/_delta_log_test/', 'MaxKeys': 1000, 'EncodingType': 'url', 'KeyCount': 0}\n",
      "The path 'amazon/settlement_report_data/_delta_log_test/' does not exist in the S3 bucket 'heroes-dl-bronze-prod'.\n"
     ]
    }
   ],
   "source": [
    "# Initialize an S3 client\n",
    "s3_client = boto3.Session(profile_name=f\"data-{env}\").client(\"s3\")\n",
    "\n",
    "# Specify the bucket name and path you want to check\n",
    "bucket_name = \"heroes-dl-bronze-prod\"\n",
    "path_to_check = \"amazon/settlement_report_data/_delta_log_test/\"\n",
    "\n",
    "try:\n",
    "    # List objects in the bucket with a prefix matching the path\n",
    "    response = s3_client.list_objects_v2(Bucket=bucket_name, Prefix=path_to_check)\n",
    "    print(response)\n",
    "\n",
    "    # Check if any objects were returned\n",
    "    if \"Contents\" in response:\n",
    "        print(f\"The path '{path_to_check}' exists in the S3 bucket '{bucket_name}'.\")\n",
    "    else:\n",
    "        print(\n",
    "            f\"The path '{path_to_check}' does not exist in the S3 bucket '{bucket_name}'.\"\n",
    "        )\n",
    "\n",
    "except Exception as e:\n",
    "    print(f\"An error occurred: {e}\")"
   ]
  },
  {
   "cell_type": "code",
   "execution_count": null,
   "metadata": {},
   "outputs": [],
   "source": []
  },
  {
   "cell_type": "code",
   "execution_count": null,
   "metadata": {},
   "outputs": [],
   "source": []
  }
 ],
 "metadata": {
  "kernelspec": {
   "display_name": ".venv",
   "language": "python",
   "name": "python3"
  },
  "language_info": {
   "codemirror_mode": {
    "name": "ipython",
    "version": 3
   },
   "file_extension": ".py",
   "mimetype": "text/x-python",
   "name": "python",
   "nbconvert_exporter": "python",
   "pygments_lexer": "ipython3",
   "version": "3.10.12"
  },
  "orig_nbformat": 4
 },
 "nbformat": 4,
 "nbformat_minor": 2
}

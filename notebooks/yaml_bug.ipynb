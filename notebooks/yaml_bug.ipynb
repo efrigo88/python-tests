{
 "cells": [
  {
   "cell_type": "code",
   "execution_count": 3,
   "metadata": {},
   "outputs": [],
   "source": [
    "import logging\n",
    "import pathlib\n",
    "\n",
    "import yaml\n",
    "\n",
    "logger = logging.getLogger(__name__)\n",
    "logger.addHandler(logging.StreamHandler())"
   ]
  },
  {
   "cell_type": "code",
   "execution_count": 4,
   "metadata": {},
   "outputs": [],
   "source": [
    "BASE_PATH = pathlib.Path().resolve()\n",
    "CONFIG_FILE_ENCODING = \"utf-8\"\n",
    "\n",
    "\n",
    "def _get_configs(\n",
    "    config_file_path: str, config_file_encoding: str = CONFIG_FILE_ENCODING\n",
    "):\n",
    "    logger.info(\"Loading configs from file: %s\", config_file_path)\n",
    "    with open(config_file_path, encoding=config_file_encoding) as stream:\n",
    "        try:\n",
    "            configs = yaml.safe_load(stream)\n",
    "            return configs\n",
    "        except yaml.YAMLError as exc:\n",
    "            raise exc"
   ]
  },
  {
   "cell_type": "code",
   "execution_count": 9,
   "metadata": {},
   "outputs": [
    {
     "data": {
      "text/plain": [
       "'/Users/emilianofrigo/repositories/my-tests/google_sheets_configs.yaml'"
      ]
     },
     "execution_count": 9,
     "metadata": {},
     "output_type": "execute_result"
    }
   ],
   "source": [
    "path_to_yaml = f\"{BASE_PATH}/google_sheets_configs.yaml\"\n",
    "path_to_yaml"
   ]
  },
  {
   "cell_type": "code",
   "execution_count": 10,
   "metadata": {},
   "outputs": [],
   "source": [
    "file_content = _get_configs(path_to_yaml)"
   ]
  },
  {
   "cell_type": "code",
   "execution_count": 16,
   "metadata": {},
   "outputs": [
    {
     "data": {
      "text/plain": [
       "{'version': 2.1,\n",
       " 'connections': [{'source_config': {'name': 'Google Sheets - Finance Budget',\n",
       "    'source_definition_name': 'Google Sheets',\n",
       "    'spreadsheet_id': 'https://docs.google.com/spreadsheets/d/1u3GeuW1qQUnLWiD5cXQeU91PKRGQRcW-P6bSZDQplMw',\n",
       "    'row_batch_size': 200,\n",
       "    'prefix': 'finance__'},\n",
       "   'destination_config': {'source_definition_name': 'BigQuery',\n",
       "    'source_name': 'BigQuery - Google Sheets'},\n",
       "   'connection_config': {'namespace_definition': 'source',\n",
       "    'namespace_format': '${SOURCE_NAMESPACE}',\n",
       "    'streams': {'budget': 'full_refresh|append'}}},\n",
       "  {'source_config': {'name': 'Google Sheets - Finance Stock Ledger',\n",
       "    'source_definition_name': 'Google Sheets',\n",
       "    'spreadsheet_id': 'https://docs.google.com/spreadsheets/d/1hR11_dNuq6liXqYoa9tlpm5egMdTKRffIRwC5ZVxsEg',\n",
       "    'row_batch_size': 200,\n",
       "    'prefix': 'finance__'},\n",
       "   'destination_config': {'source_definition_name': 'BigQuery',\n",
       "    'source_name': 'BigQuery - Google Sheets'},\n",
       "   'connection_config': {'namespace_definition': 'netsuite_stock_ledger',\n",
       "    'namespace_format': '${SOURCE_NAMESPACE}',\n",
       "    'streams': {'budget': 'full_refresh|append'}}},\n",
       "  {'source_config': {'name': 'Google Sheets - Flexport Shipments',\n",
       "    'source_definition_name': 'Google Sheets',\n",
       "    'spreadsheet_id': 'https://docs.google.com/spreadsheets/d/1FxejNWsoBYmvoYzllaWYyYZ326Hyc5p6X8tehjbEn2U',\n",
       "    'row_batch_size': 200,\n",
       "    'prefix': 'gsheet_flexport__'},\n",
       "   'destination_config': {'source_definition_name': 'S3',\n",
       "    's3_bucket_name_prefix': 'heroes-dl-silver'},\n",
       "   'connection_config': {'namespace_definition': 'source',\n",
       "    'namespace_format': '${SOURCE_NAMESPACE}',\n",
       "    'streams': {'raw': 'full_refresh|overwrite'}}},\n",
       "  {'source_config': {'name': 'Google Sheets - Flexport Billing',\n",
       "    'source_definition_name': 'Google Sheets',\n",
       "    'spreadsheet_id': 'https://docs.google.com/spreadsheets/d/1TnEm1sAJTQEZ6yWRTRlaqlJqL9gPEAWOddUC2WwhOqQ',\n",
       "    'row_batch_size': 200,\n",
       "    'prefix': 'gsheet_flexport__'},\n",
       "   'destination_config': {'source_definition_name': 'S3',\n",
       "    's3_bucket_name_prefix': 'heroes-dl-silver'},\n",
       "   'connection_config': {'namespace_definition': 'source',\n",
       "    'namespace_format': '${SOURCE_NAMESPACE}',\n",
       "    'streams': {'raw': 'full_refresh|overwrite'}}}]}"
      ]
     },
     "execution_count": 16,
     "metadata": {},
     "output_type": "execute_result"
    }
   ],
   "source": [
    "file_content"
   ]
  },
  {
   "cell_type": "code",
   "execution_count": 17,
   "metadata": {},
   "outputs": [
    {
     "ename": "KeyError",
     "evalue": "'connection_config'",
     "output_type": "error",
     "traceback": [
      "\u001b[0;31m---------------------------------------------------------------------------\u001b[0m",
      "\u001b[0;31mKeyError\u001b[0m                                  Traceback (most recent call last)",
      "Cell \u001b[0;32mIn[17], line 1\u001b[0m\n\u001b[0;32m----> 1\u001b[0m streams_config \u001b[39m=\u001b[39m file_content[\u001b[39m\"\u001b[39;49m\u001b[39mconnection_config\u001b[39;49m\u001b[39m\"\u001b[39;49m][\u001b[39m\"\u001b[39m\u001b[39mstreams\u001b[39m\u001b[39m\"\u001b[39m]\n\u001b[1;32m      3\u001b[0m \u001b[39mfor\u001b[39;00m stream \u001b[39min\u001b[39;00m streams_config:\n\u001b[1;32m      4\u001b[0m     synch_mode \u001b[39m=\u001b[39m streams_config\u001b[39m.\u001b[39mget(stream[\u001b[39m\"\u001b[39m\u001b[39mstream\u001b[39m\u001b[39m\"\u001b[39m][\u001b[39m\"\u001b[39m\u001b[39mname\u001b[39m\u001b[39m\"\u001b[39m], \u001b[39mNone\u001b[39;00m)\n",
      "\u001b[0;31mKeyError\u001b[0m: 'connection_config'"
     ]
    }
   ],
   "source": [
    "streams_config = file_content[\"connection_config\"][\"streams\"]\n",
    "\n",
    "for stream in streams_config:\n",
    "    synch_mode = streams_config.get(stream[\"stream\"][\"name\"], None)\n",
    "    logger.info(f\"\\nsynch_mode: {synch_mode}\\n\")\n",
    "    if synch_mode is not None:\n",
    "        source_sync_mode, dest_sync_mode = synch_mode.split(\"|\")\n",
    "        if synch_mode:\n",
    "            stream[\"config\"][\"selected\"] = True\n",
    "            stream[\"config\"][\"syncMode\"] = source_sync_mode\n",
    "            stream[\"config\"][\"destinationSyncMode\"] = dest_sync_mode\n",
    "        else:\n",
    "            stream[\"config\"][\"selected\"] = False"
   ]
  },
  {
   "cell_type": "code",
   "execution_count": 24,
   "metadata": {},
   "outputs": [
    {
     "data": {
      "text/plain": [
       "[{'source_config': {'name': 'Google Sheets - Finance Budget',\n",
       "   'source_definition_name': 'Google Sheets',\n",
       "   'spreadsheet_id': 'https://docs.google.com/spreadsheets/d/1u3GeuW1qQUnLWiD5cXQeU91PKRGQRcW-P6bSZDQplMw',\n",
       "   'row_batch_size': 200,\n",
       "   'prefix': 'finance__'},\n",
       "  'destination_config': {'source_definition_name': 'BigQuery',\n",
       "   'source_name': 'BigQuery - Google Sheets'},\n",
       "  'connection_config': {'namespace_definition': 'source',\n",
       "   'namespace_format': '${SOURCE_NAMESPACE}',\n",
       "   'streams': {'budget': 'full_refresh|append'}}},\n",
       " {'source_config': {'name': 'Google Sheets - Finance Stock Ledger',\n",
       "   'source_definition_name': 'Google Sheets',\n",
       "   'spreadsheet_id': 'https://docs.google.com/spreadsheets/d/1hR11_dNuq6liXqYoa9tlpm5egMdTKRffIRwC5ZVxsEg',\n",
       "   'row_batch_size': 200,\n",
       "   'prefix': 'finance__'},\n",
       "  'destination_config': {'source_definition_name': 'BigQuery',\n",
       "   'source_name': 'BigQuery - Google Sheets'},\n",
       "  'connection_config': {'namespace_definition': 'netsuite_stock_ledger',\n",
       "   'namespace_format': '${SOURCE_NAMESPACE}',\n",
       "   'streams': {'budget': 'full_refresh|append'}}},\n",
       " {'source_config': {'name': 'Google Sheets - Flexport Shipments',\n",
       "   'source_definition_name': 'Google Sheets',\n",
       "   'spreadsheet_id': 'https://docs.google.com/spreadsheets/d/1FxejNWsoBYmvoYzllaWYyYZ326Hyc5p6X8tehjbEn2U',\n",
       "   'row_batch_size': 200,\n",
       "   'prefix': 'gsheet_flexport__'},\n",
       "  'destination_config': {'source_definition_name': 'S3',\n",
       "   's3_bucket_name_prefix': 'heroes-dl-silver'},\n",
       "  'connection_config': {'namespace_definition': 'source',\n",
       "   'namespace_format': '${SOURCE_NAMESPACE}',\n",
       "   'streams': {'raw': 'full_refresh|overwrite'}}},\n",
       " {'source_config': {'name': 'Google Sheets - Flexport Billing',\n",
       "   'source_definition_name': 'Google Sheets',\n",
       "   'spreadsheet_id': 'https://docs.google.com/spreadsheets/d/1TnEm1sAJTQEZ6yWRTRlaqlJqL9gPEAWOddUC2WwhOqQ',\n",
       "   'row_batch_size': 200,\n",
       "   'prefix': 'gsheet_flexport__'},\n",
       "  'destination_config': {'source_definition_name': 'S3',\n",
       "   's3_bucket_name_prefix': 'heroes-dl-silver'},\n",
       "  'connection_config': {'namespace_definition': 'source',\n",
       "   'namespace_format': '${SOURCE_NAMESPACE}',\n",
       "   'streams': {'raw': 'full_refresh|overwrite'}}}]"
      ]
     },
     "execution_count": 24,
     "metadata": {},
     "output_type": "execute_result"
    }
   ],
   "source": [
    "file_content[\"connections\"]"
   ]
  },
  {
   "cell_type": "code",
   "execution_count": 25,
   "metadata": {},
   "outputs": [
    {
     "ename": "KeyError",
     "evalue": "'connection_config'",
     "output_type": "error",
     "traceback": [
      "\u001b[0;31m---------------------------------------------------------------------------\u001b[0m",
      "\u001b[0;31mKeyError\u001b[0m                                  Traceback (most recent call last)",
      "Cell \u001b[0;32mIn[25], line 1\u001b[0m\n\u001b[0;32m----> 1\u001b[0m streams_config \u001b[39m=\u001b[39m file_content[\u001b[39m\"\u001b[39;49m\u001b[39mconnection_config\u001b[39;49m\u001b[39m\"\u001b[39;49m][\u001b[39m\"\u001b[39m\u001b[39mstreams\u001b[39m\u001b[39m\"\u001b[39m]\n\u001b[1;32m      2\u001b[0m streams_config\n",
      "\u001b[0;31mKeyError\u001b[0m: 'connection_config'"
     ]
    }
   ],
   "source": [
    "streams_config = file_content[\"connection_config\"][\"streams\"]\n",
    "streams_config"
   ]
  },
  {
   "cell_type": "code",
   "execution_count": 26,
   "metadata": {},
   "outputs": [],
   "source": [
    "streams_config = {\"budget\": \"full_refresh|append\"}"
   ]
  },
  {
   "cell_type": "code",
   "execution_count": 38,
   "metadata": {},
   "outputs": [],
   "source": [
    "streams_config_lst = list(streams_config.values())"
   ]
  },
  {
   "cell_type": "code",
   "execution_count": 40,
   "metadata": {},
   "outputs": [
    {
     "data": {
      "text/plain": [
       "'full_refresh|append'"
      ]
     },
     "execution_count": 40,
     "metadata": {},
     "output_type": "execute_result"
    }
   ],
   "source": [
    "streams_config_lst[0]"
   ]
  }
 ],
 "metadata": {
  "kernelspec": {
   "display_name": ".venv",
   "language": "python",
   "name": "python3"
  },
  "language_info": {
   "codemirror_mode": {
    "name": "ipython",
    "version": 3
   },
   "file_extension": ".py",
   "mimetype": "text/x-python",
   "name": "python",
   "nbconvert_exporter": "python",
   "pygments_lexer": "ipython3",
   "version": "3.10.12"
  },
  "orig_nbformat": 4
 },
 "nbformat": 4,
 "nbformat_minor": 2
}

{
 "cells": [
  {
   "cell_type": "code",
   "execution_count": 2,
   "metadata": {},
   "outputs": [],
   "source": [
    "import pathlib\n",
    "from datetime import datetime\n",
    "from typing import List, Tuple, Union, Dict\n",
    "\n",
    "import pyspark.sql.functions as F\n",
    "import pyspark.sql.types as T\n",
    "from pyspark.sql import Column\n",
    "\n",
    "from pyspark.sql import DataFrame\n",
    "from pyspark.sql import SparkSession\n",
    "from pyspark.sql import Window\n"
   ]
  },
  {
   "cell_type": "code",
   "execution_count": 3,
   "metadata": {},
   "outputs": [
    {
     "name": "stdout",
     "output_type": "stream",
     "text": [
      "23/07/31 11:49:17 WARN Utils: Your hostname, Emilianos-MacBook-Pro.local resolves to a loopback address: 127.0.0.1; using 192.168.1.130 instead (on interface en0)\n",
      "23/07/31 11:49:17 WARN Utils: Set SPARK_LOCAL_IP if you need to bind to another address\n"
     ]
    },
    {
     "name": "stderr",
     "output_type": "stream",
     "text": [
      "Setting default log level to \"WARN\".\n",
      "To adjust logging level use sc.setLogLevel(newLevel). For SparkR, use setLogLevel(newLevel).\n"
     ]
    },
    {
     "name": "stdout",
     "output_type": "stream",
     "text": [
      "23/07/31 11:49:18 WARN NativeCodeLoader: Unable to load native-hadoop library for your platform... using builtin-java classes where applicable\n"
     ]
    }
   ],
   "source": [
    "# master configuration to use only 4 CPU cores\n",
    "spark = SparkSession.builder.master(\"local[4]\").getOrCreate()\n",
    "\n",
    "# basic configuration to use only a reasonable number of partitions\n",
    "spark.conf.set(\"spark.sql.shuffle.partition\", 4)\n",
    "\n",
    "# configuration to work in UTC\n",
    "spark.conf.set(\"spark.sql.session.timeZone\", \"UTC\")\n"
   ]
  },
  {
   "cell_type": "code",
   "execution_count": 4,
   "metadata": {},
   "outputs": [
    {
     "name": "stderr",
     "output_type": "stream",
     "text": [
      "                                                                                \r"
     ]
    }
   ],
   "source": [
    "path = \"/Users/emilianofrigo/Downloads/test_read/\"\n",
    "\n",
    "df = spark.read.parquet(path)\n"
   ]
  },
  {
   "cell_type": "code",
   "execution_count": 5,
   "metadata": {},
   "outputs": [
    {
     "name": "stdout",
     "output_type": "stream",
     "text": [
      "root\n",
      " |-- region_id: string (nullable = true)\n",
      " |-- account_id: string (nullable = true)\n",
      " |-- marketplace_id: string (nullable = true)\n",
      " |-- report_id: string (nullable = true)\n",
      " |-- posted_dt: date (nullable = true)\n",
      " |-- raw_data: struct (nullable = true)\n",
      " |    |-- AdjustmentAmount: struct (nullable = true)\n",
      " |    |    |-- CurrencyAmount: double (nullable = true)\n",
      " |    |    |-- CurrencyCode: string (nullable = true)\n",
      " |    |-- AdjustmentItemList: array (nullable = true)\n",
      " |    |    |-- element: struct (containsNull = true)\n",
      " |    |    |    |-- PerUnitAmount: struct (nullable = true)\n",
      " |    |    |    |    |-- CurrencyAmount: double (nullable = true)\n",
      " |    |    |    |    |-- CurrencyCode: string (nullable = true)\n",
      " |    |    |    |-- ProductDescription: string (nullable = true)\n",
      " |    |    |    |-- Quantity: string (nullable = true)\n",
      " |    |    |    |-- SellerSKU: string (nullable = true)\n",
      " |    |    |    |-- TotalAmount: struct (nullable = true)\n",
      " |    |    |    |    |-- CurrencyAmount: double (nullable = true)\n",
      " |    |    |    |    |-- CurrencyCode: string (nullable = true)\n",
      " |    |-- AdjustmentType: string (nullable = true)\n",
      " |    |-- PostedDate: string (nullable = true)\n",
      " |-- filename_adjusted: string (nullable = true)\n",
      " |-- aud_upd_ts: string (nullable = true)\n",
      " |-- report_ingested_ts: timestamp (nullable = true)\n",
      "\n"
     ]
    }
   ],
   "source": [
    "df.printSchema()"
   ]
  },
  {
   "cell_type": "code",
   "execution_count": 6,
   "metadata": {},
   "outputs": [
    {
     "name": "stderr",
     "output_type": "stream",
     "text": [
      "[Stage 1:>                                                          (0 + 1) / 1]\r"
     ]
    },
    {
     "name": "stdout",
     "output_type": "stream",
     "text": [
      "+---------+------------+--------------+--------------------+----------+--------------------+--------------------+-------------------+--------------------+\n",
      "|region_id|  account_id|marketplace_id|           report_id| posted_dt|            raw_data|   filename_adjusted|         aud_upd_ts|  report_ingested_ts|\n",
      "+---------+------------+--------------+--------------------+----------+--------------------+--------------------+-------------------+--------------------+\n",
      "|       EU|OLIVER_JAMES|            UK|fb2d63a6-9fd4-4d5...|2023-06-15|{{14.08, EUR}, [{...|s3://heroes-dl-ra...|2023-07-26 09:52:43|2023-07-26 09:10:...|\n",
      "|       EU|OLIVER_JAMES|            UK|fb2d63a6-9fd4-4d5...|2023-06-15|{{-10.35, GBP}, [...|s3://heroes-dl-ra...|2023-07-26 09:52:43|2023-07-26 09:10:...|\n",
      "|       EU|OLIVER_JAMES|            UK|fb2d63a6-9fd4-4d5...|2023-06-15|{{19.55, EUR}, [{...|s3://heroes-dl-ra...|2023-07-26 09:52:43|2023-07-26 09:10:...|\n",
      "|       EU|OLIVER_JAMES|            UK|fb2d63a6-9fd4-4d5...|2023-06-15|{{10.03, GBP}, [{...|s3://heroes-dl-ra...|2023-07-26 09:52:43|2023-07-26 09:10:...|\n",
      "|       EU|OLIVER_JAMES|            UK|fb2d63a6-9fd4-4d5...|2023-06-15|{{-9.04, EUR}, [{...|s3://heroes-dl-ra...|2023-07-26 09:52:43|2023-07-26 09:10:...|\n",
      "|       EU|OLIVER_JAMES|            UK|fb2d63a6-9fd4-4d5...|2023-06-15|{{9.35, GBP}, [{{...|s3://heroes-dl-ra...|2023-07-26 09:52:43|2023-07-26 09:10:...|\n",
      "|       EU|OLIVER_JAMES|            UK|fb2d63a6-9fd4-4d5...|2023-06-15|{{-9.18, EUR}, [{...|s3://heroes-dl-ra...|2023-07-26 09:52:43|2023-07-26 09:10:...|\n",
      "|       EU|OLIVER_JAMES|            UK|fb2d63a6-9fd4-4d5...|2023-06-21|{{-13.41, EUR}, [...|s3://heroes-dl-ra...|2023-07-26 09:52:43|2023-07-26 09:10:...|\n",
      "|       EU|OLIVER_JAMES|            UK|fb2d63a6-9fd4-4d5...|2023-06-21|{{-17.48, EUR}, [...|s3://heroes-dl-ra...|2023-07-26 09:52:43|2023-07-26 09:10:...|\n",
      "|       EU|OLIVER_JAMES|            UK|fb2d63a6-9fd4-4d5...|2023-06-21|{{35175.52, GBP},...|s3://heroes-dl-ra...|2023-07-26 09:52:43|2023-07-26 09:10:...|\n",
      "|       EU|OLIVER_JAMES|            UK|fb2d63a6-9fd4-4d5...|2023-06-21|{{-35175.52, GBP}...|s3://heroes-dl-ra...|2023-07-26 09:52:43|2023-07-26 09:10:...|\n",
      "|       EU|OLIVER_JAMES|            UK|fb2d63a6-9fd4-4d5...|2023-06-21|{{10.71, GBP}, [{...|s3://heroes-dl-ra...|2023-07-26 09:52:43|2023-07-26 09:10:...|\n",
      "|       EU|OLIVER_JAMES|            UK|fb2d63a6-9fd4-4d5...|2023-06-21|{{-13.57, GBP}, [...|s3://heroes-dl-ra...|2023-07-26 09:52:43|2023-07-26 09:10:...|\n",
      "|       EU|OLIVER_JAMES|            UK|fb2d63a6-9fd4-4d5...|2023-06-21|{{-12.07, GBP}, [...|s3://heroes-dl-ra...|2023-07-26 09:52:43|2023-07-26 09:10:...|\n",
      "|       EU|OLIVER_JAMES|            UK|fb2d63a6-9fd4-4d5...|2023-06-21|{{9.35, GBP}, [{{...|s3://heroes-dl-ra...|2023-07-26 09:52:43|2023-07-26 09:10:...|\n",
      "|       EU|OLIVER_JAMES|            UK|fb2d63a6-9fd4-4d5...|2023-06-21|{{-14.92, GBP}, [...|s3://heroes-dl-ra...|2023-07-26 09:52:43|2023-07-26 09:10:...|\n",
      "|       EU|OLIVER_JAMES|            UK|fb2d63a6-9fd4-4d5...|2023-06-21|{{9.35, GBP}, [{{...|s3://heroes-dl-ra...|2023-07-26 09:52:43|2023-07-26 09:10:...|\n",
      "|       EU|OLIVER_JAMES|            UK|fb2d63a6-9fd4-4d5...|2023-06-21|{{-13.57, GBP}, [...|s3://heroes-dl-ra...|2023-07-26 09:52:43|2023-07-26 09:10:...|\n",
      "|       EU|OLIVER_JAMES|            UK|fb2d63a6-9fd4-4d5...|2023-06-21|{{9.35, GBP}, [{{...|s3://heroes-dl-ra...|2023-07-26 09:52:43|2023-07-26 09:10:...|\n",
      "|       EU|OLIVER_JAMES|            UK|fb2d63a6-9fd4-4d5...|2023-06-21|{{-13.57, GBP}, [...|s3://heroes-dl-ra...|2023-07-26 09:52:43|2023-07-26 09:10:...|\n",
      "+---------+------------+--------------+--------------------+----------+--------------------+--------------------+-------------------+--------------------+\n",
      "only showing top 20 rows\n",
      "\n"
     ]
    },
    {
     "name": "stderr",
     "output_type": "stream",
     "text": [
      "                                                                                \r"
     ]
    }
   ],
   "source": [
    "df.show()"
   ]
  },
  {
   "cell_type": "code",
   "execution_count": 7,
   "metadata": {},
   "outputs": [
    {
     "data": {
      "text/plain": [
       "364"
      ]
     },
     "execution_count": 7,
     "metadata": {},
     "output_type": "execute_result"
    }
   ],
   "source": [
    "df.count()"
   ]
  },
  {
   "cell_type": "code",
   "execution_count": 8,
   "metadata": {},
   "outputs": [
    {
     "name": "stderr",
     "output_type": "stream",
     "text": [
      "                                                                                \r"
     ]
    },
    {
     "data": {
      "text/plain": [
       "363"
      ]
     },
     "execution_count": 8,
     "metadata": {},
     "output_type": "execute_result"
    }
   ],
   "source": [
    "df.dropDuplicates().count()"
   ]
  },
  {
   "cell_type": "code",
   "execution_count": 9,
   "metadata": {},
   "outputs": [
    {
     "name": "stdout",
     "output_type": "stream",
     "text": [
      "+------------------------------------+----------+-----+\n",
      "|report_id                           |posted_dt |count|\n",
      "+------------------------------------+----------+-----+\n",
      "|fb2d63a6-9fd4-4d52-8191-bf3e677a2ed0|2023-06-21|15   |\n",
      "|fb2d63a6-9fd4-4d52-8191-bf3e677a2ed0|2023-07-02|3    |\n",
      "|fb2d63a6-9fd4-4d52-8191-bf3e677a2ed0|2023-07-26|2    |\n",
      "|fb2d63a6-9fd4-4d52-8191-bf3e677a2ed0|2023-07-17|5    |\n",
      "|fb2d63a6-9fd4-4d52-8191-bf3e677a2ed0|2023-06-25|7    |\n",
      "|fb2d63a6-9fd4-4d52-8191-bf3e677a2ed0|2023-07-25|6    |\n",
      "|fb2d63a6-9fd4-4d52-8191-bf3e677a2ed0|2023-07-03|2    |\n",
      "|fb2d63a6-9fd4-4d52-8191-bf3e677a2ed0|2023-06-15|7    |\n",
      "|fb2d63a6-9fd4-4d52-8191-bf3e677a2ed0|2023-06-27|27   |\n",
      "|fb2d63a6-9fd4-4d52-8191-bf3e677a2ed0|2023-07-22|3    |\n",
      "|fb2d63a6-9fd4-4d52-8191-bf3e677a2ed0|2023-07-18|4    |\n",
      "|fb2d63a6-9fd4-4d52-8191-bf3e677a2ed0|2023-07-24|5    |\n",
      "|fb2d63a6-9fd4-4d52-8191-bf3e677a2ed0|2023-07-07|15   |\n",
      "|fb2d63a6-9fd4-4d52-8191-bf3e677a2ed0|2023-06-23|11   |\n",
      "|fb2d63a6-9fd4-4d52-8191-bf3e677a2ed0|2023-07-06|2    |\n",
      "|fb2d63a6-9fd4-4d52-8191-bf3e677a2ed0|2023-07-14|15   |\n",
      "|fb2d63a6-9fd4-4d52-8191-bf3e677a2ed0|2023-06-19|12   |\n",
      "|fb2d63a6-9fd4-4d52-8191-bf3e677a2ed0|2023-06-30|5    |\n",
      "|fe5d625a-d872-42d0-8b1f-806a67a05b59|2023-07-04|2    |\n",
      "|fb2d63a6-9fd4-4d52-8191-bf3e677a2ed0|2023-07-23|3    |\n",
      "+------------------------------------+----------+-----+\n",
      "only showing top 20 rows\n",
      "\n"
     ]
    }
   ],
   "source": [
    "# Method 2: Use 'groupBy' and 'count' to detect duplicates\n",
    "duplicates = df.groupBy(\"report_id\", \"posted_dt\").count().filter(F.col(\"count\") > 1)\n",
    "\n",
    "duplicates.show(truncate=False)"
   ]
  },
  {
   "cell_type": "code",
   "execution_count": 10,
   "metadata": {},
   "outputs": [
    {
     "name": "stdout",
     "output_type": "stream",
     "text": [
      "+---------+------------+--------------+------------------------------------+----------+----------------------------------------------------------------------------------------------------------------------------------------------------------------------------------------------------------------------------------------------------------------------------------------------------------------------------+--------------------------------------------------------------------------------------------------------------------------------------------------------------------------------+-------------------+-----------------------+\n",
      "|region_id|account_id  |marketplace_id|report_id                           |posted_dt |raw_data                                                                                                                                                                                                                                                                                                                    |filename_adjusted                                                                                                                                                               |aud_upd_ts         |report_ingested_ts     |\n",
      "+---------+------------+--------------+------------------------------------+----------+----------------------------------------------------------------------------------------------------------------------------------------------------------------------------------------------------------------------------------------------------------------------------------------------------------------------------+--------------------------------------------------------------------------------------------------------------------------------------------------------------------------------+-------------------+-----------------------+\n",
      "|EU       |OLIVER_JAMES|UK            |fb2d63a6-9fd4-4d52-8191-bf3e677a2ed0|2023-06-21|{{-13.41, EUR}, [{{-13.41, EUR}, Oliver James Masseur personnel sans fil avec 8 gammes de vitesses ultra-puissantes et 20 impulsions - Masseur thérapeutique personnel - Rechargeable par USB (Peach), 1, OJ-SN01PE-UK, {-13.41, EUR}}], COMPENSATED_CLAWBACK, 2023-06-21T00:13:06Z}                                        |s3://heroes-dl-raw-dev/airbyte/sp_api/p_account_id=OLIVER_JAMES/p_region_id=EU/p_marketplace_id=UK/p_entity_id=ListFinancialEvents/p_ingestion_dt=2023-07-26/1690362602448.jsonl|2023-07-26 09:52:43|2023-07-26 09:10:18.299|\n",
      "|EU       |OLIVER_JAMES|UK            |fb2d63a6-9fd4-4d52-8191-bf3e677a2ed0|2023-06-21|{{-17.48, EUR}, [{{-17.48, EUR}, Vibrator für Frauen - Leises und Starkes Massagegerät + Akku - Sexspielzeug mit 20 Vibrationsmuster und 8 Geschwindigkeitsstufen - Kabelloser Dildo für Klitoris, G Spot - Oliver James (Hautfarben), 1, OJ-SN01PE-UK, {-17.48, EUR}}], COMPENSATED_CLAWBACK, 2023-06-21T00:16:47Z}        |s3://heroes-dl-raw-dev/airbyte/sp_api/p_account_id=OLIVER_JAMES/p_region_id=EU/p_marketplace_id=UK/p_entity_id=ListFinancialEvents/p_ingestion_dt=2023-07-26/1690362602448.jsonl|2023-07-26 09:52:43|2023-07-26 09:10:18.299|\n",
      "|EU       |OLIVER_JAMES|UK            |fb2d63a6-9fd4-4d52-8191-bf3e677a2ed0|2023-06-21|{{35175.52, GBP}, null, ReserveCredit, 2023-06-21T10:41:01Z}                                                                                                                                                                                                                                                                |s3://heroes-dl-raw-dev/airbyte/sp_api/p_account_id=OLIVER_JAMES/p_region_id=EU/p_marketplace_id=UK/p_entity_id=ListFinancialEvents/p_ingestion_dt=2023-07-26/1690362602448.jsonl|2023-07-26 09:52:43|2023-07-26 09:10:19.996|\n",
      "|EU       |OLIVER_JAMES|UK            |fb2d63a6-9fd4-4d52-8191-bf3e677a2ed0|2023-06-21|{{-35175.52, GBP}, null, ReserveDebit, 2023-06-21T10:41:01Z}                                                                                                                                                                                                                                                                |s3://heroes-dl-raw-dev/airbyte/sp_api/p_account_id=OLIVER_JAMES/p_region_id=EU/p_marketplace_id=UK/p_entity_id=ListFinancialEvents/p_ingestion_dt=2023-07-26/1690362602448.jsonl|2023-07-26 09:52:43|2023-07-26 09:10:19.996|\n",
      "|EU       |OLIVER_JAMES|UK            |fb2d63a6-9fd4-4d52-8191-bf3e677a2ed0|2023-06-21|{{10.71, GBP}, [{{10.71, GBP}, Oliver James Vibrator - Powerful Personal Wand Massager for Women - Water-Resistant, Wireless, Handheld - 20 Vibration Modes &amp; 8 Speeds - Adult Sex Toy, G Spot Stimulation, Dildo, Vibrator (Black), 1, OJ-TDH-UK, {10.71, GBP}}], REVERSAL_REIMBURSEMENT, 2023-06-21T11:54:24Z}        |s3://heroes-dl-raw-dev/airbyte/sp_api/p_account_id=OLIVER_JAMES/p_region_id=EU/p_marketplace_id=UK/p_entity_id=ListFinancialEvents/p_ingestion_dt=2023-07-26/1690362602448.jsonl|2023-07-26 09:52:43|2023-07-26 09:10:19.996|\n",
      "|EU       |OLIVER_JAMES|UK            |fb2d63a6-9fd4-4d52-8191-bf3e677a2ed0|2023-06-21|{{-13.57, GBP}, [{{-13.57, GBP}, Oliver James Vibrator - Powerful Personal Wand Massager for Women - Water-Resistant, Wireless, Handheld - 20 Vibration Modes &amp; 8 Speeds - Adult Sex Toy, G Spot Stimulation, Dildo, Vibrator (Pink), 1, OJ-TDHPI-UK, {-13.57, GBP}}], COMPENSATED_CLAWBACK, 2023-06-21T17:01:46Z}      |s3://heroes-dl-raw-dev/airbyte/sp_api/p_account_id=OLIVER_JAMES/p_region_id=EU/p_marketplace_id=UK/p_entity_id=ListFinancialEvents/p_ingestion_dt=2023-07-26/1690362602448.jsonl|2023-07-26 09:52:43|2023-07-26 09:10:19.996|\n",
      "|EU       |OLIVER_JAMES|UK            |fb2d63a6-9fd4-4d52-8191-bf3e677a2ed0|2023-06-21|{{-12.07, GBP}, [{{-12.07, GBP}, Oliver James Vibrator - Powerful Personal Wand Massager for Women - Water-Resistant, Wireless, Handheld - 20 Vibration Modes &amp; 8 Speeds - Adult Sex Toy, G Spot Stimulation, Dildo, Vibrator (Pink), 1, OJ-TDHPI-UK, {-12.07, GBP}}], COMPENSATED_CLAWBACK, 2023-06-21T18:08:10Z}      |s3://heroes-dl-raw-dev/airbyte/sp_api/p_account_id=OLIVER_JAMES/p_region_id=EU/p_marketplace_id=UK/p_entity_id=ListFinancialEvents/p_ingestion_dt=2023-07-26/1690362602448.jsonl|2023-07-26 09:52:43|2023-07-26 09:10:20.942|\n",
      "|EU       |OLIVER_JAMES|UK            |fb2d63a6-9fd4-4d52-8191-bf3e677a2ed0|2023-06-21|{{9.35, GBP}, [{{9.35, GBP}, Vibrator Sex Toy, Adult Sex Toys for Women - Powerful Electric Wand Massager Vibrator, G Spot Clitoris Stimulation, Dildo, Vibrators, Water-Resistant, Wireless - 20 Vibration Modes &amp; 8 Speeds (Purple), 1, LVW-SMW-WW-PP-NA, {9.35, GBP}}], REVERSAL_REIMBURSEMENT, 2023-06-21T20:23:36Z}|s3://heroes-dl-raw-dev/airbyte/sp_api/p_account_id=OLIVER_JAMES/p_region_id=EU/p_marketplace_id=UK/p_entity_id=ListFinancialEvents/p_ingestion_dt=2023-07-26/1690362602448.jsonl|2023-07-26 09:52:43|2023-07-26 09:10:20.942|\n",
      "|EU       |OLIVER_JAMES|UK            |fb2d63a6-9fd4-4d52-8191-bf3e677a2ed0|2023-06-21|{{-14.92, GBP}, [{{-14.92, GBP}, Oliver James Vibrator - Powerful Personal Wand Massager for Women - Water-Resistant, Wireless, Handheld - 20 Vibration Modes &amp; 8 Speeds - Adult Sex Toy, G Spot Stimulation, Dildo, Vibrator (Pink), 1, OJ-TDHPI-UK, {-14.92, GBP}}], COMPENSATED_CLAWBACK, 2023-06-21T20:42:35Z}      |s3://heroes-dl-raw-dev/airbyte/sp_api/p_account_id=OLIVER_JAMES/p_region_id=EU/p_marketplace_id=UK/p_entity_id=ListFinancialEvents/p_ingestion_dt=2023-07-26/1690362602448.jsonl|2023-07-26 09:52:43|2023-07-26 09:10:20.942|\n",
      "|EU       |OLIVER_JAMES|UK            |fb2d63a6-9fd4-4d52-8191-bf3e677a2ed0|2023-06-21|{{9.35, GBP}, [{{9.35, GBP}, Vibrator Sex Toy, Adult Sex Toys for Women - Powerful Electric Wand Massager Vibrator, G Spot Clitoris Stimulation, Dildo, Vibrators - Water-Resistant, Wireless - 20 Vibration Modes &amp; 8 Speeds (Black), 1, LVW-SMW-WW-BK-NA, {9.35, GBP}}], REVERSAL_REIMBURSEMENT, 2023-06-21T20:45:20Z}|s3://heroes-dl-raw-dev/airbyte/sp_api/p_account_id=OLIVER_JAMES/p_region_id=EU/p_marketplace_id=UK/p_entity_id=ListFinancialEvents/p_ingestion_dt=2023-07-26/1690362602448.jsonl|2023-07-26 09:52:43|2023-07-26 09:10:20.942|\n",
      "|EU       |OLIVER_JAMES|UK            |fb2d63a6-9fd4-4d52-8191-bf3e677a2ed0|2023-06-21|{{-13.57, GBP}, [{{-13.57, GBP}, Oliver James Vibrator - Powerful Personal Wand Massager for Women - Water-Resistant, Wireless, Handheld - 20 Vibration Modes &amp; 8 Speeds - Adult Sex Toy, G Spot Stimulation, Dildo, Vibrator (Pink), 1, OJ-TDHPI-UK, {-13.57, GBP}}], COMPENSATED_CLAWBACK, 2023-06-21T20:50:28Z}      |s3://heroes-dl-raw-dev/airbyte/sp_api/p_account_id=OLIVER_JAMES/p_region_id=EU/p_marketplace_id=UK/p_entity_id=ListFinancialEvents/p_ingestion_dt=2023-07-26/1690362602448.jsonl|2023-07-26 09:52:43|2023-07-26 09:10:20.942|\n",
      "|EU       |OLIVER_JAMES|UK            |fb2d63a6-9fd4-4d52-8191-bf3e677a2ed0|2023-06-21|{{9.35, GBP}, [{{9.35, GBP}, Vibrator Sex Toy, Adult Sex Toys for Women - Powerful Electric Wand Massager Vibrator, G Spot Clitoris Stimulation, Dildo, Vibrators, Water-Resistant, Wireless - 20 Vibration Modes &amp; 8 Speeds (Purple), 1, LVW-SMW-WW-PP-NA, {9.35, GBP}}], REVERSAL_REIMBURSEMENT, 2023-06-21T22:07:26Z}|s3://heroes-dl-raw-dev/airbyte/sp_api/p_account_id=OLIVER_JAMES/p_region_id=EU/p_marketplace_id=UK/p_entity_id=ListFinancialEvents/p_ingestion_dt=2023-07-26/1690362602448.jsonl|2023-07-26 09:52:43|2023-07-26 09:10:20.942|\n",
      "|EU       |OLIVER_JAMES|UK            |fb2d63a6-9fd4-4d52-8191-bf3e677a2ed0|2023-06-21|{{-13.57, GBP}, [{{-13.57, GBP}, Oliver James Vibrator - Powerful Personal Wand Massager for Women - Water-Resistant, Wireless, Handheld - 20 Vibration Modes &amp; 8 Speeds - Adult Sex Toy, G Spot Stimulation, Dildo, Vibrator (Pink), 1, OJ-TDHPI-UK, {-13.57, GBP}}], COMPENSATED_CLAWBACK, 2023-06-21T22:35:20Z}      |s3://heroes-dl-raw-dev/airbyte/sp_api/p_account_id=OLIVER_JAMES/p_region_id=EU/p_marketplace_id=UK/p_entity_id=ListFinancialEvents/p_ingestion_dt=2023-07-26/1690362602448.jsonl|2023-07-26 09:52:43|2023-07-26 09:10:20.942|\n",
      "|EU       |OLIVER_JAMES|UK            |fb2d63a6-9fd4-4d52-8191-bf3e677a2ed0|2023-06-21|{{-12.88, GBP}, [{{-12.88, GBP}, Oliver James Vibrator - Powerful Personal Wand Massager for Women - Water-Resistant, Wireless, Handheld - 20 Vibration Modes &amp; 8 Speeds - Adult Sex Toy, G Spot Stimulation, Dildo, Vibrator (Pink), 1, OJ-TDHPI-UK, {-12.88, GBP}}], COMPENSATED_CLAWBACK, 2023-06-21T23:36:30Z}      |s3://heroes-dl-raw-dev/airbyte/sp_api/p_account_id=OLIVER_JAMES/p_region_id=EU/p_marketplace_id=UK/p_entity_id=ListFinancialEvents/p_ingestion_dt=2023-07-26/1690362602448.jsonl|2023-07-26 09:52:43|2023-07-26 09:10:21.786|\n",
      "|EU       |OLIVER_JAMES|UK            |fb2d63a6-9fd4-4d52-8191-bf3e677a2ed0|2023-06-21|{{-13.57, GBP}, [{{-13.57, GBP}, Oliver James Vibrator - Powerful Personal Wand Massager for Women - Water-Resistant, Wireless, Handheld - 20 Vibration Modes &amp; 8 Speeds - Adult Sex Toy, G Spot Stimulation, Dildo, Vibrator (Pink), 1, OJ-TDHPI-UK, {-13.57, GBP}}], COMPENSATED_CLAWBACK, 2023-06-21T23:38:30Z}      |s3://heroes-dl-raw-dev/airbyte/sp_api/p_account_id=OLIVER_JAMES/p_region_id=EU/p_marketplace_id=UK/p_entity_id=ListFinancialEvents/p_ingestion_dt=2023-07-26/1690362602448.jsonl|2023-07-26 09:52:43|2023-07-26 09:10:21.786|\n",
      "+---------+------------+--------------+------------------------------------+----------+----------------------------------------------------------------------------------------------------------------------------------------------------------------------------------------------------------------------------------------------------------------------------------------------------------------------------+--------------------------------------------------------------------------------------------------------------------------------------------------------------------------------+-------------------+-----------------------+\n",
      "\n"
     ]
    }
   ],
   "source": [
    "(\n",
    "    df\n",
    "    .filter((F.col(\"report_id\") == \"fb2d63a6-9fd4-4d52-8191-bf3e677a2ed0\") & (F.col(\"posted_dt\") == \"2023-06-21\"))\n",
    "    .show(truncate=False)\n",
    ")"
   ]
  },
  {
   "cell_type": "code",
   "execution_count": 11,
   "metadata": {},
   "outputs": [
    {
     "name": "stdout",
     "output_type": "stream",
     "text": [
      "+---------+------------+--------------+------------------------------------+----------+--------------------+\n",
      "|region_id|account_id  |marketplace_id|report_id                           |posted_dt |posteddate          |\n",
      "+---------+------------+--------------+------------------------------------+----------+--------------------+\n",
      "|EU       |OLIVER_JAMES|UK            |fb2d63a6-9fd4-4d52-8191-bf3e677a2ed0|2023-06-21|2023-06-21T00:13:06Z|\n",
      "|EU       |OLIVER_JAMES|UK            |fb2d63a6-9fd4-4d52-8191-bf3e677a2ed0|2023-06-21|2023-06-21T00:16:47Z|\n",
      "|EU       |OLIVER_JAMES|UK            |fb2d63a6-9fd4-4d52-8191-bf3e677a2ed0|2023-06-21|2023-06-21T10:41:01Z|\n",
      "|EU       |OLIVER_JAMES|UK            |fb2d63a6-9fd4-4d52-8191-bf3e677a2ed0|2023-06-21|2023-06-21T10:41:01Z|\n",
      "|EU       |OLIVER_JAMES|UK            |fb2d63a6-9fd4-4d52-8191-bf3e677a2ed0|2023-06-21|2023-06-21T11:54:24Z|\n",
      "|EU       |OLIVER_JAMES|UK            |fb2d63a6-9fd4-4d52-8191-bf3e677a2ed0|2023-06-21|2023-06-21T17:01:46Z|\n",
      "|EU       |OLIVER_JAMES|UK            |fb2d63a6-9fd4-4d52-8191-bf3e677a2ed0|2023-06-21|2023-06-21T18:08:10Z|\n",
      "|EU       |OLIVER_JAMES|UK            |fb2d63a6-9fd4-4d52-8191-bf3e677a2ed0|2023-06-21|2023-06-21T20:23:36Z|\n",
      "|EU       |OLIVER_JAMES|UK            |fb2d63a6-9fd4-4d52-8191-bf3e677a2ed0|2023-06-21|2023-06-21T20:42:35Z|\n",
      "|EU       |OLIVER_JAMES|UK            |fb2d63a6-9fd4-4d52-8191-bf3e677a2ed0|2023-06-21|2023-06-21T20:45:20Z|\n",
      "|EU       |OLIVER_JAMES|UK            |fb2d63a6-9fd4-4d52-8191-bf3e677a2ed0|2023-06-21|2023-06-21T20:50:28Z|\n",
      "|EU       |OLIVER_JAMES|UK            |fb2d63a6-9fd4-4d52-8191-bf3e677a2ed0|2023-06-21|2023-06-21T22:07:26Z|\n",
      "|EU       |OLIVER_JAMES|UK            |fb2d63a6-9fd4-4d52-8191-bf3e677a2ed0|2023-06-21|2023-06-21T22:35:20Z|\n",
      "|EU       |OLIVER_JAMES|UK            |fb2d63a6-9fd4-4d52-8191-bf3e677a2ed0|2023-06-21|2023-06-21T23:36:30Z|\n",
      "|EU       |OLIVER_JAMES|UK            |fb2d63a6-9fd4-4d52-8191-bf3e677a2ed0|2023-06-21|2023-06-21T23:38:30Z|\n",
      "+---------+------------+--------------+------------------------------------+----------+--------------------+\n",
      "\n"
     ]
    }
   ],
   "source": [
    "(\n",
    "    df\n",
    "    .filter((F.col(\"report_id\") == \"fb2d63a6-9fd4-4d52-8191-bf3e677a2ed0\") & (F.col(\"posted_dt\") == \"2023-06-21\"))\n",
    "    .select(\"region_id\", \"account_id\", \"marketplace_id\", \"report_id\",  \"posted_dt\", \"raw_data.posteddate\")\n",
    ").show(truncate=False)"
   ]
  },
  {
   "cell_type": "code",
   "execution_count": 17,
   "metadata": {},
   "outputs": [
    {
     "data": {
      "text/plain": [
       "364"
      ]
     },
     "execution_count": 17,
     "metadata": {},
     "output_type": "execute_result"
    }
   ],
   "source": [
    "(\n",
    "    df\n",
    "    .select(\"raw_data\")\n",
    "    # .distinct()\n",
    "    \n",
    "# ).show(truncate=False)\n",
    ").count()"
   ]
  },
  {
   "cell_type": "code",
   "execution_count": 18,
   "metadata": {},
   "outputs": [],
   "source": [
    "duplicates = df.groupBy(\"report_id\", \"posted_dt\", \"raw_data\").count().filter(F.col(\"count\") > 1)"
   ]
  },
  {
   "cell_type": "code",
   "execution_count": 20,
   "metadata": {},
   "outputs": [
    {
     "name": "stderr",
     "output_type": "stream",
     "text": [
      "[Stage 47:===========================================>              (3 + 1) / 4]\r"
     ]
    },
    {
     "name": "stdout",
     "output_type": "stream",
     "text": [
      "+------------------------------------+----------+--------------------------------------------------------------------------------------------------------------------------------------------------------------------------------------------------------------------------------------------------------------------------------------------------------------------------------+-----+\n",
      "|report_id                           |posted_dt |raw_data                                                                                                                                                                                                                                                                                                                        |count|\n",
      "+------------------------------------+----------+--------------------------------------------------------------------------------------------------------------------------------------------------------------------------------------------------------------------------------------------------------------------------------------------------------------------------------+-----+\n",
      "|fb2d63a6-9fd4-4d52-8191-bf3e677a2ed0|2023-07-11|{{-10.84, GBP}, [{{-10.84, GBP}, Vibrator Sex Toy, Adult Sex Toys for Women - Powerful Electric Wand Massager Vibrator, G Spot Clitoris Stimulation, Dildo, Vibrators - Water-Resistant, Wireless - 20 Vibration Modes &amp; 8 Speeds (Black), 1, LVW-SMW-WW-BK-NA, {-10.84, GBP}}], COMPENSATED_CLAWBACK, 2023-07-11T20:27:10Z}|2    |\n",
      "+------------------------------------+----------+--------------------------------------------------------------------------------------------------------------------------------------------------------------------------------------------------------------------------------------------------------------------------------------------------------------------------------+-----+\n",
      "\n"
     ]
    },
    {
     "name": "stderr",
     "output_type": "stream",
     "text": [
      "                                                                                \r"
     ]
    }
   ],
   "source": [
    "duplicates.show(truncate=False)"
   ]
  },
  {
   "cell_type": "code",
   "execution_count": null,
   "metadata": {},
   "outputs": [],
   "source": [
    "\"{{-10.84, GBP}, [{{-10.84, GBP}, Vibrator Sex Toy, Adult Sex Toys for Women - Powerful Electric Wand Massager Vibrator, G Spot Clitoris Stimulation, Dildo, Vibrators - Water-Resistant, Wireless - 20 Vibration Modes &amp; 8 Speeds (Black), 1, LVW-SMW-WW-BK-NA, {-10.84, GBP}}], COMPENSATED_CLAWBACK, 2023-07-11T20:27:10Z}\""
   ]
  },
  {
   "cell_type": "code",
   "execution_count": 22,
   "metadata": {},
   "outputs": [
    {
     "name": "stdout",
     "output_type": "stream",
     "text": [
      "+---------+------------+--------------+--------------------+----------+--------------------+--------------------+-------------------+--------------------+\n",
      "|region_id|  account_id|marketplace_id|           report_id| posted_dt|            raw_data|   filename_adjusted|         aud_upd_ts|  report_ingested_ts|\n",
      "+---------+------------+--------------+--------------------+----------+--------------------+--------------------+-------------------+--------------------+\n",
      "|       EU|OLIVER_JAMES|            UK|fb2d63a6-9fd4-4d5...|2023-07-11|{{-9.35, GBP}, [{...|s3://heroes-dl-ra...|2023-07-26 09:52:43|2023-07-26 09:12:...|\n",
      "|       EU|OLIVER_JAMES|            UK|fb2d63a6-9fd4-4d5...|2023-07-11|{{-10.03, GBP}, [...|s3://heroes-dl-ra...|2023-07-26 09:52:43|2023-07-26 09:12:...|\n",
      "|       EU|OLIVER_JAMES|            UK|fb2d63a6-9fd4-4d5...|2023-07-11|{{-9.35, GBP}, [{...|s3://heroes-dl-ra...|2023-07-26 09:52:43|2023-07-26 09:12:...|\n",
      "|       EU|OLIVER_JAMES|            UK|fb2d63a6-9fd4-4d5...|2023-07-11|{{8.67, GBP}, [{{...|s3://heroes-dl-ra...|2023-07-26 09:52:43|2023-07-26 09:12:...|\n",
      "|       EU|OLIVER_JAMES|            UK|fb2d63a6-9fd4-4d5...|2023-07-11|{{8.67, GBP}, [{{...|s3://heroes-dl-ra...|2023-07-26 09:52:43|2023-07-26 09:12:...|\n",
      "|       EU|OLIVER_JAMES|            UK|fb2d63a6-9fd4-4d5...|2023-07-11|{{9.35, GBP}, [{{...|s3://heroes-dl-ra...|2023-07-26 09:52:43|2023-07-26 09:12:...|\n",
      "|       EU|OLIVER_JAMES|            UK|fb2d63a6-9fd4-4d5...|2023-07-11|{{9.35, GBP}, [{{...|s3://heroes-dl-ra...|2023-07-26 09:52:43|2023-07-26 09:12:...|\n",
      "|       EU|OLIVER_JAMES|            UK|fb2d63a6-9fd4-4d5...|2023-07-11|{{9.35, GBP}, [{{...|s3://heroes-dl-ra...|2023-07-26 09:52:43|2023-07-26 09:12:...|\n",
      "|       EU|OLIVER_JAMES|            UK|fb2d63a6-9fd4-4d5...|2023-07-11|{{-12.72, GBP}, [...|s3://heroes-dl-ra...|2023-07-26 09:52:43|2023-07-26 09:12:...|\n",
      "|       EU|OLIVER_JAMES|            UK|fb2d63a6-9fd4-4d5...|2023-07-11|{{-9.35, GBP}, [{...|s3://heroes-dl-ra...|2023-07-26 09:52:43|2023-07-26 09:12:...|\n",
      "|       EU|OLIVER_JAMES|            UK|fb2d63a6-9fd4-4d5...|2023-07-11|{{-10.84, GBP}, [...|s3://heroes-dl-ra...|2023-07-26 09:52:43|2023-07-26 09:12:...|\n",
      "|       EU|OLIVER_JAMES|            UK|fb2d63a6-9fd4-4d5...|2023-07-11|{{-10.84, GBP}, [...|s3://heroes-dl-ra...|2023-07-26 09:52:43|2023-07-26 09:12:...|\n",
      "|       EU|OLIVER_JAMES|            UK|fb2d63a6-9fd4-4d5...|2023-07-11|{{-12.72, GBP}, [...|s3://heroes-dl-ra...|2023-07-26 09:52:43|2023-07-26 09:12:...|\n",
      "|       EU|OLIVER_JAMES|            UK|fb2d63a6-9fd4-4d5...|2023-07-11|{{9.35, GBP}, [{{...|s3://heroes-dl-ra...|2023-07-26 09:52:43|2023-07-26 09:12:...|\n",
      "|       EU|OLIVER_JAMES|            UK|fb2d63a6-9fd4-4d5...|2023-07-11|{{-9.48, GBP}, [{...|s3://heroes-dl-ra...|2023-07-26 09:52:43|2023-07-26 09:12:...|\n",
      "|       EU|OLIVER_JAMES|            UK|fb2d63a6-9fd4-4d5...|2023-07-11|{{-9.31, GBP}, [{...|s3://heroes-dl-ra...|2023-07-26 09:52:43|2023-07-26 09:12:...|\n",
      "|       EU|OLIVER_JAMES|            UK|fb2d63a6-9fd4-4d5...|2023-07-11|{{-10.84, GBP}, [...|s3://heroes-dl-ra...|2023-07-26 09:52:43|2023-07-26 09:12:...|\n",
      "|       EU|OLIVER_JAMES|            UK|fb2d63a6-9fd4-4d5...|2023-07-11|{{-10.84, GBP}, [...|s3://heroes-dl-ra...|2023-07-26 09:52:43|2023-07-26 09:12:...|\n",
      "|       EU|OLIVER_JAMES|            UK|fb2d63a6-9fd4-4d5...|2023-07-11|{{-10.84, GBP}, [...|s3://heroes-dl-ra...|2023-07-26 09:52:43|2023-07-26 09:12:...|\n",
      "|       EU|OLIVER_JAMES|            UK|fb2d63a6-9fd4-4d5...|2023-07-11|{{-10.03, GBP}, [...|s3://heroes-dl-ra...|2023-07-26 09:52:43|2023-07-26 09:12:...|\n",
      "+---------+------------+--------------+--------------------+----------+--------------------+--------------------+-------------------+--------------------+\n",
      "only showing top 20 rows\n",
      "\n"
     ]
    },
    {
     "name": "stdout",
     "output_type": "stream",
     "text": [
      "23/07/31 14:23:32 WARN HeartbeatReceiver: Removing executor driver with no recent heartbeats: 670315 ms exceeds timeout 120000 ms\n",
      "23/07/31 14:23:32 WARN SparkContext: Killing executors is not supported by current scheduler.\n"
     ]
    }
   ],
   "source": [
    "(\n",
    "    df\n",
    "    .filter((F.col(\"report_id\") == \"fb2d63a6-9fd4-4d52-8191-bf3e677a2ed0\") & (F.col(\"posted_dt\") == \"2023-07-11\"))\n",
    "    ).show()"
   ]
  }
 ],
 "metadata": {
  "kernelspec": {
   "display_name": ".venv",
   "language": "python",
   "name": "python3"
  },
  "language_info": {
   "codemirror_mode": {
    "name": "ipython",
    "version": 3
   },
   "file_extension": ".py",
   "mimetype": "text/x-python",
   "name": "python",
   "nbconvert_exporter": "python",
   "pygments_lexer": "ipython3",
   "version": "3.10.12"
  },
  "orig_nbformat": 4
 },
 "nbformat": 4,
 "nbformat_minor": 2
}

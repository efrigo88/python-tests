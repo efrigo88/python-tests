{
 "cells": [
  {
   "cell_type": "markdown",
   "id": "1ca07505",
   "metadata": {},
   "source": [
    "# SP API Examples\n",
    "This notebook is an bare-bone example on how to query Amazon SP API.\n",
    "Useful for API exploration and debugging purposes."
   ]
  },
  {
   "cell_type": "code",
   "execution_count": 11,
   "id": "a8f135bf",
   "metadata": {},
   "outputs": [],
   "source": [
    "import boto3\n",
    "import requests\n",
    "import json\n",
    "import os\n",
    "import zlib\n",
    "import json\n",
    "import io\n",
    "from botocore.exceptions import ClientError"
   ]
  },
  {
   "cell_type": "markdown",
   "id": "9783815e",
   "metadata": {},
   "source": [
    "## Configuration"
   ]
  },
  {
   "cell_type": "code",
   "execution_count": 207,
   "id": "16e71640",
   "metadata": {},
   "outputs": [],
   "source": [
    "AWS_CRED_PROFILE_NAME = 'data-prod'\n",
    "AWS_SESSION_TOKEN = ''\n",
    "\n",
    "# config this\n",
    "account_name = \"onco_de\"\n",
    "account_region = \"DE\"\n",
    "marketplace_id = \"A1PA6795UKMFR9\" # developer-docs.amazon.com/sp-api/docs/marketplace-ids\n",
    "base_url = \"https://sellingpartnerapi-eu.amazon.com\"\n",
    "\n",
    "account_secret_key = \"prod/airbyte/sources/vc_api/\"+account_name"
   ]
  },
  {
   "cell_type": "code",
   "execution_count": 58,
   "id": "c86df984",
   "metadata": {},
   "outputs": [],
   "source": [
    "def get_secret_by_name(secret_name: str):\n",
    "    secret_str = _get_secret(secret_name)\n",
    "    return json.loads(secret_str)\n",
    "\n",
    "\n",
    "def _get_secret(secret_name: str, region_name: str = \"eu-west-1\"):\n",
    "    session = boto3.session.Session(profile_name=AWS_CRED_PROFILE_NAME)\n",
    "    client = session.client(service_name=\"secretsmanager\", region_name=region_name)\n",
    "\n",
    "    try:\n",
    "        get_secret_value_response = client.get_secret_value(SecretId=secret_name)\n",
    "    except ClientError as e:\n",
    "        raise e\n",
    "\n",
    "    return get_secret_value_response[\"SecretString\"]"
   ]
  },
  {
   "cell_type": "markdown",
   "id": "2dac2f1f",
   "metadata": {},
   "source": [
    "## Authentication"
   ]
  },
  {
   "cell_type": "code",
   "execution_count": 60,
   "id": "edfcc98b",
   "metadata": {},
   "outputs": [],
   "source": [
    "secret = get_secret_by_name(account_secret_key)"
   ]
  },
  {
   "cell_type": "code",
   "execution_count": null,
   "id": "939d1275",
   "metadata": {},
   "outputs": [],
   "source": [
    "secret"
   ]
  },
  {
   "cell_type": "code",
   "execution_count": 208,
   "id": "bb4538dd",
   "metadata": {},
   "outputs": [],
   "source": [
    "# Get access token\n",
    "url = \"https://api.amazon.com/auth/o2/token\"\n",
    "client_secret=secret[\"lwa_client_secret\"]\n",
    "refresh_token=secret[\"refresh_tokens\"][account_region]\n",
    "client_id = secret[\"lwa_app_id\"]\n",
    "\n",
    "payload=f'grant_type=refresh_token&refresh_token={refresh_token}&client_id={client_id}&client_secret={client_secret}'\n",
    "headers = {\n",
    "  'Content-Type': 'application/x-www-form-urlencoded'\n",
    "}\n",
    "\n",
    "response = requests.request(\"POST\", url, headers=headers, data=payload)\n",
    "access_token = response.json()[\"access_token\"]"
   ]
  },
  {
   "cell_type": "markdown",
   "id": "9b4d0192",
   "metadata": {},
   "source": [
    "## GET_VENDOR_INVENTORY_REPORT"
   ]
  },
  {
   "cell_type": "code",
   "execution_count": null,
   "id": "731bc92d",
   "metadata": {},
   "outputs": [],
   "source": [
    "# Create report\n",
    "data_start = \"2023-12-26T00:00:00Z\"\n",
    "data_end = \"2024-01-02T15:08:49Z\"\n",
    "reportType = \"GET_VENDOR_INVENTORY_REPORT\"\n",
    "url = f\"{base_url}/reports/2021-06-30/reports\"\n",
    "\n",
    "payload={\n",
    "    \"marketplaceIds\":[marketplace_id],\n",
    "    \"reportType\":reportType,\n",
    "    \"dataStartTime\": data_start,\n",
    "    \"dataEndTime\": data_end,\n",
    "    \"reportOptions\": {\n",
    "        \"reportPeriod\": \"DAY\", \n",
    "        \"distributorView\": \"SOURCING\", \n",
    "        \"sellingProgram\": \"RETAIL\"\n",
    "    }\n",
    "}\n",
    "\n",
    "headers = {\n",
    "  'Accept': 'application/json',\n",
    "  'x-amz-access-token': access_token,\n",
    "  'X-Amz-Security-Token': AWS_SESSION_TOKEN,\n",
    "  \"content-type\" : \"application/json; charset=utf-8\"\n",
    "}\n",
    "\n",
    "response = requests.request(\"POST\", url, headers=headers, data=json.dumps(payload))\n",
    "response.json()"
   ]
  },
  {
   "cell_type": "code",
   "execution_count": null,
   "id": "5323a39a",
   "metadata": {},
   "outputs": [],
   "source": [
    "## get the report status\n",
    "url = f\"{base_url}/reports/2021-06-30/reports/{response.json()['reportId']}\"\n",
    "\n",
    "headers = {\n",
    "  'Accept': 'application/json',\n",
    "  'x-amz-access-token': access_token,\n",
    "  'X-Amz-Security-Token': AWS_SESSION_TOKEN,\n",
    "  \"content-type\" : \"application/json; charset=utf-8\"\n",
    "}\n",
    "\n",
    "response = requests.request(\"get\", url, headers=headers)\n",
    "report = response.json()\n",
    "report"
   ]
  },
  {
   "cell_type": "code",
   "execution_count": 218,
   "id": "add261be",
   "metadata": {},
   "outputs": [],
   "source": [
    "## get the doc of the report\n",
    "report_doc_id = report[\"reportDocumentId\"]\n",
    "url = f\"{base_url}/reports/2021-06-30/documents/{report_doc_id}\"\n",
    "\n",
    "headers = {\n",
    "  'Accept': 'application/json',\n",
    "  'x-amz-access-token': access_token,\n",
    "  'X-Amz-Security-Token': AWS_SESSION_TOKEN,\n",
    "  \"content-type\" : \"application/json; charset=utf-8\"\n",
    "\n",
    "}\n",
    "\n",
    "response = requests.request(\"get\", url, headers=headers)"
   ]
  },
  {
   "cell_type": "code",
   "execution_count": null,
   "id": "82091bb3",
   "metadata": {},
   "outputs": [],
   "source": [
    "response.json()"
   ]
  },
  {
   "cell_type": "code",
   "execution_count": null,
   "id": "7af0f358",
   "metadata": {},
   "outputs": [],
   "source": [
    "response.json()\n",
    "\n",
    "url = response.json()[\"url\"]\n",
    "# print(url)\n",
    "# print()\n",
    "\n",
    "report = requests.get(url)\n",
    "decoded = zlib.decompress(bytearray(report.content), 15 + 32).decode(\"iso-8859-1\")\n",
    "\n",
    "data=json.loads(decoded)\n",
    "print(json.dumps(data))\n"
   ]
  },
  {
   "cell_type": "code",
   "execution_count": null,
   "id": "caf45025",
   "metadata": {},
   "outputs": [],
   "source": [
    "# url = response.json()[\"url\"]\n",
    "# url"
   ]
  },
  {
   "cell_type": "code",
   "execution_count": 134,
   "id": "2e8e0b71",
   "metadata": {},
   "outputs": [],
   "source": [
    "# report = requests.get(url)\n",
    "# decoded = zlib.decompress(bytearray(report.content), 15 + 32).decode(\"iso-8859-1\")"
   ]
  },
  {
   "cell_type": "code",
   "execution_count": null,
   "id": "cc2e27d9",
   "metadata": {},
   "outputs": [],
   "source": [
    "# data=json.loads(decoded)\n",
    "# json.dumps(data)"
   ]
  },
  {
   "cell_type": "code",
   "execution_count": 222,
   "id": "66fdfcc4",
   "metadata": {},
   "outputs": [],
   "source": [
    "with open(f'report_samples/{account_name}_{account_region}_{reportType}.json', 'w', encoding='utf-8') as f:\n",
    "    json.dump(data, f, ensure_ascii=False, indent=4)"
   ]
  }
 ],
 "metadata": {
  "kernelspec": {
   "display_name": "Python 3 (ipykernel)",
   "language": "python",
   "name": "python3"
  },
  "language_info": {
   "codemirror_mode": {
    "name": "ipython",
    "version": 3
   },
   "file_extension": ".py",
   "mimetype": "text/x-python",
   "name": "python",
   "nbconvert_exporter": "python",
   "pygments_lexer": "ipython3",
   "version": "3.10.13"
  }
 },
 "nbformat": 4,
 "nbformat_minor": 5
}

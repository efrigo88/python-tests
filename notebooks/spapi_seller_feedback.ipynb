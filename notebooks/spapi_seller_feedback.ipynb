{
 "cells": [
  {
   "cell_type": "markdown",
   "id": "1ca07505",
   "metadata": {},
   "source": [
    "# SP API Examples\n",
    "This notebook is an bare-bone example on how to query Amazon SP API.\n",
    "Useful for API exploration and debugging purposes."
   ]
  },
  {
   "cell_type": "code",
   "execution_count": 1,
   "id": "a8f135bf",
   "metadata": {},
   "outputs": [],
   "source": [
    "import boto3\n",
    "import requests\n",
    "import json\n",
    "import json\n",
    "import io\n",
    "import csv\n",
    "from botocore.exceptions import ClientError"
   ]
  },
  {
   "cell_type": "markdown",
   "id": "07e59f34",
   "metadata": {},
   "source": [
    "### Get aws_session_token from your credentials file"
   ]
  },
  {
   "cell_type": "code",
   "execution_count": null,
   "id": "3be72e8d",
   "metadata": {},
   "outputs": [],
   "source": [
    "import configparser\n",
    "\n",
    "file_path = \"/Users/emilianofrigo/.aws/credentials\"\n",
    "\n",
    "# Create a ConfigParser object\n",
    "config = configparser.ConfigParser()\n",
    "\n",
    "# Read the file\n",
    "config.read(file_path)\n",
    "\n",
    "# Access the value of aws_session_token inside the [data-prod] section\n",
    "aws_session_token = config.get('data-prod', 'aws_session_token')\n",
    "\n",
    "print(\"AWS Session Token:\", aws_sessidon_token)"
   ]
  },
  {
   "cell_type": "markdown",
   "id": "9783815e",
   "metadata": {},
   "source": [
    "## Configuration"
   ]
  },
  {
   "cell_type": "code",
   "execution_count": 3,
   "id": "16e71640",
   "metadata": {},
   "outputs": [],
   "source": [
    "AWS_CRED_PROFILE_NAME = 'data-prod'\n",
    "AWS_SESSION_TOKEN = aws_session_token\n",
    "\n",
    "# config this\n",
    "account_name = \"boba\"\n",
    "account_region = \"NA\"\n",
    "# marketplace_id = \"A1F83G8C2ARO7P\" # developer-docs.amazon.com/sp-api/docs/marketplace-ids -- UK\n",
    "marketplace_id = \"ATVPDKIKX0DER\" # developer-docs.amazon.com/sp-api/docs/marketplace-ids  -- US\n",
    "base_url = \"https://sellingpartnerapi-na.amazon.com/\"\n",
    "\n",
    "account_secret_key = \"prod/airbyte/sources/sp_api/\"+account_name"
   ]
  },
  {
   "cell_type": "markdown",
   "id": "2dac2f1f",
   "metadata": {},
   "source": [
    "## Authentication"
   ]
  },
  {
   "cell_type": "code",
   "execution_count": 4,
   "id": "bc3a6b85",
   "metadata": {},
   "outputs": [],
   "source": [
    "def get_secret_by_name(secret_name: str):\n",
    "    secret_str = _get_secret(secret_name)\n",
    "    return json.loads(secret_str)\n",
    "\n",
    "\n",
    "def _get_secret(secret_name: str, region_name: str = \"eu-west-1\"):\n",
    "    session = boto3.session.Session(profile_name=AWS_CRED_PROFILE_NAME)\n",
    "    client = session.client(service_name=\"secretsmanager\", region_name=region_name)\n",
    "\n",
    "    try:\n",
    "        get_secret_value_response = client.get_secret_value(SecretId=secret_name)\n",
    "    except ClientError as e:\n",
    "        raise e\n",
    "\n",
    "    return get_secret_value_response[\"SecretString\"]"
   ]
  },
  {
   "cell_type": "code",
   "execution_count": null,
   "id": "8f470b4f",
   "metadata": {},
   "outputs": [],
   "source": [
    "secret = get_secret_by_name(account_secret_key)\n",
    "secret"
   ]
  },
  {
   "cell_type": "code",
   "execution_count": 6,
   "id": "bb4538dd",
   "metadata": {},
   "outputs": [],
   "source": [
    "# Get access token\n",
    "url = \"https://api.amazon.com/auth/o2/token\"\n",
    "client_secret=secret[\"lwa_client_secret\"]\n",
    "refresh_token=secret[\"refresh_tokens\"][account_region]\n",
    "client_id = secret[\"lwa_app_id\"]\n",
    "\n",
    "payload=f'grant_type=refresh_token&refresh_token={refresh_token}&client_id={client_id}&client_secret={client_secret}'\n",
    "headers = {\n",
    "  'Content-Type': 'application/x-www-form-urlencoded'\n",
    "}\n",
    "\n",
    "response = requests.request(\"POST\", url, headers=headers, data=payload)\n",
    "access_token = response.json()[\"access_token\"]"
   ]
  },
  {
   "cell_type": "markdown",
   "id": "9b4d0192",
   "metadata": {},
   "source": [
    "## GET_SELLER_FEEDBACK_DATA"
   ]
  },
  {
   "cell_type": "code",
   "execution_count": null,
   "id": "731bc92d",
   "metadata": {},
   "outputs": [],
   "source": [
    "# Create report\n",
    "reportType = \"GET_SELLER_FEEDBACK_DATA\"\n",
    "url = f\"{base_url}reports/2021-06-30/reports\"\n",
    "\n",
    "payload={\n",
    "    \"marketplaceIds\":[marketplace_id],\n",
    "    \"reportType\":reportType,\n",
    "    \"reportOptions\":{}\n",
    "}\n",
    "\n",
    "headers = {\n",
    "  'Accept': 'application/json',\n",
    "  'x-amz-access-token': access_token,\n",
    "  'X-Amz-Security-Token': AWS_SESSION_TOKEN,\n",
    "  \"content-type\" : \"application/json; charset=utf-8\"\n",
    "}\n",
    "\n",
    "response = requests.request(\"POST\", url, headers=headers, data=json.dumps(payload))\n",
    "\n",
    "try:\n",
    "  report_id = response.json()['reportId']\n",
    "except KeyError as e:\n",
    "  print(f\"error: {e}\")\n",
    "\n",
    "response.json()"
   ]
  },
  {
   "cell_type": "code",
   "execution_count": 54,
   "id": "ac3fe90b",
   "metadata": {},
   "outputs": [],
   "source": [
    "# Or set report id manually (see below for report request history)\n",
    "# report_id = 3000121019934"
   ]
  },
  {
   "cell_type": "code",
   "execution_count": null,
   "id": "5323a39a",
   "metadata": {},
   "outputs": [],
   "source": [
    "## get the report using the report_id\n",
    "url = f\"{base_url}/reports/2021-06-30/reports/{report_id}\"\n",
    "\n",
    "headers = {\n",
    "  'Accept': 'application/json',\n",
    "  'x-amz-access-token': access_token,\n",
    "  'X-Amz-Security-Token': AWS_SESSION_TOKEN,\n",
    "  \"content-type\" : \"application/json; charset=utf-8\"\n",
    "}\n",
    "\n",
    "response = requests.request(\"get\", url, headers=headers)\n",
    "report = response.json()\n",
    "report"
   ]
  },
  {
   "cell_type": "code",
   "execution_count": null,
   "id": "704c57e8",
   "metadata": {},
   "outputs": [],
   "source": [
    "response.headers"
   ]
  },
  {
   "cell_type": "markdown",
   "id": "11bd2820",
   "metadata": {},
   "source": [
    "## Get requested reports history (simple request)"
   ]
  },
  {
   "cell_type": "code",
   "execution_count": null,
   "id": "63fd0646",
   "metadata": {},
   "outputs": [],
   "source": [
    "url = f\"{base_url}/reports/2021-06-30/reports\"\n",
    "\n",
    "headers = {\n",
    "  'Accept': 'application/json',\n",
    "  'x-amz-access-token': access_token,\n",
    "  'X-Amz-Security-Token': AWS_SESSION_TOKEN,\n",
    "  \"content-type\" : \"application/json; charset=utf-8\"\n",
    "}\n",
    "\n",
    "payload = {\n",
    "    'reportTypes': ['GET_SELLER_FEEDBACK_DATA'],\n",
    "}\n",
    "\n",
    "response = requests.request(\"get\", url, headers=headers, params=payload)\n",
    "response.json()\n"
   ]
  },
  {
   "cell_type": "markdown",
   "id": "3414013b",
   "metadata": {},
   "source": [
    "## Get requested reports history (full tokenized response)"
   ]
  },
  {
   "cell_type": "code",
   "execution_count": null,
   "id": "5a5da5e6",
   "metadata": {},
   "outputs": [],
   "source": [
    "def fetch_reports(url, headers, params):\n",
    "    all_reports = []\n",
    "    next_token = None\n",
    "\n",
    "    while True:\n",
    "        request_params = params.copy()\n",
    "        if next_token:\n",
    "            request_params = {'nextToken': next_token}  # Only include nextToken if present\n",
    "        \n",
    "        response = requests.get(url, headers=headers, params=request_params)\n",
    "        \n",
    "        data = response.json()\n",
    "        \n",
    "        reports = data.get('reports', [])\n",
    "        \n",
    "        all_reports.extend(reports)\n",
    "        \n",
    "        # Check for the nextToken\n",
    "        next_token = data.get('nextToken')\n",
    "        \n",
    "        if not next_token:\n",
    "            break  # No more pages, exit the loop\n",
    "\n",
    "    return all_reports\n",
    "\n",
    "\n",
    "# Initial parameters for the request\n",
    "url = f\"{base_url}/reports/2021-06-30/reports\"\n",
    "\n",
    "headers = {\n",
    "    'Accept': 'application/json',\n",
    "    'x-amz-access-token': access_token,\n",
    "    'X-Amz-Security-Token': AWS_SESSION_TOKEN,\n",
    "    'Content-Type': 'application/json; charset=utf-8'\n",
    "}\n",
    "\n",
    "initial_params = {\n",
    "    'reportTypes': 'GET_SELLER_FEEDBACK_DATA'\n",
    "}\n",
    "\n",
    "# Fetch all reports\n",
    "all_reports = fetch_reports(url, headers, initial_params)\n",
    "\n",
    "print(f\"Total number of elements in response: {len(all_reports)}\")\n",
    "\n",
    "# Uncomment to check the whole response\n",
    "# print(json.dumps(all_reports, indent=2))\n",
    "\n",
    "#  Filter relevant marketplace\n",
    "marketplace_reports = [report for report in all_reports if marketplace_id in report['marketplaceIds']]\n",
    "\n",
    "print(f\"Reports for current marketplace: '{marketplace_id}': {len(marketplace_reports)}\")\n",
    "print(json.dumps(marketplace_reports, indent=2))\n"
   ]
  },
  {
   "cell_type": "markdown",
   "id": "22043edc",
   "metadata": {},
   "source": [
    "### Filter last DONE report"
   ]
  },
  {
   "cell_type": "code",
   "execution_count": null,
   "id": "f5417b6c",
   "metadata": {},
   "outputs": [],
   "source": [
    "done_reports = [report for report in all_reports if report['processingStatus'] == 'DONE' and marketplace_id in report['marketplaceIds']]\n",
    "\n",
    "print(f\"Filtered DONE elements for marketplace '{marketplace_id}'. Total DONE elements in response: {len(done_reports)}\")\n",
    "print(json.dumps(done_reports[:1], indent=2))"
   ]
  },
  {
   "cell_type": "markdown",
   "id": "b3de1828",
   "metadata": {},
   "source": [
    "## Get document of the Report"
   ]
  },
  {
   "cell_type": "code",
   "execution_count": 16,
   "id": "add261be",
   "metadata": {},
   "outputs": [],
   "source": [
    "# copy reportDocumentId from DONE report\n",
    "report_doc_id = \"amzn1.spdoc.1.4.na.fbed5ffe-2c7f-4931-9d0c-2308ae76e3a7.T1EQWNPFMZIIYZ.3001\"\n",
    "url = f\"{base_url}/reports/2021-06-30/documents/{report_doc_id}\"\n",
    "\n",
    "headers = {\n",
    "  'Accept': 'application/json',\n",
    "  'x-amz-access-token': access_token,\n",
    "  'X-Amz-Security-Token': AWS_SESSION_TOKEN,\n",
    "  \"content-type\" : \"application/json; charset=utf-8\"\n",
    "\n",
    "}\n",
    "\n",
    "response = requests.request(\"get\", url, headers=headers)"
   ]
  },
  {
   "cell_type": "code",
   "execution_count": null,
   "id": "7af0f358",
   "metadata": {},
   "outputs": [],
   "source": [
    "# UNCOMMENT FOR DEBUG INFO\n",
    "# response.headers"
   ]
  },
  {
   "cell_type": "code",
   "execution_count": null,
   "id": "13d07e47",
   "metadata": {},
   "outputs": [],
   "source": [
    "response.json()"
   ]
  },
  {
   "cell_type": "code",
   "execution_count": null,
   "id": "caf45025",
   "metadata": {},
   "outputs": [],
   "source": [
    "url = response.json()[\"url\"]\n",
    "url"
   ]
  },
  {
   "cell_type": "code",
   "execution_count": null,
   "id": "e0c1f1e3",
   "metadata": {},
   "outputs": [],
   "source": [
    "report = requests.get(url)\n",
    "report.content"
   ]
  },
  {
   "cell_type": "code",
   "execution_count": null,
   "id": "0cd0fb0f",
   "metadata": {},
   "outputs": [],
   "source": [
    "f = io.StringIO(report.content.decode())\n",
    "json_data = [d for d in csv.DictReader(f, delimiter='\\t')]\n",
    "json_data\n",
    "\n",
    "# Specify the path where you want to save the JSON file\n",
    "file_path = f\"report_samples/{account_name}_{account_region}_{reportType}.json\"\n",
    "\n",
    "# Write the JSON data to the specified file\n",
    "with open(file_path, 'w', encoding='utf-8') as json_file:\n",
    "    json.dump(json_data, json_file, indent=4)\n",
    "\n",
    "print(f\"JSON data has been written to {file_path}\")"
   ]
  }
 ],
 "metadata": {
  "kernelspec": {
   "display_name": "Python 3 (ipykernel)",
   "language": "python",
   "name": "python3"
  },
  "language_info": {
   "codemirror_mode": {
    "name": "ipython",
    "version": 3
   },
   "file_extension": ".py",
   "mimetype": "text/x-python",
   "name": "python",
   "nbconvert_exporter": "python",
   "pygments_lexer": "ipython3",
   "version": "3.10.14"
  }
 },
 "nbformat": 4,
 "nbformat_minor": 5
}

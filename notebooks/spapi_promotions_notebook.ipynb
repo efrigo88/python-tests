{
 "cells": [
  {
   "cell_type": "markdown",
   "id": "1ca07505",
   "metadata": {},
   "source": [
    "# SP API Examples\n",
    "This notebook is an bare-bone example on how to query Amazon SP API.\n",
    "Useful for API exploration and debugging purposes."
   ]
  },
  {
   "cell_type": "code",
   "execution_count": 1,
   "id": "a8f135bf",
   "metadata": {},
   "outputs": [],
   "source": [
    "import boto3\n",
    "import requests\n",
    "import json\n",
    "import os\n",
    "import zlib\n",
    "import json\n",
    "import io"
   ]
  },
  {
   "cell_type": "markdown",
   "id": "9783815e",
   "metadata": {},
   "source": [
    "## Configuration"
   ]
  },
  {
   "cell_type": "code",
   "execution_count": 71,
   "id": "16e71640",
   "metadata": {},
   "outputs": [],
   "source": [
    "aws_access_key_id = \"your_access_key\"\n",
    "aws_secret_access_key = \"your_secret_key\"\n",
    "\n",
    "# config this\n",
    "account_name = \"kg_physio\"\n",
    "account_region = \"EU\"\n",
    "marketplace_id = \"A1F83G8C2ARO7P\" # developer-docs.amazon.com/sp-api/docs/marketplace-ids\n",
    "base_url = \"https://sellingpartnerapi-eu.amazon.com\"\n",
    "\n",
    "account_secret_key = \"prod/airbyte/sources/sp_api/\"+account_name"
   ]
  },
  {
   "cell_type": "markdown",
   "id": "2dac2f1f",
   "metadata": {},
   "source": [
    "## Authentication"
   ]
  },
  {
   "cell_type": "code",
   "execution_count": 72,
   "id": "bc3a6b85",
   "metadata": {},
   "outputs": [],
   "source": [
    "# account credentials (eg: trunki)\n",
    "def get_secret(key, region_name='eu-west-1'):\n",
    "    client = boto3.client('secretsmanager', region_name=region_name)\n",
    "    secret = client.get_secret_value(SecretId=key)\n",
    "    return json.loads(secret[\"SecretString\"])\n",
    "\n",
    "secret = get_secret(account_secret_key)"
   ]
  },
  {
   "cell_type": "code",
   "execution_count": 73,
   "id": "5637a756",
   "metadata": {},
   "outputs": [],
   "source": [
    "# session credentials\n",
    "def get_session_credentials():\n",
    "    session = boto3.Session(\n",
    "        aws_access_key_id=aws_access_key_id,\n",
    "        aws_secret_access_key=aws_secret_access_key,\n",
    "    )\n",
    "    sts = session.client(\"sts\")\n",
    "    token = sts.get_session_token()\n",
    "    return token[\"Credentials\"]\n",
    "\n",
    "credentials = get_session_credentials()"
   ]
  },
  {
   "cell_type": "code",
   "execution_count": 74,
   "id": "bb4538dd",
   "metadata": {},
   "outputs": [],
   "source": [
    "# Get access token\n",
    "url = \"https://api.amazon.com/auth/o2/token\"\n",
    "client_secret=secret[\"lwa_client_secret\"]\n",
    "refresh_token=secret[\"refresh_tokens\"][account_region]\n",
    "client_id = secret[\"lwa_app_id\"]\n",
    "\n",
    "payload=f'grant_type=refresh_token&refresh_token={refresh_token}&client_id={client_id}&client_secret={client_secret}'\n",
    "headers = {\n",
    "  'Content-Type': 'application/x-www-form-urlencoded'\n",
    "}\n",
    "\n",
    "response = requests.request(\"POST\", url, headers=headers, data=payload)\n",
    "access_token = response.json()[\"access_token\"]"
   ]
  },
  {
   "cell_type": "markdown",
   "id": "9b4d0192",
   "metadata": {},
   "source": [
    "## GET_PROMOTION_PERFORMANCE_REPORT"
   ]
  },
  {
   "cell_type": "code",
   "execution_count": null,
   "id": "731bc92d",
   "metadata": {},
   "outputs": [],
   "source": [
    "# Create report\n",
    "data_start = \"2023-01-01T00:00:00Z\"\n",
    "data_end = \"2023-08-31T23:59:59Z\"\n",
    "reportType = \"GET_PROMOTION_PERFORMANCE_REPORT\"\n",
    "url = f\"{base_url}/reports/2021-06-30/reports\"\n",
    "\n",
    "payload={\n",
    "    \"marketplaceIds\":[marketplace_id],\n",
    "    \"reportType\":reportType,\n",
    "    \"reportOptions\":{\n",
    "        \"promotionStartDateFrom\": data_start,\n",
    "        \"promotionStartDateTo\": data_end\n",
    "    }\n",
    "}\n",
    "\n",
    "headers = {\n",
    "  'Accept': 'application/json',\n",
    "  'x-amz-access-token': access_token,\n",
    "  'X-Amz-Security-Token': credentials[\"SessionToken\"],\n",
    "  \"content-type\" : \"application/json; charset=utf-8\"\n",
    "}\n",
    "\n",
    "response = requests.request(\"POST\", url, headers=headers, data=json.dumps(payload))\n",
    "response.json()"
   ]
  },
  {
   "cell_type": "code",
   "execution_count": null,
   "id": "5323a39a",
   "metadata": {},
   "outputs": [],
   "source": [
    "## get the report\n",
    "url = f\"{base_url}/reports/2021-06-30/reports/{response.json()['reportId']}\"\n",
    "\n",
    "headers = {\n",
    "  'Accept': 'application/json',\n",
    "  'x-amz-access-token': access_token,\n",
    "  'X-Amz-Security-Token': credentials[\"SessionToken\"],\n",
    "  \"content-type\" : \"application/json; charset=utf-8\"\n",
    "}\n",
    "\n",
    "response = requests.request(\"get\", url, headers=headers)\n",
    "report = response.json()\n",
    "report"
   ]
  },
  {
   "cell_type": "code",
   "execution_count": 62,
   "id": "add261be",
   "metadata": {},
   "outputs": [],
   "source": [
    "## get the doc of the report\n",
    "report_doc_id = report[\"reportDocumentId\"]\n",
    "url = f\"{base_url}/reports/2021-06-30/documents/{report_doc_id}\"\n",
    "\n",
    "headers = {\n",
    "  'Accept': 'application/json',\n",
    "  'x-amz-access-token': access_token,\n",
    "  'X-Amz-Security-Token': credentials[\"SessionToken\"],\n",
    "  \"content-type\" : \"application/json; charset=utf-8\"\n",
    "\n",
    "}\n",
    "\n",
    "response = requests.request(\"get\", url, headers=headers)"
   ]
  },
  {
   "cell_type": "code",
   "execution_count": null,
   "id": "7af0f358",
   "metadata": {},
   "outputs": [],
   "source": [
    "response.json()"
   ]
  },
  {
   "cell_type": "code",
   "execution_count": null,
   "id": "caf45025",
   "metadata": {},
   "outputs": [],
   "source": [
    "url = response.json()[\"url\"]\n",
    "url"
   ]
  },
  {
   "cell_type": "code",
   "execution_count": 65,
   "id": "2e8e0b71",
   "metadata": {},
   "outputs": [],
   "source": [
    "report = requests.get(url)\n",
    "decoded = zlib.decompress(bytearray(report.content), 15 + 32).decode(\"iso-8859-1\")"
   ]
  },
  {
   "cell_type": "code",
   "execution_count": null,
   "id": "cc2e27d9",
   "metadata": {},
   "outputs": [],
   "source": [
    "data=json.loads(decoded)\n",
    "json.dumps(data)"
   ]
  },
  {
   "cell_type": "code",
   "execution_count": 67,
   "id": "66fdfcc4",
   "metadata": {},
   "outputs": [],
   "source": [
    "with open(f'report_samples/{account_name}_{account_region}_{reportType}.json', 'w', encoding='utf-8') as f:\n",
    "    json.dump(data, f, ensure_ascii=False, indent=4)"
   ]
  },
  {
   "cell_type": "markdown",
   "id": "cb28a37d",
   "metadata": {},
   "source": [
    "## GET_COUPON_PERFORMANCE_REPORT"
   ]
  },
  {
   "cell_type": "code",
   "execution_count": null,
   "id": "ea987661",
   "metadata": {},
   "outputs": [],
   "source": [
    "# Create report\n",
    "data_start = \"2023-01-01T00:00:00Z\"\n",
    "data_end = \"2023-08-31T23:59:59Z\"\n",
    "reportType = \"GET_COUPON_PERFORMANCE_REPORT\"\n",
    "# config this url!\n",
    "url = f\"{base_url}/reports/2021-06-30/reports\"\n",
    "\n",
    "payload={\n",
    "    \"marketplaceIds\":[marketplace_id],\n",
    "    \"reportType\":reportType,\n",
    "    \"reportOptions\": {\n",
    "        \"couponStartDateFrom\": data_start,\n",
    "        \"couponStartDateTo\": data_end\n",
    "    }\n",
    "}\n",
    "\n",
    "headers = {\n",
    "  'Accept': 'application/json',\n",
    "  'x-amz-access-token': access_token,\n",
    "  'X-Amz-Security-Token': credentials[\"SessionToken\"],\n",
    "  \"content-type\" : \"application/json; charset=utf-8\"\n",
    "}\n",
    "\n",
    "response = requests.request(\"POST\", url, headers=headers, data=json.dumps(payload))\n",
    "response.json()"
   ]
  },
  {
   "cell_type": "code",
   "execution_count": null,
   "id": "dd61039b",
   "metadata": {},
   "outputs": [],
   "source": [
    "## get the report\n",
    "# config this url!\n",
    "url = f\"{base_url}/reports/2021-06-30/reports/{response.json()['reportId']}\"\n",
    "\n",
    "headers = {\n",
    "  'Accept': 'application/json',\n",
    "  'x-amz-access-token': access_token,\n",
    "  'X-Amz-Security-Token': credentials[\"SessionToken\"],\n",
    "  \"content-type\" : \"application/json; charset=utf-8\"\n",
    "}\n",
    "\n",
    "response = requests.request(\"get\", url, headers=headers)\n",
    "report = response.json()\n",
    "report"
   ]
  },
  {
   "cell_type": "code",
   "execution_count": 49,
   "id": "26c0139c",
   "metadata": {},
   "outputs": [],
   "source": [
    "## get the doc of the report\n",
    "report_doc_id = report[\"reportDocumentId\"]\n",
    "url = f\"{base_url}/reports/2021-06-30/documents/{report_doc_id}\"\n",
    "\n",
    "headers = {\n",
    "  'Accept': 'application/json',\n",
    "  'x-amz-access-token': access_token,\n",
    "  'X-Amz-Security-Token': credentials[\"SessionToken\"],\n",
    "  \"content-type\" : \"application/json; charset=utf-8\"\n",
    "\n",
    "}\n",
    "\n",
    "\n",
    "response = requests.request(\"get\", url, headers=headers)"
   ]
  },
  {
   "cell_type": "code",
   "execution_count": null,
   "id": "023813be",
   "metadata": {},
   "outputs": [],
   "source": [
    "response.json()"
   ]
  },
  {
   "cell_type": "code",
   "execution_count": null,
   "id": "cc95a56b",
   "metadata": {},
   "outputs": [],
   "source": [
    "url = response.json()[\"url\"]\n",
    "url"
   ]
  },
  {
   "cell_type": "code",
   "execution_count": 52,
   "id": "3294fdb5",
   "metadata": {},
   "outputs": [],
   "source": [
    "report = requests.get(url)\n",
    "decoded = zlib.decompress(bytearray(report.content), 15 + 32).decode(\"iso-8859-1\")"
   ]
  },
  {
   "cell_type": "code",
   "execution_count": null,
   "id": "cdbb0f8c",
   "metadata": {},
   "outputs": [],
   "source": [
    "data=json.loads(decoded)\n",
    "json.dumps(data)"
   ]
  },
  {
   "cell_type": "code",
   "execution_count": 54,
   "id": "523b6198",
   "metadata": {},
   "outputs": [],
   "source": [
    "with open(f'report_samples/{account_name}_{account_region}_{reportType}.json', 'w', encoding='utf-8') as f:\n",
    "    json.dump(data, f, ensure_ascii=False, indent=4)"
   ]
  },
  {
   "cell_type": "code",
   "execution_count": null,
   "id": "4d32a53c",
   "metadata": {},
   "outputs": [],
   "source": []
  }
 ],
 "metadata": {
  "kernelspec": {
   "display_name": "Python 3 (ipykernel)",
   "language": "python",
   "name": "python3"
  },
  "language_info": {
   "codemirror_mode": {
    "name": "ipython",
    "version": 3
   },
   "file_extension": ".py",
   "mimetype": "text/x-python",
   "name": "python",
   "nbconvert_exporter": "python",
   "pygments_lexer": "ipython3",
   "version": "3.10.5"
  }
 },
 "nbformat": 4,
 "nbformat_minor": 5
}

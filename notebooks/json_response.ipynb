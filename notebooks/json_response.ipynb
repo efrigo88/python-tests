{
 "cells": [
  {
   "cell_type": "code",
   "execution_count": 2,
   "metadata": {},
   "outputs": [],
   "source": [
    "import json"
   ]
  },
  {
   "cell_type": "code",
   "execution_count": 6,
   "metadata": {},
   "outputs": [],
   "source": [
    "test_json = {'reports': [\n",
    "    {'reportType': 'GET_SELLER_FEEDBACK_DATA',\n",
    "   'processingEndTime': '2024-08-27T07:57:05+00:00',\n",
    "   'processingStatus': 'CANCELLED',\n",
    "   'marketplaceIds': ['A1F83G8C2ARO7P'],\n",
    "   'reportId': '1007465019962',\n",
    "   'dataEndTime': '2024-08-27T07:56:52+00:00',\n",
    "   'createdTime': '2024-08-27T07:56:52+00:00',\n",
    "   'processingStartTime': '2024-08-27T07:56:58+00:00',\n",
    "   'dataStartTime': '2024-08-27T07:56:52+00:00'},\n",
    "  {'reportType': 'GET_SELLER_FEEDBACK_DATA',\n",
    "   'processingEndTime': '2024-08-27T00:13:08+00:00',\n",
    "   'processingStatus': 'DONE',\n",
    "   'marketplaceIds': ['A1F83G8C2ARO7P',\n",
    "    'A1PA6795UKMFR9',\n",
    "    'A13V1IB3VIYZZH',\n",
    "    'APJ6JRA9NG5V4',\n",
    "    'A1RKKUPIHCS9HS',\n",
    "    'A1805IZSGTT6HS',\n",
    "    'A33AVAJ2PDY3EV',\n",
    "    'AMEN7PMS3EDWL',\n",
    "    'A2NODRKZP88ZB9',\n",
    "    'A1C3SOZRARQ6R3'],\n",
    "   'reportDocumentId': 'amzn1.spdoc.1.4.eu.346e108b-0a5f-4ccb-8b5d-7f3a9befede2.T7OJYBS4DK8SM.3001',\n",
    "   'reportId': '1007123019962',\n",
    "   'dataEndTime': '2024-08-27T00:12:49+00:00',\n",
    "   'createdTime': '2024-08-27T00:12:50+00:00',\n",
    "   'processingStartTime': '2024-08-27T00:12:57+00:00',\n",
    "   'dataStartTime': '2024-08-20T00:00:00+00:00'},\n",
    "  {'reportType': 'GET_SELLER_FEEDBACK_DATA',\n",
    "   'processingEndTime': '2024-08-26T23:28:44+00:00',\n",
    "   'processingStatus': 'CANCELLED',\n",
    "   'marketplaceIds': ['A1PA6795UKMFR9'],\n",
    "   'reportId': '1007083019961',\n",
    "   'dataEndTime': '2024-08-26T00:00:00+00:00',\n",
    "   'createdTime': '2024-08-26T23:28:31+00:00',\n",
    "   'processingStartTime': '2024-08-26T23:28:37+00:00',\n",
    "   'dataStartTime': '2024-08-26T00:00:00+00:00'},\n",
    "  {'reportType': 'GET_SELLER_FEEDBACK_DATA',\n",
    "   'processingEndTime': '2024-08-26T22:56:42+00:00',\n",
    "   'processingStatus': 'CANCELLED',\n",
    "   'marketplaceIds': ['A1RKKUPIHCS9HS'],\n",
    "   'reportId': '1007039019961',\n",
    "   'dataEndTime': '2024-08-26T00:00:00+00:00',\n",
    "   'createdTime': '2024-08-26T22:56:28+00:00',\n",
    "   'processingStartTime': '2024-08-26T22:56:34+00:00',\n",
    "   'dataStartTime': '2024-08-26T00:00:00+00:00'}],\n",
    " 'nextToken': '8BXkfEoTV6KudbTFBpV5dpGj5b3tEtak6JRozgJWUDeBpGW6YxXRyQZT3Cv7tv1TiBzC0dGe8TJpW1/Bf8C0s0t3gXD6h2v+vJ499zd4wZY0/3le37CE1FnEg9gy9sh3KJwcgEV3oM4WKiFt9s2oVFCxfln8qxmLYfbedC8aawzUU1BnvLGSkpPqvVS9fquQk+r5gY3LKX/thhfBGj6DwielO33ZnllJ25news0zC1wUuXBaagNOv7LttJtN3JG62o9ZdUasjXfiFaRFJOwbJXP7cfANFJatNEZlqVLM+i2iB4M3GqW2VzzBuIzaoIZ546q+vRpXfDGv/DChWTczz6chL00yG1oJ+QsUQMUb+bFIl2ofrEI11OXezkDq4eu2PDgmGACse8lEN2D3gc6EM07hVlN0Uy9U0b7YPezzE/BLULfRcoixOqkTxY+Yr37rKMMc32Fahm8nzBWs8Or8K2eUigUqNzs/OPTJCK97XNcLfgPjwb999WN3Xn1GEXt52kBDBrS6/kxJmqO+Cue5FqzUCiudC92HyTSsA5hQBWnUmbNLCjnvSr3TNlAL8s2p4yG9/jmgIQs4abXMKMC6usvvB/5lP44BatWKmkJ5maJYqa61QwMnuiP0LV4vqnYLT9h5eqsK9cFjvu8RLctaqnF/X2YVu8wx8Se4RaNHG6H+GXaVh7qDsw=='}"
   ]
  },
  {
   "cell_type": "code",
   "execution_count": null,
   "metadata": {},
   "outputs": [],
   "source": [
    "test_json"
   ]
  },
  {
   "cell_type": "code",
   "execution_count": 4,
   "metadata": {},
   "outputs": [],
   "source": [
    "marketplace_id = \"A1F83G8C2ARO7P\""
   ]
  },
  {
   "cell_type": "code",
   "execution_count": 12,
   "metadata": {},
   "outputs": [
    {
     "name": "stdout",
     "output_type": "stream",
     "text": [
      "Filtered last DONE element for marketplace 'A1F83G8C2ARO7P'\n",
      "[\n",
      "  {\n",
      "    \"reportType\": \"GET_SELLER_FEEDBACK_DATA\",\n",
      "    \"processingEndTime\": \"2024-08-27T00:13:08+00:00\",\n",
      "    \"processingStatus\": \"DONE\",\n",
      "    \"marketplaceIds\": [\n",
      "      \"A1F83G8C2ARO7P\",\n",
      "      \"A1PA6795UKMFR9\",\n",
      "      \"A13V1IB3VIYZZH\",\n",
      "      \"APJ6JRA9NG5V4\",\n",
      "      \"A1RKKUPIHCS9HS\",\n",
      "      \"A1805IZSGTT6HS\",\n",
      "      \"A33AVAJ2PDY3EV\",\n",
      "      \"AMEN7PMS3EDWL\",\n",
      "      \"A2NODRKZP88ZB9\",\n",
      "      \"A1C3SOZRARQ6R3\"\n",
      "    ],\n",
      "    \"reportDocumentId\": \"amzn1.spdoc.1.4.eu.346e108b-0a5f-4ccb-8b5d-7f3a9befede2.T7OJYBS4DK8SM.3001\",\n",
      "    \"reportId\": \"1007123019962\",\n",
      "    \"dataEndTime\": \"2024-08-27T00:12:49+00:00\",\n",
      "    \"createdTime\": \"2024-08-27T00:12:50+00:00\",\n",
      "    \"processingStartTime\": \"2024-08-27T00:12:57+00:00\",\n",
      "    \"dataStartTime\": \"2024-08-20T00:00:00+00:00\"\n",
      "  }\n",
      "]\n",
      "amzn1.spdoc.1.4.eu.346e108b-0a5f-4ccb-8b5d-7f3a9befede2.T7OJYBS4DK8SM.3001\n"
     ]
    }
   ],
   "source": [
    "done_report = [\n",
    "    report for report in test_json['reports']\n",
    "    if report['processingStatus'] == 'DONE' and marketplace_id in report['marketplaceIds']\n",
    "][:1]\n",
    "\n",
    "print(f\"Filtered last DONE element for marketplace '{marketplace_id}'\")\n",
    "print(json.dumps(done_report, indent=2))\n",
    "\n",
    "report_document_id = done_report[0].get('reportDocumentId', 'No reportDocumentId found')\n",
    "print(report_document_id)"
   ]
  },
  {
   "cell_type": "code",
   "execution_count": null,
   "metadata": {},
   "outputs": [],
   "source": []
  },
  {
   "cell_type": "code",
   "execution_count": null,
   "metadata": {},
   "outputs": [],
   "source": []
  },
  {
   "cell_type": "code",
   "execution_count": null,
   "metadata": {},
   "outputs": [],
   "source": []
  }
 ],
 "metadata": {
  "kernelspec": {
   "display_name": ".venv",
   "language": "python",
   "name": "python3"
  },
  "language_info": {
   "codemirror_mode": {
    "name": "ipython",
    "version": 3
   },
   "file_extension": ".py",
   "mimetype": "text/x-python",
   "name": "python",
   "nbconvert_exporter": "python",
   "pygments_lexer": "ipython3",
   "version": "3.10.14"
  }
 },
 "nbformat": 4,
 "nbformat_minor": 2
}

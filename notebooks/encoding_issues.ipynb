{
 "cells": [
  {
   "cell_type": "code",
   "execution_count": 1,
   "metadata": {},
   "outputs": [],
   "source": [
    "var = \"Doesn\\u00e2\\u0080\\u0099t really do the job\""
   ]
  },
  {
   "cell_type": "code",
   "execution_count": null,
   "metadata": {},
   "outputs": [],
   "source": []
  },
  {
   "cell_type": "code",
   "execution_count": 2,
   "metadata": {},
   "outputs": [
    {
     "name": "stdout",
     "output_type": "stream",
     "text": [
      "Doesnât really do the job\n"
     ]
    }
   ],
   "source": [
    "print(var)"
   ]
  },
  {
   "cell_type": "code",
   "execution_count": 30,
   "metadata": {},
   "outputs": [],
   "source": [
    "import csv\n",
    "from io import StringIO\n",
    "from typing import Generator, Dict, Any\n",
    "\n",
    "def decode_latin1_to_utf8(text: str) -> str:\n",
    "    \"\"\"\n",
    "    Decode a string from Latin-1 (ISO-8859-1) to UTF-8.\n",
    "    \n",
    "    Args:\n",
    "        text (str): The misencoded text.\n",
    "    \n",
    "    Returns:\n",
    "        str: The corrected UTF-8 string.\n",
    "    \"\"\"\n",
    "    # Convert the misencoded string back to bytes\n",
    "    byte_string = text.encode('latin1')\n",
    "    # Decode it properly into UTF-8\n",
    "    return byte_string.decode('utf-8')\n",
    "\n",
    "def parse_document(document: str) -> Generator[Dict[str, Any], None, None]:\n",
    "    \"\"\"\n",
    "    Parse a TSV document and yield the parsed rows as dictionaries.\n",
    "\n",
    "    Args:\n",
    "        document (str): A TSV-formatted string.\n",
    "\n",
    "    Yields:\n",
    "        Dict[str, Any]: The parsed rows as dictionaries with column headers as keys.\n",
    "    \"\"\"\n",
    "    # Debug output\n",
    "    print(f\"Raw document: {document}\")\n",
    "\n",
    "    if not document:\n",
    "        print(\"Document is empty or None\")\n",
    "        return\n",
    "\n",
    "    # Correct the encoding of the document\n",
    "    corrected_document = decode_latin1_to_utf8(document)\n",
    "\n",
    "    # Use StringIO to treat the corrected string as a file-like object\n",
    "    tsv_file = StringIO(corrected_document)\n",
    "\n",
    "    # Create a DictReader to parse the TSV data\n",
    "    reader = csv.DictReader(tsv_file, delimiter=\"\\t\")\n",
    "\n",
    "    for row in reader:\n",
    "        yield row"
   ]
  },
  {
   "cell_type": "code",
   "execution_count": 32,
   "metadata": {},
   "outputs": [
    {
     "name": "stdout",
     "output_type": "stream",
     "text": [
      "Raw document: Date\tRating\tComments\tYour Response\tOrder ID\tRater Email\n",
      "22/08/24\t3\tNot adhesive enough. Came off within twenty minutes ð¤¦ââï¸\t\t204-7285323-7000301\tno-reply@amazon.com\n",
      "16/08/24\t2\tWrong size delivered\t\t205-6760583-6261939\tno-reply@amazon.com\n",
      "06/07/24\t1\tThis yoga match is not worth 10pence never mind what I paid for it. Slides all over the place Very disappointed\t\t203-6402425-2052315\tno-reply@amazon.com\n",
      "{'Date': '22/08/24', 'Rating': '3', 'Comments': 'Not adhesive enough. Came off within twenty minutes 🤦\\u200d♂️', 'Your Response': '', 'Order ID': '204-7285323-7000301', 'Rater Email': 'no-reply@amazon.com'}\n",
      "{'Date': '16/08/24', 'Rating': '2', 'Comments': 'Wrong size delivered', 'Your Response': '', 'Order ID': '205-6760583-6261939', 'Rater Email': 'no-reply@amazon.com'}\n",
      "{'Date': '06/07/24', 'Rating': '1', 'Comments': 'This yoga match is not worth 10pence never mind what I paid for it. Slides all over the place Very disappointed', 'Your Response': '', 'Order ID': '203-6402425-2052315', 'Rater Email': 'no-reply@amazon.com'}\n"
     ]
    }
   ],
   "source": [
    "# Sample TSV data with encoding issues\n",
    "tsv_data = \"\"\"Date\\tRating\\tComments\\tYour Response\\tOrder ID\\tRater Email\n",
    "22/08/24\\t3\\tNot adhesive enough. Came off within twenty minutes ð¤¦ââï¸\\t\\t204-7285323-7000301\\tno-reply@amazon.com\n",
    "16/08/24\\t2\\tWrong size delivered\\t\\t205-6760583-6261939\\tno-reply@amazon.com\n",
    "06/07/24\\t1\\tThis yoga match is not worth 10pence never mind what I paid for it. Slides all over the place Very disappointed\\t\\t203-6402425-2052315\\tno-reply@amazon.com\"\"\"\n",
    "\n",
    "# Use the parse_document method\n",
    "for row in parse_document(tsv_data):\n",
    "    print(row)"
   ]
  },
  {
   "cell_type": "code",
   "execution_count": 27,
   "metadata": {},
   "outputs": [
    {
     "name": "stdout",
     "output_type": "stream",
     "text": [
      "Detected encoding: utf-8\n"
     ]
    }
   ],
   "source": [
    "import chardet\n",
    "\n",
    "def detect_encoding(document: str) -> str:\n",
    "    \"\"\"\n",
    "    Detect the encoding of a document.\n",
    "\n",
    "    Args:\n",
    "        document (str): A string of the document's content.\n",
    "\n",
    "    Returns:\n",
    "        str: Detected encoding.\n",
    "    \"\"\"\n",
    "    # Detect encoding\n",
    "    result = chardet.detect(document.encode('utf-8'))\n",
    "    return result['encoding']\n",
    "\n",
    "# Example usage\n",
    "raw_document = \"Doesnât really do the job\"\n",
    "encoding = detect_encoding(raw_document)\n",
    "print(f\"Detected encoding: {encoding}\")"
   ]
  },
  {
   "cell_type": "code",
   "execution_count": null,
   "metadata": {},
   "outputs": [],
   "source": []
  },
  {
   "cell_type": "code",
   "execution_count": null,
   "metadata": {},
   "outputs": [],
   "source": []
  }
 ],
 "metadata": {
  "kernelspec": {
   "display_name": ".venv",
   "language": "python",
   "name": "python3"
  },
  "language_info": {
   "codemirror_mode": {
    "name": "ipython",
    "version": 3
   },
   "file_extension": ".py",
   "mimetype": "text/x-python",
   "name": "python",
   "nbconvert_exporter": "python",
   "pygments_lexer": "ipython3",
   "version": "3.10.14"
  },
  "orig_nbformat": 4
 },
 "nbformat": 4,
 "nbformat_minor": 2
}

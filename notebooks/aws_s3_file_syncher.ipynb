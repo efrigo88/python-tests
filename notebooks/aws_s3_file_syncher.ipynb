{
 "cells": [
  {
   "cell_type": "code",
   "execution_count": 6,
   "metadata": {},
   "outputs": [],
   "source": [
    "profile = \"data-dev\""
   ]
  },
  {
   "cell_type": "code",
   "execution_count": 7,
   "metadata": {},
   "outputs": [],
   "source": [
    "import boto3\n",
    "s3 = boto3.Session(profile_name=profile).client(\"s3\")"
   ]
  },
  {
   "cell_type": "code",
   "execution_count": 8,
   "metadata": {},
   "outputs": [
    {
     "name": "stdout",
     "output_type": "stream",
     "text": [
      "--profile data-dev\n"
     ]
    }
   ],
   "source": [
    "sync_profile = f\"--profile {profile}\"\n",
    "print(sync_profile)"
   ]
  },
  {
   "cell_type": "code",
   "execution_count": 13,
   "metadata": {},
   "outputs": [],
   "source": [
    "source_bucket = \"heroes-dl-raw-prod\"\n",
    "target_bucket = \"heroes-dl-raw-dev\""
   ]
  },
  {
   "cell_type": "code",
   "execution_count": 10,
   "metadata": {},
   "outputs": [],
   "source": [
    "copy_items = [\n",
    "    \"airbyte/sp_api/p_account_id=CLEVER_YELLOW/p_region_id=NA/p_marketplace_id=US/p_entity_id=GET_V2_SETTLEMENT_REPORT_DATA_FLAT_FILE_V2/p_ingestion_dt=2023-08-28/1693214044809_0.jsonl\",\n",
    "    \"airbyte/sp_api/p_account_id=TRUNKI_EU/p_region_id=EU/p_marketplace_id=UK/p_entity_id=GET_V2_SETTLEMENT_REPORT_DATA_FLAT_FILE_V2/p_ingestion_dt=2023-08-29/1693287833124_0.jsonl\",\n",
    "    \"airbyte/sp_api/p_account_id=DOGROOK/p_region_id=NA/p_marketplace_id=US/p_entity_id=GET_V2_SETTLEMENT_REPORT_DATA_FLAT_FILE_V2/p_ingestion_dt=2023-08-17/1692250728297_0.jsonl\",\n",
    "    \"airbyte/sp_api/p_account_id=CLEVER_YELLOW/p_region_id=EU/p_marketplace_id=UK/p_entity_id=GET_V2_SETTLEMENT_REPORT_DATA_FLAT_FILE_V2/p_ingestion_dt=2023-08-17/1692263677995_0.jsonl\",\n",
    "    \"airbyte/sp_api/p_account_id=CLEVER_YELLOW/p_region_id=NA/p_marketplace_id=US/p_entity_id=GET_V2_SETTLEMENT_REPORT_DATA_FLAT_FILE_V2/p_ingestion_dt=2023-08-28/1693214044809_0.jsonl\",\n",
    "    \"airbyte/sp_api/p_account_id=CLEVER_YELLOW/p_region_id=NA/p_marketplace_id=US/p_entity_id=GET_V2_SETTLEMENT_REPORT_DATA_FLAT_FILE_V2/p_ingestion_dt=2023-08-28/1693214044809_0.jsonl\",\n",
    "    \"airbyte/sp_api/p_account_id=CLEVER_YELLOW/p_region_id=EU/p_marketplace_id=UK/p_entity_id=GET_V2_SETTLEMENT_REPORT_DATA_FLAT_FILE_V2/p_ingestion_dt=2023-08-17/1692263677995_0.jsonl\",\n",
    "]"
   ]
  },
  {
   "cell_type": "code",
   "execution_count": 19,
   "metadata": {},
   "outputs": [],
   "source": [
    "aws_cp_copy_list = []\n",
    "\n",
    "for i in copy_items:\n",
    "    copy_path = f\"aws s3 sync s3://{source_bucket}/{i} s3://{target_bucket}/backup/{i} {sync_profile} --delete;\"\n",
    "    aws_cp_copy_list.append(copy_path)\n"
   ]
  },
  {
   "cell_type": "code",
   "execution_count": 20,
   "metadata": {},
   "outputs": [
    {
     "name": "stdout",
     "output_type": "stream",
     "text": [
      "aws s3 sync s3://heroes-dl-raw-prod/airbyte/sp_api/p_account_id=CLEVER_YELLOW/p_region_id=NA/p_marketplace_id=US/p_entity_id=GET_V2_SETTLEMENT_REPORT_DATA_FLAT_FILE_V2/p_ingestion_dt=2023-08-28/1693214044809_0.jsonl s3://heroes-dl-raw-dev/backup/airbyte/sp_api/p_account_id=CLEVER_YELLOW/p_region_id=NA/p_marketplace_id=US/p_entity_id=GET_V2_SETTLEMENT_REPORT_DATA_FLAT_FILE_V2/p_ingestion_dt=2023-08-28/1693214044809_0.jsonl --profile data-dev --delete;\n",
      "aws s3 sync s3://heroes-dl-raw-prod/airbyte/sp_api/p_account_id=TRUNKI_EU/p_region_id=EU/p_marketplace_id=UK/p_entity_id=GET_V2_SETTLEMENT_REPORT_DATA_FLAT_FILE_V2/p_ingestion_dt=2023-08-29/1693287833124_0.jsonl s3://heroes-dl-raw-dev/backup/airbyte/sp_api/p_account_id=TRUNKI_EU/p_region_id=EU/p_marketplace_id=UK/p_entity_id=GET_V2_SETTLEMENT_REPORT_DATA_FLAT_FILE_V2/p_ingestion_dt=2023-08-29/1693287833124_0.jsonl --profile data-dev --delete;\n",
      "aws s3 sync s3://heroes-dl-raw-prod/airbyte/sp_api/p_account_id=DOGROOK/p_region_id=NA/p_marketplace_id=US/p_entity_id=GET_V2_SETTLEMENT_REPORT_DATA_FLAT_FILE_V2/p_ingestion_dt=2023-08-17/1692250728297_0.jsonl s3://heroes-dl-raw-dev/backup/airbyte/sp_api/p_account_id=DOGROOK/p_region_id=NA/p_marketplace_id=US/p_entity_id=GET_V2_SETTLEMENT_REPORT_DATA_FLAT_FILE_V2/p_ingestion_dt=2023-08-17/1692250728297_0.jsonl --profile data-dev --delete;\n",
      "aws s3 sync s3://heroes-dl-raw-prod/airbyte/sp_api/p_account_id=CLEVER_YELLOW/p_region_id=EU/p_marketplace_id=UK/p_entity_id=GET_V2_SETTLEMENT_REPORT_DATA_FLAT_FILE_V2/p_ingestion_dt=2023-08-17/1692263677995_0.jsonl s3://heroes-dl-raw-dev/backup/airbyte/sp_api/p_account_id=CLEVER_YELLOW/p_region_id=EU/p_marketplace_id=UK/p_entity_id=GET_V2_SETTLEMENT_REPORT_DATA_FLAT_FILE_V2/p_ingestion_dt=2023-08-17/1692263677995_0.jsonl --profile data-dev --delete;\n",
      "aws s3 sync s3://heroes-dl-raw-prod/airbyte/sp_api/p_account_id=CLEVER_YELLOW/p_region_id=NA/p_marketplace_id=US/p_entity_id=GET_V2_SETTLEMENT_REPORT_DATA_FLAT_FILE_V2/p_ingestion_dt=2023-08-28/1693214044809_0.jsonl s3://heroes-dl-raw-dev/backup/airbyte/sp_api/p_account_id=CLEVER_YELLOW/p_region_id=NA/p_marketplace_id=US/p_entity_id=GET_V2_SETTLEMENT_REPORT_DATA_FLAT_FILE_V2/p_ingestion_dt=2023-08-28/1693214044809_0.jsonl --profile data-dev --delete;\n",
      "aws s3 sync s3://heroes-dl-raw-prod/airbyte/sp_api/p_account_id=CLEVER_YELLOW/p_region_id=NA/p_marketplace_id=US/p_entity_id=GET_V2_SETTLEMENT_REPORT_DATA_FLAT_FILE_V2/p_ingestion_dt=2023-08-28/1693214044809_0.jsonl s3://heroes-dl-raw-dev/backup/airbyte/sp_api/p_account_id=CLEVER_YELLOW/p_region_id=NA/p_marketplace_id=US/p_entity_id=GET_V2_SETTLEMENT_REPORT_DATA_FLAT_FILE_V2/p_ingestion_dt=2023-08-28/1693214044809_0.jsonl --profile data-dev --delete;\n",
      "aws s3 sync s3://heroes-dl-raw-prod/airbyte/sp_api/p_account_id=CLEVER_YELLOW/p_region_id=EU/p_marketplace_id=UK/p_entity_id=GET_V2_SETTLEMENT_REPORT_DATA_FLAT_FILE_V2/p_ingestion_dt=2023-08-17/1692263677995_0.jsonl s3://heroes-dl-raw-dev/backup/airbyte/sp_api/p_account_id=CLEVER_YELLOW/p_region_id=EU/p_marketplace_id=UK/p_entity_id=GET_V2_SETTLEMENT_REPORT_DATA_FLAT_FILE_V2/p_ingestion_dt=2023-08-17/1692263677995_0.jsonl --profile data-dev --delete;\n"
     ]
    }
   ],
   "source": [
    "for i in aws_cp_copy_list:\n",
    "    print(i)"
   ]
  }
 ],
 "metadata": {
  "interpreter": {
   "hash": "aee8b7b246df8f9039afb4144a1f6fd8d2ca17a180786b69acc140d282b71a49"
  },
  "kernelspec": {
   "display_name": "Python 3.9.2 64-bit",
   "name": "python3"
  },
  "language_info": {
   "codemirror_mode": {
    "name": "ipython",
    "version": 3
   },
   "file_extension": ".py",
   "mimetype": "text/x-python",
   "name": "python",
   "nbconvert_exporter": "python",
   "pygments_lexer": "ipython3",
   "version": "3.10.12"
  },
  "orig_nbformat": 4
 },
 "nbformat": 4,
 "nbformat_minor": 2
}

{
 "cells": [
  {
   "cell_type": "code",
   "execution_count": 118,
   "metadata": {},
   "outputs": [],
   "source": [
    "import os\n",
    "import progressbar"
   ]
  },
  {
   "cell_type": "code",
   "execution_count": 119,
   "metadata": {},
   "outputs": [],
   "source": [
    "directory = '/Volumes/ExtremeSSD/DATA/Recitales/'"
   ]
  },
  {
   "cell_type": "code",
   "execution_count": 120,
   "metadata": {},
   "outputs": [],
   "source": [
    "SOURCE_FORMATS = [\n",
    "    \".avi\",\n",
    "    \".AVI\",\n",
    "    \".mkv\",\n",
    "    \".mpg\", \n",
    "    \".rm\",\n",
    "    \".flv\",\n",
    "    \".3gp\",\n",
    "    \".3gp\",\n",
    "    \".3GP\",\n",
    "    \".MOV\",\n",
    "]"
   ]
  },
  {
   "cell_type": "code",
   "execution_count": 121,
   "metadata": {},
   "outputs": [],
   "source": [
    "def get_files_in_directory(directory) -> list:\n",
    "    file_paths = []\n",
    "    for root, _, files in os.walk(directory):\n",
    "        for file in files:\n",
    "            if any(fmt in file for fmt in SOURCE_FORMATS):\n",
    "                file_paths.append(os.path.join(root, file))\n",
    "    return file_paths"
   ]
  },
  {
   "cell_type": "code",
   "execution_count": 122,
   "metadata": {},
   "outputs": [],
   "source": [
    "def convert_to_mp4(input_file):\n",
    "    for fmt in SOURCE_FORMATS:\n",
    "        if fmt in input_file:\n",
    "            output_file = input_file.replace(fmt, \".mp4\")\n",
    "            display_file = \"/\".join((output_file.split('/')[-2:]))\n",
    "            if os.path.exists(output_file):\n",
    "                print(f\"<<{display_file}>> already exists\")\n",
    "                break\n",
    "            os.system(f'ffmpeg -i \"{input_file}\" -c:v libx264 -c:a aac \"{output_file}\" > /dev/null 2>&1')\n",
    "            # print(f\"Done: <<{display_file}>>\")\n",
    "            break"
   ]
  },
  {
   "cell_type": "code",
   "execution_count": 123,
   "metadata": {},
   "outputs": [],
   "source": [
    "files = get_files_in_directory(directory)\n",
    "# for i in files[:5]:\n",
    "#     print(i)"
   ]
  },
  {
   "cell_type": "code",
   "execution_count": 124,
   "metadata": {},
   "outputs": [
    {
     "data": {
      "text/plain": [
       "6"
      ]
     },
     "execution_count": 124,
     "metadata": {},
     "output_type": "execute_result"
    }
   ],
   "source": [
    "len(files)"
   ]
  },
  {
   "cell_type": "code",
   "execution_count": 125,
   "metadata": {},
   "outputs": [],
   "source": [
    "# Initialize the progress bar\n",
    "widgets = [\n",
    "    'Converting files: ', progressbar.Percentage(), ' ',\n",
    "    progressbar.Bar(), ' ', progressbar.ETA()\n",
    "]\n",
    "bar = progressbar.ProgressBar(widgets=widgets, max_value=len(files))"
   ]
  },
  {
   "cell_type": "code",
   "execution_count": null,
   "metadata": {},
   "outputs": [
    {
     "name": "stderr",
     "output_type": "stream",
     "text": [
      "Converting files:   0% |                                       | ETA:  --:--:--\n",
      "Converting files:  33% |#############                          | ETA:   1:04:39\n"
     ]
    }
   ],
   "source": [
    "for i, input_file in enumerate(files):\n",
    "    convert_to_mp4(input_file)\n",
    "    bar.update(i + 1)"
   ]
  }
 ],
 "metadata": {
  "kernelspec": {
   "display_name": ".venv",
   "language": "python",
   "name": "python3"
  },
  "language_info": {
   "codemirror_mode": {
    "name": "ipython",
    "version": 3
   },
   "file_extension": ".py",
   "mimetype": "text/x-python",
   "name": "python",
   "nbconvert_exporter": "python",
   "pygments_lexer": "ipython3",
   "version": "3.10.3"
  }
 },
 "nbformat": 4,
 "nbformat_minor": 2
}

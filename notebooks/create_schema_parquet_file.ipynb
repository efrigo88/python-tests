{
 "cells": [
  {
   "cell_type": "code",
   "execution_count": 20,
   "metadata": {},
   "outputs": [],
   "source": [
    "import boto3\n",
    "import pathlib\n",
    "from datetime import datetime\n",
    "from typing import List, Tuple, Union, Dict\n",
    "\n",
    "import pyspark.sql.functions as F\n",
    "import pyspark.sql.types as T\n",
    "from pyspark.sql import Column\n",
    "\n",
    "from pyspark.sql import DataFrame\n",
    "from pyspark.sql import SparkSession\n",
    "from pyspark.sql import Window\n",
    "# from pyarrow.filesystem import S3FS\n"
   ]
  },
  {
   "cell_type": "code",
   "execution_count": 21,
   "metadata": {},
   "outputs": [
    {
     "name": "stderr",
     "output_type": "stream",
     "text": [
      "Setting default log level to \"WARN\".\n",
      "To adjust logging level use sc.setLogLevel(newLevel). For SparkR, use setLogLevel(newLevel).\n"
     ]
    },
    {
     "name": "stdout",
     "output_type": "stream",
     "text": [
      "24/01/12 12:15:31 WARN NativeCodeLoader: Unable to load native-hadoop library for your platform... using builtin-java classes where applicable\n"
     ]
    }
   ],
   "source": [
    "# master configuration to use only 4 CPU cores\n",
    "spark = SparkSession.builder.master(\"local[4]\").getOrCreate()\n",
    "\n",
    "# basic configuration to use only a reasonable number of partitions\n",
    "spark.conf.set(\"spark.sql.shuffle.partition\", 4)\n",
    "\n",
    "# configuration to work in UTC\n",
    "spark.conf.set(\"spark.sql.session.timeZone\", \"UTC\")"
   ]
  },
  {
   "cell_type": "code",
   "execution_count": 10,
   "metadata": {},
   "outputs": [],
   "source": [
    "env = \"prod\"\n",
    "bucket = f\"heroes-dl-bronze-{env}\" \n",
    "prefix = \"amazon/financial_events/financial_refund_events/part-00000-a06646ad-501c-4235-8b67-cf98b16213bb-c000.snappy.parquet\"\n",
    "filename = \"downloads/downloaded_local_parquet.parquet\" \n",
    "\n",
    "s3 = boto3.Session(profile_name=f\"data-{env}\").client(\"s3\")"
   ]
  },
  {
   "cell_type": "code",
   "execution_count": 15,
   "metadata": {},
   "outputs": [],
   "source": [
    "def download_parquet_from_s3(bucket, key, local_path):\n",
    "    s3.download_file(bucket, key, local_path)\n",
    "\n",
    "\n",
    "def print_parquet_schema(table):\n",
    "    return table.schema"
   ]
  },
  {
   "cell_type": "code",
   "execution_count": null,
   "metadata": {},
   "outputs": [],
   "source": [
    "download_parquet_from_s3(bucket, prefix, filename)"
   ]
  },
  {
   "cell_type": "code",
   "execution_count": 22,
   "metadata": {},
   "outputs": [
    {
     "name": "stderr",
     "output_type": "stream",
     "text": [
      "                                                                                \r"
     ]
    }
   ],
   "source": [
    "df = spark.read.parquet(filename)"
   ]
  },
  {
   "cell_type": "code",
   "execution_count": 28,
   "metadata": {},
   "outputs": [
    {
     "name": "stdout",
     "output_type": "stream",
     "text": [
      "root\n",
      " |-- region_id: string (nullable = true)\n",
      " |-- account_id: string (nullable = true)\n",
      " |-- marketplace_id: string (nullable = true)\n",
      " |-- posted_dt: date (nullable = true)\n",
      " |-- report_id: string (nullable = true)\n",
      " |-- raw_data: struct (nullable = true)\n",
      " |    |-- AmazonOrderId: string (nullable = true)\n",
      " |    |-- MarketplaceName: string (nullable = true)\n",
      " |    |-- PostedDate: string (nullable = true)\n",
      " |    |-- SellerOrderId: string (nullable = true)\n",
      " |    |-- ShipmentItemAdjustmentList: array (nullable = true)\n",
      " |    |    |-- element: struct (containsNull = true)\n",
      " |    |    |    |-- CostOfPointsReturned: struct (nullable = true)\n",
      " |    |    |    |    |-- CurrencyAmount: long (nullable = true)\n",
      " |    |    |    |    |-- CurrencyCode: string (nullable = true)\n",
      " |    |    |    |-- ItemChargeAdjustmentList: array (nullable = true)\n",
      " |    |    |    |    |-- element: struct (containsNull = true)\n",
      " |    |    |    |    |    |-- ChargeAmount: struct (nullable = true)\n",
      " |    |    |    |    |    |    |-- CurrencyAmount: double (nullable = true)\n",
      " |    |    |    |    |    |    |-- CurrencyCode: string (nullable = true)\n",
      " |    |    |    |    |    |-- ChargeType: string (nullable = true)\n",
      " |    |    |    |-- ItemFeeAdjustmentList: array (nullable = true)\n",
      " |    |    |    |    |-- element: struct (containsNull = true)\n",
      " |    |    |    |    |    |-- FeeAmount: struct (nullable = true)\n",
      " |    |    |    |    |    |    |-- CurrencyAmount: double (nullable = true)\n",
      " |    |    |    |    |    |    |-- CurrencyCode: string (nullable = true)\n",
      " |    |    |    |    |    |-- FeeType: string (nullable = true)\n",
      " |    |    |    |-- ItemTaxWithheldList: array (nullable = true)\n",
      " |    |    |    |    |-- element: struct (containsNull = true)\n",
      " |    |    |    |    |    |-- TaxCollectionModel: string (nullable = true)\n",
      " |    |    |    |    |    |-- TaxesWithheld: array (nullable = true)\n",
      " |    |    |    |    |    |    |-- element: struct (containsNull = true)\n",
      " |    |    |    |    |    |    |    |-- ChargeAmount: struct (nullable = true)\n",
      " |    |    |    |    |    |    |    |    |-- CurrencyAmount: double (nullable = true)\n",
      " |    |    |    |    |    |    |    |    |-- CurrencyCode: string (nullable = true)\n",
      " |    |    |    |    |    |    |    |-- ChargeType: string (nullable = true)\n",
      " |    |    |    |-- OrderAdjustmentItemId: string (nullable = true)\n",
      " |    |    |    |-- PromotionAdjustmentList: array (nullable = true)\n",
      " |    |    |    |    |-- element: struct (containsNull = true)\n",
      " |    |    |    |    |    |-- PromotionAmount: struct (nullable = true)\n",
      " |    |    |    |    |    |    |-- CurrencyAmount: double (nullable = true)\n",
      " |    |    |    |    |    |    |-- CurrencyCode: string (nullable = true)\n",
      " |    |    |    |    |    |-- PromotionId: string (nullable = true)\n",
      " |    |    |    |    |    |-- PromotionType: string (nullable = true)\n",
      " |    |    |    |-- QuantityShipped: long (nullable = true)\n",
      " |    |    |    |-- SellerSKU: string (nullable = true)\n",
      " |-- filename_adjusted: string (nullable = true)\n",
      " |-- aud_upd_ts: string (nullable = true)\n",
      " |-- report_ingested_ts: timestamp (nullable = true)\n",
      "\n"
     ]
    }
   ],
   "source": [
    "df.printSchema()"
   ]
  },
  {
   "cell_type": "code",
   "execution_count": 29,
   "metadata": {},
   "outputs": [
    {
     "name": "stdout",
     "output_type": "stream",
     "text": [
      "<bound method DataFrame.printSchema of DataFrame[region_id: string, account_id: string, marketplace_id: string, posted_dt: date, report_id: string, raw_data: struct<AmazonOrderId:string,MarketplaceName:string,PostedDate:string,SellerOrderId:string,ShipmentItemAdjustmentList:array<struct<CostOfPointsReturned:struct<CurrencyAmount:bigint,CurrencyCode:string>,ItemChargeAdjustmentList:array<struct<ChargeAmount:struct<CurrencyAmount:double,CurrencyCode:string>,ChargeType:string>>,ItemFeeAdjustmentList:array<struct<FeeAmount:struct<CurrencyAmount:double,CurrencyCode:string>,FeeType:string>>,ItemTaxWithheldList:array<struct<TaxCollectionModel:string,TaxesWithheld:array<struct<ChargeAmount:struct<CurrencyAmount:double,CurrencyCode:string>,ChargeType:string>>>>,OrderAdjustmentItemId:string,PromotionAdjustmentList:array<struct<PromotionAmount:struct<CurrencyAmount:double,CurrencyCode:string>,PromotionId:string,PromotionType:string>>,QuantityShipped:bigint,SellerSKU:string>>>, filename_adjusted: string, aud_upd_ts: string, report_ingested_ts: timestamp]>\n"
     ]
    },
    {
     "name": "stdout",
     "output_type": "stream",
     "text": [
      "24/01/12 18:58:35 WARN HeartbeatReceiver: Removing executor driver with no recent heartbeats: 902911 ms exceeds timeout 120000 ms\n",
      "24/01/12 18:58:35 WARN SparkContext: Killing executors is not supported by current scheduler.\n"
     ]
    }
   ],
   "source": [
    "schema = df.printSchema\n",
    "print(schema)"
   ]
  },
  {
   "cell_type": "code",
   "execution_count": null,
   "metadata": {},
   "outputs": [],
   "source": [
    "# Print Parquet schema\n",
    "# schema = print_parquet_schema(parquet_table)\n",
    "# print(schema)"
   ]
  },
  {
   "cell_type": "code",
   "execution_count": null,
   "metadata": {},
   "outputs": [],
   "source": []
  },
  {
   "cell_type": "code",
   "execution_count": null,
   "metadata": {},
   "outputs": [],
   "source": []
  },
  {
   "cell_type": "code",
   "execution_count": null,
   "metadata": {},
   "outputs": [],
   "source": []
  },
  {
   "cell_type": "code",
   "execution_count": null,
   "metadata": {},
   "outputs": [],
   "source": []
  }
 ],
 "metadata": {
  "interpreter": {
   "hash": "aee8b7b246df8f9039afb4144a1f6fd8d2ca17a180786b69acc140d282b71a49"
  },
  "kernelspec": {
   "display_name": "Python 3.9.2 64-bit",
   "name": "python3"
  },
  "language_info": {
   "codemirror_mode": {
    "name": "ipython",
    "version": 3
   },
   "file_extension": ".py",
   "mimetype": "text/x-python",
   "name": "python",
   "nbconvert_exporter": "python",
   "pygments_lexer": "ipython3",
   "version": "3.10.13"
  },
  "orig_nbformat": 4
 },
 "nbformat": 4,
 "nbformat_minor": 2
}

{
 "cells": [
  {
   "cell_type": "code",
   "execution_count": 25,
   "metadata": {},
   "outputs": [],
   "source": [
    "env = \"dev\"\n",
    "bucket = f\"heroes-dl-raw-{env}\"\n",
    "prefix = \"airbyte/sp_api/\"\n",
    "selected_entity = \"ListFinancialEvents\""
   ]
  },
  {
   "cell_type": "code",
   "execution_count": 26,
   "metadata": {},
   "outputs": [],
   "source": [
    "import boto3\n",
    "\n",
    "s3 = boto3.Session(profile_name=f\"data-{env}\").client(\"s3\")"
   ]
  },
  {
   "cell_type": "code",
   "execution_count": 27,
   "metadata": {},
   "outputs": [],
   "source": [
    "def s3_items_from_table(bucket, prefix):\n",
    "    paginator = s3.get_paginator(\"list_objects_v2\")\n",
    "    pages = paginator.paginate(Bucket=bucket, Prefix=prefix)\n",
    "    objects = []\n",
    "\n",
    "    for page in pages:\n",
    "        for item in page[\"Contents\"]:\n",
    "            objects.append(item[\"Key\"])\n",
    "\n",
    "    return objects"
   ]
  },
  {
   "cell_type": "code",
   "execution_count": 28,
   "metadata": {},
   "outputs": [],
   "source": [
    "s3_keys = s3_items_from_table(bucket=bucket, prefix=prefix)"
   ]
  },
  {
   "cell_type": "code",
   "execution_count": 29,
   "metadata": {},
   "outputs": [
    {
     "name": "stdout",
     "output_type": "stream",
     "text": [
      "287607\n",
      "airbyte/sp_api/p_account_id=AMZ_PETS/p_region_id=EU/p_marketplace_id=DE/p_entity_id=GET_FBA_INVENTORY_PLANNING_DATA/p_ingestion_dt=2024-02-21/1708520697343_0.jsonl\n",
      "airbyte/sp_api/p_account_id=AMZ_PETS/p_region_id=EU/p_marketplace_id=DE/p_entity_id=GET_FBA_MYI_ALL_INVENTORY_DATA/p_ingestion_dt=2024-01-13/1705119176802_0.jsonl\n",
      "airbyte/sp_api/p_account_id=AMZ_PETS/p_region_id=EU/p_marketplace_id=DE/p_entity_id=GET_FBA_MYI_ALL_INVENTORY_DATA/p_ingestion_dt=2024-01-13/1705158819159_0.jsonl\n",
      "airbyte/sp_api/p_account_id=AMZ_PETS/p_region_id=EU/p_marketplace_id=DE/p_entity_id=GET_FBA_MYI_ALL_INVENTORY_DATA/p_ingestion_dt=2024-01-14/1705256246936_0.jsonl\n",
      "airbyte/sp_api/p_account_id=AMZ_PETS/p_region_id=EU/p_marketplace_id=DE/p_entity_id=GET_FBA_MYI_ALL_INVENTORY_DATA/p_ingestion_dt=2024-01-15/1705283438264_0.jsonl\n"
     ]
    }
   ],
   "source": [
    "print(len(s3_keys))\n",
    "for element in s3_keys[:5]:\n",
    "    print(element)"
   ]
  },
  {
   "cell_type": "code",
   "execution_count": 30,
   "metadata": {},
   "outputs": [
    {
     "name": "stdout",
     "output_type": "stream",
     "text": [
      "163\n",
      "airbyte/sp_api/p_account_id=AMZ_PETS/p_region_id=EU/p_marketplace_id=UK/p_entity_id=ListFinancialEvents/p_ingestion_dt=2024-03-14/1710415004235_0.jsonl\n",
      "airbyte/sp_api/p_account_id=AMZ_PETS/p_region_id=EU/p_marketplace_id=UK/p_entity_id=ListFinancialEvents/p_ingestion_dt=2024-03-14/1710415300344_0.jsonl\n",
      "airbyte/sp_api/p_account_id=AMZ_PETS/p_region_id=EU/p_marketplace_id=UK/p_entity_id=ListFinancialEvents/p_ingestion_dt=2024-03-14/1710416286960_0.jsonl\n",
      "airbyte/sp_api/p_account_id=AMZ_PETS/p_region_id=EU/p_marketplace_id=UK/p_entity_id=ListFinancialEvents/p_ingestion_dt=2024-03-14/1710417160434_0.jsonl\n",
      "airbyte/sp_api/p_account_id=AMZ_PETS/p_region_id=NA/p_marketplace_id=US/p_entity_id=ListFinancialEvents/p_ingestion_dt=2024-03-14/1710415785712_0.jsonl\n"
     ]
    }
   ],
   "source": [
    "s3_keys_filtered = []\n",
    "for i in s3_keys:\n",
    "    if selected_entity in i:\n",
    "        s3_keys_filtered.append(i)\n",
    "\n",
    "print(len(s3_keys_filtered))\n",
    "for element in s3_keys_filtered[:5]:\n",
    "    print(element)"
   ]
  },
  {
   "cell_type": "code",
   "execution_count": 31,
   "metadata": {},
   "outputs": [],
   "source": [
    "def s3_one_by_one(bucket, key):\n",
    "    try:\n",
    "        s3.delete_object(Bucket=bucket, Key=key)\n",
    "        return f\"key: >>{key}<< successfully deleted\"\n",
    "    except ValueError as e:\n",
    "        return f\"there was a problem with key: >>{key}<<, {e}\""
   ]
  },
  {
   "cell_type": "code",
   "execution_count": 32,
   "metadata": {},
   "outputs": [
    {
     "name": "stdout",
     "output_type": "stream",
     "text": [
      "key: >>airbyte/sp_api/p_account_id=AMZ_PETS/p_region_id=EU/p_marketplace_id=UK/p_entity_id=ListFinancialEvents/p_ingestion_dt=2024-03-14/1710415004235_0.jsonl<< successfully deleted\n",
      "key: >>airbyte/sp_api/p_account_id=AMZ_PETS/p_region_id=EU/p_marketplace_id=UK/p_entity_id=ListFinancialEvents/p_ingestion_dt=2024-03-14/1710415300344_0.jsonl<< successfully deleted\n",
      "key: >>airbyte/sp_api/p_account_id=AMZ_PETS/p_region_id=EU/p_marketplace_id=UK/p_entity_id=ListFinancialEvents/p_ingestion_dt=2024-03-14/1710416286960_0.jsonl<< successfully deleted\n",
      "key: >>airbyte/sp_api/p_account_id=AMZ_PETS/p_region_id=EU/p_marketplace_id=UK/p_entity_id=ListFinancialEvents/p_ingestion_dt=2024-03-14/1710417160434_0.jsonl<< successfully deleted\n",
      "key: >>airbyte/sp_api/p_account_id=AMZ_PETS/p_region_id=NA/p_marketplace_id=US/p_entity_id=ListFinancialEvents/p_ingestion_dt=2024-03-14/1710415785712_0.jsonl<< successfully deleted\n",
      "key: >>airbyte/sp_api/p_account_id=AMZ_PETS/p_region_id=NA/p_marketplace_id=US/p_entity_id=ListFinancialEvents/p_ingestion_dt=2024-03-14/1710416579301_0.jsonl<< successfully deleted\n",
      "key: >>airbyte/sp_api/p_account_id=AMZ_PETS/p_region_id=NA/p_marketplace_id=US/p_entity_id=ListFinancialEvents/p_ingestion_dt=2024-03-14/1710417433527_0.jsonl<< successfully deleted\n",
      "key: >>airbyte/sp_api/p_account_id=BABY_UMA/p_region_id=AU/p_marketplace_id=AU/p_entity_id=ListFinancialEvents/p_ingestion_dt=2024-03-14/1710415020707_0.jsonl<< successfully deleted\n",
      "key: >>airbyte/sp_api/p_account_id=BABY_UMA/p_region_id=AU/p_marketplace_id=AU/p_entity_id=ListFinancialEvents/p_ingestion_dt=2024-03-14/1710415170049_0.jsonl<< successfully deleted\n",
      "key: >>airbyte/sp_api/p_account_id=BABY_UMA/p_region_id=AU/p_marketplace_id=AU/p_entity_id=ListFinancialEvents/p_ingestion_dt=2024-03-14/1710416202531_0.jsonl<< successfully deleted\n",
      "key: >>airbyte/sp_api/p_account_id=BABY_UMA/p_region_id=AU/p_marketplace_id=AU/p_entity_id=ListFinancialEvents/p_ingestion_dt=2024-03-14/1710417077061_0.jsonl<< successfully deleted\n",
      "key: >>airbyte/sp_api/p_account_id=BABY_UMA/p_region_id=EU/p_marketplace_id=UK/p_entity_id=ListFinancialEvents/p_ingestion_dt=2024-03-14/1710415581180_0.jsonl<< successfully deleted\n",
      "key: >>airbyte/sp_api/p_account_id=BABY_UMA/p_region_id=EU/p_marketplace_id=UK/p_entity_id=ListFinancialEvents/p_ingestion_dt=2024-03-14/1710416463804_0.jsonl<< successfully deleted\n",
      "key: >>airbyte/sp_api/p_account_id=BABY_UMA/p_region_id=EU/p_marketplace_id=UK/p_entity_id=ListFinancialEvents/p_ingestion_dt=2024-03-14/1710417318651_0.jsonl<< successfully deleted\n",
      "key: >>airbyte/sp_api/p_account_id=BABY_UMA/p_region_id=JP/p_marketplace_id=JP/p_entity_id=ListFinancialEvents/p_ingestion_dt=2024-03-14/1710415621430_0.jsonl<< successfully deleted\n",
      "key: >>airbyte/sp_api/p_account_id=BABY_UMA/p_region_id=JP/p_marketplace_id=JP/p_entity_id=ListFinancialEvents/p_ingestion_dt=2024-03-14/1710416484897_0.jsonl<< successfully deleted\n",
      "key: >>airbyte/sp_api/p_account_id=BABY_UMA/p_region_id=JP/p_marketplace_id=JP/p_entity_id=ListFinancialEvents/p_ingestion_dt=2024-03-14/1710417339707_0.jsonl<< successfully deleted\n",
      "key: >>airbyte/sp_api/p_account_id=BABY_UMA/p_region_id=NA/p_marketplace_id=US/p_entity_id=ListFinancialEvents/p_ingestion_dt=2024-03-14/1710415828444_0.jsonl<< successfully deleted\n",
      "key: >>airbyte/sp_api/p_account_id=BABY_UMA/p_region_id=NA/p_marketplace_id=US/p_entity_id=ListFinancialEvents/p_ingestion_dt=2024-03-14/1710416610005_0.jsonl<< successfully deleted\n",
      "key: >>airbyte/sp_api/p_account_id=BABY_UMA/p_region_id=NA/p_marketplace_id=US/p_entity_id=ListFinancialEvents/p_ingestion_dt=2024-03-14/1710417454719_0.jsonl<< successfully deleted\n",
      "key: >>airbyte/sp_api/p_account_id=BECO/p_region_id=EU/p_marketplace_id=UK/p_entity_id=ListFinancialEvents/p_ingestion_dt=2024-03-14/1710415541287_0.jsonl<< successfully deleted\n",
      "key: >>airbyte/sp_api/p_account_id=BECO/p_region_id=EU/p_marketplace_id=UK/p_entity_id=ListFinancialEvents/p_ingestion_dt=2024-03-14/1710416442888_0.jsonl<< successfully deleted\n",
      "key: >>airbyte/sp_api/p_account_id=BECO/p_region_id=EU/p_marketplace_id=UK/p_entity_id=ListFinancialEvents/p_ingestion_dt=2024-03-14/1710417297047_0.jsonl<< successfully deleted\n",
      "key: >>airbyte/sp_api/p_account_id=BECO/p_region_id=IN/p_marketplace_id=IN/p_entity_id=ListFinancialEvents/p_ingestion_dt=2024-03-14/1710415351601_0.jsonl<< successfully deleted\n",
      "key: >>airbyte/sp_api/p_account_id=BECO/p_region_id=IN/p_marketplace_id=IN/p_entity_id=ListFinancialEvents/p_ingestion_dt=2024-03-14/1710416328405_0.jsonl<< successfully deleted\n",
      "key: >>airbyte/sp_api/p_account_id=BECO/p_region_id=IN/p_marketplace_id=IN/p_entity_id=ListFinancialEvents/p_ingestion_dt=2024-03-14/1710417192284_0.jsonl<< successfully deleted\n",
      "key: >>airbyte/sp_api/p_account_id=BECO/p_region_id=JP/p_marketplace_id=JP/p_entity_id=ListFinancialEvents/p_ingestion_dt=2024-03-14/1710415149004_0.jsonl<< successfully deleted\n",
      "key: >>airbyte/sp_api/p_account_id=BECO/p_region_id=JP/p_marketplace_id=JP/p_entity_id=ListFinancialEvents/p_ingestion_dt=2024-03-14/1710416181379_0.jsonl<< successfully deleted\n",
      "key: >>airbyte/sp_api/p_account_id=BECO/p_region_id=JP/p_marketplace_id=JP/p_entity_id=ListFinancialEvents/p_ingestion_dt=2024-03-14/1710416828888_0.jsonl<< successfully deleted\n",
      "key: >>airbyte/sp_api/p_account_id=BECO/p_region_id=JP/p_marketplace_id=JP/p_entity_id=ListFinancialEvents/p_ingestion_dt=2024-03-14/1710417056014_0.jsonl<< successfully deleted\n",
      "key: >>airbyte/sp_api/p_account_id=BECO/p_region_id=NA/p_marketplace_id=US/p_entity_id=ListFinancialEvents/p_ingestion_dt=2024-03-14/1710415676878_0.jsonl<< successfully deleted\n",
      "key: >>airbyte/sp_api/p_account_id=BECO/p_region_id=NA/p_marketplace_id=US/p_entity_id=ListFinancialEvents/p_ingestion_dt=2024-03-14/1710416516622_0.jsonl<< successfully deleted\n",
      "key: >>airbyte/sp_api/p_account_id=BECO/p_region_id=NA/p_marketplace_id=US/p_entity_id=ListFinancialEvents/p_ingestion_dt=2024-03-14/1710417371214_0.jsonl<< successfully deleted\n",
      "key: >>airbyte/sp_api/p_account_id=BOBA/p_region_id=NA/p_marketplace_id=US/p_entity_id=ListFinancialEvents/p_ingestion_dt=2024-03-14/1710416023568_0.jsonl<< successfully deleted\n",
      "key: >>airbyte/sp_api/p_account_id=BOBA/p_region_id=NA/p_marketplace_id=US/p_entity_id=ListFinancialEvents/p_ingestion_dt=2024-03-14/1710416715987_0.jsonl<< successfully deleted\n",
      "key: >>airbyte/sp_api/p_account_id=BOBA_JAPAN/p_region_id=JP/p_marketplace_id=JP/p_entity_id=ListFinancialEvents/p_ingestion_dt=2024-03-14/1710415497072_0.jsonl<< successfully deleted\n",
      "key: >>airbyte/sp_api/p_account_id=BOBA_JAPAN/p_region_id=JP/p_marketplace_id=JP/p_entity_id=ListFinancialEvents/p_ingestion_dt=2024-03-14/1710416421801_0.jsonl<< successfully deleted\n",
      "key: >>airbyte/sp_api/p_account_id=BOBA_JAPAN/p_region_id=JP/p_marketplace_id=JP/p_entity_id=ListFinancialEvents/p_ingestion_dt=2024-03-14/1710417275907_0.jsonl<< successfully deleted\n",
      "key: >>airbyte/sp_api/p_account_id=BUMCO/p_region_id=EU/p_marketplace_id=UK/p_entity_id=ListFinancialEvents/p_ingestion_dt=2024-03-14/1710415258842_0.jsonl<< successfully deleted\n",
      "key: >>airbyte/sp_api/p_account_id=BUMCO/p_region_id=EU/p_marketplace_id=UK/p_entity_id=ListFinancialEvents/p_ingestion_dt=2024-03-14/1710416265378_0.jsonl<< successfully deleted\n",
      "key: >>airbyte/sp_api/p_account_id=BUMCO/p_region_id=EU/p_marketplace_id=UK/p_entity_id=ListFinancialEvents/p_ingestion_dt=2024-03-14/1710417139684_0.jsonl<< successfully deleted\n",
      "key: >>airbyte/sp_api/p_account_id=BUMCO/p_region_id=NA/p_marketplace_id=US/p_entity_id=ListFinancialEvents/p_ingestion_dt=2024-03-14/1710415849219_0.jsonl<< successfully deleted\n",
      "key: >>airbyte/sp_api/p_account_id=BUMCO/p_region_id=NA/p_marketplace_id=US/p_entity_id=ListFinancialEvents/p_ingestion_dt=2024-03-14/1710416620932_0.jsonl<< successfully deleted\n",
      "key: >>airbyte/sp_api/p_account_id=BUMCO/p_region_id=NA/p_marketplace_id=US/p_entity_id=ListFinancialEvents/p_ingestion_dt=2024-03-14/1710417465266_0.jsonl<< successfully deleted\n",
      "key: >>airbyte/sp_api/p_account_id=CHERISH_BABY_CARE/p_region_id=EU/p_marketplace_id=UK/p_entity_id=ListFinancialEvents/p_ingestion_dt=2024-03-14/1710415983137_0.jsonl<< successfully deleted\n",
      "key: >>airbyte/sp_api/p_account_id=CHERISH_BABY_CARE/p_region_id=EU/p_marketplace_id=UK/p_entity_id=ListFinancialEvents/p_ingestion_dt=2024-03-14/1710416694329_0.jsonl<< successfully deleted\n",
      "key: >>airbyte/sp_api/p_account_id=CHERISH_BABY_CARE/p_region_id=EU/p_marketplace_id=UK/p_entity_id=ListFinancialEvents/p_ingestion_dt=2024-03-14/1710417532431_0.jsonl<< successfully deleted\n",
      "key: >>airbyte/sp_api/p_account_id=CHERISH_BABY_CARE/p_region_id=NA/p_marketplace_id=US/p_entity_id=ListFinancialEvents/p_ingestion_dt=2024-03-14/1710415941959_0.jsonl<< successfully deleted\n",
      "key: >>airbyte/sp_api/p_account_id=CHERISH_BABY_CARE/p_region_id=NA/p_marketplace_id=US/p_entity_id=ListFinancialEvents/p_ingestion_dt=2024-03-14/1710416673009_0.jsonl<< successfully deleted\n",
      "key: >>airbyte/sp_api/p_account_id=CHERISH_BABY_CARE/p_region_id=NA/p_marketplace_id=US/p_entity_id=ListFinancialEvents/p_ingestion_dt=2024-03-14/1710417511198_0.jsonl<< successfully deleted\n",
      "key: >>airbyte/sp_api/p_account_id=CLEVER_YELLOW/p_region_id=EU/p_marketplace_id=UK/p_entity_id=ListFinancialEvents/p_ingestion_dt=2024-03-14/1710416095603_0.jsonl<< successfully deleted\n",
      "key: >>airbyte/sp_api/p_account_id=CLEVER_YELLOW/p_region_id=EU/p_marketplace_id=UK/p_entity_id=ListFinancialEvents/p_ingestion_dt=2024-03-14/1710416757252_0.jsonl<< successfully deleted\n",
      "key: >>airbyte/sp_api/p_account_id=CLEVER_YELLOW/p_region_id=NA/p_marketplace_id=US/p_entity_id=ListFinancialEvents/p_ingestion_dt=2024-03-14/1710415878309_0.jsonl<< successfully deleted\n",
      "key: >>airbyte/sp_api/p_account_id=CLEVER_YELLOW/p_region_id=NA/p_marketplace_id=US/p_entity_id=ListFinancialEvents/p_ingestion_dt=2024-03-14/1710416641344_0.jsonl<< successfully deleted\n",
      "key: >>airbyte/sp_api/p_account_id=CLEVER_YELLOW/p_region_id=NA/p_marketplace_id=US/p_entity_id=ListFinancialEvents/p_ingestion_dt=2024-03-14/1710417485471_0.jsonl<< successfully deleted\n",
      "key: >>airbyte/sp_api/p_account_id=CRADLE_STAR/p_region_id=NA/p_marketplace_id=US/p_entity_id=ListFinancialEvents/p_ingestion_dt=2024-03-14/1710415138646_0.jsonl<< successfully deleted\n",
      "key: >>airbyte/sp_api/p_account_id=CRADLE_STAR/p_region_id=NA/p_marketplace_id=US/p_entity_id=ListFinancialEvents/p_ingestion_dt=2024-03-14/1710416171199_0.jsonl<< successfully deleted\n",
      "key: >>airbyte/sp_api/p_account_id=CRADLE_STAR/p_region_id=NA/p_marketplace_id=US/p_entity_id=ListFinancialEvents/p_ingestion_dt=2024-03-14/1710416819950_0.jsonl<< successfully deleted\n",
      "key: >>airbyte/sp_api/p_account_id=CRADLE_STAR/p_region_id=NA/p_marketplace_id=US/p_entity_id=ListFinancialEvents/p_ingestion_dt=2024-03-14/1710417045932_0.jsonl<< successfully deleted\n",
      "key: >>airbyte/sp_api/p_account_id=DAVAON/p_region_id=EU/p_marketplace_id=UK/p_entity_id=ListFinancialEvents/p_ingestion_dt=2024-03-14/1710415643026_0.jsonl<< successfully deleted\n",
      "key: >>airbyte/sp_api/p_account_id=DAVAON/p_region_id=EU/p_marketplace_id=UK/p_entity_id=ListFinancialEvents/p_ingestion_dt=2024-03-14/1710416495301_0.jsonl<< successfully deleted\n",
      "key: >>airbyte/sp_api/p_account_id=DAVAON/p_region_id=EU/p_marketplace_id=UK/p_entity_id=ListFinancialEvents/p_ingestion_dt=2024-03-14/1710417349757_0.jsonl<< successfully deleted\n",
      "key: >>airbyte/sp_api/p_account_id=DAVAON/p_region_id=JP/p_marketplace_id=JP/p_entity_id=ListFinancialEvents/p_ingestion_dt=2024-03-14/1710415960401_0.jsonl<< successfully deleted\n",
      "key: >>airbyte/sp_api/p_account_id=DAVAON/p_region_id=JP/p_marketplace_id=JP/p_entity_id=ListFinancialEvents/p_ingestion_dt=2024-03-14/1710416684134_0.jsonl<< successfully deleted\n",
      "key: >>airbyte/sp_api/p_account_id=DAVAON/p_region_id=JP/p_marketplace_id=JP/p_entity_id=ListFinancialEvents/p_ingestion_dt=2024-03-14/1710417521666_0.jsonl<< successfully deleted\n",
      "key: >>airbyte/sp_api/p_account_id=DAVAON/p_region_id=NA/p_marketplace_id=US/p_entity_id=ListFinancialEvents/p_ingestion_dt=2024-03-14/1710415600705_0.jsonl<< successfully deleted\n",
      "key: >>airbyte/sp_api/p_account_id=DAVAON/p_region_id=NA/p_marketplace_id=US/p_entity_id=ListFinancialEvents/p_ingestion_dt=2024-03-14/1710416474546_0.jsonl<< successfully deleted\n",
      "key: >>airbyte/sp_api/p_account_id=DAVAON/p_region_id=NA/p_marketplace_id=US/p_entity_id=ListFinancialEvents/p_ingestion_dt=2024-03-14/1710417329174_0.jsonl<< successfully deleted\n",
      "key: >>airbyte/sp_api/p_account_id=DOGROOK/p_region_id=AU/p_marketplace_id=AU/p_entity_id=ListFinancialEvents/p_ingestion_dt=2024-03-14/1710415241456_0.jsonl<< successfully deleted\n",
      "key: >>airbyte/sp_api/p_account_id=DOGROOK/p_region_id=AU/p_marketplace_id=AU/p_entity_id=ListFinancialEvents/p_ingestion_dt=2024-03-14/1710416254888_0.jsonl<< successfully deleted\n",
      "key: >>airbyte/sp_api/p_account_id=DOGROOK/p_region_id=AU/p_marketplace_id=AU/p_entity_id=ListFinancialEvents/p_ingestion_dt=2024-03-14/1710417129524_0.jsonl<< successfully deleted\n",
      "key: >>airbyte/sp_api/p_account_id=DOGROOK/p_region_id=EU/p_marketplace_id=UK/p_entity_id=ListFinancialEvents/p_ingestion_dt=2024-03-14/1710416115609_0.jsonl<< successfully deleted\n",
      "key: >>airbyte/sp_api/p_account_id=DOGROOK/p_region_id=EU/p_marketplace_id=UK/p_entity_id=ListFinancialEvents/p_ingestion_dt=2024-03-14/1710416767432_0.jsonl<< successfully deleted\n",
      "key: >>airbyte/sp_api/p_account_id=DOGROOK/p_region_id=JP/p_marketplace_id=JP/p_entity_id=ListFinancialEvents/p_ingestion_dt=2024-03-14/1710415477294_0.jsonl<< successfully deleted\n",
      "key: >>airbyte/sp_api/p_account_id=DOGROOK/p_region_id=JP/p_marketplace_id=JP/p_entity_id=ListFinancialEvents/p_ingestion_dt=2024-03-14/1710416411339_0.jsonl<< successfully deleted\n",
      "key: >>airbyte/sp_api/p_account_id=DOGROOK/p_region_id=JP/p_marketplace_id=JP/p_entity_id=ListFinancialEvents/p_ingestion_dt=2024-03-14/1710417265800_0.jsonl<< successfully deleted\n",
      "key: >>airbyte/sp_api/p_account_id=DOGROOK/p_region_id=NA/p_marketplace_id=US/p_entity_id=ListFinancialEvents/p_ingestion_dt=2024-03-14/1710416003351_0.jsonl<< successfully deleted\n",
      "key: >>airbyte/sp_api/p_account_id=DOGROOK/p_region_id=NA/p_marketplace_id=US/p_entity_id=ListFinancialEvents/p_ingestion_dt=2024-03-14/1710416705176_0.jsonl<< successfully deleted\n",
      "key: >>airbyte/sp_api/p_account_id=DOGROOK/p_region_id=NA/p_marketplace_id=US/p_entity_id=ListFinancialEvents/p_ingestion_dt=2024-03-14/1710417542835_0.jsonl<< successfully deleted\n",
      "key: >>airbyte/sp_api/p_account_id=DOGROOK_COMPANY_LTD/p_region_id=AU/p_marketplace_id=AU/p_entity_id=ListFinancialEvents/p_ingestion_dt=2024-03-14/1710416052828_0.jsonl<< successfully deleted\n",
      "key: >>airbyte/sp_api/p_account_id=DOGROOK_COMPANY_LTD/p_region_id=AU/p_marketplace_id=AU/p_entity_id=ListFinancialEvents/p_ingestion_dt=2024-03-14/1710416735807_0.jsonl<< successfully deleted\n",
      "key: >>airbyte/sp_api/p_account_id=DOGROOK_COMPANY_LTD/p_region_id=EU/p_marketplace_id=UK/p_entity_id=ListFinancialEvents/p_ingestion_dt=2024-03-14/1710415127937_0.jsonl<< successfully deleted\n",
      "key: >>airbyte/sp_api/p_account_id=DOGROOK_COMPANY_LTD/p_region_id=EU/p_marketplace_id=UK/p_entity_id=ListFinancialEvents/p_ingestion_dt=2024-03-14/1710416160476_0.jsonl<< successfully deleted\n",
      "key: >>airbyte/sp_api/p_account_id=DOGROOK_COMPANY_LTD/p_region_id=EU/p_marketplace_id=UK/p_entity_id=ListFinancialEvents/p_ingestion_dt=2024-03-14/1710416809488_0.jsonl<< successfully deleted\n",
      "key: >>airbyte/sp_api/p_account_id=DOGROOK_COMPANY_LTD/p_region_id=EU/p_marketplace_id=UK/p_entity_id=ListFinancialEvents/p_ingestion_dt=2024-03-14/1710417035131_0.jsonl<< successfully deleted\n",
      "key: >>airbyte/sp_api/p_account_id=DOGROOK_COMPANY_LTD/p_region_id=JP/p_marketplace_id=JP/p_entity_id=ListFinancialEvents/p_ingestion_dt=2024-03-14/1710415227728_0.jsonl<< successfully deleted\n",
      "key: >>airbyte/sp_api/p_account_id=DOGROOK_COMPANY_LTD/p_region_id=JP/p_marketplace_id=JP/p_entity_id=ListFinancialEvents/p_ingestion_dt=2024-03-14/1710416244148_0.jsonl<< successfully deleted\n",
      "key: >>airbyte/sp_api/p_account_id=DOGROOK_COMPANY_LTD/p_region_id=JP/p_marketplace_id=JP/p_entity_id=ListFinancialEvents/p_ingestion_dt=2024-03-14/1710417118829_0.jsonl<< successfully deleted\n",
      "key: >>airbyte/sp_api/p_account_id=DOGROOK_COMPANY_LTD/p_region_id=NA/p_marketplace_id=US/p_entity_id=ListFinancialEvents/p_ingestion_dt=2024-03-14/1710415899019_0.jsonl<< successfully deleted\n",
      "key: >>airbyte/sp_api/p_account_id=DOGROOK_COMPANY_LTD/p_region_id=NA/p_marketplace_id=US/p_entity_id=ListFinancialEvents/p_ingestion_dt=2024-03-14/1710416652102_0.jsonl<< successfully deleted\n",
      "key: >>airbyte/sp_api/p_account_id=DOGROOK_COMPANY_LTD/p_region_id=NA/p_marketplace_id=US/p_entity_id=ListFinancialEvents/p_ingestion_dt=2024-03-14/1710417490515_0.jsonl<< successfully deleted\n",
      "key: >>airbyte/sp_api/p_account_id=EARTHS_PEARL/p_region_id=NA/p_marketplace_id=US/p_entity_id=ListFinancialEvents/p_ingestion_dt=2024-03-14/1710415808350_0.jsonl<< successfully deleted\n",
      "key: >>airbyte/sp_api/p_account_id=EARTHS_PEARL/p_region_id=NA/p_marketplace_id=US/p_entity_id=ListFinancialEvents/p_ingestion_dt=2024-03-14/1710416589922_0.jsonl<< successfully deleted\n",
      "key: >>airbyte/sp_api/p_account_id=EARTHS_PEARL/p_region_id=NA/p_marketplace_id=US/p_entity_id=ListFinancialEvents/p_ingestion_dt=2024-03-14/1710417444180_0.jsonl<< successfully deleted\n",
      "key: >>airbyte/sp_api/p_account_id=GOOD_NATURED_SUN_ORGANICS/p_region_id=EU/p_marketplace_id=UK/p_entity_id=ListFinancialEvents/p_ingestion_dt=2024-03-14/1710415723633_0.jsonl<< successfully deleted\n",
      "key: >>airbyte/sp_api/p_account_id=GOOD_NATURED_SUN_ORGANICS/p_region_id=EU/p_marketplace_id=UK/p_entity_id=ListFinancialEvents/p_ingestion_dt=2024-03-14/1710416547656_0.jsonl<< successfully deleted\n",
      "key: >>airbyte/sp_api/p_account_id=GOOD_NATURED_SUN_ORGANICS/p_region_id=EU/p_marketplace_id=UK/p_entity_id=ListFinancialEvents/p_ingestion_dt=2024-03-14/1710417402131_0.jsonl<< successfully deleted\n",
      "key: >>airbyte/sp_api/p_account_id=GOOD_NATURED_SUN_ORGANICS/p_region_id=NA/p_marketplace_id=US/p_entity_id=ListFinancialEvents/p_ingestion_dt=2024-03-14/1710415559162_0.jsonl<< successfully deleted\n",
      "key: >>airbyte/sp_api/p_account_id=GOOD_NATURED_SUN_ORGANICS/p_region_id=NA/p_marketplace_id=US/p_entity_id=ListFinancialEvents/p_ingestion_dt=2024-03-14/1710416453528_0.jsonl<< successfully deleted\n",
      "key: >>airbyte/sp_api/p_account_id=GOOD_NATURED_SUN_ORGANICS/p_region_id=NA/p_marketplace_id=US/p_entity_id=ListFinancialEvents/p_ingestion_dt=2024-03-14/1710417308319_0.jsonl<< successfully deleted\n",
      "key: >>airbyte/sp_api/p_account_id=GOOD_NATURED_THE_ORGANIC_HEALER/p_region_id=NA/p_marketplace_id=US/p_entity_id=ListFinancialEvents/p_ingestion_dt=2024-03-14/1710415745659_0.jsonl<< successfully deleted\n",
      "key: >>airbyte/sp_api/p_account_id=GOOD_NATURED_THE_ORGANIC_HEALER/p_region_id=NA/p_marketplace_id=US/p_entity_id=ListFinancialEvents/p_ingestion_dt=2024-03-14/1710416558102_0.jsonl<< successfully deleted\n",
      "key: >>airbyte/sp_api/p_account_id=GOOD_NATURED_THE_ORGANIC_HEALER/p_region_id=NA/p_marketplace_id=US/p_entity_id=ListFinancialEvents/p_ingestion_dt=2024-03-14/1710417412457_0.jsonl<< successfully deleted\n",
      "key: >>airbyte/sp_api/p_account_id=JNW_DIRECT_EU/p_region_id=EU/p_marketplace_id=UK/p_entity_id=ListFinancialEvents/p_ingestion_dt=2024-03-14/1710415159703_0.jsonl<< successfully deleted\n",
      "key: >>airbyte/sp_api/p_account_id=JNW_DIRECT_EU/p_region_id=EU/p_marketplace_id=UK/p_entity_id=ListFinancialEvents/p_ingestion_dt=2024-03-14/1710416191982_0.jsonl<< successfully deleted\n",
      "key: >>airbyte/sp_api/p_account_id=JNW_DIRECT_EU/p_region_id=EU/p_marketplace_id=UK/p_entity_id=ListFinancialEvents/p_ingestion_dt=2024-03-14/1710417066715_0.jsonl<< successfully deleted\n",
      "key: >>airbyte/sp_api/p_account_id=JNW_DIRECT_EU/p_region_id=NA/p_marketplace_id=US/p_entity_id=ListFinancialEvents/p_ingestion_dt=2024-03-14/1710415426705_0.jsonl<< successfully deleted\n",
      "key: >>airbyte/sp_api/p_account_id=JNW_DIRECT_EU/p_region_id=NA/p_marketplace_id=US/p_entity_id=ListFinancialEvents/p_ingestion_dt=2024-03-14/1710416380617_0.jsonl<< successfully deleted\n",
      "key: >>airbyte/sp_api/p_account_id=JNW_DIRECT_EU/p_region_id=NA/p_marketplace_id=US/p_entity_id=ListFinancialEvents/p_ingestion_dt=2024-03-14/1710417233977_0.jsonl<< successfully deleted\n",
      "key: >>airbyte/sp_api/p_account_id=KG_PHYSIO/p_region_id=EU/p_marketplace_id=UK/p_entity_id=ListFinancialEvents/p_ingestion_dt=2024-03-14/1710415209817_0.jsonl<< successfully deleted\n",
      "key: >>airbyte/sp_api/p_account_id=KG_PHYSIO/p_region_id=EU/p_marketplace_id=UK/p_entity_id=ListFinancialEvents/p_ingestion_dt=2024-03-14/1710416223837_0.jsonl<< successfully deleted\n",
      "key: >>airbyte/sp_api/p_account_id=KG_PHYSIO/p_region_id=EU/p_marketplace_id=UK/p_entity_id=ListFinancialEvents/p_ingestion_dt=2024-03-14/1710417098179_0.jsonl<< successfully deleted\n",
      "key: >>airbyte/sp_api/p_account_id=OLIVER_JAMES/p_region_id=AU/p_marketplace_id=AU/p_entity_id=ListFinancialEvents/p_ingestion_dt=2024-03-14/1710415764767_0.jsonl<< successfully deleted\n",
      "key: >>airbyte/sp_api/p_account_id=OLIVER_JAMES/p_region_id=AU/p_marketplace_id=AU/p_entity_id=ListFinancialEvents/p_ingestion_dt=2024-03-14/1710416568714_0.jsonl<< successfully deleted\n",
      "key: >>airbyte/sp_api/p_account_id=OLIVER_JAMES/p_region_id=AU/p_marketplace_id=AU/p_entity_id=ListFinancialEvents/p_ingestion_dt=2024-03-14/1710417422986_0.jsonl<< successfully deleted\n",
      "key: >>airbyte/sp_api/p_account_id=OLIVER_JAMES/p_region_id=EU/p_marketplace_id=UK/p_entity_id=ListFinancialEvents/p_ingestion_dt=2024-03-14/1710415281628_0.jsonl<< successfully deleted\n",
      "key: >>airbyte/sp_api/p_account_id=OLIVER_JAMES/p_region_id=EU/p_marketplace_id=UK/p_entity_id=ListFinancialEvents/p_ingestion_dt=2024-03-14/1710416275956_0.jsonl<< successfully deleted\n",
      "key: >>airbyte/sp_api/p_account_id=OLIVER_JAMES/p_region_id=EU/p_marketplace_id=UK/p_entity_id=ListFinancialEvents/p_ingestion_dt=2024-03-14/1710417150272_0.jsonl<< successfully deleted\n",
      "key: >>airbyte/sp_api/p_account_id=OLIVER_JAMES/p_region_id=NA/p_marketplace_id=US/p_entity_id=ListFinancialEvents/p_ingestion_dt=2024-03-14/1710415364091_0.jsonl<< successfully deleted\n",
      "key: >>airbyte/sp_api/p_account_id=OLIVER_JAMES/p_region_id=NA/p_marketplace_id=US/p_entity_id=ListFinancialEvents/p_ingestion_dt=2024-03-14/1710416338844_0.jsonl<< successfully deleted\n",
      "key: >>airbyte/sp_api/p_account_id=OLIVER_JAMES/p_region_id=NA/p_marketplace_id=US/p_entity_id=ListFinancialEvents/p_ingestion_dt=2024-03-14/1710417202838_0.jsonl<< successfully deleted\n",
      "key: >>airbyte/sp_api/p_account_id=ONCO/p_region_id=EU/p_marketplace_id=UK/p_entity_id=ListFinancialEvents/p_ingestion_dt=2024-03-14/1710415323346_0.jsonl<< successfully deleted\n",
      "key: >>airbyte/sp_api/p_account_id=ONCO/p_region_id=EU/p_marketplace_id=UK/p_entity_id=ListFinancialEvents/p_ingestion_dt=2024-03-14/1710416297063_0.jsonl<< successfully deleted\n",
      "key: >>airbyte/sp_api/p_account_id=ONCO/p_region_id=EU/p_marketplace_id=UK/p_entity_id=ListFinancialEvents/p_ingestion_dt=2024-03-14/1710417170820_0.jsonl<< successfully deleted\n",
      "key: >>airbyte/sp_api/p_account_id=ONCO/p_region_id=NA/p_marketplace_id=US/p_entity_id=ListFinancialEvents/p_ingestion_dt=2024-03-14/1710415703415_0.jsonl<< successfully deleted\n",
      "key: >>airbyte/sp_api/p_account_id=ONCO/p_region_id=NA/p_marketplace_id=US/p_entity_id=ListFinancialEvents/p_ingestion_dt=2024-03-14/1710416536924_0.jsonl<< successfully deleted\n",
      "key: >>airbyte/sp_api/p_account_id=ONCO/p_region_id=NA/p_marketplace_id=US/p_entity_id=ListFinancialEvents/p_ingestion_dt=2024-03-14/1710417391595_0.jsonl<< successfully deleted\n",
      "key: >>airbyte/sp_api/p_account_id=PREMIUM_CARE/p_region_id=NA/p_marketplace_id=US/p_entity_id=ListFinancialEvents/p_ingestion_dt=2024-03-14/1710415663937_0.jsonl<< successfully deleted\n",
      "key: >>airbyte/sp_api/p_account_id=PREMIUM_CARE/p_region_id=NA/p_marketplace_id=US/p_entity_id=ListFinancialEvents/p_ingestion_dt=2024-03-14/1710416506020_0.jsonl<< successfully deleted\n",
      "key: >>airbyte/sp_api/p_account_id=PREMIUM_CARE/p_region_id=NA/p_marketplace_id=US/p_entity_id=ListFinancialEvents/p_ingestion_dt=2024-03-14/1710417360385_0.jsonl<< successfully deleted\n",
      "key: >>airbyte/sp_api/p_account_id=SNUGGLE_ME_ORGANIC/p_region_id=NA/p_marketplace_id=US/p_entity_id=ListFinancialEvents/p_ingestion_dt=2024-03-14/1710415919329_0.jsonl<< successfully deleted\n",
      "key: >>airbyte/sp_api/p_account_id=SNUGGLE_ME_ORGANIC/p_region_id=NA/p_marketplace_id=US/p_entity_id=ListFinancialEvents/p_ingestion_dt=2024-03-14/1710416662769_0.jsonl<< successfully deleted\n",
      "key: >>airbyte/sp_api/p_account_id=SNUGGLE_ME_ORGANIC/p_region_id=NA/p_marketplace_id=US/p_entity_id=ListFinancialEvents/p_ingestion_dt=2024-03-14/1710417500752_0.jsonl<< successfully deleted\n",
      "key: >>airbyte/sp_api/p_account_id=THERA/p_region_id=EU/p_marketplace_id=UK/p_entity_id=ListFinancialEvents/p_ingestion_dt=2024-03-14/1710415340982_0.jsonl<< successfully deleted\n",
      "key: >>airbyte/sp_api/p_account_id=THERA/p_region_id=EU/p_marketplace_id=UK/p_entity_id=ListFinancialEvents/p_ingestion_dt=2024-03-14/1710416317580_0.jsonl<< successfully deleted\n",
      "key: >>airbyte/sp_api/p_account_id=THERA/p_region_id=EU/p_marketplace_id=UK/p_entity_id=ListFinancialEvents/p_ingestion_dt=2024-03-14/1710417181859_0.jsonl<< successfully deleted\n",
      "key: >>airbyte/sp_api/p_account_id=THERA/p_region_id=NA/p_marketplace_id=US/p_entity_id=ListFinancialEvents/p_ingestion_dt=2024-03-14/1710415383366_0.jsonl<< successfully deleted\n",
      "key: >>airbyte/sp_api/p_account_id=THERA/p_region_id=NA/p_marketplace_id=US/p_entity_id=ListFinancialEvents/p_ingestion_dt=2024-03-14/1710416359219_0.jsonl<< successfully deleted\n",
      "key: >>airbyte/sp_api/p_account_id=THERA/p_region_id=NA/p_marketplace_id=US/p_entity_id=ListFinancialEvents/p_ingestion_dt=2024-03-14/1710417213374_0.jsonl<< successfully deleted\n",
      "key: >>airbyte/sp_api/p_account_id=THERAFLOW/p_region_id=AU/p_marketplace_id=AU/p_entity_id=ListFinancialEvents/p_ingestion_dt=2024-03-14/1710416134690_0.jsonl<< successfully deleted\n",
      "key: >>airbyte/sp_api/p_account_id=THERAFLOW/p_region_id=AU/p_marketplace_id=AU/p_entity_id=ListFinancialEvents/p_ingestion_dt=2024-03-14/1710416778189_0.jsonl<< successfully deleted\n",
      "key: >>airbyte/sp_api/p_account_id=THERAFLOW/p_region_id=EU/p_marketplace_id=UK/p_entity_id=ListFinancialEvents/p_ingestion_dt=2024-03-14/1710415518232_0.jsonl<< successfully deleted\n",
      "key: >>airbyte/sp_api/p_account_id=THERAFLOW/p_region_id=EU/p_marketplace_id=UK/p_entity_id=ListFinancialEvents/p_ingestion_dt=2024-03-14/1710416432313_0.jsonl<< successfully deleted\n",
      "key: >>airbyte/sp_api/p_account_id=THERAFLOW/p_region_id=EU/p_marketplace_id=UK/p_entity_id=ListFinancialEvents/p_ingestion_dt=2024-03-14/1710417286668_0.jsonl<< successfully deleted\n",
      "key: >>airbyte/sp_api/p_account_id=THERAFLOW/p_region_id=NA/p_marketplace_id=US/p_entity_id=ListFinancialEvents/p_ingestion_dt=2024-03-14/1710415404741_0.jsonl<< successfully deleted\n",
      "key: >>airbyte/sp_api/p_account_id=THERAFLOW/p_region_id=NA/p_marketplace_id=US/p_entity_id=ListFinancialEvents/p_ingestion_dt=2024-03-14/1710416370009_0.jsonl<< successfully deleted\n",
      "key: >>airbyte/sp_api/p_account_id=THERAFLOW/p_region_id=NA/p_marketplace_id=US/p_entity_id=ListFinancialEvents/p_ingestion_dt=2024-03-14/1710417223721_0.jsonl<< successfully deleted\n",
      "key: >>airbyte/sp_api/p_account_id=TOLDI/p_region_id=EU/p_marketplace_id=UK/p_entity_id=ListFinancialEvents/p_ingestion_dt=2024-03-14/1710415107593_0.jsonl<< successfully deleted\n",
      "key: >>airbyte/sp_api/p_account_id=TOLDI/p_region_id=EU/p_marketplace_id=UK/p_entity_id=ListFinancialEvents/p_ingestion_dt=2024-03-14/1710416139401_0.jsonl<< successfully deleted\n",
      "key: >>airbyte/sp_api/p_account_id=TOLDI/p_region_id=EU/p_marketplace_id=UK/p_entity_id=ListFinancialEvents/p_ingestion_dt=2024-03-14/1710416788681_0.jsonl<< successfully deleted\n",
      "key: >>airbyte/sp_api/p_account_id=TOLDI/p_region_id=EU/p_marketplace_id=UK/p_entity_id=ListFinancialEvents/p_ingestion_dt=2024-03-14/1710417014193_0.jsonl<< successfully deleted\n",
      "key: >>airbyte/sp_api/p_account_id=TOLDI/p_region_id=NA/p_marketplace_id=US/p_entity_id=ListFinancialEvents/p_ingestion_dt=2024-03-14/1710415186577_0.jsonl<< successfully deleted\n",
      "key: >>airbyte/sp_api/p_account_id=TOLDI/p_region_id=NA/p_marketplace_id=US/p_entity_id=ListFinancialEvents/p_ingestion_dt=2024-03-14/1710416213430_0.jsonl<< successfully deleted\n",
      "key: >>airbyte/sp_api/p_account_id=TOLDI/p_region_id=NA/p_marketplace_id=US/p_entity_id=ListFinancialEvents/p_ingestion_dt=2024-03-14/1710417088142_0.jsonl<< successfully deleted\n",
      "key: >>airbyte/sp_api/p_account_id=TRUNKI_EU/p_region_id=EU/p_marketplace_id=UK/p_entity_id=ListFinancialEvents/p_ingestion_dt=2024-03-14/1710416075691_0.jsonl<< successfully deleted\n",
      "key: >>airbyte/sp_api/p_account_id=TRUNKI_EU/p_region_id=EU/p_marketplace_id=UK/p_entity_id=ListFinancialEvents/p_ingestion_dt=2024-03-14/1710416746630_0.jsonl<< successfully deleted\n",
      "key: >>airbyte/sp_api/p_account_id=TRUNKI_US/p_region_id=NA/p_marketplace_id=US/p_entity_id=ListFinancialEvents/p_ingestion_dt=2024-03-14/1710415456403_0.jsonl<< successfully deleted\n",
      "key: >>airbyte/sp_api/p_account_id=TRUNKI_US/p_region_id=NA/p_marketplace_id=US/p_entity_id=ListFinancialEvents/p_ingestion_dt=2024-03-14/1710416400848_0.jsonl<< successfully deleted\n",
      "key: >>airbyte/sp_api/p_account_id=TRUNKI_US/p_region_id=NA/p_marketplace_id=US/p_entity_id=ListFinancialEvents/p_ingestion_dt=2024-03-14/1710417254969_0.jsonl<< successfully deleted\n",
      "key: >>airbyte/sp_api/p_account_id=TUTTI_BAMBINI/p_region_id=EU/p_marketplace_id=UK/p_entity_id=ListFinancialEvents/p_ingestion_dt=2024-03-14/1710415117387_0.jsonl<< successfully deleted\n",
      "key: >>airbyte/sp_api/p_account_id=TUTTI_BAMBINI/p_region_id=EU/p_marketplace_id=UK/p_entity_id=ListFinancialEvents/p_ingestion_dt=2024-03-14/1710416149887_0.jsonl<< successfully deleted\n",
      "key: >>airbyte/sp_api/p_account_id=TUTTI_BAMBINI/p_region_id=EU/p_marketplace_id=UK/p_entity_id=ListFinancialEvents/p_ingestion_dt=2024-03-14/1710416799020_0.jsonl<< successfully deleted\n",
      "key: >>airbyte/sp_api/p_account_id=TUTTI_BAMBINI/p_region_id=EU/p_marketplace_id=UK/p_entity_id=ListFinancialEvents/p_ingestion_dt=2024-03-14/1710417024727_0.jsonl<< successfully deleted\n"
     ]
    }
   ],
   "source": [
    "# deleting objects one by one\n",
    "for i in s3_keys_filtered:\n",
    "    print(s3_one_by_one(bucket, i))"
   ]
  }
 ],
 "metadata": {
  "interpreter": {
   "hash": "aee8b7b246df8f9039afb4144a1f6fd8d2ca17a180786b69acc140d282b71a49"
  },
  "kernelspec": {
   "display_name": "Python 3.9.2 64-bit",
   "name": "python3"
  },
  "language_info": {
   "codemirror_mode": {
    "name": "ipython",
    "version": 3
   },
   "file_extension": ".py",
   "mimetype": "text/x-python",
   "name": "python",
   "nbconvert_exporter": "python",
   "pygments_lexer": "ipython3",
   "version": "3.10.13"
  },
  "orig_nbformat": 4
 },
 "nbformat": 4,
 "nbformat_minor": 2
}

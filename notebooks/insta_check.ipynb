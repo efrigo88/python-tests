{
 "cells": [
  {
   "cell_type": "code",
   "execution_count": 2,
   "metadata": {},
   "outputs": [],
   "source": [
    "import instaloader"
   ]
  },
  {
   "cell_type": "code",
   "execution_count": 5,
   "metadata": {},
   "outputs": [],
   "source": [
    "L = instaloader.Instaloader()\n",
    "\n",
    "username = 'emifff__'\n",
    "password = 'ulambator1988'\n",
    "\n",
    "L.login(username, password)"
   ]
  },
  {
   "cell_type": "code",
   "execution_count": 6,
   "metadata": {},
   "outputs": [],
   "source": [
    "profile = instaloader.Profile.from_username(L.context, username)"
   ]
  },
  {
   "cell_type": "code",
   "execution_count": 7,
   "metadata": {},
   "outputs": [
    {
     "data": {
      "text/plain": [
       "['__class__',\n",
       " '__delattr__',\n",
       " '__dict__',\n",
       " '__dir__',\n",
       " '__doc__',\n",
       " '__eq__',\n",
       " '__firstlineno__',\n",
       " '__format__',\n",
       " '__ge__',\n",
       " '__getattribute__',\n",
       " '__getstate__',\n",
       " '__gt__',\n",
       " '__hash__',\n",
       " '__init__',\n",
       " '__init_subclass__',\n",
       " '__le__',\n",
       " '__lt__',\n",
       " '__module__',\n",
       " '__ne__',\n",
       " '__new__',\n",
       " '__reduce__',\n",
       " '__reduce_ex__',\n",
       " '__repr__',\n",
       " '__setattr__',\n",
       " '__sizeof__',\n",
       " '__static_attributes__',\n",
       " '__str__',\n",
       " '__subclasshook__',\n",
       " '__weakref__',\n",
       " '_asdict',\n",
       " '_context',\n",
       " '_has_full_metadata',\n",
       " '_has_public_story',\n",
       " '_iphone_struct',\n",
       " '_iphone_struct_',\n",
       " '_make_is_newest_checker',\n",
       " '_metadata',\n",
       " '_node',\n",
       " '_obtain_metadata',\n",
       " 'biography',\n",
       " 'biography_hashtags',\n",
       " 'biography_mentions',\n",
       " 'blocked_by_viewer',\n",
       " 'business_category_name',\n",
       " 'external_url',\n",
       " 'followed_by_viewer',\n",
       " 'followees',\n",
       " 'followers',\n",
       " 'follows_viewer',\n",
       " 'from_id',\n",
       " 'from_iphone_struct',\n",
       " 'from_username',\n",
       " 'full_name',\n",
       " 'get_followed_hashtags',\n",
       " 'get_followees',\n",
       " 'get_followers',\n",
       " 'get_igtv_posts',\n",
       " 'get_posts',\n",
       " 'get_profile_pic_url',\n",
       " 'get_reels',\n",
       " 'get_saved_posts',\n",
       " 'get_similar_accounts',\n",
       " 'get_tagged_posts',\n",
       " 'has_blocked_viewer',\n",
       " 'has_highlight_reels',\n",
       " 'has_public_story',\n",
       " 'has_requested_viewer',\n",
       " 'has_viewable_story',\n",
       " 'igtvcount',\n",
       " 'is_business_account',\n",
       " 'is_private',\n",
       " 'is_verified',\n",
       " 'mediacount',\n",
       " 'own_profile',\n",
       " 'profile_pic_url',\n",
       " 'profile_pic_url_no_iphone',\n",
       " 'requested_by_viewer',\n",
       " 'userid',\n",
       " 'username']"
      ]
     },
     "execution_count": 7,
     "metadata": {},
     "output_type": "execute_result"
    }
   ],
   "source": [
    "dir(profile)"
   ]
  },
  {
   "cell_type": "code",
   "execution_count": 8,
   "metadata": {},
   "outputs": [
    {
     "name": "stdout",
     "output_type": "stream",
     "text": [
      "Followers: (205): {'pereyra.lara', 'daqui12', 'bornacinflor', 'manuelserra17', 'mgarbuglia', 'massimobiribanti', 'marialujantripoli', 'nicosistemas', 'nacho.ibarbia', 'lichusantarosa', 'pupiparis', 'julian.iervasi', 'gonzalobarichello', 'ivanbertani10', 'franco.casile', 'ericb_88', 'marymagniesi', 'victoriaclementin_', 'valdezivan_', 'emilianoberlanga', 'mengoarg', 'mancinihumberto', 'erica.ratto', 'carmen.gloria.martinez_m', 'herniespi', 'ivan.gnx', 'federicopirchio', 'lucascasilda', 'aracastelletta', 'vidaalan1', 'max_urra_escobar_', 'patricio.rgz', 'gui.turtu', 'lisaan66', 'puntoyjota', 'luisgserra', 'pauljferrero', 'carloscalvinp', 'lucas.pozzobon', 'michael.medina.07', 'ra.harari', 'leadonato11', 'nico_perin', 'mariiangio', 'pablo.zucco.3', 'matiasestebansalmeri', 'fercapri90', 's3bastian.ar', 'annalisa_donato_', 'j.dorigoni', 'franco.her', 'theunderfox__', 'mauriborgiani', 'anderibarbia', 'ivostrficek', 'leikaplan', 'romantaca', 'romigmez', 'fedex_adv', 'fabitassi12', 'nestor_moschen', 'flore21_mges', 'leonelcortes1', 'miguelpino95', 'gerarlosada', 'ligia.tantu', 'cefrigo16', 'tefy.ferrucci', 'leobaila', 'camisimonit', 'manuelfr03', 'dom_rgs', 'franhuel', 'ornegimenez', 'rikyqc', 'mar_marinaferrari', 'ramimoretti', 'willi_senpai_', 'josedelpopolo', 'ema_salpe', 'enzopietrobon', 'verobaldoma', 'andres.petrelli', 'kenitamatoamatute', 'anphot', 'nicomijoch', 'martin_mazzei1', 'martinlopezjordan', 'fede.aguirre', 'eli.galvez.2', 'francobalduzzi', 'genaro._', 'pigozzisoledad', 'ivan.carrancio', 'natuferra', 'gargioficial', 'espinosa.euge', 'jesiotta', 'guillebuys', 'jd_eldani', 'claudia.dominguez.18007', 'juli.yema', 'facundonotar', 'chedus', 'alexbngl', 'juanimagarinos', 'dosmandarinasalsol', 'chicharengo', 'mbtroncoso', 'aledanieli06', 'aleeex_perez_97', 'sebanicolich', 'walterdipre', 'joaquinmusanti', 'mariotepozzi', 'carlamammarelli', 'kebaek', 'maguitash_ferra', 'lucascichirilo', 'raqueferrari', 'elianjesnat', 'martinvelit', 'tonijuanmanuel', 'tutobosch', 'flavifd', 'jupagni', '2112_sublimaciones', 'gastondipre08', 'villamilenios', 'cefranllyperez', '_pau.mac', 'leo_dl97', 'julicomito', 'jorgelina.salas', 'maycotallei', 'francogiuffrida', 'alegcasilda', 'agusbonavera', 'lalygarcia28', 'sebastianferrucci', 'euge.defreites', 'ariel_fraccaro', 'albanoballini', 'mar.angio', 'zai.snz', 'alejandrags93', 'juan.cruzserra', 'ivandonni1', 'sr.osgiliath', 'beat.maga', 'leonardocecotti', 'andres_daloisio', 'ivanbma', 'gabi_fer.ferrari', 'danidebiassi', 'nicomarziali89', 'edgarubio90', 'nicolasbontorin', 'mauroocatalano', 'pablogabriel.cardoso', 'cristian_serafin', 'florrcisramirez', 'yoccofranco', 'ro.gonzalez11532', 'whiteheadjuan', 'vickiborelli', 'greta.gaupmann', 'modotravl', 'valenmarimon', 'panchokary', 'lucho.nicolay', 'fdilello', 'luciamoyano', 'julilpizzo', 'nuris.blu', 'francoferreyra.14', 'rodrihofer', 'iplaul', 'manuel.dipre', 'emymariaemilia', 'marianogiustozzii', 'sacchinifranco', 'roobertodimarco', 'flobureu', 'mblegnini', 'enzofiunga', 'fabian.marani', 'aristides_sinapellido', 'fedecarossino', 'natipiniero89', 'saabri_gr', '_victorferrer_', 'florenciapirchio', 'laureanavillarreal_9', 'lilibusso_', 'pablograbich', 'caro_dido', 'sebasaldabe', 'alegobby', 'nico.turtu', 'germelo', 'guzzipa', 'lara.bouvier', 'cari.buss', 'martinguereta'}\n",
      "Followees: (199): {'pereyra.lara', 'daqui12', 'bornacinflor', 'manuelserra17', 'mgarbuglia', 'massimobiribanti', 'marialujantripoli', 'nicosistemas', 'nacho.ibarbia', 'lichusantarosa', 'pupiparis', 'julian.iervasi', 'gonzalobarichello', 'ivanbertani10', 'franco.casile', 'ericb_88', 'marymagniesi', 'victoriaclementin_', 'valdezivan_', 'emilianoberlanga', 'mengoarg', 'mancinihumberto', 'erica.ratto', 'carmen.gloria.martinez_m', 'herniespi', 'ivan.gnx', 'federicopirchio', 'lucascasilda', 'aracastelletta', 'vidaalan1', 'max_urra_escobar_', 'patricio.rgz', 'gui.turtu', 'lisaan66', 'puntoyjota', 'luisgserra', 'pauljferrero', 'carloscalvinp', 'lucas.pozzobon', 'michael.medina.07', 'ra.harari', 'leadonato11', 'mariiangio', 'nico_perin', 'pablo.zucco.3', 'matiasestebansalmeri', 'fercapri90', 's3bastian.ar', 'annalisa_donato_', 'j.dorigoni', 'franco.her', 'theunderfox__', 'mauriborgiani', 'anderibarbia', 'ivostrficek', 'leikaplan', 'romantaca', 'romigmez', 'fedex_adv', 'fabitassi12', 'nestor_moschen', 'leonelcortes1', 'miguelpino95', 'gerarlosada', 'ligia.tantu', 'cefrigo16', 'tefy.ferrucci', 'leobaila', 'manuelfr03', 'dom_rgs', 'franhuel', 'ornegimenez', 'rikyqc', 'mar_marinaferrari', 'ramimoretti', 'willi_senpai_', 'josedelpopolo', 'ema_salpe', 'enzopietrobon', 'verobaldoma', 'andres.petrelli', 'kenitamatoamatute', 'anphot', 'nicomijoch', 'martin_mazzei1', 'martinlopezjordan', 'fede.aguirre', 'eli.galvez.2', 'francobalduzzi', 'genaro._', 'pigozzisoledad', 'ivan.carrancio', 'natuferra', 'gargioficial', 'espinosa.euge', 'jesiotta', 'guillebuys', 'jd_eldani', 'juli.yema', 'facundonotar', 'chedus', 'alexbngl', 'juanimagarinos', 'dosmandarinasalsol', 'chicharengo', 'mbtroncoso', 'aledanieli06', 'aleeex_perez_97', 'sebanicolich', 'walterdipre', 'joaquinmusanti', 'mariotepozzi', 'carlamammarelli', 'kebaek', 'maguitash_ferra', 'lucascichirilo', 'raqueferrari', 'elianjesnat', 'martinvelit', 'tonijuanmanuel', 'tutobosch', 'flavifd', 'jupagni', '2112_sublimaciones', 'gastondipre08', 'villamilenios', 'cefranllyperez', '_pau.mac', 'leo_dl97', 'julicomito', 'jorgelina.salas', 'maycotallei', 'francogiuffrida', 'alegcasilda', 'agusbonavera', 'lalygarcia28', 'sebastianferrucci', 'euge.defreites', 'ariel_fraccaro', 'albanoballini', 'juan.cruzserra', 'mar.angio', 'zai.snz', 'alejandrags93', 'ivandonni1', 'sr.osgiliath', 'beat.maga', 'leonardocecotti', 'andres_daloisio', 'ivanbma', 'gabi_fer.ferrari', 'danidebiassi', 'nicomarziali89', 'edgarubio90', 'nicolasbontorin', 'mauroocatalano', 'cristian_serafin', 'florrcisramirez', 'yoccofranco', 'ro.gonzalez11532', 'whiteheadjuan', 'vickiborelli', 'greta.gaupmann', 'modotravl', 'valenmarimon', 'lucho.nicolay', 'fdilello', 'luciamoyano', 'julilpizzo', 'nuris.blu', 'francoferreyra.14', 'rodrihofer', 'iplaul', 'manuel.dipre', 'emymariaemilia', 'marianogiustozzii', 'sacchinifranco', 'roobertodimarco', 'flobureu', 'mblegnini', 'enzofiunga', 'fabian.marani', 'aristides_sinapellido', 'fedecarossino', 'saabri_gr', '_victorferrer_', 'florenciapirchio', 'laureanavillarreal_9', 'lilibusso_', 'pablograbich', 'caro_dido', 'sebasaldabe', 'alegobby', 'nico.turtu', 'germelo', 'guzzipa', 'lara.bouvier', 'cari.buss', 'martinguereta'}\n"
     ]
    }
   ],
   "source": [
    "followers = set(follower.username for follower in profile.get_followers())\n",
    "followees = set(followee.username for followee in profile.get_followees())\n",
    "\n",
    "print(f\"Followers: ({len(followers)}): {followers}\")\n",
    "print(f\"Followees: ({len(followees)}): {followees}\")"
   ]
  },
  {
   "cell_type": "code",
   "execution_count": 10,
   "metadata": {},
   "outputs": [
    {
     "name": "stdout",
     "output_type": "stream",
     "text": [
      "Don't follow you back: set()\n"
     ]
    }
   ],
   "source": [
    "not_following_back = followees - followers\n",
    "print(f\"Don't follow you back: {not_following_back}\")"
   ]
  },
  {
   "cell_type": "code",
   "execution_count": 11,
   "metadata": {},
   "outputs": [
    {
     "name": "stdout",
     "output_type": "stream",
     "text": [
      "You don't follow back: {'claudia.dominguez.18007', 'flore21_mges', 'panchokary', 'pablogabriel.cardoso', 'natipiniero89', 'camisimonit'}\n"
     ]
    }
   ],
   "source": [
    "not_follow_back = followers - followees \n",
    "print(f\"You don't follow back: {not_follow_back}\")"
   ]
  },
  {
   "cell_type": "code",
   "execution_count": null,
   "metadata": {},
   "outputs": [],
   "source": []
  }
 ],
 "metadata": {
  "kernelspec": {
   "display_name": ".venv",
   "language": "python",
   "name": "python3"
  },
  "language_info": {
   "codemirror_mode": {
    "name": "ipython",
    "version": 3
   },
   "file_extension": ".py",
   "mimetype": "text/x-python",
   "name": "python",
   "nbconvert_exporter": "python",
   "pygments_lexer": "ipython3",
   "version": "3.13.1"
  },
  "orig_nbformat": 4
 },
 "nbformat": 4,
 "nbformat_minor": 2
}

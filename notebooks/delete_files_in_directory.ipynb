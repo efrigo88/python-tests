{
 "cells": [
  {
   "cell_type": "code",
   "execution_count": 89,
   "metadata": {},
   "outputs": [],
   "source": [
    "import os"
   ]
  },
  {
   "cell_type": "code",
   "execution_count": 90,
   "metadata": {},
   "outputs": [],
   "source": [
    "directory = '/Volumes/ExtremeSSD/DATA/Recitales/'"
   ]
  },
  {
   "cell_type": "code",
   "execution_count": 91,
   "metadata": {},
   "outputs": [],
   "source": [
    "TO_DELETE = [\n",
    "    \".avi\",\n",
    "    \".AVI\",\n",
    "    \".mkv\",\n",
    "    \".mpg\", \n",
    "    \".rm\",\n",
    "    \".flv\",\n",
    "    \".3gp\",\n",
    "    \".3gp\",\n",
    "    \".3GP\",\n",
    "    \".MOV\",\n",
    "]"
   ]
  },
  {
   "cell_type": "code",
   "execution_count": 92,
   "metadata": {},
   "outputs": [],
   "source": [
    "def get_files_in_directory(directory) -> list:\n",
    "    file_paths = []\n",
    "    for root, _, files in os.walk(directory):\n",
    "        for file in files:\n",
    "            if any(fmt in file for fmt in TO_DELETE):\n",
    "                file_paths.append(os.path.join(root, file))\n",
    "    return file_paths"
   ]
  },
  {
   "cell_type": "code",
   "execution_count": 93,
   "metadata": {},
   "outputs": [],
   "source": [
    "def permanently_delete_file(file_path):\n",
    "    try:\n",
    "        os.remove(file_path)\n",
    "        print(f\"Deleted: {file_path}\")\n",
    "    except FileNotFoundError:\n",
    "        print(f\"File not found: {file_path}\")\n",
    "    except Exception as e:\n",
    "        print(f\"Error deleting file {file_path}: {e}\")"
   ]
  },
  {
   "cell_type": "code",
   "execution_count": 94,
   "metadata": {},
   "outputs": [],
   "source": [
    "files = get_files_in_directory(directory)\n",
    "# for i in files[:5]:\n",
    "#     print(i)"
   ]
  },
  {
   "cell_type": "code",
   "execution_count": 95,
   "metadata": {},
   "outputs": [
    {
     "data": {
      "text/plain": [
       "39"
      ]
     },
     "execution_count": 95,
     "metadata": {},
     "output_type": "execute_result"
    }
   ],
   "source": [
    "len(files)"
   ]
  },
  {
   "cell_type": "code",
   "execution_count": 96,
   "metadata": {},
   "outputs": [
    {
     "name": "stdout",
     "output_type": "stream",
     "text": [
      "Deleted: /Volumes/ExtremeSSD/DATA/Maga/CATARATAS/CATARATAS 18-08-16/Argentina/MVI_4951.MOV\n",
      "Deleted: /Volumes/ExtremeSSD/DATA/Maga/CATARATAS/CATARATAS 18-08-16/Argentina/MVI_4968.MOV\n",
      "Deleted: /Volumes/ExtremeSSD/DATA/Maga/CATARATAS/CATARATAS 18-08-16/Argentina/MVI_4980.MOV\n",
      "Deleted: /Volumes/ExtremeSSD/DATA/Maga/CATARATAS/CATARATAS 18-08-16/Argentina/MVI_4985.MOV\n",
      "Deleted: /Volumes/ExtremeSSD/DATA/Maga/CATARATAS/CATARATAS 18-08-16/Argentina/MVI_4986.MOV\n",
      "Deleted: /Volumes/ExtremeSSD/DATA/Maga/CATARATAS/CATARATAS 18-08-16/Argentina/MVI_4992.MOV\n",
      "Deleted: /Volumes/ExtremeSSD/DATA/Maga/Galaxy S6/WhatsApp Video/VID-20180220-WA0002.3gp\n",
      "Deleted: /Volumes/ExtremeSSD/DATA/Maga/Galaxy S6/WhatsApp Video/VID-20180317-WA0007.3gp\n",
      "Deleted: /Volumes/ExtremeSSD/DATA/Maga/Lenovo 2016/CATARATAS/CATARATAS 18-08-16/Argentina/MVI_4951.MOV\n",
      "Deleted: /Volumes/ExtremeSSD/DATA/Maga/Lenovo 2016/CATARATAS/CATARATAS 18-08-16/Argentina/MVI_4968.MOV\n",
      "Deleted: /Volumes/ExtremeSSD/DATA/Maga/Lenovo 2016/CATARATAS/CATARATAS 18-08-16/Argentina/MVI_4980.MOV\n",
      "Deleted: /Volumes/ExtremeSSD/DATA/Maga/Lenovo 2016/CATARATAS/CATARATAS 18-08-16/Argentina/MVI_4985.MOV\n",
      "Deleted: /Volumes/ExtremeSSD/DATA/Maga/Lenovo 2016/CATARATAS/CATARATAS 18-08-16/Argentina/MVI_4986.MOV\n",
      "Deleted: /Volumes/ExtremeSSD/DATA/Maga/Lenovo 2016/CATARATAS/CATARATAS 18-08-16/Argentina/MVI_4992.MOV\n",
      "Deleted: /Volumes/ExtremeSSD/DATA/Maga/MSI datos/nora fotos/100___01/MVI_0007.MOV\n",
      "Deleted: /Volumes/ExtremeSSD/DATA/Maga/MSI datos/nora fotos/107___07/MVI_0340.MOV\n",
      "Deleted: /Volumes/ExtremeSSD/DATA/Maga/MSI datos/nora fotos/110___10/MVI_0382.MOV\n",
      "Deleted: /Volumes/ExtremeSSD/DATA/Maga/MSI datos/nora fotos/110___10/MVI_0385.MOV\n",
      "Deleted: /Volumes/ExtremeSSD/DATA/Maga/MSI datos/nora fotos/110___10/MVI_0388.MOV\n",
      "Deleted: /Volumes/ExtremeSSD/DATA/Maga/MSI datos/nora fotos/110___10/MVI_0405.MOV\n",
      "Deleted: /Volumes/ExtremeSSD/DATA/Maga/MSI datos/nora fotos/110___10/MVI_0406.MOV\n",
      "Deleted: /Volumes/ExtremeSSD/DATA/Maga/Sakura Neko/celu motorola/DCIM/Camera/2012-06-23_15-33-42_140.3gp\n",
      "Deleted: /Volumes/ExtremeSSD/DATA/Maga/Sakura Neko/celu motorola/DCIM/Camera/2012-06-23_15-34-04_646.3gp\n",
      "Deleted: /Volumes/ExtremeSSD/DATA/Maga/Sakura Neko/celu motorola/DCIM/Camera/2012-07-27_20-45-18_735.3gp\n",
      "Deleted: /Volumes/ExtremeSSD/DATA/Maga/Sakura Neko/celu motorola/DCIM/Camera/2012-08-29_14-08-02_552.3gp\n",
      "Deleted: /Volumes/ExtremeSSD/DATA/Maga/Sakura Neko/celu motorola/DCIM/Camera/2012-08-29_18-42-28_665.3gp\n",
      "Deleted: /Volumes/ExtremeSSD/DATA/Maga/Sakura Neko/celu motorola/DCIM/Camera/2012-09-10_19-31-46_763.3gp\n",
      "Deleted: /Volumes/ExtremeSSD/DATA/Maga/Sakura Neko/celu motorola/DCIM/Camera/2012-10-22_12-57-45_887.3gp\n",
      "Deleted: /Volumes/ExtremeSSD/DATA/Maga/Sakura Neko/celu motorola/DCIM/Camera/2012-10-22_13-00-13_51.3gp\n",
      "Deleted: /Volumes/ExtremeSSD/DATA/Maga/Sakura Neko/celu motorola/DCIM/Camera/2012-10-22_13-13-10_729.3gp\n",
      "Deleted: /Volumes/ExtremeSSD/DATA/Maga/Sakura Neko/celu motorola/DCIM/Camera/2013-07-13_14-50-14_55.3gp\n",
      "Deleted: /Volumes/ExtremeSSD/DATA/Maga/Sakura Neko/celu motorola/DCIM/Camera/2013-07-28_04-49-50_205.3gp\n",
      "Deleted: /Volumes/ExtremeSSD/DATA/Maga/San Rafael julio 2014/Camara Cannon/MVI_3040.MOV\n",
      "Deleted: /Volumes/ExtremeSSD/DATA/Maga/San Rafael julio 2014/Camara Cannon/MVI_3200.MOV\n",
      "Deleted: /Volumes/ExtremeSSD/DATA/Maga/San Rafael julio 2014/Camara Cannon/MVI_3201.MOV\n",
      "Deleted: /Volumes/ExtremeSSD/DATA/Maga/San Rafael julio 2014/Camara Cannon/MVI_3329.MOV\n",
      "Deleted: /Volumes/ExtremeSSD/DATA/Maga/San Rafael julio 2014/Camara Cannon/MVI_3914.MOV\n",
      "Deleted: /Volumes/ExtremeSSD/DATA/Maga/San Rafael julio 2014/camara sony (mia)/MOV00916.AVI\n",
      "Deleted: /Volumes/ExtremeSSD/DATA/Maga/San Rafael julio 2014/camara sony (mia)/MOV00930.AVI\n"
     ]
    }
   ],
   "source": [
    "for file in (files):\n",
    "    permanently_delete_file(file)\n"
   ]
  }
 ],
 "metadata": {
  "kernelspec": {
   "display_name": ".venv",
   "language": "python",
   "name": "python3"
  },
  "language_info": {
   "codemirror_mode": {
    "name": "ipython",
    "version": 3
   },
   "file_extension": ".py",
   "mimetype": "text/x-python",
   "name": "python",
   "nbconvert_exporter": "python",
   "pygments_lexer": "ipython3",
   "version": "3.10.3"
  }
 },
 "nbformat": 4,
 "nbformat_minor": 2
}

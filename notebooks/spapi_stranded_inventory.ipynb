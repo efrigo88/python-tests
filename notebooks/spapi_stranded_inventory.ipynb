{
 "cells": [
  {
   "cell_type": "markdown",
   "id": "1ca07505",
   "metadata": {},
   "source": [
    "# SP API Examples\n",
    "This notebook is an bare-bone example on how to query Amazon SP API.\n",
    "Useful for API exploration and debugging purposes."
   ]
  },
  {
   "cell_type": "code",
   "execution_count": 6,
   "id": "a8f135bf",
   "metadata": {},
   "outputs": [],
   "source": [
    "import boto3\n",
    "import requests\n",
    "import json\n",
    "import os\n",
    "import zlib\n",
    "import json\n",
    "import io\n",
    "from botocore.exceptions import ClientError"
   ]
  },
  {
   "cell_type": "markdown",
   "id": "9783815e",
   "metadata": {},
   "source": [
    "## Configuration"
   ]
  },
  {
   "cell_type": "code",
   "execution_count": 5,
   "id": "16e71640",
   "metadata": {},
   "outputs": [],
   "source": [
    "AWS_CRED_PROFILE_NAME = \"data-prod\"\n",
    "AWS_SESSION_TOKEN = \"\"\n",
    "\n",
    "# config this\n",
    "account_name = \"beco\"\n",
    "account_region = \"EU\"\n",
    "marketplace_id = (\n",
    "    \"A1F83G8C2ARO7P\"  # developer-docs.amazon.com/sp-api/docs/marketplace-ids\n",
    ")\n",
    "base_url = \"https://sellingpartnerapi-eu.amazon.com\"\n",
    "\n",
    "account_secret_key = \"prod/airbyte/sources/sp_api/\" + account_name"
   ]
  },
  {
   "cell_type": "markdown",
   "id": "2dac2f1f",
   "metadata": {},
   "source": [
    "## Authentication"
   ]
  },
  {
   "cell_type": "code",
   "execution_count": 7,
   "id": "90a0afb1",
   "metadata": {},
   "outputs": [],
   "source": [
    "def get_secret_by_name(secret_name: str):\n",
    "    secret_str = _get_secret(secret_name)\n",
    "    return json.loads(secret_str)\n",
    "\n",
    "\n",
    "def _get_secret(secret_name: str, region_name: str = \"eu-west-1\"):\n",
    "    session = boto3.session.Session(profile_name=AWS_CRED_PROFILE_NAME)\n",
    "    client = session.client(service_name=\"secretsmanager\", region_name=region_name)\n",
    "\n",
    "    try:\n",
    "        get_secret_value_response = client.get_secret_value(SecretId=secret_name)\n",
    "    except ClientError as e:\n",
    "        raise e\n",
    "\n",
    "    return get_secret_value_response[\"SecretString\"]"
   ]
  },
  {
   "cell_type": "code",
   "execution_count": 8,
   "id": "4cf913f9",
   "metadata": {},
   "outputs": [],
   "source": [
    "secret = get_secret_by_name(account_secret_key)"
   ]
  },
  {
   "cell_type": "code",
   "execution_count": null,
   "id": "06e0488f",
   "metadata": {},
   "outputs": [],
   "source": [
    "secret"
   ]
  },
  {
   "cell_type": "code",
   "execution_count": 10,
   "id": "5637a756",
   "metadata": {},
   "outputs": [],
   "source": [
    "# Get access token\n",
    "url = \"https://api.amazon.com/auth/o2/token\"\n",
    "client_secret = secret[\"lwa_client_secret\"]\n",
    "refresh_token = secret[\"refresh_tokens\"][account_region]\n",
    "client_id = secret[\"lwa_app_id\"]\n",
    "\n",
    "payload = f\"grant_type=refresh_token&refresh_token={refresh_token}&client_id={client_id}&client_secret={client_secret}\"\n",
    "headers = {\"Content-Type\": \"application/x-www-form-urlencoded\"}\n",
    "\n",
    "response = requests.request(\"POST\", url, headers=headers, data=payload)\n",
    "access_token = response.json()[\"access_token\"]"
   ]
  },
  {
   "cell_type": "markdown",
   "id": "9b4d0192",
   "metadata": {},
   "source": [
    "## GET_STRANDED_INVENTORY_UI_DATA"
   ]
  },
  {
   "cell_type": "code",
   "execution_count": null,
   "id": "731bc92d",
   "metadata": {},
   "outputs": [],
   "source": [
    "# Create report\n",
    "data_start = \"2024-01-01T00:00:00Z\"\n",
    "data_end = \"2024-06-18T23:59:59Z\"\n",
    "reportType = \"GET_STRANDED_INVENTORY_UI_DATA\"\n",
    "url = f\"{base_url}/reports/2021-06-30/reports\"\n",
    "\n",
    "payload = {\n",
    "    \"marketplaceIds\": [marketplace_id],\n",
    "    \"reportType\": reportType,\n",
    "    \"reportOptions\": {\n",
    "        \"promotionStartDateFrom\": data_start,\n",
    "        \"promotionStartDateTo\": data_end,\n",
    "    },\n",
    "}\n",
    "\n",
    "headers = {\n",
    "    \"Accept\": \"application/json\",\n",
    "    \"x-amz-access-token\": access_token,\n",
    "    \"X-Amz-Security-Token\": AWS_SESSION_TOKEN,\n",
    "    \"content-type\": \"application/json; charset=utf-8\",\n",
    "}\n",
    "\n",
    "response = requests.request(\"POST\", url, headers=headers, data=json.dumps(payload))\n",
    "response.json()"
   ]
  },
  {
   "cell_type": "code",
   "execution_count": null,
   "id": "5323a39a",
   "metadata": {},
   "outputs": [],
   "source": [
    "## get the report\n",
    "url = f\"{base_url}/reports/2021-06-30/reports/{response.json()['reportId']}\"\n",
    "\n",
    "headers = {\n",
    "    \"Accept\": \"application/json\",\n",
    "    \"x-amz-access-token\": access_token,\n",
    "    \"X-Amz-Security-Token\": AWS_SESSION_TOKEN,\n",
    "    \"content-type\": \"application/json; charset=utf-8\",\n",
    "}\n",
    "\n",
    "response = requests.request(\"get\", url, headers=headers)\n",
    "report = response.json()\n",
    "report"
   ]
  },
  {
   "cell_type": "code",
   "execution_count": 27,
   "id": "add261be",
   "metadata": {},
   "outputs": [],
   "source": [
    "## get the doc of the report\n",
    "report_doc_id = report[\"reportDocumentId\"]\n",
    "url = f\"{base_url}/reports/2021-06-30/documents/{report_doc_id}\"\n",
    "\n",
    "headers = {\n",
    "    \"Accept\": \"application/json\",\n",
    "    \"x-amz-access-token\": access_token,\n",
    "    \"X-Amz-Security-Token\": AWS_SESSION_TOKEN,\n",
    "    \"content-type\": \"application/json; charset=utf-8\",\n",
    "}\n",
    "\n",
    "response = requests.request(\"get\", url, headers=headers)"
   ]
  },
  {
   "cell_type": "code",
   "execution_count": null,
   "id": "7af0f358",
   "metadata": {},
   "outputs": [],
   "source": [
    "response.json()"
   ]
  },
  {
   "cell_type": "code",
   "execution_count": null,
   "id": "caf45025",
   "metadata": {},
   "outputs": [],
   "source": [
    "url = response.json()[\"url\"]\n",
    "url"
   ]
  }
 ],
 "metadata": {
  "kernelspec": {
   "display_name": "Python 3 (ipykernel)",
   "language": "python",
   "name": "python3"
  },
  "language_info": {
   "codemirror_mode": {
    "name": "ipython",
    "version": 3
   },
   "file_extension": ".py",
   "mimetype": "text/x-python",
   "name": "python",
   "nbconvert_exporter": "python",
   "pygments_lexer": "ipython3",
   "version": "3.10.14"
  }
 },
 "nbformat": 4,
 "nbformat_minor": 5
}

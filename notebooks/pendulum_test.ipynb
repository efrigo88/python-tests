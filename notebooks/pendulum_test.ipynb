{
 "cells": [
  {
   "cell_type": "code",
   "execution_count": 1,
   "metadata": {},
   "outputs": [],
   "source": [
    "import pendulum"
   ]
  },
  {
   "cell_type": "code",
   "execution_count": 3,
   "metadata": {},
   "outputs": [
    {
     "name": "stdout",
     "output_type": "stream",
     "text": [
      "create_date: 2023-04-20T13:08:36+00:00\n"
     ]
    }
   ],
   "source": [
    "# Define el formato de la fecha y hora\n",
    "date_format = 'DD.MM.YYYY HH:mm:ss [UTC]'\n",
    "\n",
    "# Supongamos que stream_state y self.cursor_field están definidos y contienen los valores adecuados\n",
    "# Ejemplo:\n",
    "stream_state = {'settlement-end-date': '20.04.2023 13:08:36 UTC'}\n",
    "cursor_field = 'settlement-end-date'\n",
    "\n",
    "# Obtener el valor de cursor_value y parsearlo\n",
    "if cursor_value := stream_state.get(cursor_field):\n",
    "    try:\n",
    "        # Parsear cursor_value usando el formato especificado\n",
    "        parsed_cursor_date = pendulum.from_format(cursor_value, date_format)\n",
    "        \n",
    "        # Obtener la fecha y hora actual en UTC\n",
    "        utc_now = pendulum.now(\"UTC\")\n",
    "\n",
    "        # Obtener la fecha mínima\n",
    "        create_date = min(parsed_cursor_date, utc_now)\n",
    "        print(f\"create_date: {create_date}\")\n",
    "    except pendulum.parsing.exceptions.ParserError as e:\n",
    "        # Manejar el error de parseo aquí\n",
    "        print(f\"Error parsing date: {e}\")\n"
   ]
  },
  {
   "cell_type": "code",
   "execution_count": 8,
   "metadata": {},
   "outputs": [
    {
     "name": "stdout",
     "output_type": "stream",
     "text": [
      "create_date: 2023-04-20T13:08:36+00:00\n"
     ]
    }
   ],
   "source": [
    "date_format = 'DD.MM.YYYY HH:mm:ss [UTC]'\n",
    "\n",
    "stream_state = {'settlement-end-date': '20.04.2023 13:08:36 UTC'}\n",
    "cursor_field = 'settlement-end-date'\n",
    "\n",
    "utc_now = pendulum.now(\"UTC\").date().to_date_string()\n",
    "\n",
    "# Obtener el valor de cursor_value y parsearlo\n",
    "if cursor_value := stream_state.get(cursor_field):\n",
    "    try:\n",
    "        # Intentar parsear cursor_value usando el formato especificado\n",
    "        parsed_cursor_date = pendulum.from_format(cursor_value, date_format)\n",
    "    except pendulum.parsing.exceptions.ParserError:\n",
    "        # Si falla, intentar parsear usando pendulum.parse\n",
    "        parsed_cursor_date = pendulum.parse(cursor_value)\n",
    "    \n",
    "    # Parsear utc_now (cadena de fecha) a un objeto pendulum\n",
    "    parsed_utc_now = pendulum.parse(utc_now)\n",
    "    \n",
    "    # Obtener la fecha mínima\n",
    "    create_date = min(parsed_cursor_date, parsed_utc_now)\n",
    "    print(f\"create_date: {create_date}\")\n"
   ]
  },
  {
   "cell_type": "code",
   "execution_count": 13,
   "metadata": {},
   "outputs": [
    {
     "name": "stdout",
     "output_type": "stream",
     "text": [
      "create_date: 2024-05-25T20:00:13+00:00\n"
     ]
    }
   ],
   "source": [
    "import pendulum\n",
    "\n",
    "# Define los formatos de fecha y hora\n",
    "date_formats = [\n",
    "    'DD.MM.YYYY HH:mm:ss [UTC]',\n",
    "    'YYYY-MM-DD HH:mm:ss [UTC]'\n",
    "]\n",
    "\n",
    "# Ejemplo de stream_state y cursor_field\n",
    "stream_state = {\n",
    "    'settlement-end-date': '2024-05-25 20:00:13 UTC'  # Otro formato ejemplo '01.04.2023 13:08:36 UTC'  2024-05-25 20:00:13 UTC\n",
    "}\n",
    "cursor_field = 'settlement-end-date'\n",
    "\n",
    "# Obtener la fecha y hora actual en UTC como cadena de fecha\n",
    "utc_now_str = pendulum.now(\"UTC\").date().to_date_string()\n",
    "\n",
    "# Obtener el valor de cursor_value y parsearlo\n",
    "if cursor_value := stream_state.get(cursor_field):\n",
    "    parsed_cursor_date = None\n",
    "    \n",
    "    # Intentar diferentes formatos\n",
    "    for date_format in date_formats:\n",
    "        try:\n",
    "            parsed_cursor_date = pendulum.from_format(cursor_value, date_format)\n",
    "            break\n",
    "        except (pendulum.parsing.exceptions.ParserError, ValueError):\n",
    "            continue\n",
    "\n",
    "    # Si ningún formato específico funcionó, usar pendulum.parse como última opción\n",
    "    if not parsed_cursor_date:\n",
    "        try:\n",
    "            parsed_cursor_date = pendulum.parse(cursor_value)\n",
    "        except (pendulum.parsing.exceptions.ParserError, ValueError) as e:\n",
    "            print(f\"Error parsing date with all formats: {e}\")\n",
    "\n",
    "    # Parsear utc_now (cadena de fecha) a un objeto pendulum\n",
    "    parsed_utc_now = pendulum.parse(utc_now_str)\n",
    "\n",
    "    # Obtener la fecha mínima\n",
    "    create_date = min(parsed_cursor_date, parsed_utc_now) if parsed_cursor_date else parsed_utc_now\n",
    "    print(f\"create_date: {create_date}\")\n"
   ]
  }
 ],
 "metadata": {
  "kernelspec": {
   "display_name": ".venv",
   "language": "python",
   "name": "python3"
  },
  "language_info": {
   "codemirror_mode": {
    "name": "ipython",
    "version": 3
   },
   "file_extension": ".py",
   "mimetype": "text/x-python",
   "name": "python",
   "nbconvert_exporter": "python",
   "pygments_lexer": "ipython3",
   "version": "3.10.14"
  }
 },
 "nbformat": 4,
 "nbformat_minor": 2
}

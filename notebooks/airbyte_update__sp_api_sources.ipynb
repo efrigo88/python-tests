{
 "cells": [
  {
   "cell_type": "code",
   "execution_count": 279,
   "metadata": {},
   "outputs": [],
   "source": [
    "import requests\n",
    "import datetime\n",
    "import json"
   ]
  },
  {
   "cell_type": "code",
   "execution_count": 280,
   "metadata": {},
   "outputs": [],
   "source": [
    "AIRBYTE_PULL_DAYS = 10\n",
    "# AIRBYTE_BASE_URL = \"http://ec2-54-74-79-147.eu-west-1.compute.amazonaws.com/api\" # Airbyte Core DEV\n",
    "AIRBYTE_BASE_URL = (\n",
    "    \"http://ec2-52-214-45-28.eu-west-1.compute.amazonaws.com/api\"  # PROD AMZ Airbyte\n",
    ")"
   ]
  },
  {
   "cell_type": "code",
   "execution_count": 281,
   "metadata": {},
   "outputs": [],
   "source": [
    "# SOURCES_NAMES = [\"SP-API Financial Events\",]\n",
    "\n",
    "# if None will update all sources in the workspace\n",
    "SOURCES_NAMES = None"
   ]
  },
  {
   "cell_type": "code",
   "execution_count": 282,
   "metadata": {},
   "outputs": [],
   "source": [
    "def _get_workspaces() -> dict:\n",
    "    url = f\"{AIRBYTE_BASE_URL}/v1/workspaces/list\"\n",
    "    response = requests.post(url)\n",
    "\n",
    "    if response.status_code == 200:\n",
    "        return response.json()\n",
    "    raise ValueError(response.json()[\"message\"])\n",
    "\n",
    "\n",
    "def _get_workspace_id() -> str:\n",
    "    workspaces = _get_workspaces().get(\"workspaces\", [])\n",
    "    if len(workspaces) > 0:\n",
    "        return workspaces[0].get(\"workspaceId\", None)\n",
    "    return None"
   ]
  },
  {
   "cell_type": "code",
   "execution_count": 283,
   "metadata": {},
   "outputs": [],
   "source": [
    "def _find_all() -> dict:\n",
    "    payload = {\"workspaceId\": _get_workspace_id()}\n",
    "    url = f\"{AIRBYTE_BASE_URL}/v1/sources/list\"\n",
    "    response = requests.post(url, json=payload)\n",
    "\n",
    "    if response.status_code == 200:\n",
    "        return response.json()\n",
    "    raise ValueError(response.json()[\"message\"])"
   ]
  },
  {
   "cell_type": "code",
   "execution_count": 284,
   "metadata": {},
   "outputs": [],
   "source": [
    "def _update_source(source_json: dict) -> None:\n",
    "    url = f\"{AIRBYTE_BASE_URL}/v1/sources/update\"\n",
    "    response = requests.post(url, json=source_json)\n",
    "    if response.status_code != 200:\n",
    "        raise ValueError(response.json()[\"message\"])"
   ]
  },
  {
   "cell_type": "code",
   "execution_count": 285,
   "metadata": {},
   "outputs": [],
   "source": [
    "def get_sources_by_source_source_name(source_name: list):\n",
    "    sources = _find_all().get(\"sources\", [])\n",
    "    return [source for source in sources if source[\"sourceName\"] in source_name]"
   ]
  },
  {
   "cell_type": "code",
   "execution_count": 286,
   "metadata": {},
   "outputs": [],
   "source": [
    "def _get_new_start_date(current_date: datetime) -> str:\n",
    "    start_date = current_date + datetime.timedelta(days=-int(AIRBYTE_PULL_DAYS))\n",
    "    return start_date.strftime(\"%Y-%m-%d\") + \"T00:00:00Z\""
   ]
  },
  {
   "cell_type": "code",
   "execution_count": 287,
   "metadata": {},
   "outputs": [],
   "source": [
    "def update_source_config_field(source_json: dict, field: str, value: str) -> None:\n",
    "    source_json[\"connectionConfiguration\"][field] = value\n",
    "\n",
    "    # Setting the end date to today, if exists\n",
    "    if \"replication_end_date\" in source_json[\"connectionConfiguration\"]:\n",
    "        source_json[\"connectionConfiguration\"][\"replication_end_date\"] = (\n",
    "            datetime.datetime.now().strftime(\"%Y-%m-%d\") + \"T00:00:00Z\"\n",
    "        )\n",
    "\n",
    "    for col in [\"sourceDefinitionId\", \"workspaceId\", \"sourceName\", \"icon\"]:\n",
    "        if col in source_json:\n",
    "            del source_json[col]\n",
    "\n",
    "    # print(json.dumps(source_json, indent=4))\n",
    "    _update_source(source_json)"
   ]
  },
  {
   "cell_type": "code",
   "execution_count": 288,
   "metadata": {},
   "outputs": [],
   "source": [
    "def update_source_start_date(\n",
    "    source_json: dict,\n",
    "    start_date_field: str,\n",
    "    current_date: datetime = datetime.datetime.now(),\n",
    ") -> None:\n",
    "    new_start_date = _get_new_start_date(current_date)\n",
    "    update_source_config_field(source_json, start_date_field, new_start_date)"
   ]
  },
  {
   "cell_type": "code",
   "execution_count": 289,
   "metadata": {},
   "outputs": [],
   "source": [
    "def update_sources_start_date(sources_names_list=SOURCES_NAMES):\n",
    "    if SOURCES_NAMES is None:\n",
    "        sources = _find_all().get(\"sources\", [])\n",
    "        print(f\"all sources will be updated, number: {len(sources)}\")\n",
    "    else:\n",
    "        sources = get_sources_by_source_source_name(sources_names_list)\n",
    "        print(f\"selected sources will be updated, number: {len(sources)}\")\n",
    "\n",
    "    for source in sources:\n",
    "        source_id = source[\"sourceId\"]\n",
    "        update_source_start_date(source, \"replication_start_date\")\n",
    "        print(f\"Source ID: {source_id}, Source Name: {source['name']} updated\")"
   ]
  },
  {
   "cell_type": "code",
   "execution_count": null,
   "metadata": {},
   "outputs": [],
   "source": [
    "update_sources_start_date(SOURCES_NAMES)"
   ]
  }
 ],
 "metadata": {
  "kernelspec": {
   "display_name": ".venv",
   "language": "python",
   "name": "python3"
  },
  "language_info": {
   "codemirror_mode": {
    "name": "ipython",
    "version": 3
   },
   "file_extension": ".py",
   "mimetype": "text/x-python",
   "name": "python",
   "nbconvert_exporter": "python",
   "pygments_lexer": "ipython3",
   "version": "3.10.13"
  }
 },
 "nbformat": 4,
 "nbformat_minor": 2
}

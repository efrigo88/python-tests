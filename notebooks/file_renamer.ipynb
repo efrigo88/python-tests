{
 "cells": [
  {
   "cell_type": "code",
   "execution_count": 4,
   "metadata": {},
   "outputs": [],
   "source": [
    "import os"
   ]
  },
  {
   "cell_type": "code",
   "execution_count": 56,
   "metadata": {},
   "outputs": [],
   "source": [
    "def get_files_in_directory(directory) -> list:\n",
    "    file_paths = []\n",
    "    for root, _, files in os.walk(directory):\n",
    "        for file in files:\n",
    "            file_paths.append(os.path.join(root, file))\n",
    "    return file_paths\n",
    "\n",
    "def rename_files_in_directories(files: list):\n",
    "    \"\"\"Rename files and directories by replacing spaces with underscores.\"\"\"\n",
    "    for file in files:\n",
    "        old_path = file\n",
    "        new_path = file.replace(\" \", \"_\")\n",
    "    \n",
    "        # Create the new directory path if it does not exist\n",
    "        new_dir = os.path.dirname(new_path)\n",
    "        if not os.path.exists(new_dir):\n",
    "            os.makedirs(new_dir)\n",
    "    \n",
    "        # Rename the file if necessary\n",
    "        if old_path != new_path:\n",
    "            try:\n",
    "                os.rename(old_path, new_path)\n",
    "                print(f\"Renamed: {old_path} -> {new_path}\")\n",
    "            except Exception as e:\n",
    "                print(e)\n",
    "                print(f\"Failed to rename: {old_path} -> {new_path}\")\n",
    "\n",
    "# Example usage\n",
    "directory = '/Volumes/ExtremeSSD/DATA/Anime/'\n",
    "files = get_files_in_directory(directory)\n",
    "rename_files_in_directories(files)"
   ]
  }
 ],
 "metadata": {
  "kernelspec": {
   "display_name": ".venv",
   "language": "python",
   "name": "python3"
  },
  "language_info": {
   "codemirror_mode": {
    "name": "ipython",
    "version": 3
   },
   "file_extension": ".py",
   "mimetype": "text/x-python",
   "name": "python",
   "nbconvert_exporter": "python",
   "pygments_lexer": "ipython3",
   "version": "3.10.3"
  }
 },
 "nbformat": 4,
 "nbformat_minor": 2
}

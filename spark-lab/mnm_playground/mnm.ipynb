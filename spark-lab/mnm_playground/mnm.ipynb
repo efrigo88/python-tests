{
 "cells": [
  {
   "cell_type": "code",
   "execution_count": 1,
   "metadata": {},
   "outputs": [],
   "source": [
    "from pyspark.sql import SparkSession\n",
    "\n",
    "import pyspark.sql.functions as F\n",
    "import pyspark.sql.types as T"
   ]
  },
  {
   "cell_type": "code",
   "execution_count": 2,
   "metadata": {},
   "outputs": [
    {
     "name": "stderr",
     "output_type": "stream",
     "text": [
      "22/06/17 12:17:24 WARN Utils: Your hostname, emif-MacBook-Pro.local resolves to a loopback address: 127.0.0.1; using 192.168.1.171 instead (on interface en0)\n",
      "22/06/17 12:17:24 WARN Utils: Set SPARK_LOCAL_IP if you need to bind to another address\n",
      "Using Spark's default log4j profile: org/apache/spark/log4j-defaults.properties\n",
      "Setting default log level to \"WARN\".\n",
      "To adjust logging level use sc.setLogLevel(newLevel). For SparkR, use setLogLevel(newLevel).\n",
      "22/06/17 12:17:25 WARN NativeCodeLoader: Unable to load native-hadoop library for your platform... using builtin-java classes where applicable\n",
      "22/06/17 12:17:26 WARN Utils: Service 'SparkUI' could not bind on port 4040. Attempting port 4041.\n"
     ]
    }
   ],
   "source": [
    "spark = (\n",
    "    SparkSession\n",
    "    .builder\n",
    "    .appName(\"SparkSQLExampleApp\")\n",
    "    .master(\"local[4]\")\n",
    "    .getOrCreate()\n",
    ")\n",
    "\n",
    "spark.conf.set(\"spark.sql.shuffle.partition\", 4)\n",
    "#spark.conf.set(\"spark.sql.session.timeZone\", \"UTC\")"
   ]
  },
  {
   "cell_type": "code",
   "execution_count": 3,
   "metadata": {},
   "outputs": [
    {
     "name": "stderr",
     "output_type": "stream",
     "text": [
      "                                                                                \r"
     ]
    }
   ],
   "source": [
    "df = (\n",
    "    spark\n",
    "    .read\n",
    "    .format(\"csv\")\n",
    "    .option(\"header\", \"true\")\n",
    "    .option(\"inferSchema\", \"true\")\n",
    "    .load(\"/Users/emif/Documents/spark-lab/datasets/mnm_dataset.csv\")\n",
    ")"
   ]
  },
  {
   "cell_type": "code",
   "execution_count": 4,
   "metadata": {},
   "outputs": [
    {
     "name": "stdout",
     "output_type": "stream",
     "text": [
      "root\n",
      " |-- State: string (nullable = true)\n",
      " |-- Color: string (nullable = true)\n",
      " |-- Count: integer (nullable = true)\n",
      "\n"
     ]
    }
   ],
   "source": [
    "df.printSchema()"
   ]
  },
  {
   "cell_type": "code",
   "execution_count": 5,
   "metadata": {},
   "outputs": [
    {
     "name": "stderr",
     "output_type": "stream",
     "text": [
      "[Stage 2:>                                                          (0 + 1) / 1]\r"
     ]
    },
    {
     "name": "stdout",
     "output_type": "stream",
     "text": [
      "+-------+-----+------+-----------------+\n",
      "|summary|State| Color|            Count|\n",
      "+-------+-----+------+-----------------+\n",
      "|  count|99999| 99999|            99999|\n",
      "|   mean| null|  null|55.00090000900009|\n",
      "| stddev| null|  null|26.26648202084822|\n",
      "|    min|   AZ|  Blue|               10|\n",
      "|    max|   WY|Yellow|              100|\n",
      "+-------+-----+------+-----------------+\n",
      "\n"
     ]
    },
    {
     "name": "stderr",
     "output_type": "stream",
     "text": [
      "                                                                                \r"
     ]
    }
   ],
   "source": [
    "df.describe().show()"
   ]
  },
  {
   "cell_type": "code",
   "execution_count": 6,
   "metadata": {},
   "outputs": [
    {
     "name": "stdout",
     "output_type": "stream",
     "text": [
      "+-----+------+-----+\n",
      "|State| Color|Count|\n",
      "+-----+------+-----+\n",
      "|   TX|   Red|   20|\n",
      "|   NV|  Blue|   66|\n",
      "|   CO|  Blue|   79|\n",
      "|   OR|  Blue|   71|\n",
      "|   WA|Yellow|   93|\n",
      "|   WY|  Blue|   16|\n",
      "|   CA|Yellow|   53|\n",
      "|   WA| Green|   60|\n",
      "|   OR| Green|   71|\n",
      "|   TX| Green|   68|\n",
      "|   NV| Green|   59|\n",
      "|   AZ| Brown|   95|\n",
      "|   WA|Yellow|   20|\n",
      "|   AZ|  Blue|   75|\n",
      "|   OR| Brown|   72|\n",
      "|   NV|   Red|   98|\n",
      "|   WY|Orange|   45|\n",
      "|   CO|  Blue|   52|\n",
      "|   TX| Brown|   94|\n",
      "|   CO|   Red|   82|\n",
      "+-----+------+-----+\n",
      "only showing top 20 rows\n",
      "\n"
     ]
    }
   ],
   "source": [
    "df.show()"
   ]
  },
  {
   "cell_type": "code",
   "execution_count": 56,
   "metadata": {},
   "outputs": [],
   "source": [
    "pivot_df = (\n",
    "    df\n",
    "    .groupBy(\"State\")\n",
    "    .pivot(\"Color\")\n",
    "    .avg(\"Count\")\n",
    ")"
   ]
  },
  {
   "cell_type": "code",
   "execution_count": 57,
   "metadata": {},
   "outputs": [
    {
     "name": "stdout",
     "output_type": "stream",
     "text": [
      "+-----+------------------+------------------+------------------+------------------+------------------+------------------+\n",
      "|State|              Blue|             Brown|             Green|            Orange|               Red|            Yellow|\n",
      "+-----+------------------+------------------+------------------+------------------+------------------+------------------+\n",
      "|   AZ| 54.99449877750611|54.350412249705535| 54.82219570405728| 54.28300769686205|54.637135922330096| 54.98548972188634|\n",
      "|   OR| 54.99756986634265| 54.98827884022209|54.821297429620564| 54.22489959839358| 54.88510638297873| 54.60285006195787|\n",
      "|   WY| 54.68870192307692| 56.20757180156658|55.657227138643066|55.144827586206894|54.950898203592814|53.997539975399754|\n",
      "|   NV|53.797369994022716| 55.81050090525045| 53.78739693757362|54.865070093457945|  55.4944099378882|54.561194029850746|\n",
      "|   CA| 55.59762944479102|55.740395809080326|54.268717353453276|54.502715751357876| 55.26992753623188|  55.8693967902601|\n",
      "|   WA|55.314461538461536| 55.77112043139604| 54.23608768971332|55.199638118214715| 55.85397965290245|  55.8749248346362|\n",
      "|   NM| 55.03663003663004|55.392412566686424|  54.1973840665874|  54.8054054054054| 56.03491124260355| 54.94490521327014|\n",
      "|   TX|54.811648079306075| 55.29311395490554| 55.12550374208405|55.880750605326874|55.306666666666665| 55.09042865531415|\n",
      "|   CO| 55.11032448377581| 56.57729468599034| 54.71336835960304|55.402557856272836|55.089285714285715| 55.22254503195816|\n",
      "|   UT|54.366767371601206| 54.55119558553035|55.557510999371466| 54.24049881235155|54.163690476190474|54.263829787234044|\n",
      "+-----+------------------+------------------+------------------+------------------+------------------+------------------+\n",
      "\n"
     ]
    }
   ],
   "source": [
    "pivot_df.show()"
   ]
  },
  {
   "cell_type": "code",
   "execution_count": 55,
   "metadata": {},
   "outputs": [],
   "source": [
    "def round_columns(df, columns, precision=2):\n",
    "    for col in columns:\n",
    "        df = df.withColumn(col, F.round(F.col(col), precision))\n",
    "    return df"
   ]
  },
  {
   "cell_type": "code",
   "execution_count": 59,
   "metadata": {},
   "outputs": [],
   "source": [
    "final_df = round_columns(pivot_df, [\"Blue\", \"Brown\", \"Green\", \"Orange\", \"Red\", \"Yellow\"])"
   ]
  },
  {
   "cell_type": "code",
   "execution_count": 60,
   "metadata": {},
   "outputs": [
    {
     "name": "stdout",
     "output_type": "stream",
     "text": [
      "+-----+-----+-----+-----+------+-----+------+\n",
      "|State| Blue|Brown|Green|Orange|  Red|Yellow|\n",
      "+-----+-----+-----+-----+------+-----+------+\n",
      "|   AZ|54.99|54.35|54.82| 54.28|54.64| 54.99|\n",
      "|   OR| 55.0|54.99|54.82| 54.22|54.89|  54.6|\n",
      "|   WY|54.69|56.21|55.66| 55.14|54.95|  54.0|\n",
      "|   NV| 53.8|55.81|53.79| 54.87|55.49| 54.56|\n",
      "|   CA| 55.6|55.74|54.27|  54.5|55.27| 55.87|\n",
      "|   WA|55.31|55.77|54.24|  55.2|55.85| 55.87|\n",
      "|   NM|55.04|55.39| 54.2| 54.81|56.03| 54.94|\n",
      "|   TX|54.81|55.29|55.13| 55.88|55.31| 55.09|\n",
      "|   CO|55.11|56.58|54.71|  55.4|55.09| 55.22|\n",
      "|   UT|54.37|54.55|55.56| 54.24|54.16| 54.26|\n",
      "+-----+-----+-----+-----+------+-----+------+\n",
      "\n"
     ]
    }
   ],
   "source": [
    "final_df.show()"
   ]
  }
 ],
 "metadata": {
  "kernelspec": {
   "display_name": "Python 3.8.12 ('.venv': venv)",
   "language": "python",
   "name": "python3"
  },
  "language_info": {
   "codemirror_mode": {
    "name": "ipython",
    "version": 3
   },
   "file_extension": ".py",
   "mimetype": "text/x-python",
   "name": "python",
   "nbconvert_exporter": "python",
   "pygments_lexer": "ipython3",
   "version": "3.8.12"
  },
  "orig_nbformat": 4,
  "vscode": {
   "interpreter": {
    "hash": "3fe32d98a1ee141d9be34c10c16fbd81de181f41d0001c931301c6474f8fba72"
   }
  }
 },
 "nbformat": 4,
 "nbformat_minor": 2
}

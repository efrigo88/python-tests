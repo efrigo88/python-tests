{
 "cells": [
  {
   "cell_type": "code",
   "execution_count": 1,
   "id": "a60f1ea8-2303-4aca-a38e-54a19735372b",
   "metadata": {},
   "outputs": [],
   "source": [
    "import boto3\n",
    "import pandas as pd\n",
    "\n",
    "env = \"prod\"\n",
    "aws_session = boto3.session.Session(profile_name=f\"data-maintainer-{env}\")\n",
    "s3_client = aws_session.client(\"s3\")\n",
    "lambda_client = aws_session.client(\"lambda\")\n",
    "s3 = aws_session.resource(\"s3\")\n",
    "\n",
    "landing_bucket = s3.Bucket(f\"f14-datalake-landing-{env}\")\n",
    "input_bucket = f\"f14-datalake-landing-{env}\"\n",
    "output_bucket = f\"f14-datalake-raw-{env}\"\n",
    "base_prefix = \"amazon_sp_api/GET_RESTOCK_INVENTORY_RECOMMENDATIONS_REPORT/\""
   ]
  },
  {
   "cell_type": "markdown",
   "id": "2dd8efb5",
   "metadata": {},
   "source": [
    "### In order to be able to run the lambda, we have to apply a few changes to it:\n",
    "1. lambda_function.py ENVIRONMENT ln replace with: ENV = os.getenv(\"ENVIRONMENT\", \"prod\")\n",
    "2. lambda_function.py credentials, change client with this one: \"aws_session = boto3.session.Session(profile_name=f'data-maintainer-prod')\n",
    "s3_client = aws_session.client('s3')\"\n",
    "3. Once we've got the aws_session, we must pass it to the json generator function, like this: wr.s3.to_json(df, raw_path, orient=\"records\", lines=True, boto3_session=aws_session).\n",
    "4. Remember to reload the lambda module before continue with the rest of the snippets."
   ]
  },
  {
   "cell_type": "code",
   "execution_count": 2,
   "id": "4533050a-c9f4-4c6f-893a-513c102fe4d5",
   "metadata": {},
   "outputs": [],
   "source": [
    "import logging\n",
    "\n",
    "logging.basicConfig()\n",
    "logger = logging.getLogger(__name__)\n",
    "logger.setLevel(getattr(logging, \"ERROR\"))\n",
    "logger.info(f\"Loading Lambda Function {__name__}\")"
   ]
  },
  {
   "cell_type": "code",
   "execution_count": 3,
   "id": "6ff97815-7d98-428e-a700-70786570cc8f",
   "metadata": {},
   "outputs": [],
   "source": [
    "import sys\n",
    "\n",
    "path_to_module = \"/Users/emif/Documents/Factory14/landingFileProcessor\"\n",
    "sys.path.append(path_to_module)"
   ]
  },
  {
   "cell_type": "code",
   "execution_count": null,
   "id": "685b9497",
   "metadata": {},
   "outputs": [],
   "source": [
    "import importlib\n",
    "import src.main.lambda_function as lf\n",
    "\n",
    "importlib.reload(lf)"
   ]
  },
  {
   "cell_type": "code",
   "execution_count": 5,
   "id": "fa17627f",
   "metadata": {},
   "outputs": [],
   "source": [
    "def get_files_to_proccess(valid_prefix):\n",
    "    files_to_process = []\n",
    "    for landing_bucket_object in landing_bucket.objects.all():\n",
    "        object_last_update = landing_bucket_object.last_modified\n",
    "        bucket_name = landing_bucket_object.bucket_name\n",
    "        object_key = landing_bucket_object.key\n",
    "\n",
    "        if valid_prefix in object_key and (\n",
    "            \".csv\" in object_key or \".tsv\" in object_key or \".jsonl\" in object_key\n",
    "        ):\n",
    "            files_to_process.append([bucket_name, object_key, object_last_update])\n",
    "\n",
    "    return files_to_process"
   ]
  },
  {
   "cell_type": "code",
   "execution_count": 6,
   "id": "74899233-35a0-4d20-9f6f-1ffb2300a7cd",
   "metadata": {},
   "outputs": [],
   "source": [
    "def get_lambda_payload(bucket_name, object_prefix):\n",
    "    return {\n",
    "        \"Records\": [\n",
    "            {\n",
    "                \"eventVersion\": \"2.0\",\n",
    "                \"eventSource\": \"aws:s3\",\n",
    "                \"awsRegion\": \"us-east-1\",\n",
    "                \"eventTime\": \"1970-01-01T00:00:00.000Z\",\n",
    "                \"eventName\": \"ObjectCreated:Put\",\n",
    "                \"userIdentity\": {\"principalId\": \"EXAMPLE\"},\n",
    "                \"requestParameters\": {\"sourceIPAddress\": \"127.0.0.1\"},\n",
    "                \"responseElements\": {\n",
    "                    \"x-amz-request-id\": \"EXAMPLE123456789\",\n",
    "                    \"x-amz-id-2\": \"EXAMPLE123/5678abcdefghijklambdaisawesome/mnopqrstuvwxyzABCDEFGH\",\n",
    "                },\n",
    "                \"s3\": {\n",
    "                    \"s3SchemaVersion\": \"1.0\",\n",
    "                    \"configurationId\": \"testConfigRule\",\n",
    "                    \"bucket\": {\n",
    "                        \"name\": bucket_name,\n",
    "                        \"ownerIdentity\": {\"principalId\": \"EXAMPLE\"},\n",
    "                        \"arn\": f\"arn:aws:s3:::{bucket_name}\",\n",
    "                    },\n",
    "                    \"object\": {\n",
    "                        \"key\": object_prefix,\n",
    "                        \"size\": 1024,\n",
    "                        \"eTag\": \"0123456789abcdef0123456789abcdef\",\n",
    "                        \"sequencer\": \"0A1B2C3D4E5F678901\",\n",
    "                    },\n",
    "                },\n",
    "            }\n",
    "        ]\n",
    "    }"
   ]
  },
  {
   "cell_type": "code",
   "execution_count": null,
   "id": "2cd57d45-37ce-4711-afef-4fe9245256c4",
   "metadata": {},
   "outputs": [],
   "source": [
    "files_to_process_all = get_files_to_proccess(base_prefix)\n",
    "len(files_to_process_all)"
   ]
  },
  {
   "cell_type": "code",
   "execution_count": null,
   "id": "27e67600",
   "metadata": {},
   "outputs": [],
   "source": [
    "files_to_process_all[:5]"
   ]
  },
  {
   "cell_type": "code",
   "execution_count": 9,
   "id": "991e560e",
   "metadata": {},
   "outputs": [],
   "source": [
    "files_to_process = files_to_process_all"
   ]
  },
  {
   "cell_type": "code",
   "execution_count": null,
   "id": "6d2db412",
   "metadata": {},
   "outputs": [],
   "source": [
    "files_to_process"
   ]
  },
  {
   "cell_type": "code",
   "execution_count": null,
   "id": "c2d1bbc7-e708-40b2-bb33-ee53e1dbec66",
   "metadata": {},
   "outputs": [],
   "source": [
    "import progressbar\n",
    "\n",
    "i = 0\n",
    "with progressbar.ProgressBar(max_value=len(files_to_process)) as bar:\n",
    "    for file_to_process in files_to_process:\n",
    "        call_payload = get_lambda_payload(file_to_process[0], file_to_process[1])\n",
    "        # INVOKE\n",
    "        lf.lambda_handler(call_payload, None)\n",
    "        i = i + 1\n",
    "        bar.update(i)\n",
    "\n",
    "print(\"Done!\")"
   ]
  }
 ],
 "metadata": {
  "kernelspec": {
   "display_name": "Python 3 (ipykernel)",
   "language": "python",
   "name": "python3"
  },
  "language_info": {
   "codemirror_mode": {
    "name": "ipython",
    "version": 3
   },
   "file_extension": ".py",
   "mimetype": "text/x-python",
   "name": "python",
   "nbconvert_exporter": "python",
   "pygments_lexer": "ipython3",
   "version": "3.7.12"
  }
 },
 "nbformat": 4,
 "nbformat_minor": 5
}

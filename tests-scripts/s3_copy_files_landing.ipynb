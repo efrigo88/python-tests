{
 "cells": [
  {
   "cell_type": "code",
   "execution_count": 7,
   "metadata": {},
   "outputs": [],
   "source": [
    "import boto3"
   ]
  },
  {
   "cell_type": "code",
   "execution_count": 6,
   "metadata": {},
   "outputs": [],
   "source": [
    "AWS_ACCESS_KEY_ID = \"your_access_key\"\n",
    "AWS_SECRET_ACCESS_KEY = \"your_secret_key\"\n",
    "AWS_SESSION_TOKEN = \"your_session_token\""
   ]
  },
  {
   "cell_type": "code",
   "execution_count": 31,
   "metadata": {},
   "outputs": [],
   "source": [
    "bucket = \"f14-datalake-landing-dev\"\n",
    "prefix = \"scrapers/seller_central/detail_page_sales_and_traffic_by_child_item_by_asin\""
   ]
  },
  {
   "cell_type": "code",
   "execution_count": 30,
   "metadata": {},
   "outputs": [],
   "source": [
    "# Cliente S3\n",
    "s3 = boto3.client(\n",
    "    \"s3\",\n",
    "    aws_access_key_id=AWS_ACCESS_KEY_ID,\n",
    "    aws_secret_access_key=AWS_SECRET_ACCESS_KEY,\n",
    "    aws_session_token=AWS_SESSION_TOKEN,\n",
    ")\n",
    "\n",
    "\n",
    "# Dump Fn from S3\n",
    "def s3_items_from_table(bucket, prefix):\n",
    "    paginator = s3.get_paginator(\"list_objects_v2\")\n",
    "    pages = paginator.paginate(Bucket=bucket, Prefix=prefix)\n",
    "    objects = []\n",
    "    for page in pages:\n",
    "        for item in page[\"Contents\"]:\n",
    "            objects.append(item[\"Key\"])\n",
    "\n",
    "    return objects"
   ]
  },
  {
   "cell_type": "code",
   "execution_count": 32,
   "metadata": {},
   "outputs": [
    {
     "name": "stdout",
     "output_type": "stream",
     "text": [
      "4382 items in total\n"
     ]
    }
   ],
   "source": [
    "# list S3 Objects\n",
    "files = s3_items_from_table(bucket=bucket, prefix=prefix)\n",
    "print(f\"{len(files)} items in total\")"
   ]
  },
  {
   "cell_type": "code",
   "execution_count": 49,
   "metadata": {},
   "outputs": [],
   "source": [
    "# Copy Fn\n",
    "def copy_s3_object(bucket, key):\n",
    "    copy_source = {\"Bucket\": bucket, \"Key\": key}\n",
    "    s3.copy_object(\n",
    "        CopySource=copy_source, Bucket=bucket, Key=key, MetadataDirective=\"REPLACE\"\n",
    "    )"
   ]
  },
  {
   "cell_type": "code",
   "execution_count": 33,
   "metadata": {},
   "outputs": [
    {
     "data": {
      "text/plain": [
       "['scrapers/seller_central/detail_page_sales_and_traffic_by_child_item_by_asin/p_creation_dt=2019-11-17/p_brand_id=BAHV/p_region_id=NA/p_country_id=US/bahv-na-us-detailsalestrafficbychilditem-2019-11-17.csv',\n",
       " 'scrapers/seller_central/detail_page_sales_and_traffic_by_child_item_by_asin/p_creation_dt=2019-11-17/p_brand_id=BARVIVO/p_region_id=NA/p_country_id=US/barvivo-na-us-detailsalestrafficbychilditem-2019-11-17.csv',\n",
       " 'scrapers/seller_central/detail_page_sales_and_traffic_by_child_item_by_asin/p_creation_dt=2019-11-18/p_brand_id=BARVIVO/p_region_id=NA/p_country_id=US/barvivo-na-us-detailsalestrafficbychilditem-2019-11-18.csv',\n",
       " 'scrapers/seller_central/detail_page_sales_and_traffic_by_child_item_by_asin/p_creation_dt=2019-11-19/p_brand_id=BARVIVO/p_region_id=NA/p_country_id=US/barvivo-na-us-detailsalestrafficbychilditem-2019-11-19.csv',\n",
       " 'scrapers/seller_central/detail_page_sales_and_traffic_by_child_item_by_asin/p_creation_dt=2019-11-20/p_brand_id=BARVIVO/p_region_id=NA/p_country_id=US/barvivo-na-us-detailsalestrafficbychilditem-2019-11-20.csv']"
      ]
     },
     "execution_count": 33,
     "metadata": {},
     "output_type": "execute_result"
    }
   ],
   "source": [
    "files[:5]"
   ]
  },
  {
   "cell_type": "code",
   "execution_count": 44,
   "metadata": {},
   "outputs": [
    {
     "name": "stdout",
     "output_type": "stream",
     "text": [
      "3344\n"
     ]
    }
   ],
   "source": [
    "list_to_copy = []\n",
    "\n",
    "for i in files:\n",
    "    if \"BARVIVO\" not in i and \"TRIBE_WOD\" not in i:\n",
    "        list_to_copy.append(i)\n",
    "\n",
    "print(len(list_to_copy))"
   ]
  },
  {
   "cell_type": "code",
   "execution_count": 45,
   "metadata": {},
   "outputs": [
    {
     "data": {
      "text/plain": [
       "['scrapers/seller_central/detail_page_sales_and_traffic_by_child_item_by_asin/p_creation_dt=2019-11-17/p_brand_id=BAHV/p_region_id=NA/p_country_id=US/bahv-na-us-detailsalestrafficbychilditem-2019-11-17.csv',\n",
       " 'scrapers/seller_central/detail_page_sales_and_traffic_by_child_item_by_asin/p_creation_dt=2019-11-21/p_brand_id=BAHV/p_region_id=NA/p_country_id=US/bahv-na-us-detailsalestrafficbychilditem-2019-11-21.csv',\n",
       " 'scrapers/seller_central/detail_page_sales_and_traffic_by_child_item_by_asin/p_creation_dt=2019-11-24/p_brand_id=MOUNTAIN_GRILLERS/p_region_id=NA/p_country_id=US/mountain_grillers-na-us-detailsalestrafficbychilditem-2019-11-24.csv',\n",
       " 'scrapers/seller_central/detail_page_sales_and_traffic_by_child_item_by_asin/p_creation_dt=2019-11-24/p_brand_id=SWEET_VIBES/p_region_id=NA/p_country_id=US/sweet_vibes-na-us-detailsalestrafficbychilditem-2019-11-24.csv',\n",
       " 'scrapers/seller_central/detail_page_sales_and_traffic_by_child_item_by_asin/p_creation_dt=2019-11-24/p_brand_id=WWO/p_region_id=NA/p_country_id=US/wwo-na-us-detailsalestrafficbychilditem-2019-11-24.csv']"
      ]
     },
     "execution_count": 45,
     "metadata": {},
     "output_type": "execute_result"
    }
   ],
   "source": [
    "list_to_copy[:5]"
   ]
  },
  {
   "cell_type": "code",
   "execution_count": 51,
   "metadata": {},
   "outputs": [
    {
     "name": "stdout",
     "output_type": "stream",
     "text": [
      "OK:   file_nro:1   >>scrapers/seller_central/detail_page_sales_and_traffic_by_child_item_by_asin/p_creation_dt=2019-11-17/p_brand_id=BAHV/p_region_id=NA/p_country_id=US/bahv-na-us-detailsalestrafficbychilditem-2019-11-17.csv<<\n",
      "Process Finished: 3344 copied\n"
     ]
    }
   ],
   "source": [
    "# Copying elements one by one\n",
    "if len(list_to_copy) > 0:\n",
    "    c = 0\n",
    "    for item in sorted(list_to_copy[:1]):\n",
    "        try:\n",
    "            copy_s3_object(bucket, item)\n",
    "            # time.sleep(sleep_between_files)\n",
    "            c += 1\n",
    "            print(f\"OK:   file_nro:{c}   >>{item}<<\")\n",
    "        except Exception as exception:\n",
    "            print(f\"FAILED:   >>{item}<<\")\n",
    "            print(f\"FAILED REASON:   >>{exception}<<\")\n",
    "\n",
    "    print(f\"Process Finished: {len(list_to_copy)} copied\")\n",
    "else:\n",
    "    print(\"Nothing to move\")"
   ]
  }
 ],
 "metadata": {
  "interpreter": {
   "hash": "7fc3cbf63bd6aa6045e6558a124d823bce64e6fc3b99cd8ac39da55055a28d5a"
  },
  "kernelspec": {
   "display_name": "Python 3.7.12 64-bit ('3.7.12_1': pyenv)",
   "language": "python",
   "name": "python3"
  },
  "language_info": {
   "codemirror_mode": {
    "name": "ipython",
    "version": 3
   },
   "file_extension": ".py",
   "mimetype": "text/x-python",
   "name": "python",
   "nbconvert_exporter": "python",
   "pygments_lexer": "ipython3",
   "version": "3.7.12"
  },
  "orig_nbformat": 4
 },
 "nbformat": 4,
 "nbformat_minor": 2
}

{
 "cells": [
  {
   "cell_type": "code",
   "execution_count": 72,
   "id": "422ba920-e9ec-4e18-a402-9e75cbd1fa29",
   "metadata": {},
   "outputs": [],
   "source": [
    "import boto3\n",
    "import pandas as pd\n",
    "\n",
    "aws_session = boto3.session.Session(profile_name='data-dev')\n",
    "s3_client = boto3.client('s3')\n",
    "s3 = aws_session.resource('s3')\n",
    "\n",
    "landing_bucket = s3.Bucket('f14-datalake-landing-dev')\n",
    "input_bucket = 'f14-datalake-landing-dev'\n",
    "output_bucket = 'f14-datalake-raw-dev'\n",
    "base_prefix = 'scrapers/seller_central/detail_page_sales_and_traffic_by_child_item_by_asin'"
   ]
  },
  {
   "cell_type": "markdown",
   "id": "e9288fcb-802e-4ce3-961d-d41558652517",
   "metadata": {},
   "source": [
    "### General Functions"
   ]
  },
  {
   "cell_type": "code",
   "execution_count": 73,
   "id": "d5bd1faa-f34a-4f94-b32a-aff5d5f9ccae",
   "metadata": {},
   "outputs": [],
   "source": [
    "import json \n",
    "from datetime import datetime\n",
    "import tempfile\n",
    "import progressbar\n",
    "from datetime import datetime\n",
    "import pathlib\n",
    "import os\n",
    "\n",
    "def read_from_s3(s3_client, bucket_name, file_prefix):\n",
    "    obj = s3_client.get_object(Bucket=bucket_name, Key=file_prefix)\n",
    "    body = obj['Body'].read().decode('utf-8')\n",
    "    return body\n",
    "\n",
    "\n",
    "def upload_to_s3(s3_client, input_file_path, output_bucket, output_prefix):\n",
    "    with open(input_file_path, \"rb\") as f:\n",
    "        object_data = f.read()\n",
    "        s3_client.put_object(Body=object_data, Bucket=output_bucket, Key=output_prefix)\n",
    "        \n",
    "def replace_with_raw_extension(input_file_name):\n",
    "    return input_file_name[:input_file_name.find('.')] + '.jsonl'\n",
    "\n",
    "\n",
    "def get_files_to_proccess(valid_prefix):\n",
    "    files_to_process = []\n",
    "    for landing_bucket_object in landing_bucket.objects.all():\n",
    "        object_last_update = landing_bucket_object.last_modified\n",
    "        bucket_name = landing_bucket_object.bucket_name\n",
    "        object_key = landing_bucket_object.key\n",
    "\n",
    "        if valid_prefix in object_key and ('.csv' in object_key or '.tsv' in object_key or '.jsonl' in object_key):\n",
    "            files_to_process.append([bucket_name, object_key, object_last_update])   \n",
    "    \n",
    "    return files_to_process"
   ]
  },
  {
   "cell_type": "markdown",
   "id": "8747d6e1-737b-48c2-84df-32bb447959c1",
   "metadata": {},
   "source": [
    "## Scraper custom functions"
   ]
  },
  {
   "cell_type": "markdown",
   "id": "5a11e4d9-ae94-421f-9d43-39c9e9c680e4",
   "metadata": {},
   "source": [
    "### Parse input prefix to get output prefix\n",
    "Input prefix example: scrapers/seller_central/detail_page_sales_and_traffic_by_asin/p_creation_dt=2019-11-16/p_brand_id=BARVIVO/p_region_id=NA/p_country_id=US/barvivo-na-us-detailsalestrafficbysku-2019-11-16.csv"
   ]
  },
  {
   "cell_type": "code",
   "execution_count": 74,
   "id": "4de5b22b-3d5a-4b26-b2a8-a135927005d2",
   "metadata": {},
   "outputs": [],
   "source": [
    "def get_destination_prefix(file_prefix, last_modified_dt = datetime.now()):\n",
    "    file_prefix = file_prefix.split('/')\n",
    "    file_name = file_prefix[-1]\n",
    "    integration = file_prefix[0]\n",
    "    entity_name = file_prefix[2]\n",
    "    brand = file_prefix[4].replace('p_brand_id=', '')\n",
    "    region = file_prefix[5].replace('p_region_id=', '')\n",
    "    country = file_prefix[6].replace('p_country_id=', '')\n",
    "    platform = file_prefix[1]\n",
    "    \n",
    "    destination_prefix = f'{integration}/{platform}/{entity_name}/p_creation_dt={last_modified_dt.strftime(\"%Y-%m-%d\")}/{file_name}'\n",
    "    return replace_with_raw_extension(destination_prefix), brand, country, region"
   ]
  },
  {
   "cell_type": "code",
   "execution_count": 25,
   "id": "d5fbfc6b-5a28-4203-ae9f-ab51da32b8d7",
   "metadata": {},
   "outputs": [
    {
     "data": {
      "text/plain": [
       "('scrapers/seller_central/detail_page_sales_and_traffic_by_asin/p_creation_dt=2021-11-22/barvivo-na-us-detailsalestrafficbysku-2019-11-16.jsonl',\n",
       " 'BARVIVO',\n",
       " 'US',\n",
       " 'NA')"
      ]
     },
     "execution_count": 25,
     "metadata": {},
     "output_type": "execute_result"
    }
   ],
   "source": [
    "test_file_prefix = 'scrapers/seller_central/detail_page_sales_and_traffic_by_asin/p_creation_dt=2019-11-16/p_brand_id=BARVIVO/' \\\n",
    "                   'p_region_id=NA/p_country_id=US/barvivo-na-us-detailsalestrafficbysku-2019-11-16.csv'\n",
    "\n",
    "get_destination_prefix(test_file_prefix)"
   ]
  },
  {
   "cell_type": "code",
   "execution_count": 101,
   "id": "a65c29cb-bf2d-440b-9f4c-5abed35fff14",
   "metadata": {},
   "outputs": [],
   "source": [
    "def fix_cols_names(df):\n",
    "    dest_cols = []\n",
    "    for col in df.columns:\n",
    "        new_name = col.lower().replace('-','_').replace(' ','_').replace('___','_').replace('(','').replace(')','')\n",
    "        dest_cols.append(new_name)\n",
    "        df[new_name] = df[col]\n",
    "        \n",
    "    return df[dest_cols]"
   ]
  },
  {
   "cell_type": "markdown",
   "id": "af1a497d-4628-489c-b497-ae0ab8fb8d8a",
   "metadata": {},
   "source": [
    "### Convert file content to JSON list and save in temp"
   ]
  },
  {
   "cell_type": "code",
   "execution_count": 102,
   "id": "8f277ae1-99a7-4bd7-93b8-c9b3842d683d",
   "metadata": {
    "tags": []
   },
   "outputs": [],
   "source": [
    "def convert_and_upload_parquet(file_content, brand_id, country_id, region_id, output_prefix):\n",
    "    df = pd.read_csv(io.StringIO(test_file_content), quotechar='\"', delim_whitespace=False)\n",
    "    if df.empty:\n",
    "        return\n",
    "\n",
    "    df['brand_id'] = brand_id.upper()\n",
    "    df['country_id'] = country_id.upper()\n",
    "    df['region_id'] = region_id.upper()\n",
    "    df['aud_process_ts'] = datetime.now().strftime('%Y-%m-%d-%H:%M:%S')\n",
    "    \n",
    "    df = fix_cols_names(df)\n",
    "    \n",
    "    temp_file_path = f\"temp/{output_prefix}\"\n",
    "    destination_folder = temp_file_path[:temp_file_path.rfind(\"/\")]\n",
    "    \n",
    "    if not os.path.exists(destination_folder):\n",
    "        pathlib.Path(destination_folder).mkdir(parents=True, exist_ok=True)\n",
    "        \n",
    "    df.to_json(temp_file_path, orient=\"records\", lines=True) \n",
    "    return temp_file_path"
   ]
  },
  {
   "cell_type": "code",
   "execution_count": null,
   "id": "c83b9283-dbed-4616-aad0-2a55bd6bc7db",
   "metadata": {},
   "outputs": [],
   "source": [
    "test_file_prefix = 'scrapers/seller_central/detail_page_sales_and_traffic_by_asin/p_creation_dt=2019-11-16/p_brand_id=BARVIVO/' \\\n",
    "                   'p_region_id=NA/p_country_id=US/barvivo-na-us-detailsalestrafficbysku-2019-11-16.csv'\n",
    "\n",
    "test_file_content = read_from_s3(s3_client, input_bucket, test_file_prefix)\n",
    "test_output_prefix, brand_id, country_id, region_id = get_destination_prefix(test_file_prefix)\n",
    "\n",
    "test_df = convert_and_upload_parquet(test_file_content, brand_id, country_id, region_id, test_output_prefix)"
   ]
  },
  {
   "cell_type": "code",
   "execution_count": null,
   "id": "f64eee20-cd28-4a85-9ef0-317b92995418",
   "metadata": {},
   "outputs": [],
   "source": []
  },
  {
   "cell_type": "code",
   "execution_count": null,
   "id": "7442d88b-8680-4e86-ab87-79c18d5acc74",
   "metadata": {},
   "outputs": [],
   "source": []
  },
  {
   "cell_type": "markdown",
   "id": "4565e622-17d3-49f8-b9cb-9e1c7fdbed0e",
   "metadata": {},
   "source": [
    "### Process File"
   ]
  },
  {
   "cell_type": "code",
   "execution_count": 103,
   "id": "abe09218-d963-4605-b3ec-972d71a1bd44",
   "metadata": {},
   "outputs": [],
   "source": [
    "def process_file(s3_client, file_to_process):\n",
    "    last_modified_dt = file_to_process[2]\n",
    "    input_bucket = file_to_process[0]\n",
    "    input_prefix = file_to_process[1]\n",
    "\n",
    "    file_content = read_from_s3(s3_client, input_bucket, input_prefix)\n",
    "    output_prefix, brand_id, country_id, region_id = get_destination_prefix(input_prefix)\n",
    "    temp_file_path = convert_and_upload_parquet(file_content, brand_id, country_id, region_id, output_prefix)\n",
    "    upload_to_s3(s3_client, temp_file_path, output_bucket, output_prefix)"
   ]
  },
  {
   "cell_type": "code",
   "execution_count": null,
   "id": "28a9f5db-c7a0-47eb-9a41-e321f3359f89",
   "metadata": {},
   "outputs": [],
   "source": [
    "test_file_to_process = ['f14-datalake-landing-dev', 'scrapers/seller_central/detail_page_sales_and_traffic_by_asin/p_creation_dt=2019-11-16/p_brand_id=BARVIVO/p_region_id=NA/p_country_id=US/barvivo-na-us-detailsalestrafficbysku-2019-11-16.csv', datetime(2021, 11, 22, 16, 57, 26)]\n",
    "process_file(s3_client, test_file_to_process)\n"
   ]
  },
  {
   "cell_type": "markdown",
   "id": "369bd7cd-cf5f-4824-b760-503e626cb8f1",
   "metadata": {},
   "source": [
    "## Main Execution"
   ]
  },
  {
   "cell_type": "code",
   "execution_count": 105,
   "id": "43333c7c-acb7-41ed-96c7-fac776090710",
   "metadata": {},
   "outputs": [
    {
     "name": "stderr",
     "output_type": "stream",
     "text": [
      "100% (1041 of 1041) |####################| Elapsed Time: 0:04:44 Time:  0:04:44\n"
     ]
    },
    {
     "name": "stdout",
     "output_type": "stream",
     "text": [
      "Done!\n"
     ]
    }
   ],
   "source": [
    "import time\n",
    "import progressbar\n",
    "\n",
    "files_to_process = get_files_to_proccess(base_prefix)\n",
    "\n",
    "i = 0\n",
    "with progressbar.ProgressBar(max_value=len(files_to_process)+1) as bar:\n",
    "    for file_to_process in files_to_process:   \n",
    "        try:\n",
    "            process_file(s3_client, file_to_process)        \n",
    "        except:\n",
    "            print(f\"An exception occurred trying to process file {file_to_process}\")\n",
    "        \n",
    "        i = i + 1\n",
    "        bar.update(i)\n",
    "\n",
    "print(\"Done!\")"
   ]
  },
  {
   "cell_type": "code",
   "execution_count": null,
   "id": "97ee0788-cd48-4571-a5a1-4dbaca4cd675",
   "metadata": {},
   "outputs": [],
   "source": []
  },
  {
   "cell_type": "code",
   "execution_count": null,
   "id": "6c5c9ac5-44f6-49aa-9855-cfb000a4b7c7",
   "metadata": {},
   "outputs": [],
   "source": []
  }
 ],
 "metadata": {
  "kernelspec": {
   "display_name": "Python 3 (ipykernel)",
   "language": "python",
   "name": "python3"
  },
  "language_info": {
   "codemirror_mode": {
    "name": "ipython",
    "version": 3
   },
   "file_extension": ".py",
   "mimetype": "text/x-python",
   "name": "python",
   "nbconvert_exporter": "python",
   "pygments_lexer": "ipython3",
   "version": "3.7.12"
  }
 },
 "nbformat": 4,
 "nbformat_minor": 5
}

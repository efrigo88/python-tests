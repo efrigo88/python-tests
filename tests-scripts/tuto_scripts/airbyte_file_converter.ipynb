{
 "cells": [
  {
   "cell_type": "code",
   "execution_count": 1,
   "id": "422ba920-e9ec-4e18-a402-9e75cbd1fa29",
   "metadata": {},
   "outputs": [],
   "source": [
    "import boto3\n",
    "import pandas as pd\n",
    "\n",
    "aws_session = boto3.session.Session(profile_name='data-dev')\n",
    "s3_client = boto3.client('s3')\n",
    "s3 = aws_session.resource('s3')\n",
    "\n",
    "landing_bucket = s3.Bucket('f14-datalake-landing-dev')\n",
    "input_bucket = 'f14-datalake-landing-dev'\n",
    "output_bucket = 'f14-datalake-raw-dev'\n",
    "base_prefix = 'airbyte/shopify'"
   ]
  },
  {
   "cell_type": "markdown",
   "id": "d6cd1ff4-e694-48a6-bd49-b265cc69c3c5",
   "metadata": {},
   "source": [
    "### General Functions"
   ]
  },
  {
   "cell_type": "code",
   "execution_count": 2,
   "id": "cf61c149-a9bb-47a0-a882-a2370dce3d53",
   "metadata": {},
   "outputs": [],
   "source": [
    "import json \n",
    "from datetime import datetime\n",
    "import tempfile\n",
    "import progressbar\n",
    "from datetime import datetime\n",
    "import pathlib\n",
    "import os\n",
    "\n",
    "def read_from_s3(s3_client, bucket_name, file_prefix):\n",
    "    obj = s3_client.get_object(Bucket=bucket_name, Key=file_prefix)\n",
    "    body = obj['Body'].read().decode('utf-8')\n",
    "    return body\n",
    "\n",
    "\n",
    "def upload_to_s3(s3_client, input_file_path, output_bucket, output_prefix):\n",
    "    with open(input_file_path, \"rb\") as f:\n",
    "        object_data = f.read()\n",
    "        s3_client.put_object(Body=object_data, Bucket=output_bucket, Key=output_prefix)\n",
    "        \n",
    "def replace_with_raw_extension(input_file_name):\n",
    "    return input_file_name[:input_file_name.find('.')] + '.jsonl'\n",
    "\n",
    "\n",
    "def get_files_to_proccess(valid_prefix):\n",
    "    files_to_process = []\n",
    "    for landing_bucket_object in landing_bucket.objects.all():\n",
    "        object_last_update = landing_bucket_object.last_modified\n",
    "        bucket_name = landing_bucket_object.bucket_name\n",
    "        object_key = landing_bucket_object.key\n",
    "\n",
    "        if valid_prefix in object_key and ('.csv' in object_key or '.tsv' in object_key or '.jsonl' in object_key):\n",
    "            files_to_process.append([bucket_name, object_key, object_last_update])   \n",
    "    \n",
    "    return files_to_process"
   ]
  },
  {
   "cell_type": "markdown",
   "id": "54617c6f-6811-43f8-98a3-267bfaed273d",
   "metadata": {},
   "source": [
    "## Airbyte Custom Functions"
   ]
  },
  {
   "cell_type": "code",
   "execution_count": 3,
   "id": "88fd4850-4453-449c-815b-7732bad4d8a1",
   "metadata": {},
   "outputs": [],
   "source": [
    "def get_files_to_proccess(valid_prefix):\n",
    "    files_to_process = []\n",
    "    for landing_bucket_object in landing_bucket.objects.all():\n",
    "        object_last_update = landing_bucket_object.last_modified\n",
    "        bucket_name = landing_bucket_object.bucket_name\n",
    "        object_key = landing_bucket_object.key\n",
    "\n",
    "        if valid_prefix in object_key \\\n",
    "            and ('fulfillments' in object_key or 'orders_refunds' in object_key or 'orders' in object_key) \\\n",
    "            and ('.csv' in object_key or '.tsv' in object_key or '.jsonl' in object_key):\n",
    "            files_to_process.append([bucket_name, object_key, object_last_update])   \n",
    "    \n",
    "    return files_to_process"
   ]
  },
  {
   "cell_type": "code",
   "execution_count": 4,
   "id": "c6ab7bd3-aa1b-4512-ab86-3c2c88b45c4c",
   "metadata": {},
   "outputs": [],
   "source": [
    "def get_destination_prefix(file_prefix, last_modified_dt = datetime.now()):\n",
    "    file_prefix = file_prefix.split('/')\n",
    "    file_name = file_prefix[4]\n",
    "    integration = file_prefix[0]\n",
    "    entity_name = file_prefix[3]\n",
    "    brand = file_prefix[2][:-1]\n",
    "    platform = file_prefix[1]\n",
    "    \n",
    "    destination_prefix = f'{integration}/p_integration_id={platform}/p_entity_id={entity_name}/p_creation_dt={last_modified_dt.strftime(\"%Y-%m-%d\")}/{file_name}'\n",
    "    return replace_with_raw_extension(destination_prefix), brand"
   ]
  },
  {
   "cell_type": "code",
   "execution_count": 5,
   "id": "6db75fec-164a-40b3-a324-c402411314d4",
   "metadata": {},
   "outputs": [],
   "source": [
    "def convert_and_upload_parquet(file_content, brand_name, output_prefix):\n",
    "    file_content = file_content.split('\\n')[:-1]\n",
    "    df = pd.DataFrame.from_dict([json.loads(item) for item in file_content])\n",
    "    if df.empty:\n",
    "        return\n",
    "\n",
    "    df['brand_id'] = brand_name.upper()\n",
    "    df['aud_process_ts'] = datetime.now().strftime('%Y-%m-%d-%H:%M:%S')\n",
    "    df = df[['_airbyte_data', 'brand_id', 'aud_process_ts', '_airbyte_emitted_at', '_airbyte_ab_id']]\n",
    "\n",
    "    \n",
    "    temp_file_path = f\"temp/{output_prefix}\"\n",
    "    destination_folder = temp_file_path[:temp_file_path.rfind(\"/\")]\n",
    "    \n",
    "    if not os.path.exists(destination_folder):\n",
    "        pathlib.Path(destination_folder).mkdir(parents=True, exist_ok=True)\n",
    "        \n",
    "    df.to_json(temp_file_path, orient=\"records\", lines=True) \n",
    "    return temp_file_path"
   ]
  },
  {
   "cell_type": "code",
   "execution_count": 6,
   "id": "1176fc0f-5dee-4636-90aa-7d558d916454",
   "metadata": {},
   "outputs": [],
   "source": [
    "def process_file(s3_client, file_to_process):\n",
    "    last_modified_dt = file_to_process[2]\n",
    "    input_bucket = file_to_process[0]\n",
    "    input_prefix = file_to_process[1]\n",
    "\n",
    "    file_content = read_from_s3(s3_client, input_bucket, input_prefix)\n",
    "    output_prefix, brand_id = get_destination_prefix(input_prefix)\n",
    "    temp_file_path = convert_and_upload_parquet(file_content, brand_id, output_prefix)\n",
    "    if temp_file_path:\n",
    "        upload_to_s3(s3_client, temp_file_path, output_bucket, output_prefix)"
   ]
  },
  {
   "cell_type": "code",
   "execution_count": 7,
   "id": "43333c7c-acb7-41ed-96c7-fac776090710",
   "metadata": {},
   "outputs": [
    {
     "name": "stderr",
     "output_type": "stream",
     "text": [
      "100% (1207 of 1207) |####################| Elapsed Time: 0:22:12 Time:  0:22:12\n"
     ]
    },
    {
     "name": "stdout",
     "output_type": "stream",
     "text": [
      "Done!\n"
     ]
    }
   ],
   "source": [
    "import time\n",
    "import progressbar\n",
    "\n",
    "files_to_process = get_files_to_proccess(base_prefix)\n",
    "\n",
    "i = 0\n",
    "with progressbar.ProgressBar(max_value=len(files_to_process)+1) as bar:\n",
    "    for file_to_process in files_to_process:   \n",
    "        process_file(s3_client, file_to_process)                \n",
    "        i = i + 1\n",
    "        bar.update(i)\n",
    "\n",
    "print(\"Done!\")"
   ]
  },
  {
   "cell_type": "code",
   "execution_count": null,
   "id": "b4e03a91-d3c3-42b9-b4c2-7985c00d8a7e",
   "metadata": {},
   "outputs": [],
   "source": [
    " 50% (462 of 919) |###########           | Elapsed Time: 0:04:16 ETA:   0:26:23"
   ]
  },
  {
   "cell_type": "markdown",
   "id": "84e909e4-5865-4eca-811f-ac9319684b8f",
   "metadata": {},
   "source": [
    "# Manual Testing"
   ]
  },
  {
   "cell_type": "code",
   "execution_count": null,
   "id": "b251365e-a556-4878-8c88-6b04dd4e0cd3",
   "metadata": {},
   "outputs": [],
   "source": [
    "from dateutil.tz import tzutc\n",
    "\n",
    "test_bucket_name = 'f14-datalake-landing-dev'\n",
    "test_file_prefix = 'airbyte/shopify/barvivo_/orders/2021_11_16_1637063315292_0.jsonl'\n",
    "test_last_mod_dt = datetime(2021, 11, 16, 11, 51, 42, tzinfo=tzutc())\n",
    "\n",
    "destination_prefix, brand_name = get_destination_prefix(test_file_prefix, last_modified_dt=test_last_mod_dt)\n",
    "file_content = read(s3_client, test_bucket_name, test_file_prefix)"
   ]
  },
  {
   "cell_type": "code",
   "execution_count": null,
   "id": "441bb995-dfdb-4638-89bc-bf969f12281f",
   "metadata": {},
   "outputs": [],
   "source": []
  },
  {
   "cell_type": "code",
   "execution_count": null,
   "id": "16e68098-8ea1-4686-84c2-ff660f052d36",
   "metadata": {},
   "outputs": [],
   "source": [
    "df = pd.DataFrame.from_dict([json.loads(item) for item in file_content])"
   ]
  },
  {
   "cell_type": "code",
   "execution_count": null,
   "id": "073c4d7a-ba3c-427e-8f48-c5da13c64a7f",
   "metadata": {},
   "outputs": [],
   "source": [
    "# pd.set_option('display.max_colwidth', 10)\n",
    "# df['_airbyte_data'] = df['_airbyte_data'].apply(json.dumps).str.replace('{}','null').apply(json.loads)\n",
    "df['_airbyte_data'] = df['_airbyte_data']"
   ]
  },
  {
   "cell_type": "code",
   "execution_count": null,
   "id": "89db76c8-9c96-4a30-b801-4c0ec691a297",
   "metadata": {},
   "outputs": [],
   "source": [
    "df['brand_id'] = brand_name.upper()\n",
    "df['process_ts'] = datetime.now()\n",
    "df.head()"
   ]
  },
  {
   "cell_type": "code",
   "execution_count": null,
   "id": "367e19e9-e7c4-4908-8450-34ebcf6f1adf",
   "metadata": {},
   "outputs": [],
   "source": [
    "# df.to_parquet('temp/temp.parquet')\n",
    "df.to_json('temp/temp.jsonl', orient=\"records\")"
   ]
  },
  {
   "cell_type": "code",
   "execution_count": null,
   "id": "a2af97c8-4aaf-4f84-a58b-424fdec229dd",
   "metadata": {},
   "outputs": [],
   "source": [
    "# readed_df = pd.read_parquet('temp/temp.parquet')\n",
    "readed_df = pd.read_json('temp/temp.jsonl')\n",
    "readed_df.head()"
   ]
  },
  {
   "cell_type": "code",
   "execution_count": null,
   "id": "832a7af3-e15a-4299-87d8-3e3d2e2051ef",
   "metadata": {},
   "outputs": [],
   "source": [
    "readed_df.info()"
   ]
  },
  {
   "cell_type": "code",
   "execution_count": null,
   "id": "97ee0788-cd48-4571-a5a1-4dbaca4cd675",
   "metadata": {},
   "outputs": [],
   "source": []
  },
  {
   "cell_type": "code",
   "execution_count": null,
   "id": "6c5c9ac5-44f6-49aa-9855-cfb000a4b7c7",
   "metadata": {},
   "outputs": [],
   "source": []
  }
 ],
 "metadata": {
  "kernelspec": {
   "display_name": "Python 3 (ipykernel)",
   "language": "python",
   "name": "python3"
  },
  "language_info": {
   "codemirror_mode": {
    "name": "ipython",
    "version": 3
   },
   "file_extension": ".py",
   "mimetype": "text/x-python",
   "name": "python",
   "nbconvert_exporter": "python",
   "pygments_lexer": "ipython3",
   "version": "3.7.10"
  }
 },
 "nbformat": 4,
 "nbformat_minor": 5
}

{
 "cells": [
  {
   "cell_type": "code",
   "execution_count": 1,
   "id": "a60f1ea8-2303-4aca-a38e-54a19735372b",
   "metadata": {},
   "outputs": [],
   "source": [
    "import boto3\n",
    "\n",
    "env = 'prod'\n",
    "aws_session = boto3.session.Session(profile_name=f'data-maintainer-{env}')\n",
    "s3_client = aws_session.client('s3')\n",
    "lambda_client = aws_session.client('lambda')\n",
    "s3 = aws_session.resource('s3')\n",
    "\n",
    "landing_bucket = s3.Bucket(f'f14-datalake-landing-{env}')\n",
    "input_bucket = f'f14-datalake-landing-{env}'\n",
    "output_bucket = f'f14-datalake-raw-{env}'\n",
    "base_prefix = 'amazon_sp_api/GET_FBA_MYI_UNSUPPRESSED_INVENTORY_DATA/'"
   ]
  },
  {
   "cell_type": "code",
   "execution_count": 2,
   "id": "74899233-35a0-4d20-9f6f-1ffb2300a7cd",
   "metadata": {},
   "outputs": [],
   "source": [
    "import json \n",
    "from datetime import datetime\n",
    "import tempfile\n",
    "import progressbar\n",
    "from datetime import datetime\n",
    "import pathlib\n",
    "import os\n",
    "\n",
    "\n",
    "def get_files_to_proccess(valid_prefix):\n",
    "    files_to_process = []\n",
    "    for landing_bucket_object in landing_bucket.objects.all():\n",
    "        object_last_update = landing_bucket_object.last_modified\n",
    "        bucket_name = landing_bucket_object.bucket_name\n",
    "        object_key = landing_bucket_object.key\n",
    "\n",
    "        if valid_prefix in object_key and ('.csv' in object_key or '.tsv' in object_key or '.jsonl' in object_key):\n",
    "            files_to_process.append([bucket_name, object_key, object_last_update])   \n",
    "    \n",
    "    return files_to_process\n",
    "\n",
    "\n",
    "def get_lambda_payload(bucket_name, object_prefix, file_last_update_ts):\n",
    "    return {\n",
    "              \"Records\": [\n",
    "                {\n",
    "                  \"eventVersion\": \"2.0\",\n",
    "                  \"eventSource\": \"aws:s3\",\n",
    "                  \"awsRegion\": \"us-east-1\",\n",
    "                  \"eventTime\": \"1970-01-01T00:00:00.000Z\",\n",
    "                  \"eventName\": \"ObjectCreated:Put\",\n",
    "                  \"userIdentity\": {\n",
    "                    \"principalId\": \"EXAMPLE\"\n",
    "                  },\n",
    "                  \"requestParameters\": {\n",
    "                    \"sourceIPAddress\": \"127.0.0.1\"\n",
    "                  },\n",
    "                  \"responseElements\": {\n",
    "                    \"x-amz-request-id\": \"EXAMPLE123456789\",\n",
    "                    \"x-amz-id-2\": \"EXAMPLE123/5678abcdefghijklambdaisawesome/mnopqrstuvwxyzABCDEFGH\"\n",
    "                  },\n",
    "                  \"s3\": {\n",
    "                    \"s3SchemaVersion\": \"1.0\",\n",
    "                    \"configurationId\": \"testConfigRule\",\n",
    "                    \"bucket\": {\n",
    "                      \"name\": bucket_name,\n",
    "                      \"ownerIdentity\": {\n",
    "                        \"principalId\": \"EXAMPLE\"\n",
    "                      },\n",
    "                      \"arn\": f\"arn:aws:s3:::{bucket_name}\"\n",
    "                    },\n",
    "                    \"object\": {\n",
    "                      \"key\": object_prefix,\n",
    "                      \"size\": 1024,\n",
    "                      \"eTag\": \"0123456789abcdef0123456789abcdef\",\n",
    "                      \"sequencer\": \"0A1B2C3D4E5F678901\"\n",
    "                    }\n",
    "                  }\n",
    "                }\n",
    "              ]\n",
    "            }"
   ]
  },
  {
   "cell_type": "code",
   "execution_count": 3,
   "id": "2cd57d45-37ce-4711-afef-4fe9245256c4",
   "metadata": {},
   "outputs": [
    {
     "data": {
      "text/plain": [
       "2038"
      ]
     },
     "execution_count": 3,
     "metadata": {},
     "output_type": "execute_result"
    }
   ],
   "source": [
    "import time\n",
    "import progressbar\n",
    "import io\n",
    "\n",
    "files_to_process_all = get_files_to_proccess(base_prefix)\n",
    "len(files_to_process_all)"
   ]
  },
  {
   "cell_type": "code",
   "execution_count": 8,
   "id": "80838531",
   "metadata": {},
   "outputs": [
    {
     "data": {
      "text/plain": [
       "[['f14-datalake-landing-prod',\n",
       "  'amazon_sp_api/GET_FBA_MYI_UNSUPPRESSED_INVENTORY_DATA/p_creation_dt=2022-03-03/p_brand_id=BARVIVO/p_region_id=EU/842052018985.tsv',\n",
       "  datetime.datetime(2022, 3, 3, 16, 48, 4, tzinfo=tzutc())],\n",
       " ['f14-datalake-landing-prod',\n",
       "  'amazon_sp_api/GET_FBA_MYI_UNSUPPRESSED_INVENTORY_DATA/p_creation_dt=2022-03-03/p_brand_id=BARVIVO/p_region_id=EU/842151018985.tsv',\n",
       "  datetime.datetime(2022, 3, 3, 16, 46, 5, tzinfo=tzutc())],\n",
       " ['f14-datalake-landing-prod',\n",
       "  'amazon_sp_api/GET_FBA_MYI_UNSUPPRESSED_INVENTORY_DATA/p_creation_dt=2022-03-03/p_brand_id=BARVIVO/p_region_id=EU/842238018985.tsv',\n",
       "  datetime.datetime(2022, 3, 3, 16, 44, 5, tzinfo=tzutc())],\n",
       " ['f14-datalake-landing-prod',\n",
       "  'amazon_sp_api/GET_FBA_MYI_UNSUPPRESSED_INVENTORY_DATA/p_creation_dt=2022-03-03/p_brand_id=BARVIVO/p_region_id=EU/842310018985.tsv',\n",
       "  datetime.datetime(2022, 3, 3, 16, 42, 4, tzinfo=tzutc())],\n",
       " ['f14-datalake-landing-prod',\n",
       "  'amazon_sp_api/GET_FBA_MYI_UNSUPPRESSED_INVENTORY_DATA/p_creation_dt=2022-03-03/p_brand_id=BARVIVO/p_region_id=EU/842396018985.tsv',\n",
       "  datetime.datetime(2022, 3, 3, 16, 40, 4, tzinfo=tzutc())]]"
      ]
     },
     "execution_count": 8,
     "metadata": {},
     "output_type": "execute_result"
    }
   ],
   "source": [
    "files_to_process_all[:5]"
   ]
  },
  {
   "cell_type": "code",
   "execution_count": 6,
   "id": "ead2243b-a248-49f8-b28a-fcd9dbff334e",
   "metadata": {},
   "outputs": [
    {
     "data": {
      "text/plain": [
       "0"
      ]
     },
     "execution_count": 6,
     "metadata": {},
     "output_type": "execute_result"
    }
   ],
   "source": [
    "import time\n",
    "import progressbar\n",
    "import io\n",
    "from datetime import timedelta\n",
    "\n",
    "previous_day_str = (datetime.now() - timedelta(days=1)).strftime('%Y-%m-%d')\n",
    "current_day_str = datetime.now().strftime('%Y-%m-%d')\n",
    "\n",
    "files_to_process = [file_prefix for file_prefix in files_to_process_all if previous_day_str in file_prefix[1] or current_day_str in file_prefix[1]]\n",
    "len(files_to_process)"
   ]
  },
  {
   "cell_type": "code",
   "execution_count": 7,
   "id": "033070eb",
   "metadata": {},
   "outputs": [],
   "source": [
    "files_to_process = files_to_process_all"
   ]
  },
  {
   "cell_type": "code",
   "execution_count": 9,
   "id": "c2d1bbc7-e708-40b2-bb33-ee53e1dbec66",
   "metadata": {},
   "outputs": [
    {
     "name": "stderr",
     "output_type": "stream",
     "text": [
      "100% (2038 of 2038) |####################| Elapsed Time: 0:55:27 Time:  0:55:27\n"
     ]
    },
    {
     "name": "stdout",
     "output_type": "stream",
     "text": [
      "Done!\n"
     ]
    }
   ],
   "source": [
    "import json\n",
    "from time import sleep\n",
    "\n",
    "i = 0\n",
    "with progressbar.ProgressBar(max_value=len(files_to_process)) as bar:\n",
    "    for file_to_process in files_to_process:   \n",
    "        call_payload = get_lambda_payload(file_to_process[0], file_to_process[1], file_to_process[2])\n",
    "\n",
    "        response = lambda_client.invoke_async(\n",
    "            FunctionName='landingFileProcessor',\n",
    "            InvokeArgs=json.dumps(call_payload),\n",
    "        )\n",
    "        sleep(1.5)          \n",
    "        i = i + 1\n",
    "        bar.update(i)\n",
    "\n",
    "print(\"Done!\")"
   ]
  }
 ],
 "metadata": {
  "kernelspec": {
   "display_name": "Python 3 (ipykernel)",
   "language": "python",
   "name": "python3"
  },
  "language_info": {
   "codemirror_mode": {
    "name": "ipython",
    "version": 3
   },
   "file_extension": ".py",
   "mimetype": "text/x-python",
   "name": "python",
   "nbconvert_exporter": "python",
   "pygments_lexer": "ipython3",
   "version": "3.7.12"
  }
 },
 "nbformat": 4,
 "nbformat_minor": 5
}

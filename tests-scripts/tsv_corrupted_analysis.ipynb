{
 "cells": [
  {
   "cell_type": "code",
   "execution_count": 70,
   "metadata": {},
   "outputs": [],
   "source": [
    "with open(\"/Users/emif/Downloads/193118019003.tsv\", \"r\") as text_file:\n",
    "        body = text_file.read()"
   ]
  },
  {
   "cell_type": "code",
   "execution_count": 71,
   "metadata": {},
   "outputs": [
    {
     "data": {
      "text/plain": [
       "'Country\\tProduct Name\\tFNSKU\\tMerchant SKU\\tASIN\\tCondition\\tSupplier\\tSupplier part no.\\tCurrency code\\tPric'"
      ]
     },
     "execution_count": 71,
     "metadata": {},
     "output_type": "execute_result"
    }
   ],
   "source": [
    "body[:100]"
   ]
  },
  {
   "cell_type": "code",
   "execution_count": 72,
   "metadata": {},
   "outputs": [],
   "source": [
    "def tsv_corruption_analysis(body: str, search: list) -> bool:\n",
    "    pos = body.find(\"\\n\")\n",
    "    if pos == -1:\n",
    "        return False\n",
    "    body_sliced = body[:pos]\n",
    "    \n",
    "    for wildcard in search:\n",
    "        if wildcard in body_sliced:\n",
    "            print(f\"Signs of corruption, wildcard detected: {wildcard}\")\n",
    "            return True\n",
    "    return False\n"
   ]
  },
  {
   "cell_type": "code",
   "execution_count": 73,
   "metadata": {},
   "outputs": [],
   "source": [
    "to_search = ['\",\"', \"?\", \"¿\"]"
   ]
  },
  {
   "cell_type": "code",
   "execution_count": 74,
   "metadata": {},
   "outputs": [
    {
     "data": {
      "text/plain": [
       "False"
      ]
     },
     "execution_count": 74,
     "metadata": {},
     "output_type": "execute_result"
    }
   ],
   "source": [
    "tsv_corruption_analysis(body, to_search)"
   ]
  },
  {
   "cell_type": "code",
   "execution_count": 50,
   "metadata": {},
   "outputs": [
    {
     "name": "stdout",
     "output_type": "stream",
     "text": [
      "aaa AAA\n",
      "bbb BBB\n"
     ]
    }
   ],
   "source": [
    "test_dict = {\"aaa\":'AAA',\n",
    "             \"bbb\": 'BBB'}\n",
    "\n",
    "for key, value in test_dict.items():\n",
    "    print(key, value)"
   ]
  }
 ],
 "metadata": {
  "interpreter": {
   "hash": "f2c73e9aecc8ffcb1646fe75ff740bdc768c189fb94274a44892f08403f448bc"
  },
  "kernelspec": {
   "display_name": "Python 3.7.12 64-bit ('data-airflow': pyenv)",
   "language": "python",
   "name": "python3"
  },
  "language_info": {
   "codemirror_mode": {
    "name": "ipython",
    "version": 3
   },
   "file_extension": ".py",
   "mimetype": "text/x-python",
   "name": "python",
   "nbconvert_exporter": "python",
   "pygments_lexer": "ipython3",
   "version": "3.7.12"
  },
  "orig_nbformat": 4
 },
 "nbformat": 4,
 "nbformat_minor": 2
}

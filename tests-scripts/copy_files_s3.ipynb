{
 "cells": [
  {
   "cell_type": "code",
   "execution_count": 4,
   "metadata": {},
   "outputs": [],
   "source": [
    "import boto3\n",
    "import awswrangler as wr"
   ]
  },
  {
   "cell_type": "code",
   "execution_count": 8,
   "metadata": {},
   "outputs": [],
   "source": [
    "env = 'dev'\n",
    "aws_session = boto3.session.Session(profile_name=f'data-{env}')\n",
    "s3_client = aws_session.client('s3')\n",
    "lambda_client = aws_session.client('lambda')\n",
    "s3_resource = aws_session.resource('s3')"
   ]
  },
  {
   "cell_type": "code",
   "execution_count": 12,
   "metadata": {},
   "outputs": [],
   "source": [
    "bucket_source = bucket_target = \"f14-datalake-landing-dev\"\n",
    "key = \"amazon_sp_api/GET_RESTOCK_INVENTORY_RECOMMENDATIONS_REPORT/p_creation_dt=2022-01-11/p_brand_id=PROBIKETOOLS/p_region_id=EU/562619019003.tsv\"\n",
    "key_orig_path = \"amazon_sp_api/GET_RESTOCK_INVENTORY_RECOMMENDATIONS_REPORT/p_creation_dt=2022-01-11/p_brand_id=PROBIKETOOLS/\"\n",
    "key_mod_path = \"amazon_sp_api/GET_RESTOCK_INVENTORY_RECOMMENDATIONS_REPORT_corrupted_files_test/p_creation_dt=2022-01-11/p_brand_id=PROBIKETOOLS/\"\n"
   ]
  },
  {
   "cell_type": "code",
   "execution_count": 13,
   "metadata": {},
   "outputs": [
    {
     "data": {
      "text/plain": [
       "['s3://f14-datalake-landing-dev/amazon_sp_api/GET_RESTOCK_INVENTORY_RECOMMENDATIONS_REPORT_corrupted_files_test/p_creation_dt=2022-01-11/p_brand_id=PROBIKETOOLS/p_region_id=EU/562619019003.tsv']"
      ]
     },
     "execution_count": 13,
     "metadata": {},
     "output_type": "execute_result"
    }
   ],
   "source": [
    "wr.s3.copy_objects(\n",
    "    # paths (List[str]) – List of S3 objects paths (e.g. [s3://bucket/dir0/key0, s3://bucket/dir0/key1]).\n",
    "    paths=[f\"s3://{bucket_source}/{key}\",],\n",
    "    source_path=f\"s3://{bucket_source}/{key_orig_path}\",\n",
    "    target_path=f\"s3://{bucket_source}/{key_mod_path}\",\n",
    "    boto3_session=aws_session,\n",
    ")"
   ]
  },
  {
   "cell_type": "code",
   "execution_count": null,
   "metadata": {},
   "outputs": [],
   "source": []
  },
  {
   "cell_type": "code",
   "execution_count": null,
   "metadata": {},
   "outputs": [],
   "source": []
  }
 ],
 "metadata": {
  "interpreter": {
   "hash": "f2c73e9aecc8ffcb1646fe75ff740bdc768c189fb94274a44892f08403f448bc"
  },
  "kernelspec": {
   "display_name": "Python 3.7.12 64-bit ('data-airflow': pyenv)",
   "language": "python",
   "name": "python3"
  },
  "language_info": {
   "codemirror_mode": {
    "name": "ipython",
    "version": 3
   },
   "file_extension": ".py",
   "mimetype": "text/x-python",
   "name": "python",
   "nbconvert_exporter": "python",
   "pygments_lexer": "ipython3",
   "version": "3.7.12"
  },
  "orig_nbformat": 4
 },
 "nbformat": 4,
 "nbformat_minor": 2
}

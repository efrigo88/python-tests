{
 "cells": [
  {
   "cell_type": "markdown",
   "metadata": {},
   "source": [
    "## Functions"
   ]
  },
  {
   "cell_type": "code",
   "execution_count": 2,
   "metadata": {},
   "outputs": [],
   "source": [
    "# Dump Fn from S3\n",
    "def s3_items_from_table(bucket, prefix):\n",
    "    paginator = s3.get_paginator('list_objects_v2')\n",
    "    pages = paginator.paginate(Bucket=bucket, Prefix=prefix)\n",
    "    objects = []\n",
    "    for page in pages:\n",
    "        for item in page['Contents']:\n",
    "            objects.append(item['Key'])\n",
    "    \n",
    "    return objects"
   ]
  },
  {
   "cell_type": "code",
   "execution_count": 3,
   "metadata": {},
   "outputs": [],
   "source": [
    "def get_csv_files(input_lst, ext=\".csv\"):\n",
    "    result = []\n",
    "    for i in input_lst:\n",
    "        if ext in i:\n",
    "            result.append(i)\n",
    "    \n",
    "    return result"
   ]
  },
  {
   "cell_type": "code",
   "execution_count": 4,
   "metadata": {},
   "outputs": [],
   "source": [
    "def read_from_s3(\n",
    "    s3_client, bucket_name: str, file_prefix: str, encoding: str = \"utf-8\"\n",
    ") -> str:\n",
    "    obj = s3_client.get_object(Bucket=bucket_name, Key=file_prefix)\n",
    "    body = obj[\"Body\"].read().decode(encoding)\n",
    "\n",
    "    return body"
   ]
  },
  {
   "cell_type": "code",
   "execution_count": 7,
   "metadata": {},
   "outputs": [],
   "source": [
    "def df_from_str(\n",
    "    body: str, quotechar: str = '\"', sep: str = \",\", delim_whitespace: bool = False\n",
    ") -> pd.DataFrame:\n",
    "    df = pd.read_csv(\n",
    "        io.StringIO(body),\n",
    "        quotechar=quotechar,\n",
    "        sep=sep,\n",
    "        delim_whitespace=delim_whitespace,\n",
    "    )\n",
    "\n",
    "    return df"
   ]
  },
  {
   "cell_type": "code",
   "execution_count": 8,
   "metadata": {},
   "outputs": [],
   "source": [
    "def replace_with_tsv_extension(input_file_name: str) -> str:\n",
    "    return input_file_name[: input_file_name.find(\".\")] + \".tsv\""
   ]
  },
  {
   "cell_type": "code",
   "execution_count": 9,
   "metadata": {},
   "outputs": [],
   "source": [
    "def df_to_s3_as_tsv(s3, df, bucket, prefix):\n",
    "\n",
    "    csv_buffer = io.StringIO()\n",
    "    df.to_csv(csv_buffer, sep=\"\t\", index=False)\n",
    "    s3.Object(bucket, prefix).put(Body=csv_buffer.getvalue())"
   ]
  },
  {
   "cell_type": "markdown",
   "metadata": {},
   "source": [
    "## Main Execution"
   ]
  },
  {
   "cell_type": "code",
   "execution_count": 6,
   "metadata": {},
   "outputs": [],
   "source": [
    "import pandas as pd\n",
    "import progressbar\n",
    "import io\n",
    "import boto3"
   ]
  },
  {
   "cell_type": "code",
   "execution_count": 17,
   "metadata": {},
   "outputs": [],
   "source": [
    "aws_access_key_id = \"your_access_key\"\n",
    "aws_secret_access_key = \"your_secret_key\"\n",
    "aws_session_token = \"your_session_token\""
   ]
  },
  {
   "cell_type": "code",
   "execution_count": 18,
   "metadata": {},
   "outputs": [],
   "source": [
    "# Cliente S3\n",
    "s3 = boto3.client('s3', aws_access_key_id=aws_access_key_id, \n",
    "                          aws_secret_access_key=aws_secret_access_key, \n",
    "                          aws_session_token=aws_session_token)\n",
    "\n",
    "s3_res = boto3.resource('s3', aws_access_key_id=aws_access_key_id, \n",
    "                            aws_secret_access_key=aws_secret_access_key, \n",
    "                            aws_session_token=aws_session_token)\n"
   ]
  },
  {
   "cell_type": "code",
   "execution_count": 19,
   "metadata": {},
   "outputs": [],
   "source": [
    "bucket = 'f14-datalake-landing-prod'\n",
    "destination_bucket = 'f14-datalake-landing-prod'\n",
    "prefix = 'amazon_sp_api/GET_FBA_FULFILLMENT_CURRENT_INVENTORY_DATA/'"
   ]
  },
  {
   "cell_type": "code",
   "execution_count": 13,
   "metadata": {},
   "outputs": [
    {
     "name": "stdout",
     "output_type": "stream",
     "text": [
      "3747 items in total\n"
     ]
    }
   ],
   "source": [
    "# list S3 Objects\n",
    "files = s3_items_from_table(bucket=bucket, prefix=prefix)\n",
    "print(f'{len(files)} items in total')"
   ]
  },
  {
   "cell_type": "code",
   "execution_count": 14,
   "metadata": {},
   "outputs": [
    {
     "data": {
      "text/plain": [
       "['amazon_sp_api/GET_FBA_FULFILLMENT_CURRENT_INVENTORY_DATA/p_creation_dt=2021-10-27/p_brand_id=BARVIVO/p_region_id=EU/768408018927.tsv',\n",
       " 'amazon_sp_api/GET_FBA_FULFILLMENT_CURRENT_INVENTORY_DATA/p_creation_dt=2021-10-27/p_brand_id=BARVIVO/p_region_id=EU/768411018927.tsv',\n",
       " 'amazon_sp_api/GET_FBA_FULFILLMENT_CURRENT_INVENTORY_DATA/p_creation_dt=2021-10-27/p_brand_id=BARVIVO/p_region_id=EU/768415018927.tsv',\n",
       " 'amazon_sp_api/GET_FBA_FULFILLMENT_CURRENT_INVENTORY_DATA/p_creation_dt=2021-10-27/p_brand_id=BARVIVO/p_region_id=EU/768419018927.tsv',\n",
       " 'amazon_sp_api/GET_FBA_FULFILLMENT_CURRENT_INVENTORY_DATA/p_creation_dt=2021-10-27/p_brand_id=BARVIVO/p_region_id=EU/768428018927.tsv']"
      ]
     },
     "execution_count": 14,
     "metadata": {},
     "output_type": "execute_result"
    }
   ],
   "source": [
    "files[:5]"
   ]
  },
  {
   "cell_type": "code",
   "execution_count": 15,
   "metadata": {},
   "outputs": [
    {
     "name": "stdout",
     "output_type": "stream",
     "text": [
      "9\n"
     ]
    }
   ],
   "source": [
    "files_to_process = get_csv_files(files)\n",
    "print(len(files_to_process))"
   ]
  },
  {
   "cell_type": "code",
   "execution_count": 16,
   "metadata": {},
   "outputs": [
    {
     "data": {
      "text/plain": [
       "['amazon_sp_api/GET_FBA_FULFILLMENT_CURRENT_INVENTORY_DATA/p_creation_dt=2021-12-17/p_brand_id=BARVIVO/p_region_id=EU/834834018977.csv',\n",
       " 'amazon_sp_api/GET_FBA_FULFILLMENT_CURRENT_INVENTORY_DATA/p_creation_dt=2021-12-17/p_brand_id=BARVIVO/p_region_id=EU/834876018977.csv',\n",
       " 'amazon_sp_api/GET_FBA_FULFILLMENT_CURRENT_INVENTORY_DATA/p_creation_dt=2021-12-17/p_brand_id=BARVIVO/p_region_id=EU/834997018978.csv',\n",
       " 'amazon_sp_api/GET_FBA_FULFILLMENT_CURRENT_INVENTORY_DATA/p_creation_dt=2021-12-17/p_brand_id=BARVIVO/p_region_id=EU/835024018978.csv',\n",
       " 'amazon_sp_api/GET_FBA_FULFILLMENT_CURRENT_INVENTORY_DATA/p_creation_dt=2021-12-17/p_brand_id=BARVIVO/p_region_id=EU/835152018978.csv',\n",
       " 'amazon_sp_api/GET_FBA_FULFILLMENT_CURRENT_INVENTORY_DATA/p_creation_dt=2021-12-17/p_brand_id=BARVIVO/p_region_id=EU/835168018978.csv',\n",
       " 'amazon_sp_api/GET_FBA_FULFILLMENT_CURRENT_INVENTORY_DATA/p_creation_dt=2021-12-17/p_brand_id=BARVIVO/p_region_id=EU/835302018978.csv',\n",
       " 'amazon_sp_api/GET_FBA_FULFILLMENT_CURRENT_INVENTORY_DATA/p_creation_dt=2021-12-17/p_brand_id=BARVIVO/p_region_id=EU/835336018978.csv',\n",
       " 'amazon_sp_api/GET_FBA_FULFILLMENT_CURRENT_INVENTORY_DATA/p_creation_dt=2021-12-17/p_brand_id=BARVIVO/p_region_id=EU/835443018978.csv']"
      ]
     },
     "execution_count": 16,
     "metadata": {},
     "output_type": "execute_result"
    }
   ],
   "source": [
    "files_to_process"
   ]
  },
  {
   "cell_type": "code",
   "execution_count": 20,
   "metadata": {},
   "outputs": [
    {
     "name": "stderr",
     "output_type": "stream",
     "text": [
      "100% (9 of 9) |##########################| Elapsed Time: 0:00:25 Time:  0:00:25\n"
     ]
    },
    {
     "name": "stdout",
     "output_type": "stream",
     "text": [
      "Done!!!, processed files:9\n",
      "s3://f14-datalake-landing-prod/amazon_sp_api/GET_FBA_FULFILLMENT_CURRENT_INVENTORY_DATA/p_creation_dt=2021-12-17/p_brand_id=BARVIVO/p_region_id=EU/834834018977.tsv\n",
      "s3://f14-datalake-landing-prod/amazon_sp_api/GET_FBA_FULFILLMENT_CURRENT_INVENTORY_DATA/p_creation_dt=2021-12-17/p_brand_id=BARVIVO/p_region_id=EU/834876018977.tsv\n",
      "s3://f14-datalake-landing-prod/amazon_sp_api/GET_FBA_FULFILLMENT_CURRENT_INVENTORY_DATA/p_creation_dt=2021-12-17/p_brand_id=BARVIVO/p_region_id=EU/834997018978.tsv\n",
      "s3://f14-datalake-landing-prod/amazon_sp_api/GET_FBA_FULFILLMENT_CURRENT_INVENTORY_DATA/p_creation_dt=2021-12-17/p_brand_id=BARVIVO/p_region_id=EU/835024018978.tsv\n",
      "s3://f14-datalake-landing-prod/amazon_sp_api/GET_FBA_FULFILLMENT_CURRENT_INVENTORY_DATA/p_creation_dt=2021-12-17/p_brand_id=BARVIVO/p_region_id=EU/835152018978.tsv\n",
      "s3://f14-datalake-landing-prod/amazon_sp_api/GET_FBA_FULFILLMENT_CURRENT_INVENTORY_DATA/p_creation_dt=2021-12-17/p_brand_id=BARVIVO/p_region_id=EU/835168018978.tsv\n",
      "s3://f14-datalake-landing-prod/amazon_sp_api/GET_FBA_FULFILLMENT_CURRENT_INVENTORY_DATA/p_creation_dt=2021-12-17/p_brand_id=BARVIVO/p_region_id=EU/835302018978.tsv\n",
      "s3://f14-datalake-landing-prod/amazon_sp_api/GET_FBA_FULFILLMENT_CURRENT_INVENTORY_DATA/p_creation_dt=2021-12-17/p_brand_id=BARVIVO/p_region_id=EU/835336018978.tsv\n",
      "s3://f14-datalake-landing-prod/amazon_sp_api/GET_FBA_FULFILLMENT_CURRENT_INVENTORY_DATA/p_creation_dt=2021-12-17/p_brand_id=BARVIVO/p_region_id=EU/835443018978.tsv\n"
     ]
    }
   ],
   "source": [
    "i = 0\n",
    "with progressbar.ProgressBar(max_value=len(files_to_process)) as bar:\n",
    "    \n",
    "    processed_file_names = []\n",
    "\n",
    "    for file in files_to_process:\n",
    "        \n",
    "        body = read_from_s3(s3, bucket, file)\n",
    "\n",
    "        df = df_from_str(body, sep=\"\\t\")\n",
    "        \n",
    "        output_prefix = replace_with_tsv_extension(file)\n",
    "\n",
    "        df_to_s3_as_tsv(s3_res, df, destination_bucket, output_prefix)\n",
    "\n",
    "        processed_file_names.append(f\"s3://{destination_bucket}/{output_prefix}\")\n",
    "\n",
    "        i = i + 1\n",
    "        bar.update(i)\n",
    "        \n",
    "\n",
    "print(f\"Done!!!, processed files:{len(processed_file_names)}\")\n",
    "for x in processed_file_names:\n",
    "    print(x)\n"
   ]
  }
 ],
 "metadata": {
  "interpreter": {
   "hash": "f9758907f0c25170018385fc1f095ac47265e9e3e39f011a0fd0d17c6140cc47"
  },
  "kernelspec": {
   "display_name": "Python 3.7.12 64-bit",
   "language": "python",
   "name": "python3"
  },
  "language_info": {
   "codemirror_mode": {
    "name": "ipython",
    "version": 3
   },
   "file_extension": ".py",
   "mimetype": "text/x-python",
   "name": "python",
   "nbconvert_exporter": "python",
   "pygments_lexer": "ipython3",
   "version": "3.7.12"
  },
  "orig_nbformat": 4
 },
 "nbformat": 4,
 "nbformat_minor": 2
}

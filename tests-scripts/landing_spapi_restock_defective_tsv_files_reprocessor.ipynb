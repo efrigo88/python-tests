{
 "cells": [
  {
   "cell_type": "markdown",
   "metadata": {},
   "source": [
    "## Functions"
   ]
  },
  {
   "cell_type": "code",
   "execution_count": 1,
   "metadata": {},
   "outputs": [],
   "source": [
    "# Dump Fn from S3\n",
    "def s3_items_from_table(bucket, prefix):\n",
    "    paginator = s3.get_paginator(\"list_objects_v2\")\n",
    "    pages = paginator.paginate(Bucket=bucket, Prefix=prefix)\n",
    "    objects = []\n",
    "    for page in pages:\n",
    "        for item in page[\"Contents\"]:\n",
    "            objects.append(item[\"Key\"])\n",
    "\n",
    "    return objects"
   ]
  },
  {
   "cell_type": "code",
   "execution_count": 2,
   "metadata": {},
   "outputs": [],
   "source": [
    "def get_selected_files(items_to_look_for, files):\n",
    "\n",
    "    defective_landing_files = []\n",
    "\n",
    "    for i in items_to_look_for:\n",
    "        for j in files:\n",
    "            if i[0] in j and i[1] in j:\n",
    "                defective_landing_files.append(j)\n",
    "\n",
    "    return defective_landing_files"
   ]
  },
  {
   "cell_type": "code",
   "execution_count": 3,
   "metadata": {},
   "outputs": [],
   "source": [
    "def input_key_cleaner(input_list):\n",
    "\n",
    "    keys_data_cleaned = []\n",
    "\n",
    "    for i in input_list:\n",
    "        data = i.split(\"/\")\n",
    "        dt = data[2].replace(\"p_creation_dt=\", \"\")\n",
    "        filename = data[3].split(\".\")[0]\n",
    "\n",
    "        keys_data_cleaned.append((dt, filename))\n",
    "\n",
    "    return keys_data_cleaned"
   ]
  },
  {
   "cell_type": "code",
   "execution_count": 4,
   "metadata": {},
   "outputs": [],
   "source": [
    "def fix_item(body):\n",
    "    body_lst = list(body)\n",
    "    pos = body.find('\"')\n",
    "    del body_lst[:pos]\n",
    "    body_mod = \"\".join(body_lst)\n",
    "\n",
    "    if \",\" in body_mod[-3:]:\n",
    "        body_mod_lst = list(body_mod)\n",
    "        pos = body_mod.rfind(\",\")\n",
    "        del body_mod_lst[pos]\n",
    "        body_mod = \"\".join(body_mod_lst)\n",
    "\n",
    "    body_tab = body_mod.replace('\",\"', \"\t\")\n",
    "    body_fixed = body_tab.replace('\"', \"\")\n",
    "\n",
    "    return body_fixed"
   ]
  },
  {
   "cell_type": "code",
   "execution_count": 5,
   "metadata": {},
   "outputs": [],
   "source": [
    "def read_from_s3(\n",
    "    s3_client, bucket_name: str, file_prefix: str, encoding: str = \"utf-8\"\n",
    ") -> str:\n",
    "    obj = s3_client.get_object(Bucket=bucket_name, Key=file_prefix)\n",
    "    body = obj[\"Body\"].read().decode(encoding)\n",
    "\n",
    "    return body"
   ]
  },
  {
   "cell_type": "code",
   "execution_count": 8,
   "metadata": {},
   "outputs": [],
   "source": [
    "def df_from_str(\n",
    "    body: str, quotechar: str = '\"', sep: str = \",\", delim_whitespace: bool = False\n",
    ") -> pd.DataFrame:\n",
    "    df = pd.read_csv(\n",
    "        io.StringIO(body),\n",
    "        quotechar=quotechar,\n",
    "        sep=sep,\n",
    "        delim_whitespace=delim_whitespace,\n",
    "    )\n",
    "\n",
    "    return df"
   ]
  },
  {
   "cell_type": "code",
   "execution_count": 9,
   "metadata": {},
   "outputs": [],
   "source": [
    "def df_to_s3_as_tsv(s3, df, bucket, prefix):\n",
    "\n",
    "    csv_buffer = io.StringIO()\n",
    "    df.to_csv(csv_buffer, sep=\"\t\", index=False)\n",
    "    s3.Object(bucket, prefix).put(Body=csv_buffer.getvalue())"
   ]
  },
  {
   "cell_type": "markdown",
   "metadata": {},
   "source": [
    "## Main Execution"
   ]
  },
  {
   "cell_type": "code",
   "execution_count": 7,
   "metadata": {},
   "outputs": [],
   "source": [
    "import pandas as pd\n",
    "import progressbar\n",
    "import io\n",
    "import boto3"
   ]
  },
  {
   "cell_type": "code",
   "execution_count": 18,
   "metadata": {},
   "outputs": [],
   "source": [
    "aws_session = boto3.session.Session(profile_name=f\"data-maintainer-prod\")\n",
    "# Cliente S3\n",
    "s3 = aws_session.client(\"s3\")\n",
    "s3_res = aws_session.resource(\"s3\")"
   ]
  },
  {
   "cell_type": "code",
   "execution_count": 12,
   "metadata": {},
   "outputs": [],
   "source": [
    "bucket = \"f14-datalake-landing-prod\"\n",
    "destination_bucket = \"f14-datalake-landing-prod\"\n",
    "prefix = \"amazon_sp_api/GET_RESTOCK_INVENTORY_RECOMMENDATIONS_REPORT/\""
   ]
  },
  {
   "cell_type": "code",
   "execution_count": 14,
   "metadata": {},
   "outputs": [
    {
     "name": "stdout",
     "output_type": "stream",
     "text": [
      "3\n"
     ]
    }
   ],
   "source": [
    "defective_raw_items = [\n",
    "    \"amazon_sp_api/get_restock_inventory_recommendations_report/p_creation_dt=2022-01-10/536501019002.jsonl\",\n",
    "    \"amazon_sp_api/get_restock_inventory_recommendations_report/p_creation_dt=2022-01-07/534988018999.jsonl\",\n",
    "    \"amazon_sp_api/get_restock_inventory_recommendations_report/p_creation_dt=2022-01-05/558098018997.jsonl\",\n",
    "]\n",
    "print(len(defective_raw_items))"
   ]
  },
  {
   "cell_type": "code",
   "execution_count": 15,
   "metadata": {},
   "outputs": [],
   "source": [
    "keys_data_cleaned = input_key_cleaner(defective_raw_items)"
   ]
  },
  {
   "cell_type": "code",
   "execution_count": 16,
   "metadata": {},
   "outputs": [
    {
     "name": "stdout",
     "output_type": "stream",
     "text": [
      "[('2022-01-10', '536501019002'), ('2022-01-07', '534988018999'), ('2022-01-05', '558098018997')]\n",
      "3\n"
     ]
    }
   ],
   "source": [
    "print(keys_data_cleaned)\n",
    "print(len(keys_data_cleaned))"
   ]
  },
  {
   "cell_type": "code",
   "execution_count": 19,
   "metadata": {},
   "outputs": [
    {
     "name": "stdout",
     "output_type": "stream",
     "text": [
      "1982 items in total\n"
     ]
    }
   ],
   "source": [
    "# list S3 Objects\n",
    "files = s3_items_from_table(bucket=bucket, prefix=prefix)\n",
    "print(f\"{len(files)} items in total\")"
   ]
  },
  {
   "cell_type": "code",
   "execution_count": 20,
   "metadata": {},
   "outputs": [
    {
     "data": {
      "text/plain": [
       "['amazon_sp_api/GET_RESTOCK_INVENTORY_RECOMMENDATIONS_REPORT/p_creation_dt=2021-12-10/p_brand_id=BARVIVO/p_region_id=EU/819466018961.tsv',\n",
       " 'amazon_sp_api/GET_RESTOCK_INVENTORY_RECOMMENDATIONS_REPORT/p_creation_dt=2021-12-10/p_brand_id=BARVIVO/p_region_id=EU/819549018962.tsv',\n",
       " 'amazon_sp_api/GET_RESTOCK_INVENTORY_RECOMMENDATIONS_REPORT/p_creation_dt=2021-12-10/p_brand_id=BARVIVO/p_region_id=EU/819664018962.tsv',\n",
       " 'amazon_sp_api/GET_RESTOCK_INVENTORY_RECOMMENDATIONS_REPORT/p_creation_dt=2021-12-10/p_brand_id=BARVIVO/p_region_id=EU/819760018962.tsv',\n",
       " 'amazon_sp_api/GET_RESTOCK_INVENTORY_RECOMMENDATIONS_REPORT/p_creation_dt=2021-12-10/p_brand_id=BARVIVO/p_region_id=EU/819849018962.tsv']"
      ]
     },
     "execution_count": 20,
     "metadata": {},
     "output_type": "execute_result"
    }
   ],
   "source": [
    "files[:5]"
   ]
  },
  {
   "cell_type": "code",
   "execution_count": 21,
   "metadata": {},
   "outputs": [
    {
     "name": "stdout",
     "output_type": "stream",
     "text": [
      "3\n"
     ]
    }
   ],
   "source": [
    "files_to_process = get_selected_files(keys_data_cleaned, files)\n",
    "print(len(files_to_process))"
   ]
  },
  {
   "cell_type": "code",
   "execution_count": 22,
   "metadata": {},
   "outputs": [
    {
     "data": {
      "text/plain": [
       "['amazon_sp_api/GET_RESTOCK_INVENTORY_RECOMMENDATIONS_REPORT/p_creation_dt=2022-01-10/p_brand_id=PROBIKETOOLS/p_region_id=US/536501019002.tsv',\n",
       " 'amazon_sp_api/GET_RESTOCK_INVENTORY_RECOMMENDATIONS_REPORT/p_creation_dt=2022-01-07/p_brand_id=PROBIKETOOLS/p_region_id=US/534988018999.tsv',\n",
       " 'amazon_sp_api/GET_RESTOCK_INVENTORY_RECOMMENDATIONS_REPORT/p_creation_dt=2022-01-05/p_brand_id=PROBIKETOOLS/p_region_id=EU/558098018997.tsv']"
      ]
     },
     "execution_count": 22,
     "metadata": {},
     "output_type": "execute_result"
    }
   ],
   "source": [
    "files_to_process"
   ]
  },
  {
   "cell_type": "code",
   "execution_count": 23,
   "metadata": {},
   "outputs": [
    {
     "name": "stderr",
     "output_type": "stream",
     "text": [
      "100% (3 of 3) |##########################| Elapsed Time: 0:00:04 Time:  0:00:04\n"
     ]
    },
    {
     "name": "stdout",
     "output_type": "stream",
     "text": [
      "Done!!!, processed files:3\n",
      "s3://f14-datalake-landing-prod/amazon_sp_api/GET_RESTOCK_INVENTORY_RECOMMENDATIONS_REPORT/p_creation_dt=2022-01-10/p_brand_id=PROBIKETOOLS/p_region_id=US/536501019002.tsv\n",
      "s3://f14-datalake-landing-prod/amazon_sp_api/GET_RESTOCK_INVENTORY_RECOMMENDATIONS_REPORT/p_creation_dt=2022-01-07/p_brand_id=PROBIKETOOLS/p_region_id=US/534988018999.tsv\n",
      "s3://f14-datalake-landing-prod/amazon_sp_api/GET_RESTOCK_INVENTORY_RECOMMENDATIONS_REPORT/p_creation_dt=2022-01-05/p_brand_id=PROBIKETOOLS/p_region_id=EU/558098018997.tsv\n"
     ]
    }
   ],
   "source": [
    "i = 0\n",
    "with progressbar.ProgressBar(max_value=len(files_to_process)) as bar:\n",
    "\n",
    "    processed_file_names = []\n",
    "\n",
    "    for file in files_to_process:\n",
    "\n",
    "        body = read_from_s3(s3, bucket, file)\n",
    "        df = df_from_str(body)\n",
    "        df_to_s3_as_tsv(s3_res, df, destination_bucket, file)\n",
    "\n",
    "        processed_file_names.append(f\"s3://{destination_bucket}/{file}\")\n",
    "\n",
    "        i = i + 1\n",
    "        bar.update(i)\n",
    "\n",
    "print(f\"Done!!!, processed files:{len(processed_file_names)}\")\n",
    "for x in processed_file_names:\n",
    "    print(x)"
   ]
  }
 ],
 "metadata": {
  "interpreter": {
   "hash": "f9758907f0c25170018385fc1f095ac47265e9e3e39f011a0fd0d17c6140cc47"
  },
  "kernelspec": {
   "display_name": "Python 3.7.12 64-bit",
   "language": "python",
   "name": "python3"
  },
  "language_info": {
   "codemirror_mode": {
    "name": "ipython",
    "version": 3
   },
   "file_extension": ".py",
   "mimetype": "text/x-python",
   "name": "python",
   "nbconvert_exporter": "python",
   "pygments_lexer": "ipython3",
   "version": "3.7.12"
  },
  "orig_nbformat": 4
 },
 "nbformat": 4,
 "nbformat_minor": 2
}

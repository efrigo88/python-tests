{
 "cells": [
  {
   "cell_type": "code",
   "execution_count": 1,
   "metadata": {},
   "outputs": [],
   "source": [
    "import multiprocessing\n",
    "from datetime import datetime\n",
    "\n",
    "import pyspark.sql.functions as F\n",
    "import pyspark.sql.types as T\n",
    "\n",
    "from pyspark.sql import DataFrame\n",
    "from pyspark.sql import SparkSession\n",
    "from pyspark.sql import Window\n",
    "from pyspark.conf import SparkConf"
   ]
  },
  {
   "cell_type": "code",
   "execution_count": 2,
   "metadata": {},
   "outputs": [
    {
     "name": "stderr",
     "output_type": "stream",
     "text": [
      "22/02/10 15:11:21 WARN Utils: Your hostname, emif-MacBook-Pro.local resolves to a loopback address: 127.0.0.1; using 192.168.0.18 instead (on interface en0)\n",
      "22/02/10 15:11:21 WARN Utils: Set SPARK_LOCAL_IP if you need to bind to another address\n",
      "Using Spark's default log4j profile: org/apache/spark/log4j-defaults.properties\n",
      "Setting default log level to \"WARN\".\n",
      "To adjust logging level use sc.setLogLevel(newLevel). For SparkR, use setLogLevel(newLevel).\n",
      "22/02/10 15:11:21 WARN NativeCodeLoader: Unable to load native-hadoop library for your platform... using builtin-java classes where applicable\n",
      "22/02/10 15:11:22 WARN Utils: Service 'SparkUI' could not bind on port 4040. Attempting port 4041.\n"
     ]
    },
    {
     "data": {
      "text/html": [
       "\n",
       "            <div>\n",
       "                <p><b>SparkSession - in-memory</b></p>\n",
       "                \n",
       "        <div>\n",
       "            <p><b>SparkContext</b></p>\n",
       "\n",
       "            <p><a href=\"http://192.168.0.18:4041\">Spark UI</a></p>\n",
       "\n",
       "            <dl>\n",
       "              <dt>Version</dt>\n",
       "                <dd><code>v3.2.0</code></dd>\n",
       "              <dt>Master</dt>\n",
       "                <dd><code>local[8]</code></dd>\n",
       "              <dt>AppName</dt>\n",
       "                <dd><code>jupyter_pyspark</code></dd>\n",
       "            </dl>\n",
       "        </div>\n",
       "        \n",
       "            </div>\n",
       "        "
      ],
      "text/plain": [
       "<pyspark.sql.session.SparkSession at 0x118f486d0>"
      ]
     },
     "execution_count": 2,
     "metadata": {},
     "output_type": "execute_result"
    }
   ],
   "source": [
    "STOP_SPARK_CONTEXT = True\n",
    "NUM_CORES = 8\n",
    "\n",
    "maven_artifacts = [\n",
    "    \"io.delta:delta-core_2.12:1.0.0\",\n",
    "    \"org.apache.hadoop:hadoop-aws:3.2.0\",\n",
    "]\n",
    "\n",
    "spark_config = {\n",
    "    # Timezone\n",
    "    \"spark.sql.session.timeZone\": \"UTC\",\n",
    "\n",
    "    # Spark config\n",
    "    \"spark.sql.shuffle.partitions\": \"4\",\n",
    "    \"spark.sql.parquet.compression.codec\": \"uncompressed\",\n",
    "    \"spark.sql.sources.parallelPartitionDiscovery.parallelism\": \"4\",\n",
    "}\n",
    "\n",
    "if STOP_SPARK_CONTEXT and \"spark\" in locals():\n",
    "    locals()[\"spark\"].stop()\n",
    "    print(\"Spark Context stopped\")\n",
    "\n",
    "spark = (\n",
    "    SparkSession.builder\n",
    "    .appName(\"jupyter_pyspark\")\n",
    "    .master(f\"local[{min(NUM_CORES, multiprocessing.cpu_count())}]\")\n",
    "    .config(conf=SparkConf().setAll(spark_config.items()))\n",
    "    .getOrCreate()\n",
    ")\n",
    "\n",
    "spark"
   ]
  },
  {
   "cell_type": "code",
   "execution_count": 3,
   "metadata": {},
   "outputs": [
    {
     "name": "stderr",
     "output_type": "stream",
     "text": [
      "                                                                                \r"
     ]
    }
   ],
   "source": [
    "sdf = spark.read.json(\"/Users/emif/Downloads/test_dataset.json\")"
   ]
  },
  {
   "cell_type": "code",
   "execution_count": null,
   "metadata": {},
   "outputs": [],
   "source": [
    "sdf.printSchema()"
   ]
  },
  {
   "cell_type": "code",
   "execution_count": null,
   "metadata": {},
   "outputs": [],
   "source": [
    "sdf.show(vertical=True, truncate=False)"
   ]
  },
  {
   "cell_type": "code",
   "execution_count": null,
   "metadata": {},
   "outputs": [],
   "source": [
    "sdf.select(\"date\").distinct().orderBy(\"date\", ascending=False).show()"
   ]
  },
  {
   "cell_type": "code",
   "execution_count": 261,
   "metadata": {},
   "outputs": [
    {
     "data": {
      "text/plain": [
       "Column<'((date >= 2022-01-20) AND (date <= 2022-02-10))'>"
      ]
     },
     "execution_count": 261,
     "metadata": {},
     "output_type": "execute_result"
    }
   ],
   "source": [
    "# dates = (\"2022-01-20\",  \"2022-02-10\")\n",
    "\n",
    "# F.col('date').between(*dates)"
   ]
  },
  {
   "cell_type": "code",
   "execution_count": 263,
   "metadata": {},
   "outputs": [],
   "source": [
    "# sdf_sliced2 = sdf.filter(F.expr(\"date between '2022-01-20' AND '2022-02-10'\"))"
   ]
  },
  {
   "cell_type": "code",
   "execution_count": 269,
   "metadata": {},
   "outputs": [
    {
     "name": "stdout",
     "output_type": "stream",
     "text": [
      "2022-01-20 2022-02-09\n"
     ]
    }
   ],
   "source": [
    "# min_date2, max_date2 = sdf_sliced2.selectExpr(\"min(date)\", \"max(date)\").first()\n",
    "# print(min_date2, max_date2)"
   ]
  },
  {
   "cell_type": "code",
   "execution_count": 10,
   "metadata": {},
   "outputs": [],
   "source": [
    "dates = (\"2022-01-20\",  \"2022-02-10\")\n",
    "\n",
    "sdf_sliced = sdf.withColumn(\"date\", F.col(\"date\").cast(T.DateType())).where(F.col('date').between(*dates))"
   ]
  },
  {
   "cell_type": "code",
   "execution_count": null,
   "metadata": {},
   "outputs": [],
   "source": [
    "sdf_sliced.orderBy(\"date\", ascending=False).show(vertical=True)"
   ]
  },
  {
   "cell_type": "code",
   "execution_count": null,
   "metadata": {},
   "outputs": [],
   "source": [
    "sdf_sliced.printSchema()"
   ]
  },
  {
   "cell_type": "markdown",
   "metadata": {},
   "source": [
    "### logic"
   ]
  },
  {
   "cell_type": "code",
   "execution_count": 24,
   "metadata": {},
   "outputs": [],
   "source": [
    "end_date = datetime.now()"
   ]
  },
  {
   "cell_type": "code",
   "execution_count": 77,
   "metadata": {},
   "outputs": [
    {
     "name": "stdout",
     "output_type": "stream",
     "text": [
      "2022-01-20\n",
      "2022-02-09\n"
     ]
    }
   ],
   "source": [
    "min_date, max_date = sdf_sliced.select(F.min(\"date\"), F.max(\"date\")).first()\n",
    "print(min_date)\n",
    "print(max_date)"
   ]
  },
  {
   "cell_type": "code",
   "execution_count": 80,
   "metadata": {},
   "outputs": [],
   "source": [
    "sdf_date_range = spark.sql(f\"SELECT sequence(to_date('{min_date}'), to_date('{max_date}'), interval 1 day) as date\").withColumn(\"date\", F.explode(F.col(\"date\")))"
   ]
  },
  {
   "cell_type": "code",
   "execution_count": 120,
   "metadata": {},
   "outputs": [
    {
     "name": "stdout",
     "output_type": "stream",
     "text": [
      "+----------+\n",
      "|      date|\n",
      "+----------+\n",
      "|2022-02-09|\n",
      "|2022-02-08|\n",
      "|2022-02-07|\n",
      "|2022-02-06|\n",
      "|2022-02-05|\n",
      "|2022-02-04|\n",
      "|2022-02-03|\n",
      "|2022-02-02|\n",
      "|2022-02-01|\n",
      "|2022-01-31|\n",
      "|2022-01-30|\n",
      "|2022-01-29|\n",
      "|2022-01-28|\n",
      "|2022-01-27|\n",
      "|2022-01-26|\n",
      "|2022-01-25|\n",
      "|2022-01-24|\n",
      "|2022-01-23|\n",
      "|2022-01-22|\n",
      "|2022-01-21|\n",
      "|2022-01-20|\n",
      "+----------+\n",
      "\n"
     ]
    }
   ],
   "source": [
    "sdf_date_range.orderBy(\"date\", ascending=False).show(25)"
   ]
  },
  {
   "cell_type": "code",
   "execution_count": 122,
   "metadata": {},
   "outputs": [
    {
     "name": "stdout",
     "output_type": "stream",
     "text": [
      "root\n",
      " |-- date: date (nullable = false)\n",
      "\n"
     ]
    }
   ],
   "source": [
    "sdf_date_range.printSchema()"
   ]
  },
  {
   "cell_type": "code",
   "execution_count": 270,
   "metadata": {},
   "outputs": [],
   "source": [
    "joined_sdf = sdf_date_range.join(sdf_sliced, \"date\", how=\"left\")"
   ]
  },
  {
   "cell_type": "code",
   "execution_count": null,
   "metadata": {},
   "outputs": [],
   "source": [
    "joined_sdf.printSchema()"
   ]
  },
  {
   "cell_type": "code",
   "execution_count": null,
   "metadata": {},
   "outputs": [],
   "source": [
    "joined_sdf.orderBy(\"date\", ascending=False).show(vertical=True)"
   ]
  },
  {
   "cell_type": "code",
   "execution_count": 180,
   "metadata": {},
   "outputs": [
    {
     "name": "stderr",
     "output_type": "stream",
     "text": [
      "22/02/10 18:16:02 WARN WindowExec: No Partition Defined for Window operation! Moving all data to a single partition, this can cause serious performance degradation.\n",
      "22/02/10 18:16:02 WARN WindowExec: No Partition Defined for Window operation! Moving all data to a single partition, this can cause serious performance degradation.\n",
      "22/02/10 18:16:02 WARN WindowExec: No Partition Defined for Window operation! Moving all data to a single partition, this can cause serious performance degradation.\n",
      "22/02/10 18:16:02 WARN WindowExec: No Partition Defined for Window operation! Moving all data to a single partition, this can cause serious performance degradation.\n",
      "22/02/10 18:16:02 WARN WindowExec: No Partition Defined for Window operation! Moving all data to a single partition, this can cause serious performance degradation.\n"
     ]
    },
    {
     "name": "stdout",
     "output_type": "stream",
     "text": [
      "+----------+------+--------+\n",
      "|      date|   usd|usd_fill|\n",
      "+----------+------+--------+\n",
      "|2022-02-09|1.1435|  1.1435|\n",
      "|2022-02-08|1.1408|  1.1408|\n",
      "|2022-02-07|1.1447|  1.1447|\n",
      "|2022-02-06|  null|  1.1464|\n",
      "|2022-02-05|  null|  1.1464|\n",
      "|2022-02-04|1.1464|  1.1464|\n",
      "|2022-02-03|1.1286|  1.1286|\n",
      "|2022-02-02|1.1323|  1.1323|\n",
      "|2022-02-01| 1.126|   1.126|\n",
      "|2022-01-31|1.1156|  1.1156|\n",
      "|2022-01-30|  null|  1.1138|\n",
      "|2022-01-29|  null|  1.1138|\n",
      "|2022-01-28|1.1138|  1.1138|\n",
      "|2022-01-27| 1.116|   1.116|\n",
      "|2022-01-26|1.1277|  1.1277|\n",
      "|2022-01-25|1.1268|  1.1268|\n",
      "|2022-01-24|1.1304|  1.1304|\n",
      "|2022-01-23|  null|  1.1348|\n",
      "|2022-01-22|  null|  1.1348|\n",
      "|2022-01-21|1.1348|  1.1348|\n",
      "+----------+------+--------+\n",
      "only showing top 20 rows\n",
      "\n"
     ]
    },
    {
     "name": "stderr",
     "output_type": "stream",
     "text": [
      "22/02/11 02:11:32 WARN HeartbeatReceiver: Removing executor driver with no recent heartbeats: 1056057 ms exceeds timeout 120000 ms\n",
      "22/02/11 02:11:32 WARN SparkContext: Killing executors is not supported by current scheduler.\n"
     ]
    }
   ],
   "source": [
    "# # Fill empty values example\n",
    "# win = Window.partitionBy().orderBy(\"date\")\n",
    "# filled_df = new_joined_sdf.select(\n",
    "#     \"date\", \"usd\", F.last(\"usd\", ignorenulls=True).over(win).alias(\"usd_fill\")\n",
    "# )\n",
    "# filled_df.orderBy(\"date\", ascending=False).show()"
   ]
  },
  {
   "cell_type": "code",
   "execution_count": 230,
   "metadata": {},
   "outputs": [],
   "source": [
    "# Fill empty values\n",
    "# win = Window.partitionBy().orderBy(\"date\")\n",
    "\n",
    "# filled_df = new_joined_sdf\n",
    "\n",
    "# for col in filled_df.columns:\n",
    "#     filled_df = filled_df.withColumn(f\"{col}_filled\", F.last(col, ignorenulls=True).over(win))\n"
   ]
  },
  {
   "cell_type": "code",
   "execution_count": null,
   "metadata": {},
   "outputs": [],
   "source": [
    "# filled_df.orderBy(\"date\", ascending=False).show(vertical=True)"
   ]
  },
  {
   "cell_type": "code",
   "execution_count": 199,
   "metadata": {},
   "outputs": [],
   "source": [
    "# order_by_col = \"date\"\n",
    "# win = Window.partitionBy().orderBy(order_by_col)\n",
    "\n",
    "# for col in filled_df.columns:\n",
    "#     if col != order_by_col:\n",
    "#         filled_df.withColumn(f\"{col}_filled\", F.last(col, ignorenulls=True).over(win))"
   ]
  },
  {
   "cell_type": "code",
   "execution_count": null,
   "metadata": {},
   "outputs": [],
   "source": [
    "# filled_df.orderBy(\"date\", ascending=False).show(vertical=True)"
   ]
  },
  {
   "cell_type": "code",
   "execution_count": 248,
   "metadata": {},
   "outputs": [],
   "source": [
    "order_by_col = \"date\"\n",
    "win = Window.partitionBy().orderBy(order_by_col)\n",
    "\n",
    "result_col_list = [\n",
    "    F.last(col, ignorenulls=True).over(win).alias(col) \n",
    "    for col in joined_sdf.columns\n",
    "    if col != order_by_col\n",
    "]"
   ]
  },
  {
   "cell_type": "code",
   "execution_count": null,
   "metadata": {},
   "outputs": [],
   "source": [
    "result_col_list"
   ]
  },
  {
   "cell_type": "code",
   "execution_count": 259,
   "metadata": {},
   "outputs": [],
   "source": [
    "non_fill_cols = [\"date\"]\n",
    "\n",
    "output_df = joined_sdf.select(*non_fill_cols, *result_col_list)"
   ]
  },
  {
   "cell_type": "code",
   "execution_count": null,
   "metadata": {},
   "outputs": [],
   "source": [
    "output_df.orderBy(\"date\", ascending=False).show(vertical=True)"
   ]
  },
  {
   "cell_type": "code",
   "execution_count": null,
   "metadata": {},
   "outputs": [],
   "source": []
  },
  {
   "cell_type": "code",
   "execution_count": null,
   "metadata": {},
   "outputs": [],
   "source": []
  }
 ],
 "metadata": {
  "interpreter": {
   "hash": "078a30763b33786fd9d1b83c8038d09f0a2d8a997def4bae5ea4c6a7699445d8"
  },
  "kernelspec": {
   "display_name": "Python 3.9.7 64-bit ('spark_test')",
   "language": "python",
   "name": "python3"
  },
  "language_info": {
   "codemirror_mode": {
    "name": "ipython",
    "version": 3
   },
   "file_extension": ".py",
   "mimetype": "text/x-python",
   "name": "python",
   "nbconvert_exporter": "python",
   "pygments_lexer": "ipython3",
   "version": "3.9.7"
  },
  "orig_nbformat": 4
 },
 "nbformat": 4,
 "nbformat_minor": 2
}

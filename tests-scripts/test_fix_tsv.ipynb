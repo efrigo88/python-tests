{
 "cells": [
  {
   "cell_type": "code",
   "execution_count": 3,
   "metadata": {},
   "outputs": [],
   "source": [
    "from typing import Tuple\n",
    "\n",
    "\n",
    "def fix_corrupted_tsv_body(body: str, search: list) -> Tuple[bool, str]:\n",
    "    \"\"\"It gets a file's body and uses a filtered search list to\n",
    "    look for signs of corruption. If file is ok, it proceeds\n",
    "    with conversion from CSV to TSV format.\n",
    "\n",
    "    A list of elements we consider must not be in file's body\n",
    "    should be provided, At least one item is required.\n",
    "    (e.g. example_list = [\"?\", \"¿\"])\n",
    "\n",
    "    Parameterss\n",
    "    ----------\n",
    "    body : str\n",
    "        File's body content.\n",
    "    search : list\n",
    "        List of wildcards to look for.\n",
    "\n",
    "    Returns\n",
    "    -------\n",
    "    Tuple[bool, str]\n",
    "        Conversion status and fixed body, if status \"True\".\n",
    "        In case \"False\", body will be returned empty.\n",
    "    \"\"\"\n",
    "    for i in search:\n",
    "        if i in body:\n",
    "            return False, \"\"\n",
    "\n",
    "    if \",\" in body[-3:]:\n",
    "        body_mod_lst = list(body)\n",
    "        pos = body.rfind(\",\")\n",
    "        del body_mod_lst[pos]\n",
    "        body = \"\".join(body_mod_lst)\n",
    "\n",
    "    body_tab = body.replace('\",\"', \"\t\")\n",
    "    body_fixed = body_tab.replace('\"', \"\")\n",
    "\n",
    "    return True, body_fixed"
   ]
  },
  {
   "cell_type": "code",
   "execution_count": 4,
   "metadata": {},
   "outputs": [],
   "source": [
    "input_file_path = \"/Users/emif/Documents/Factory14/landingFileProcessor/src/test/unit/helpers/resources/fix_corrupted_tsv_body/input_data.txt\""
   ]
  },
  {
   "cell_type": "code",
   "execution_count": 5,
   "metadata": {},
   "outputs": [],
   "source": [
    "with open(input_file_path, \"r\") as text_file:\n",
    "    input_body = text_file.read()"
   ]
  },
  {
   "cell_type": "code",
   "execution_count": 6,
   "metadata": {},
   "outputs": [
    {
     "data": {
      "text/plain": [
       "'\"Country\",\"Product Name\",\"FNSKU\",\"Merchant SKU\",\"ASIN\",\"Condition\",\"Supplier\",\"Supplier part no.\",\"Currency code\",\"Price\",\"Sales last 30 days\",\"Units Sold Last 30 Days\",\"Total Units\",\"Inbound\",\"Available\",\"FC transfer\",\"FC Processing\",\"Customer Order\",\"Unfulfillable\",\"Working\",\"Shipped\",\"Receiving\",\"Fulfilled by\",\"Total Days of Supply (including units from open shipments)\",\"Days of Supply at Amazon Fulfillment Network\",\"Alert\",\"Recommended replenishment qty\",\"Recommended ship date\"\\n\"GB\",\"PRO BIKE TOOL Swivel Bike Wall Hanger - Vertical Indoor Storage Mount for 1 Bicycle in Garage or Home - Cycling Rack - Space Saver Holder, Hook for Bicycles (1 Pack Original)\",\"B0821S199H\",\"QN-0WVP-I6QM\",\"B0821S199H\",\"New\",\"--\",\"\",\"GBP\",\"39.99\",\"0.0\",\"0\",\"0\",\"0\",\"0\",\"0\",\"0\",\"0\",\"0\",\"0\",\"0\",\"0\",\"Amazon\",\"\",\"\",\"out_of_stock\",\"\",\"\"\\n\"GB\",\"Cleats Look DELTA System\",\"B08VDSDHFX\",\"JX-6HIQ-97DL\",\"B08VDSDHFX\",\"New\",\"--\",\"\",\"GBP\",\"14.99\",\"0.0\",\"0\",\"0\",\"0\",\"0\",\"0\",\"0\",\"0\",\"0\",\"0\",\"0\",\"0\",\"Amazon\",\"\",\"\",\"out_of_stock\",\"\",\"\"\\n\"GB\",\"Cleats Look Keo System\",\"B08VF2KKJ3\",\"G2-BVTG-M11Z\",\"B08VF2KKJ3\",\"New\",\"--\",\"\",\"GBP\",\"14.99\",\"0.0\",\"0\",\"0\",\"0\",\"0\",\"0\",\"0\",\"0\",\"0\",\"0\",\"0\",\"0\",\"Amazon\",\"\",\"\",\"out_of_stock\",\"\",\"\"\\n\"GB\",\"PRO BIKE TOOL Puncture Repair Kit Set - Including Three Tyre Levers, a Patch Kit and Stylish Waterproof Bag - Gifts for Cyclist\",\"B082Q1FBLH\",\"06-20DB-IZPH\",\"B082Q1FBLH\",\"New\",\"--\",\"\",\"GBP\",\"19.99\",\"116.48\",\"14\",\"442\",\"0\",\"442\",\"0\",\"0\",\"0\",\"0\",\"0\",\"0\",\"0\",\"Amazon\",\"\",\"\",\"\",\"\",\"\"\\n'"
      ]
     },
     "execution_count": 6,
     "metadata": {},
     "output_type": "execute_result"
    }
   ],
   "source": [
    "input_body"
   ]
  },
  {
   "cell_type": "code",
   "execution_count": 8,
   "metadata": {},
   "outputs": [],
   "source": [
    "wildcards = [\"?\", \"¿\"]\n",
    "status, body_mod = fix_corrupted_tsv_body(input_body, wildcards)"
   ]
  },
  {
   "cell_type": "code",
   "execution_count": 9,
   "metadata": {},
   "outputs": [
    {
     "data": {
      "text/plain": [
       "True"
      ]
     },
     "execution_count": 9,
     "metadata": {},
     "output_type": "execute_result"
    }
   ],
   "source": [
    "status"
   ]
  },
  {
   "cell_type": "code",
   "execution_count": 10,
   "metadata": {},
   "outputs": [
    {
     "data": {
      "text/plain": [
       "'Country\\tProduct Name\\tFNSKU\\tMerchant SKU\\tASIN\\tCondition\\tSupplier\\tSupplier part no.\\tCurrency code\\tPrice\\tSales last 30 days\\tUnits Sold Last 30 Days\\tTotal Units\\tInbound\\tAvailable\\tFC transfer\\tFC Processing\\tCustomer Order\\tUnfulfillable\\tWorking\\tShipped\\tReceiving\\tFulfilled by\\tTotal Days of Supply (including units from open shipments)\\tDays of Supply at Amazon Fulfillment Network\\tAlert\\tRecommended replenishment qty\\tRecommended ship date\\nGB\\tPRO BIKE TOOL Swivel Bike Wall Hanger - Vertical Indoor Storage Mount for 1 Bicycle in Garage or Home - Cycling Rack - Space Saver Holder, Hook for Bicycles (1 Pack Original)\\tB0821S199H\\tQN-0WVP-I6QM\\tB0821S199H\\tNew\\t--\\t\\tGBP\\t39.99\\t0.0\\t0\\t0\\t0\\t0\\t0\\t0\\t0\\t0\\t0\\t0\\t0\\tAmazon\\t\\t\\tout_of_stock\\t\\t\\nGB\\tCleats Look DELTA System\\tB08VDSDHFX\\tJX-6HIQ-97DL\\tB08VDSDHFX\\tNew\\t--\\t\\tGBP\\t14.99\\t0.0\\t0\\t0\\t0\\t0\\t0\\t0\\t0\\t0\\t0\\t0\\t0\\tAmazon\\t\\t\\tout_of_stock\\t\\t\\nGB\\tCleats Look Keo System\\tB08VF2KKJ3\\tG2-BVTG-M11Z\\tB08VF2KKJ3\\tNew\\t--\\t\\tGBP\\t14.99\\t0.0\\t0\\t0\\t0\\t0\\t0\\t0\\t0\\t0\\t0\\t0\\t0\\tAmazon\\t\\t\\tout_of_stock\\t\\t\\nGB\\tPRO BIKE TOOL Puncture Repair Kit Set - Including Three Tyre Levers, a Patch Kit and Stylish Waterproof Bag - Gifts for Cyclist\\tB082Q1FBLH\\t06-20DB-IZPH\\tB082Q1FBLH\\tNew\\t--\\t\\tGBP\\t19.99\\t116.48\\t14\\t442\\t0\\t442\\t0\\t0\\t0\\t0\\t0\\t0\\t0\\tAmazon\\t\\t\\t\\t\\t\\n'"
      ]
     },
     "execution_count": 10,
     "metadata": {},
     "output_type": "execute_result"
    }
   ],
   "source": [
    "body_mod"
   ]
  }
 ],
 "metadata": {
  "interpreter": {
   "hash": "f9758907f0c25170018385fc1f095ac47265e9e3e39f011a0fd0d17c6140cc47"
  },
  "kernelspec": {
   "display_name": "Python 3.7.12 64-bit",
   "language": "python",
   "name": "python3"
  },
  "language_info": {
   "codemirror_mode": {
    "name": "ipython",
    "version": 3
   },
   "file_extension": ".py",
   "mimetype": "text/x-python",
   "name": "python",
   "nbconvert_exporter": "python",
   "pygments_lexer": "ipython3",
   "version": "3.7.12"
  },
  "orig_nbformat": 4
 },
 "nbformat": 4,
 "nbformat_minor": 2
}

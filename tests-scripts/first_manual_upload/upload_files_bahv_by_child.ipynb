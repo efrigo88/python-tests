{
 "cells": [
  {
   "cell_type": "code",
   "execution_count": 1,
   "metadata": {},
   "outputs": [],
   "source": [
    "import boto3\n",
    "import os\n",
    "from os import walk"
   ]
  },
  {
   "cell_type": "code",
   "execution_count": 2,
   "metadata": {},
   "outputs": [],
   "source": [
    "AWS_ACCESS_KEY_ID = \"your_access_key\"\n",
    "AWS_SECRET_ACCESS_KEY = \"your_secret_key\"\n",
    "AWS_SESSION_TOKEN = \"your_session_token\""
   ]
  },
  {
   "cell_type": "code",
   "execution_count": 3,
   "metadata": {},
   "outputs": [],
   "source": [
    "def upload_s3_folder(bucket_name, s3_folder, local_dir=None):\n",
    "    s3 = boto3.resource(\"s3\")\n",
    "    bucket = s3.Bucket(bucket_name)\n",
    "\n",
    "    for path, _, files in os.walk(local_dir):\n",
    "        directory_name = path.replace(local_dir, s3_folder)\n",
    "\n",
    "        for file in files:\n",
    "            bucket.upload_file(\n",
    "                os.path.join(path, file), os.path.join(directory_name, file)\n",
    "            )"
   ]
  },
  {
   "cell_type": "code",
   "execution_count": 4,
   "metadata": {},
   "outputs": [],
   "source": [
    "bucket_ = \"f14-datalake-landing-dev\""
   ]
  },
  {
   "cell_type": "code",
   "execution_count": 5,
   "metadata": {},
   "outputs": [],
   "source": [
    "local_dir = \"/Users/emif/Downloads/files_work/seller_central/bahv-detailsalestrafficbychilditem/\"\n",
    "\n",
    "f = []\n",
    "\n",
    "for dirpath, dirnames, filenames in walk(local_dir):\n",
    "    f.extend(filenames)\n",
    "    break\n",
    "\n",
    "full_filename = []\n",
    "\n",
    "for i in f:\n",
    "    full_filename.append(local_dir + i)"
   ]
  },
  {
   "cell_type": "code",
   "execution_count": 6,
   "metadata": {},
   "outputs": [
    {
     "name": "stdout",
     "output_type": "stream",
     "text": [
      "5\n",
      "['bahv-na-us-detailsalestrafficbychilditem-2019-11-17.csv', 'bahv-na-us-detailsalestrafficbychilditem-2019-12-04.csv', 'bahv-na-us-detailsalestrafficbychilditem-2019-12-13.csv', 'bahv-na-us-detailsalestrafficbychilditem-2019-11-21.csv', 'bahv-na-us-detailsalestrafficbychilditem-2019-11-27.csv']\n"
     ]
    }
   ],
   "source": [
    "print(len(f))\n",
    "print(f[:5])"
   ]
  },
  {
   "cell_type": "code",
   "execution_count": 7,
   "metadata": {},
   "outputs": [
    {
     "name": "stdout",
     "output_type": "stream",
     "text": [
      "['/Users/emif/Downloads/files_work/seller_central/bahv-detailsalestrafficbychilditem/bahv-na-us-detailsalestrafficbychilditem-2019-11-17.csv', '/Users/emif/Downloads/files_work/seller_central/bahv-detailsalestrafficbychilditem/bahv-na-us-detailsalestrafficbychilditem-2019-12-04.csv', '/Users/emif/Downloads/files_work/seller_central/bahv-detailsalestrafficbychilditem/bahv-na-us-detailsalestrafficbychilditem-2019-12-13.csv', '/Users/emif/Downloads/files_work/seller_central/bahv-detailsalestrafficbychilditem/bahv-na-us-detailsalestrafficbychilditem-2019-11-21.csv', '/Users/emif/Downloads/files_work/seller_central/bahv-detailsalestrafficbychilditem/bahv-na-us-detailsalestrafficbychilditem-2019-11-27.csv']\n"
     ]
    }
   ],
   "source": [
    "print(full_filename[:5])"
   ]
  },
  {
   "cell_type": "code",
   "execution_count": 9,
   "metadata": {},
   "outputs": [
    {
     "name": "stdout",
     "output_type": "stream",
     "text": [
      "[('/Users/emif/Downloads/files_work/seller_central/bahv-detailsalestrafficbychilditem/bahv-na-us-detailsalestrafficbychilditem-2019-11-17.csv', 'scrapers/seller_central/detail_page_sales_and_traffic_by_child_item_by_asin/p_creation_dt=2019-11-17/p_brand_id=BAHV/p_region_id=NA/p_country_id=US/bahv-na-us-detailsalestrafficbychilditem-2019-11-17.csv')]\n"
     ]
    }
   ],
   "source": [
    "# prefix creation\n",
    "full_converted_files = []\n",
    "for file in full_filename:\n",
    "    file0 = file\n",
    "\n",
    "    file = file.split(\"/\")[7]\n",
    "    # print(file)\n",
    "    pieces = file.split(\"-\")\n",
    "    # print(pieces)\n",
    "\n",
    "    y = pieces[4]\n",
    "    m = pieces[5]\n",
    "    d = pieces[6].split(\".\")[0]\n",
    "\n",
    "    prefix0 = (\n",
    "        \"scrapers/seller_central/detail_page_sales_and_traffic_by_child_item_by_asin/\"\n",
    "    )\n",
    "    prefix1 = f\"p_creation_dt={y}-{m}-{d}/\"\n",
    "    prefix2 = f\"p_brand_id={pieces[0].upper()}/\"\n",
    "    prefix3 = f\"p_region_id={pieces[1].upper()}/\"\n",
    "    prefix4 = f\"p_country_id={pieces[2].upper()}/\"\n",
    "    prefix5 = \"-\".join(pieces[:4])\n",
    "    prefix6 = f\"-{y}-{m}-{d}.csv\"\n",
    "\n",
    "    final_prefix = prefix0 + prefix1 + prefix2 + prefix3 + prefix4 + prefix5 + prefix6\n",
    "    # print(final_prefix)\n",
    "\n",
    "    full_converted_files.append((file0, final_prefix))\n",
    "\n",
    "print(full_converted_files[:1])"
   ]
  },
  {
   "cell_type": "code",
   "execution_count": 10,
   "metadata": {},
   "outputs": [
    {
     "name": "stdout",
     "output_type": "stream",
     "text": [
      "[('/Users/emif/Downloads/files_work/seller_central/bahv-detailsalestrafficbychilditem/bahv-na-us-detailsalestrafficbychilditem-2019-11-17.csv', 'scrapers/seller_central/detail_page_sales_and_traffic_by_child_item_by_asin/p_creation_dt=2019-11-17/p_brand_id=BAHV/p_region_id=NA/p_country_id=US/bahv-na-us-detailsalestrafficbychilditem-2019-11-17.csv'), ('/Users/emif/Downloads/files_work/seller_central/bahv-detailsalestrafficbychilditem/bahv-na-us-detailsalestrafficbychilditem-2019-12-04.csv', 'scrapers/seller_central/detail_page_sales_and_traffic_by_child_item_by_asin/p_creation_dt=2019-12-04/p_brand_id=BAHV/p_region_id=NA/p_country_id=US/bahv-na-us-detailsalestrafficbychilditem-2019-12-04.csv'), ('/Users/emif/Downloads/files_work/seller_central/bahv-detailsalestrafficbychilditem/bahv-na-us-detailsalestrafficbychilditem-2019-12-13.csv', 'scrapers/seller_central/detail_page_sales_and_traffic_by_child_item_by_asin/p_creation_dt=2019-12-13/p_brand_id=BAHV/p_region_id=NA/p_country_id=US/bahv-na-us-detailsalestrafficbychilditem-2019-12-13.csv'), ('/Users/emif/Downloads/files_work/seller_central/bahv-detailsalestrafficbychilditem/bahv-na-us-detailsalestrafficbychilditem-2019-11-21.csv', 'scrapers/seller_central/detail_page_sales_and_traffic_by_child_item_by_asin/p_creation_dt=2019-11-21/p_brand_id=BAHV/p_region_id=NA/p_country_id=US/bahv-na-us-detailsalestrafficbychilditem-2019-11-21.csv'), ('/Users/emif/Downloads/files_work/seller_central/bahv-detailsalestrafficbychilditem/bahv-na-us-detailsalestrafficbychilditem-2019-11-27.csv', 'scrapers/seller_central/detail_page_sales_and_traffic_by_child_item_by_asin/p_creation_dt=2019-11-27/p_brand_id=BAHV/p_region_id=NA/p_country_id=US/bahv-na-us-detailsalestrafficbychilditem-2019-11-27.csv')]\n",
      "5\n"
     ]
    }
   ],
   "source": [
    "print(full_converted_files[:5])\n",
    "print(len(full_converted_files))"
   ]
  },
  {
   "cell_type": "code",
   "execution_count": 11,
   "metadata": {},
   "outputs": [
    {
     "name": "stdout",
     "output_type": "stream",
     "text": [
      "Files to be uploaded: 5\n",
      "Item Nbr:1:  scrapers/seller_central/detail_page_sales_and_traffic_by_child_item_by_asin/p_creation_dt=2019-11-17/p_brand_id=BAHV/p_region_id=NA/p_country_id=US/bahv-na-us-detailsalestrafficbychilditem-2019-11-17.csv successfully copied\n",
      "Item Nbr:2:  scrapers/seller_central/detail_page_sales_and_traffic_by_child_item_by_asin/p_creation_dt=2019-12-04/p_brand_id=BAHV/p_region_id=NA/p_country_id=US/bahv-na-us-detailsalestrafficbychilditem-2019-12-04.csv successfully copied\n",
      "Item Nbr:3:  scrapers/seller_central/detail_page_sales_and_traffic_by_child_item_by_asin/p_creation_dt=2019-12-13/p_brand_id=BAHV/p_region_id=NA/p_country_id=US/bahv-na-us-detailsalestrafficbychilditem-2019-12-13.csv successfully copied\n",
      "Item Nbr:4:  scrapers/seller_central/detail_page_sales_and_traffic_by_child_item_by_asin/p_creation_dt=2019-11-21/p_brand_id=BAHV/p_region_id=NA/p_country_id=US/bahv-na-us-detailsalestrafficbychilditem-2019-11-21.csv successfully copied\n",
      "Item Nbr:5:  scrapers/seller_central/detail_page_sales_and_traffic_by_child_item_by_asin/p_creation_dt=2019-11-27/p_brand_id=BAHV/p_region_id=NA/p_country_id=US/bahv-na-us-detailsalestrafficbychilditem-2019-11-27.csv successfully copied\n"
     ]
    }
   ],
   "source": [
    "# Cliente S3\n",
    "s3 = boto3.resource(\n",
    "    \"s3\",\n",
    "    aws_access_key_id=AWS_ACCESS_KEY_ID,\n",
    "    aws_secret_access_key=AWS_SECRET_ACCESS_KEY,\n",
    "    aws_session_token=AWS_SESSION_TOKEN,\n",
    ")\n",
    "\n",
    "bucket = s3.Bucket(bucket_)\n",
    "\n",
    "print(f\"Files to be uploaded: {len(full_converted_files)}\")\n",
    "c = 0\n",
    "for file0, file1 in full_converted_files:\n",
    "\n",
    "    # print(file0)\n",
    "    # print(file1)\n",
    "\n",
    "    c += 1\n",
    "    try:\n",
    "        bucket.upload_file(file0, file1)\n",
    "        print(f\"Item Nbr:{c}:  {file1} successfully copied\")\n",
    "    except:\n",
    "        print(\"ERROR\")"
   ]
  },
  {
   "cell_type": "code",
   "execution_count": null,
   "metadata": {},
   "outputs": [],
   "source": []
  },
  {
   "cell_type": "code",
   "execution_count": null,
   "metadata": {},
   "outputs": [],
   "source": []
  }
 ],
 "metadata": {
  "interpreter": {
   "hash": "e534e48711db4d1e1c48977d0d14ff85b1f16d41bcc4fdfd88268a329b3c9d66"
  },
  "kernelspec": {
   "display_name": "Python 3.7.7 64-bit",
   "language": "python",
   "name": "python3"
  },
  "language_info": {
   "codemirror_mode": {
    "name": "ipython",
    "version": 3
   },
   "file_extension": ".py",
   "mimetype": "text/x-python",
   "name": "python",
   "nbconvert_exporter": "python",
   "pygments_lexer": "ipython3",
   "version": "3.7.12"
  },
  "orig_nbformat": 4
 },
 "nbformat": 4,
 "nbformat_minor": 2
}

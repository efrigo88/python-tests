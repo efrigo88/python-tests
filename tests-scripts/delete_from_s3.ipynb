{
 "cells": [
  {
   "cell_type": "code",
   "execution_count": 10,
   "metadata": {},
   "outputs": [],
   "source": [
    "AWS_ACCESS_KEY_ID=\"your_access_key\"\n",
    "AWS_SECRET_ACCESS_KEY=\"your_secret_key\"\n",
    "AWS_SESSION_TOKEN=\"your_session_token\""
   ]
  },
  {
   "cell_type": "code",
   "execution_count": 1,
   "metadata": {},
   "outputs": [],
   "source": [
    "import boto3"
   ]
  },
  {
   "cell_type": "code",
   "execution_count": 11,
   "metadata": {},
   "outputs": [],
   "source": [
    "# S3 Client\n",
    "s3 = boto3.client('s3', aws_access_key_id=AWS_ACCESS_KEY_ID, \n",
    "                          aws_secret_access_key=AWS_SECRET_ACCESS_KEY, \n",
    "                          aws_session_token=AWS_SESSION_TOKEN)"
   ]
  },
  {
   "cell_type": "code",
   "execution_count": 4,
   "metadata": {},
   "outputs": [],
   "source": [
    "# Dump Fn from S3\n",
    "def s3_items_from_table(bucket, prefix):\n",
    "    paginator = s3.get_paginator('list_objects_v2')\n",
    "    pages = paginator.paginate(Bucket=bucket, Prefix=prefix)\n",
    "    objects = []\n",
    "    for page in pages:\n",
    "        for item in page['Contents']:\n",
    "            objects.append(item['Key'])\n",
    "    \n",
    "    return objects"
   ]
  },
  {
   "cell_type": "code",
   "execution_count": 5,
   "metadata": {},
   "outputs": [],
   "source": [
    "# Delete function\n",
    "def s3_one_by_one(bucket, key):   \n",
    "    try:\n",
    "        s3.delete_object(Bucket=bucket, Key=key)\n",
    "        return f'key: >>{key}<< successfully deleted'\n",
    "    except ValueError as e:\n",
    "        return f'there was a problem with key: >>{key}<<, {e}'"
   ]
  },
  {
   "cell_type": "code",
   "execution_count": 26,
   "metadata": {},
   "outputs": [],
   "source": [
    "# list S3 Objects\n",
    "bucket = \"f14-datalake-raw-dev\"\n",
    "files = s3_items_from_table(bucket=bucket, prefix=\"scrapers/seller_central/detail_page_sales_and_traffic_by_child\")\n"
   ]
  },
  {
   "cell_type": "code",
   "execution_count": null,
   "metadata": {},
   "outputs": [],
   "source": [
    "print(len(files))\n",
    "print(files[:5])"
   ]
  },
  {
   "cell_type": "code",
   "execution_count": 29,
   "metadata": {},
   "outputs": [],
   "source": [
    "cleaned = []\n",
    "\n",
    "for i in files:\n",
    "    if \"TRIBE\" in i:\n",
    "        cleaned.append(i)\n"
   ]
  },
  {
   "cell_type": "code",
   "execution_count": null,
   "metadata": {},
   "outputs": [],
   "source": [
    "print(len(cleaned))\n",
    "print(cleaned[:5])"
   ]
  },
  {
   "cell_type": "code",
   "execution_count": null,
   "metadata": {},
   "outputs": [],
   "source": [
    "# deleting objects one by one\n",
    "if len(cleaned) > 0:\n",
    "    for i in cleaned:\n",
    "        print(s3_one_by_one(bucket, i))\n",
    "else:\n",
    "    print('Nothing to delete')"
   ]
  }
 ],
 "metadata": {
  "interpreter": {
   "hash": "31f2aee4e71d21fbe5cf8b01ff0e069b9275f58929596ceb00d14d90e3e16cd6"
  },
  "kernelspec": {
   "display_name": "Python 3.8.9 64-bit",
   "language": "python",
   "name": "python3"
  },
  "language_info": {
   "codemirror_mode": {
    "name": "ipython",
    "version": 3
   },
   "file_extension": ".py",
   "mimetype": "text/x-python",
   "name": "python",
   "nbconvert_exporter": "python",
   "pygments_lexer": "ipython3",
   "version": "3.7.12"
  },
  "orig_nbformat": 4
 },
 "nbformat": 4,
 "nbformat_minor": 2
}

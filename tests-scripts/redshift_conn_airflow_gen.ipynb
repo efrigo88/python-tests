{
 "cells": [
  {
   "cell_type": "code",
   "execution_count": 1,
   "metadata": {},
   "outputs": [],
   "source": [
    "# pip install apache-airflow\n",
    "from airflow.models.connection import Connection\n",
    "import json"
   ]
  },
  {
   "cell_type": "code",
   "execution_count": 8,
   "metadata": {},
   "outputs": [],
   "source": [
    "c = Connection(\n",
    "    conn_id=\"REDSHIFT_DEFAULT\",\n",
    "    conn_type=\"redshift\",\n",
    "    description=\"connection description\",\n",
    "    host=\"tf-redshift-cluster-2.ctfqw3a0fvpt.eu-west-1.redshift.amazonaws.com\",\n",
    "    port=5439,\n",
    "    schema=\"dev\",\n",
    "    login=\"data_deploy_app\",\n",
    "    password=\"DataDeployFactory14\",\n",
    ")"
   ]
  },
  {
   "cell_type": "code",
   "execution_count": null,
   "metadata": {},
   "outputs": [],
   "source": [
    "print(f\"AIRFLOW_CONN_{c.conn_id.upper()}='{c.get_uri()}'\")"
   ]
  }
 ],
 "metadata": {
  "interpreter": {
   "hash": "7fc3cbf63bd6aa6045e6558a124d823bce64e6fc3b99cd8ac39da55055a28d5a"
  },
  "kernelspec": {
   "display_name": "Python 3.7.12 64-bit ('3.7.12_1': pyenv)",
   "language": "python",
   "name": "python3"
  },
  "language_info": {
   "codemirror_mode": {
    "name": "ipython",
    "version": 3
   },
   "file_extension": ".py",
   "mimetype": "text/x-python",
   "name": "python",
   "nbconvert_exporter": "python",
   "pygments_lexer": "ipython3",
   "version": "3.7.12"
  },
  "orig_nbformat": 4
 },
 "nbformat": 4,
 "nbformat_minor": 2
}

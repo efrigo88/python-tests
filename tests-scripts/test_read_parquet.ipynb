{
 "cells": [
  {
   "cell_type": "code",
   "execution_count": 1,
   "metadata": {},
   "outputs": [],
   "source": [
    "import pandas as pd"
   ]
  },
  {
   "cell_type": "code",
   "execution_count": 2,
   "metadata": {},
   "outputs": [],
   "source": [
    "df = pd.read_parquet(\"/Users/emif/Downloads/part-00061-5196ef11-7156-4cff-a14f-1353dafe23a6.c000.snappy.parquet\")"
   ]
  },
  {
   "cell_type": "code",
   "execution_count": 3,
   "metadata": {},
   "outputs": [
    {
     "data": {
      "text/plain": [
       "Index(['brand_id', 'region_id', 'country_id', 'product_sku', 'warehouse_id',\n",
       "       'sellable_units', 'defective_units', 'expired_units',\n",
       "       'customer_damaged_units', 'distributor_damaged_units',\n",
       "       'carrier_damaged_units', 'warehouse_damaged_units',\n",
       "       'other_status_units', 'total_units', 'aud_upd_ts'],\n",
       "      dtype='object')"
      ]
     },
     "execution_count": 3,
     "metadata": {},
     "output_type": "execute_result"
    }
   ],
   "source": [
    "df.columns"
   ]
  },
  {
   "cell_type": "code",
   "execution_count": 4,
   "metadata": {},
   "outputs": [
    {
     "data": {
      "text/html": [
       "<div>\n",
       "<style scoped>\n",
       "    .dataframe tbody tr th:only-of-type {\n",
       "        vertical-align: middle;\n",
       "    }\n",
       "\n",
       "    .dataframe tbody tr th {\n",
       "        vertical-align: top;\n",
       "    }\n",
       "\n",
       "    .dataframe thead th {\n",
       "        text-align: right;\n",
       "    }\n",
       "</style>\n",
       "<table border=\"1\" class=\"dataframe\">\n",
       "  <thead>\n",
       "    <tr style=\"text-align: right;\">\n",
       "      <th></th>\n",
       "      <th>brand_id</th>\n",
       "      <th>region_id</th>\n",
       "      <th>country_id</th>\n",
       "      <th>product_sku</th>\n",
       "      <th>warehouse_id</th>\n",
       "      <th>sellable_units</th>\n",
       "      <th>defective_units</th>\n",
       "      <th>expired_units</th>\n",
       "      <th>customer_damaged_units</th>\n",
       "      <th>distributor_damaged_units</th>\n",
       "      <th>carrier_damaged_units</th>\n",
       "      <th>warehouse_damaged_units</th>\n",
       "      <th>other_status_units</th>\n",
       "      <th>total_units</th>\n",
       "      <th>aud_upd_ts</th>\n",
       "    </tr>\n",
       "  </thead>\n",
       "  <tbody>\n",
       "    <tr>\n",
       "      <th>0</th>\n",
       "      <td>TOOLZILLA</td>\n",
       "      <td>EU</td>\n",
       "      <td>FR</td>\n",
       "      <td>TZ004</td>\n",
       "      <td>ETZ2</td>\n",
       "      <td>10</td>\n",
       "      <td>0</td>\n",
       "      <td>0</td>\n",
       "      <td>0</td>\n",
       "      <td>0</td>\n",
       "      <td>0</td>\n",
       "      <td>0</td>\n",
       "      <td>0</td>\n",
       "      <td>10</td>\n",
       "      <td>2021-12-09 16:08:31.107031</td>\n",
       "    </tr>\n",
       "    <tr>\n",
       "      <th>1</th>\n",
       "      <td>TOOLZILLA</td>\n",
       "      <td>UK</td>\n",
       "      <td>UK</td>\n",
       "      <td>TZ010</td>\n",
       "      <td>LTN1</td>\n",
       "      <td>12</td>\n",
       "      <td>0</td>\n",
       "      <td>0</td>\n",
       "      <td>0</td>\n",
       "      <td>0</td>\n",
       "      <td>0</td>\n",
       "      <td>0</td>\n",
       "      <td>0</td>\n",
       "      <td>12</td>\n",
       "      <td>2021-12-09 16:08:31.107031</td>\n",
       "    </tr>\n",
       "    <tr>\n",
       "      <th>2</th>\n",
       "      <td>BARVIVO</td>\n",
       "      <td>UK</td>\n",
       "      <td>UK</td>\n",
       "      <td>O9-DBNW-NITY</td>\n",
       "      <td>BRS2</td>\n",
       "      <td>1</td>\n",
       "      <td>0</td>\n",
       "      <td>0</td>\n",
       "      <td>0</td>\n",
       "      <td>0</td>\n",
       "      <td>0</td>\n",
       "      <td>0</td>\n",
       "      <td>0</td>\n",
       "      <td>1</td>\n",
       "      <td>2021-12-09 16:08:31.107031</td>\n",
       "    </tr>\n",
       "    <tr>\n",
       "      <th>3</th>\n",
       "      <td>BARVIVO</td>\n",
       "      <td>UK</td>\n",
       "      <td>UK</td>\n",
       "      <td>V1-AA1R-GGZB</td>\n",
       "      <td>BRS2</td>\n",
       "      <td>12</td>\n",
       "      <td>0</td>\n",
       "      <td>0</td>\n",
       "      <td>0</td>\n",
       "      <td>0</td>\n",
       "      <td>0</td>\n",
       "      <td>0</td>\n",
       "      <td>0</td>\n",
       "      <td>12</td>\n",
       "      <td>2021-12-09 16:08:31.107031</td>\n",
       "    </tr>\n",
       "    <tr>\n",
       "      <th>4</th>\n",
       "      <td>TOOLZILLA</td>\n",
       "      <td>EU</td>\n",
       "      <td>DE</td>\n",
       "      <td>TZ013</td>\n",
       "      <td>BRE4</td>\n",
       "      <td>15</td>\n",
       "      <td>0</td>\n",
       "      <td>0</td>\n",
       "      <td>0</td>\n",
       "      <td>0</td>\n",
       "      <td>0</td>\n",
       "      <td>0</td>\n",
       "      <td>0</td>\n",
       "      <td>15</td>\n",
       "      <td>2021-12-09 16:08:31.107031</td>\n",
       "    </tr>\n",
       "  </tbody>\n",
       "</table>\n",
       "</div>"
      ],
      "text/plain": [
       "    brand_id region_id country_id   product_sku warehouse_id  sellable_units  \\\n",
       "0  TOOLZILLA        EU         FR         TZ004         ETZ2              10   \n",
       "1  TOOLZILLA        UK         UK         TZ010         LTN1              12   \n",
       "2    BARVIVO        UK         UK  O9-DBNW-NITY         BRS2               1   \n",
       "3    BARVIVO        UK         UK  V1-AA1R-GGZB         BRS2              12   \n",
       "4  TOOLZILLA        EU         DE         TZ013         BRE4              15   \n",
       "\n",
       "   defective_units  expired_units  customer_damaged_units  \\\n",
       "0                0              0                       0   \n",
       "1                0              0                       0   \n",
       "2                0              0                       0   \n",
       "3                0              0                       0   \n",
       "4                0              0                       0   \n",
       "\n",
       "   distributor_damaged_units  carrier_damaged_units  warehouse_damaged_units  \\\n",
       "0                          0                      0                        0   \n",
       "1                          0                      0                        0   \n",
       "2                          0                      0                        0   \n",
       "3                          0                      0                        0   \n",
       "4                          0                      0                        0   \n",
       "\n",
       "   other_status_units  total_units                 aud_upd_ts  \n",
       "0                   0           10 2021-12-09 16:08:31.107031  \n",
       "1                   0           12 2021-12-09 16:08:31.107031  \n",
       "2                   0            1 2021-12-09 16:08:31.107031  \n",
       "3                   0           12 2021-12-09 16:08:31.107031  \n",
       "4                   0           15 2021-12-09 16:08:31.107031  "
      ]
     },
     "execution_count": 4,
     "metadata": {},
     "output_type": "execute_result"
    }
   ],
   "source": [
    "df.head(5)"
   ]
  },
  {
   "cell_type": "code",
   "execution_count": 6,
   "metadata": {},
   "outputs": [
    {
     "data": {
      "text/plain": [
       "206"
      ]
     },
     "execution_count": 6,
     "metadata": {},
     "output_type": "execute_result"
    }
   ],
   "source": [
    "df[\"title\"].astype(str).map(len).max()"
   ]
  },
  {
   "cell_type": "code",
   "execution_count": null,
   "metadata": {},
   "outputs": [],
   "source": []
  }
 ],
 "metadata": {
  "interpreter": {
   "hash": "f9758907f0c25170018385fc1f095ac47265e9e3e39f011a0fd0d17c6140cc47"
  },
  "kernelspec": {
   "display_name": "Python 3.7.12 64-bit",
   "language": "python",
   "name": "python3"
  },
  "language_info": {
   "codemirror_mode": {
    "name": "ipython",
    "version": 3
   },
   "file_extension": ".py",
   "mimetype": "text/x-python",
   "name": "python",
   "nbconvert_exporter": "python",
   "pygments_lexer": "ipython3",
   "version": "3.7.12"
  },
  "orig_nbformat": 4
 },
 "nbformat": 4,
 "nbformat_minor": 2
}

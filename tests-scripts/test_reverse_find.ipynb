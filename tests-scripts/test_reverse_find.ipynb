{
 "cells": [
  {
   "cell_type": "code",
   "execution_count": 1,
   "metadata": {},
   "outputs": [],
   "source": [
    "def fix_item(body):\n",
    "\n",
    "    body_lst = list(body)\n",
    "    pos = body.find('\"')\n",
    "    del body_lst[:pos]\n",
    "    body_mod = \"\".join(body_lst)\n",
    "\n",
    "    body_mod_lst = list(body_mod)\n",
    "    pos = body_mod.rfind(\",\")\n",
    "    del body_mod_lst[pos]\n",
    "    body_mod = \"\".join(body_mod_lst)\n",
    "\n",
    "    body_tab = body_mod.replace('\",\"', \"\t\")\n",
    "    body_fixed = body_tab.replace('\"', \"\")\n",
    "\n",
    "    return body_fixed"
   ]
  },
  {
   "cell_type": "code",
   "execution_count": 35,
   "metadata": {},
   "outputs": [],
   "source": [
    "def fix_item(body):\n",
    "\n",
    "    body_lst = list(body)\n",
    "    pos = body.find('\"')\n",
    "    del body_lst[:pos]\n",
    "    body_mod = \"\".join(body_lst)\n",
    "\n",
    "    if \",\" in body_mod[-3:]:\n",
    "        body_mod_lst = list(body_mod)\n",
    "        pos = body_mod.rfind(\",\")\n",
    "        del body_mod_lst[pos]\n",
    "        body_mod = \"\".join(body_mod_lst)\n",
    "\n",
    "    body_tab = body_mod.replace('\",\"', \"\t\")\n",
    "    body_fixed = body_tab.replace('\"', \"\")\n",
    "\n",
    "    return body_fixed"
   ]
  },
  {
   "cell_type": "code",
   "execution_count": 36,
   "metadata": {},
   "outputs": [],
   "source": [
    "body_input = \"\"\"\n",
    "ï»¿\"snapshot-date\",\"fnsku\",\"sku\",\"product-name\",\"quantity\",\"fulfillment-center-id\",\"detailed-disposition\",\"country\"\n",
    "\"2021-11-23T00:00:00+00:00\",\"B08LQN19RV\",\"TZ019\",\"TOOLZILLA Heavy Duty Staple Gun & Staple Selection Pack - All Black Special Edition\",\"2\",\"WRO2\",\"SELLABLE\",\"PL\"\n",
    "\"2021-11-23T00:00:00+00:00\",\"B08LQN19RV\",\"TZ019\",\"TOOLZILLA Heavy Duty Staple Gun & Staple Selection Pack - All Black Special Edition\",\"14\",\"SZZ1\",\"SELLABLE\",\"PL\"\n",
    "\"2021-11-23T00:00:00+00:00\",\"B01L7ZCQ76\",\"GX-QBSO-W16K\",\"TOOLZILLAÂ® Heavy Duty Staple Gun & Staple Selection Pack\",\"1\",\"*XFR\",\"DEFECTIVE\",\n",
    "\"\"\""
   ]
  },
  {
   "cell_type": "code",
   "execution_count": 39,
   "metadata": {},
   "outputs": [],
   "source": [
    "body_input = \"\"\"\n",
    "ï»¿\"snapshot-date\",\"fnsku\",\"sku\",\"product-name\",\"quantity\",\"fulfillment-center-id\",\"detailed-disposition\",\"country\"\n",
    "\"2021-11-23T00:00:00+00:00\",\"B08LQN19RV\",\"TZ019\",\"TOOLZILLA Heavy Duty Staple Gun & Staple Selection Pack - All Black Special Edition\",\"2\",\"WRO2\",\"SELLABLE\",\"PL\"\n",
    "\"2021-11-23T00:00:00+00:00\",\"B08LQN19RV\",\"TZ019\",\"TOOLZILLA Heavy Duty Staple Gun & Staple Selection Pack - All Black Special Edition\",\"14\",\"SZZ1\",\"SELLABLE\",\"PL\"\n",
    "\"2021-09-30T00:00:00-07:00\",\"X000S4PYR3\",\"TJ-HRC5-X2VY\",\"Professional Drink Muddler - Ideal Bartender Tool for Old Fashioned & Mojitos by BARVIVO - Muddle & Mix the Perfect Cocktail Right at Home Using This 8in. Stainless Steel Pestle w/Grooved Nylon Head\",\"94\",\"ABQ1\",\"SELLABLE\",\"US\"\n",
    "\"\"\""
   ]
  },
  {
   "cell_type": "code",
   "execution_count": 40,
   "metadata": {},
   "outputs": [],
   "source": [
    "body = fix_item(body_input)"
   ]
  },
  {
   "cell_type": "code",
   "execution_count": 41,
   "metadata": {},
   "outputs": [
    {
     "data": {
      "text/plain": [
       "'snapshot-date\\tfnsku\\tsku\\tproduct-name\\tquantity\\tfulfillment-center-id\\tdetailed-disposition\\tcountry\\n2021-11-23T00:00:00+00:00\\tB08LQN19RV\\tTZ019\\tTOOLZILLA Heavy Duty Staple Gun & Staple Selection Pack - All Black Special Edition\\t2\\tWRO2\\tSELLABLE\\tPL\\n2021-11-23T00:00:00+00:00\\tB08LQN19RV\\tTZ019\\tTOOLZILLA Heavy Duty Staple Gun & Staple Selection Pack - All Black Special Edition\\t14\\tSZZ1\\tSELLABLE\\tPL\\n2021-09-30T00:00:00-07:00\\tX000S4PYR3\\tTJ-HRC5-X2VY\\tProfessional Drink Muddler - Ideal Bartender Tool for Old Fashioned & Mojitos by BARVIVO - Muddle & Mix the Perfect Cocktail Right at Home Using This 8in. Stainless Steel Pestle w/Grooved Nylon Head\\t94\\tABQ1\\tSELLABLE\\tUS\\n'"
      ]
     },
     "execution_count": 41,
     "metadata": {},
     "output_type": "execute_result"
    }
   ],
   "source": [
    "body"
   ]
  }
 ],
 "metadata": {
  "interpreter": {
   "hash": "f9758907f0c25170018385fc1f095ac47265e9e3e39f011a0fd0d17c6140cc47"
  },
  "kernelspec": {
   "display_name": "Python 3.7.12 64-bit",
   "language": "python",
   "name": "python3"
  },
  "language_info": {
   "codemirror_mode": {
    "name": "ipython",
    "version": 3
   },
   "file_extension": ".py",
   "mimetype": "text/x-python",
   "name": "python",
   "nbconvert_exporter": "python",
   "pygments_lexer": "ipython3",
   "version": "3.7.12"
  },
  "orig_nbformat": 4
 },
 "nbformat": 4,
 "nbformat_minor": 2
}

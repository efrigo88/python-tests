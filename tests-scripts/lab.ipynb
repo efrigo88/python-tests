{
 "cells": [
  {
   "cell_type": "code",
   "execution_count": 56,
   "metadata": {},
   "outputs": [],
   "source": [
    "import boto3\n",
    "AWS_ACCESS_KEY_ID=\"your_access_key\"\n",
    "AWS_SECRET_ACCESS_KEY=\"your_secret_key\"\n",
    "AWS_SESSION_TOKEN=\"your_session_token\"\n"
   ]
  },
  {
   "cell_type": "code",
   "execution_count": 22,
   "metadata": {},
   "outputs": [],
   "source": [
    "# Cliente S3\n",
    "s3 = boto3.client('s3', aws_access_key_id=AWS_ACCESS_KEY_ID, \n",
    "                          aws_secret_access_key=AWS_SECRET_ACCESS_KEY, \n",
    "                          aws_session_token=AWS_SESSION_TOKEN)"
   ]
  },
  {
   "cell_type": "code",
   "execution_count": 36,
   "metadata": {},
   "outputs": [],
   "source": [
    "def read_from_s3(s3_client, bucket_name: str, file_prefix: str, encoding: str = \"utf-8\") -> str:\n",
    "    obj = s3_client.get_object(Bucket=bucket_name, Key=file_prefix)\n",
    "    body = obj[\"Body\"].read().decode(encoding)\n",
    "    return body"
   ]
  },
  {
   "cell_type": "code",
   "execution_count": 61,
   "metadata": {},
   "outputs": [],
   "source": [
    "bucket_ = 'f14-datalake--dev'\n",
    "prefix = 'integrations/sellerboard_toolzilla_test/table_per_product/10-15-2021_13_39_34.959185.csv'\n",
    "\n",
    "#test_body = read_from_s3(s3, bucket_, prefix, encoding=\"utf-8\")"
   ]
  },
  {
   "cell_type": "code",
   "execution_count": 53,
   "metadata": {},
   "outputs": [],
   "source": [
    "read_from_s3(s3, bucket_, prefix, encoding=\"utf-8-sig\")\n",
    "test = read_from_s3(s3, bucket_, prefix, encoding=\"utf-8-sig\")"
   ]
  },
  {
   "cell_type": "code",
   "execution_count": 64,
   "metadata": {},
   "outputs": [
    {
     "name": "stdout",
     "output_type": "stream",
     "text": [
      "\"Date\",\"Marketplace\",\"ASIN\",\"SKU\",\"Name\",\"SalesOrganic\",\"SalesPPC\",\"UnitsOrganic\",\"UnitsPPC\",\"Refunds\",\"PromoValue\",\"SponsoredProducts\",\"SponsoredDisplay\",\"SponsoredВrands\",\"SponsoredBrandsVideo\",\"GiftWrap\",\"Shipping\",\"RefundCost\",\"Commission\",\"COMPENSATED_CLAWBACK\",\"FBADisposalFee\",\"FBAInboundTransportationFee\",\"FBAPerUnitFulfillmentFee\",\"(MCF)\",\"REVERSAL_REIMBURSEMENT\",\"WAREHOUSE_DAMAGE\",\"EstimatedPayout\",\"ProductCost Sales\",\"ProductCost Refunds\",\"ProductCost Unsellable Refunds\",\"ProductCost Non-Amazon\",\"ProductCost MultichannelCosts\",\"ProductCost MissingFromInbound\",\"ProductCost CostOfMissingReturns\",\"VAT\",\"GrossProfit\",\"NetProfit\",\"Margin\",\"Real ACOS\"\n",
      "\"08/10/2021\",\"Amazon.co.uk\",\"B01L7ZCQ76\",\"TZ001\",\"TOOLZILLA® Heavy Duty Staple Gun & Staple Selection Pack\",\"282.44\",\"21.64\",\"21\",\"2\",\"1\",\"-1.98\",\"-42.47\",\"0.00\",\"0.00\",\"-21.19\",\"0.00\",\"-4.16\",\"-10.83\",\"-39.36\",\"\",\"\",\"\",\"-50.83\",\"\",\"\",\"\",\"131.14\",\"-48.76\",\"2.12\",\"0.00\",\"0.00\",\"0.00\",\"0.00\",\"0.00\",\"-47.94\",\"36.56\",\"36.56\",\"12.02\",\"20.\n",
      "<class 'str'>\n"
     ]
    }
   ],
   "source": [
    "print(test[:1000])\n",
    "print(type(test))"
   ]
  },
  {
   "cell_type": "code",
   "execution_count": 2,
   "metadata": {},
   "outputs": [],
   "source": [
    "import pandas as pd\n",
    "import io\n",
    "import awswrangler as wr"
   ]
  },
  {
   "cell_type": "code",
   "execution_count": 54,
   "metadata": {},
   "outputs": [],
   "source": [
    "df = pd.read_csv(io.StringIO(test), quotechar='\"', delim_whitespace=False)"
   ]
  },
  {
   "cell_type": "code",
   "execution_count": 86,
   "metadata": {},
   "outputs": [
    {
     "data": {
      "text/html": [
       "<div>\n",
       "<style scoped>\n",
       "    .dataframe tbody tr th:only-of-type {\n",
       "        vertical-align: middle;\n",
       "    }\n",
       "\n",
       "    .dataframe tbody tr th {\n",
       "        vertical-align: top;\n",
       "    }\n",
       "\n",
       "    .dataframe thead th {\n",
       "        text-align: right;\n",
       "    }\n",
       "</style>\n",
       "<table border=\"1\" class=\"dataframe\">\n",
       "  <thead>\n",
       "    <tr style=\"text-align: right;\">\n",
       "      <th></th>\n",
       "    </tr>\n",
       "  </thead>\n",
       "  <tbody>\n",
       "  </tbody>\n",
       "</table>\n",
       "</div>"
      ],
      "text/plain": [
       "Empty DataFrame\n",
       "Columns: []\n",
       "Index: []"
      ]
     },
     "execution_count": 86,
     "metadata": {},
     "output_type": "execute_result"
    }
   ],
   "source": [
    "df.head()"
   ]
  },
  {
   "cell_type": "code",
   "execution_count": null,
   "metadata": {},
   "outputs": [],
   "source": []
  },
  {
   "cell_type": "code",
   "execution_count": 17,
   "metadata": {},
   "outputs": [
    {
     "name": "stdout",
     "output_type": "stream",
     "text": [
      "  (Parent) ASIN (Child) ASIN  \\\n",
      "0    B06XC3WNP1   B01AD9X6JO   \n",
      "1    B0836KT7YN   B0836KT7YN   \n",
      "2    B00XYT5RHK   B00XYT5RHK   \n",
      "3    B01N7RKHVF   B00YGZ7P7G   \n",
      "4    B07ZQK2BSK   B01FDTHK5U   \n",
      "\n",
      "                                               Title Sessions  \\\n",
      "0  Drink Coasters by Barvivo Set of 8 - Tabletop ...      175   \n",
      "1  BARVIVO Premium Whistling Tea Kettle - Perfect...       93   \n",
      "2  Professional Drink Muddler - Ideal Bartender T...       33   \n",
      "3  Barvivo Professional Waiters Corkscrew This Wi...       73   \n",
      "4  Double Jigger Set by Barvivo - Measure Liquor ...       33   \n",
      "\n",
      "  Session Percentage Page Views Page Views Percentage  \\\n",
      "0             19.23%        286                21.47%   \n",
      "1             10.22%        144                10.81%   \n",
      "2              3.63%         36                 2.70%   \n",
      "3              8.02%        122                 9.16%   \n",
      "4              3.63%         53                 3.98%   \n",
      "\n",
      "  Featured Offer (Buy Box) Percentage Units Ordered Units Ordered - B2B  \\\n",
      "0                              99.30%            31                   0   \n",
      "1                             100.00%            27                   0   \n",
      "2                             100.00%            22                   3   \n",
      "3                             100.00%            17                   0   \n",
      "4                             100.00%            13                   0   \n",
      "\n",
      "  Unit Session Percentage Unit Session Percentage - B2B Ordered Product Sales  \\\n",
      "0                  17.71%                         0.00%               $456.69   \n",
      "1                  29.03%                         0.00%               $825.62   \n",
      "2                  66.67%                         9.09%               $251.06   \n",
      "3                  23.29%                         0.00%               $233.54   \n",
      "4                  39.39%                         0.00%               $137.25   \n",
      "\n",
      "  Ordered Product Sales - B2B Total Order Items Total Order Items - B2B  \n",
      "0                       $0.00                30                       0  \n",
      "1                       $0.00                27                       0  \n",
      "2                      $31.81                19                       2  \n",
      "3                       $0.00                16                       0  \n",
      "4                       $0.00                12                       0  \n"
     ]
    }
   ],
   "source": [
    "df1 = pd.read_csv(\"/Users/emif/Downloads/barvivo-na-us-detailsalestrafficbychilditem-2020-03-08.csv\", quotechar='\"', sep=\",\", delim_whitespace=False, dtype=str) \n",
    "print(df1.head())"
   ]
  },
  {
   "cell_type": "code",
   "execution_count": 18,
   "metadata": {},
   "outputs": [
    {
     "data": {
      "text/plain": [
       "(Parent) ASIN                          object\n",
       "(Child) ASIN                           object\n",
       "Title                                  object\n",
       "Sessions                               object\n",
       "Session Percentage                     object\n",
       "Page Views                             object\n",
       "Page Views Percentage                  object\n",
       "Featured Offer (Buy Box) Percentage    object\n",
       "Units Ordered                          object\n",
       "Units Ordered - B2B                    object\n",
       "Unit Session Percentage                object\n",
       "Unit Session Percentage - B2B          object\n",
       "Ordered Product Sales                  object\n",
       "Ordered Product Sales - B2B            object\n",
       "Total Order Items                      object\n",
       "Total Order Items - B2B                object\n",
       "dtype: object"
      ]
     },
     "execution_count": 18,
     "metadata": {},
     "output_type": "execute_result"
    }
   ],
   "source": [
    "df1.dtypes"
   ]
  },
  {
   "cell_type": "code",
   "execution_count": 19,
   "metadata": {},
   "outputs": [],
   "source": [
    "df1.to_json(path_or_buf=\"/Users/emif/Downloads/barvivo-na-us-detailsalestrafficbychilditem-2020-03-08.jsonl\", orient=\"records\", lines=True)"
   ]
  },
  {
   "cell_type": "code",
   "execution_count": null,
   "metadata": {},
   "outputs": [],
   "source": []
  },
  {
   "cell_type": "code",
   "execution_count": null,
   "metadata": {},
   "outputs": [],
   "source": []
  },
  {
   "cell_type": "code",
   "execution_count": null,
   "metadata": {},
   "outputs": [],
   "source": []
  },
  {
   "cell_type": "code",
   "execution_count": null,
   "metadata": {},
   "outputs": [],
   "source": []
  }
 ],
 "metadata": {
  "interpreter": {
   "hash": "7fc3cbf63bd6aa6045e6558a124d823bce64e6fc3b99cd8ac39da55055a28d5a"
  },
  "kernelspec": {
   "display_name": "Python 3.7.12 64-bit ('3.7.12_1': pyenv)",
   "language": "python",
   "name": "python3"
  },
  "language_info": {
   "codemirror_mode": {
    "name": "ipython",
    "version": 3
   },
   "file_extension": ".py",
   "mimetype": "text/x-python",
   "name": "python",
   "nbconvert_exporter": "python",
   "pygments_lexer": "ipython3",
   "version": "3.7.12"
  },
  "orig_nbformat": 4
 },
 "nbformat": 4,
 "nbformat_minor": 2
}

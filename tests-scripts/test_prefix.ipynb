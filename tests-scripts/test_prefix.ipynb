{
 "cells": [
  {
   "cell_type": "code",
   "execution_count": 15,
   "metadata": {},
   "outputs": [],
   "source": [
    "# airbyte/p_integration_id=shopify/p_entity_id=fulfillments/p_creation_dt=2021-11-23/2021_11_16_1637062272589_0.jsonl\n",
    "\n",
    "# Shopify functions\n",
    "def get_destination_prefix_shopify(file_prefix):\n",
    "    file_prefix = file_prefix.split(\"/\")\n",
    "    file_name = file_prefix[-1]\n",
    "    root = file_prefix[0]\n",
    "    pipe = f\"p_integration_id={file_prefix[1]}\"\n",
    "    entity = f\"p_entity_id={file_prefix[3]}\"\n",
    "    file_name_ls = file_name.split(\"_\")\n",
    "    dt = f\"p_creation_dt={file_name_ls[0]}-{file_name_ls[1]}-{file_name_ls[2]}\"\n",
    "    brand = file_prefix[2].replace(\"_\", \"\")\n",
    "\n",
    "    destination_prefix = f\"{root}/{pipe}/{entity}/{dt}/{file_name}\"\n",
    "\n",
    "    return destination_prefix, brand"
   ]
  },
  {
   "cell_type": "code",
   "execution_count": 3,
   "metadata": {},
   "outputs": [],
   "source": [
    "input = \"airbyte/shopify/barvivo_/collects/2021_11_16_1637063315292_0.jsonl\""
   ]
  },
  {
   "cell_type": "code",
   "execution_count": 16,
   "metadata": {},
   "outputs": [
    {
     "name": "stdout",
     "output_type": "stream",
     "text": [
      "airbyte/p_integration_id=shopify/p_entity_id=collects/p_creation_dt=2021-11-16/2021_11_16_1637063315292_0.jsonl\n",
      "barvivo\n"
     ]
    }
   ],
   "source": [
    "prefix, brand = get_destination_prefix_shopify(input)\n",
    "\n",
    "print(prefix)\n",
    "print(brand)"
   ]
  },
  {
   "cell_type": "code",
   "execution_count": null,
   "metadata": {},
   "outputs": [],
   "source": []
  },
  {
   "cell_type": "code",
   "execution_count": 19,
   "metadata": {},
   "outputs": [],
   "source": [
    "import pandas as pd\n",
    "import io"
   ]
  },
  {
   "cell_type": "code",
   "execution_count": 18,
   "metadata": {},
   "outputs": [],
   "source": [
    "data = \"\"\"{\"_airbyte_ab_id\":\"a28aaf62-53c2-4e01-ab92-68d1102caed4\",\"_airbyte_emitted_at\":1637323544000,\"_airbyte_data\":{\"id\":3669417459899,\"order_id\":4174495514811,\"status\":\"success\",\"created_at\":\"2021-11-16T18:59:33-05:00\",\"service\":\"amazon_marketplace_web\",\"updated_at\":\"2021-11-17T20:28:16-05:00\",\"tracking_company\":\"USPS\",\"shipment_status\":\"in_transit\",\"location_id\":14829027397,\"line_items\":[{\"id\":10628636803259,\"variant_id\":19632349642821,\"title\":\"Wine Opener\",\"quantity\":1,\"sku\":\"OK-Z88Z-L0YO\",\"variant_title\":\"Pakka Wood.\",\"vendor\":\"BARVIVO\",\"fulfillment_service\":\"amazon_marketplace_web\",\"product_id\":1429891776581,\"requires_shipping\":true,\"taxable\":true,\"gift_card\":false,\"name\":\"Wine Opener - Pakka Wood.\",\"variant_inventory_management\":\"amazon_marketplace_web\",\"properties\":[],\"product_exists\":true,\"fulfillable_quantity\":0,\"grams\":3,\"price\":\"12.94\",\"total_discount\":\"0.00\",\"fulfillment_status\":\"fulfilled\",\"price_set\":{\"shop_money\":{\"amount\":\"12.94\",\"currency_code\":\"USD\"},\"presentment_money\":{\"amount\":\"12.94\",\"currency_code\":\"USD\"}},\"total_discount_set\":{\"shop_money\":{\"amount\":\"0.00\",\"currency_code\":\"USD\"},\"presentment_money\":{\"amount\":\"0.00\",\"currency_code\":\"USD\"}},\"discount_allocations\":[],\"origin_location\":{\"id\":1021429973061,\"country_code\":\"DK\",\"province_code\":\"\",\"name\":\"BARVIVO\",\"address1\":\"Nordre Teglkaj\",\"address2\":\"\",\"city\":\"Copenhagen SouthWest\",\"zip\":\"2450\"},\"admin_graphql_api_id\":\"gid://shopify/LineItem/10628636803259\",\"duties\":[],\"tax_lines\":[]},{\"id\":10628636836027,\"variant_id\":12746731061317,\"title\":\"Wine Opener\",\"quantity\":1,\"sku\":\"18-ZJYJ-02FJ\",\"variant_title\":\"Bai Ying Wood.\",\"vendor\":\"BARVIVO\",\"fulfillment_service\":\"amazon_marketplace_web\",\"product_id\":1429891776581,\"requires_shipping\":true,\"taxable\":false,\"gift_card\":false,\"name\":\"Wine Opener - Bai Ying Wood.\",\"variant_inventory_management\":\"amazon_marketplace_web\",\"properties\":[],\"product_exists\":true,\"fulfillable_quantity\":0,\"grams\":3,\"price\":\"12.94\",\"total_discount\":\"0.00\",\"fulfillment_status\":\"fulfilled\",\"price_set\":{\"shop_money\":{\"amount\":\"12.94\",\"currency_code\":\"USD\"},\"presentment_money\":{\"amount\":\"12.94\",\"currency_code\":\"USD\"}},\"total_discount_set\":{\"shop_money\":{\"amount\":\"0.00\",\"currency_code\":\"USD\"},\"presentment_money\":{\"amount\":\"0.00\",\"currency_code\":\"USD\"}},\"discount_allocations\":[],\"origin_location\":{\"id\":1021429973061,\"country_code\":\"DK\",\"province_code\":\"\",\"name\":\"BARVIVO\",\"address1\":\"Nordre Teglkaj\",\"address2\":\"\",\"city\":\"Copenhagen SouthWest\",\"zip\":\"2450\"},\"admin_graphql_api_id\":\"gid://shopify/LineItem/10628636836027\",\"duties\":[],\"tax_lines\":[]}],\"tracking_number\":\"9374889715907179409041\",\"tracking_numbers\":[\"9374889715907179409041\"],\"tracking_url\":\"https://tools.usps.com/go/TrackConfirmAction_input?qtc_tLabels1=9374889715907179409041\",\"tracking_urls\":[\"https://tools.usps.com/go/TrackConfirmAction_input?qtc_tLabels1=9374889715907179409041\"],\"receipt\":{\"response_status\":\"Accepted\",\"response_comment\":\"Successfully submitted the order\"},\"name\":\"#1604.1\",\"admin_graphql_api_id\":\"gid://shopify/Fulfillment/3669417459899\"}}\n",
    "{\"_airbyte_ab_id\":\"7990fe81-8197-4eee-8e83-b7605f515ff2\",\"_airbyte_emitted_at\":1637323545000,\"_airbyte_data\":{\"id\":3671385407675,\"order_id\":4176644079803,\"status\":\"open\",\"created_at\":\"2021-11-18T13:14:32-05:00\",\"service\":\"amazon_marketplace_web\",\"updated_at\":\"2021-11-18T13:17:34-05:00\",\"tracking_company\":null,\"shipment_status\":null,\"location_id\":14829027397,\"line_items\":[{\"id\":10633321382075,\"variant_id\":12746701799493,\"title\":\"Wine Opener\",\"quantity\":3,\"sku\":\"4N-2ZMC-3XA7\",\"variant_title\":\"Rosewood.\",\"vendor\":\"BARVIVO\",\"fulfillment_service\":\"amazon_marketplace_web\",\"product_id\":1429891776581,\"requires_shipping\":true,\"taxable\":false,\"gift_card\":false,\"name\":\"Wine Opener - Rosewood.\",\"variant_inventory_management\":\"amazon_marketplace_web\",\"properties\":[],\"product_exists\":true,\"fulfillable_quantity\":0,\"grams\":3,\"price\":\"12.94\",\"total_discount\":\"0.00\",\"fulfillment_status\":null,\"price_set\":{\"shop_money\":{\"amount\":\"12.94\",\"currency_code\":\"USD\"},\"presentment_money\":{\"amount\":\"12.94\",\"currency_code\":\"USD\"}},\"total_discount_set\":{\"shop_money\":{\"amount\":\"0.00\",\"currency_code\":\"USD\"},\"presentment_money\":{\"amount\":\"0.00\",\"currency_code\":\"USD\"}},\"discount_allocations\":[],\"origin_location\":{\"id\":1021429973061,\"country_code\":\"DK\",\"province_code\":\"\",\"name\":\"BARVIVO\",\"address1\":\"Nordre Teglkaj\",\"address2\":\"\",\"city\":\"Copenhagen SouthWest\",\"zip\":\"2450\"},\"admin_graphql_api_id\":\"gid://shopify/LineItem/10633321382075\",\"duties\":[],\"tax_lines\":[]}],\"tracking_number\":null,\"tracking_numbers\":[],\"tracking_url\":null,\"tracking_urls\":[],\"receipt\":{\"response_status\":\"Accepted\",\"response_comment\":\"Successfully submitted the order\"},\"name\":\"#1605.1\",\"admin_graphql_api_id\":\"gid://shopify/Fulfillment/3671385407675\"}}\n",
    "\"\"\""
   ]
  },
  {
   "cell_type": "code",
   "execution_count": 20,
   "metadata": {},
   "outputs": [],
   "source": [
    "df = pd.read_json(io.StringIO(data), lines=True)"
   ]
  },
  {
   "cell_type": "code",
   "execution_count": 27,
   "metadata": {},
   "outputs": [
    {
     "data": {
      "text/html": [
       "<div>\n",
       "<style scoped>\n",
       "    .dataframe tbody tr th:only-of-type {\n",
       "        vertical-align: middle;\n",
       "    }\n",
       "\n",
       "    .dataframe tbody tr th {\n",
       "        vertical-align: top;\n",
       "    }\n",
       "\n",
       "    .dataframe thead th {\n",
       "        text-align: right;\n",
       "    }\n",
       "</style>\n",
       "<table border=\"1\" class=\"dataframe\">\n",
       "  <thead>\n",
       "    <tr style=\"text-align: right;\">\n",
       "      <th></th>\n",
       "      <th>_airbyte_ab_id</th>\n",
       "      <th>_airbyte_emitted_at</th>\n",
       "      <th>_airbyte_data</th>\n",
       "    </tr>\n",
       "  </thead>\n",
       "  <tbody>\n",
       "    <tr>\n",
       "      <th>0</th>\n",
       "      <td>a28aaf62-53c2-4e01-ab92-68d1102caed4</td>\n",
       "      <td>2021-11-19 12:05:44</td>\n",
       "      <td>{'id': 3669417459899, 'order_id': 417449551481...</td>\n",
       "    </tr>\n",
       "    <tr>\n",
       "      <th>1</th>\n",
       "      <td>7990fe81-8197-4eee-8e83-b7605f515ff2</td>\n",
       "      <td>2021-11-19 12:05:45</td>\n",
       "      <td>{'id': 3671385407675, 'order_id': 417664407980...</td>\n",
       "    </tr>\n",
       "  </tbody>\n",
       "</table>\n",
       "</div>"
      ],
      "text/plain": [
       "                         _airbyte_ab_id _airbyte_emitted_at  \\\n",
       "0  a28aaf62-53c2-4e01-ab92-68d1102caed4 2021-11-19 12:05:44   \n",
       "1  7990fe81-8197-4eee-8e83-b7605f515ff2 2021-11-19 12:05:45   \n",
       "\n",
       "                                       _airbyte_data  \n",
       "0  {'id': 3669417459899, 'order_id': 417449551481...  \n",
       "1  {'id': 3671385407675, 'order_id': 417664407980...  "
      ]
     },
     "execution_count": 27,
     "metadata": {},
     "output_type": "execute_result"
    }
   ],
   "source": [
    "df"
   ]
  },
  {
   "cell_type": "code",
   "execution_count": 28,
   "metadata": {},
   "outputs": [],
   "source": [
    "from datetime import datetime\n",
    "def shopify_df_transform(\n",
    "    df: pd.DataFrame,\n",
    "    brand_id: str,\n",
    "    aud_process_ts: datetime = datetime.now(),\n",
    ") -> pd.DataFrame:\n",
    "    df[\"brand_id\"] = brand_id\n",
    "    df[\"aud_process_ts\"] = aud_process_ts.strftime(\n",
    "        \"%Y-%m-%d %H:%M:%S\"\n",
    "    )\n",
    "\n",
    "    df = df[['_airbyte_data', 'brand_id', 'aud_process_ts', '_airbyte_emitted_at', '_airbyte_ab_id']]\n",
    "\n",
    "    return df"
   ]
  },
  {
   "cell_type": "code",
   "execution_count": 29,
   "metadata": {},
   "outputs": [],
   "source": [
    "ouput_df = shopify_df_transform(df, \"BARVIVO\")"
   ]
  },
  {
   "cell_type": "code",
   "execution_count": 30,
   "metadata": {},
   "outputs": [
    {
     "data": {
      "text/html": [
       "<div>\n",
       "<style scoped>\n",
       "    .dataframe tbody tr th:only-of-type {\n",
       "        vertical-align: middle;\n",
       "    }\n",
       "\n",
       "    .dataframe tbody tr th {\n",
       "        vertical-align: top;\n",
       "    }\n",
       "\n",
       "    .dataframe thead th {\n",
       "        text-align: right;\n",
       "    }\n",
       "</style>\n",
       "<table border=\"1\" class=\"dataframe\">\n",
       "  <thead>\n",
       "    <tr style=\"text-align: right;\">\n",
       "      <th></th>\n",
       "      <th>_airbyte_data</th>\n",
       "      <th>brand_id</th>\n",
       "      <th>aud_process_ts</th>\n",
       "      <th>_airbyte_emitted_at</th>\n",
       "      <th>_airbyte_ab_id</th>\n",
       "    </tr>\n",
       "  </thead>\n",
       "  <tbody>\n",
       "    <tr>\n",
       "      <th>0</th>\n",
       "      <td>{'id': 3669417459899, 'order_id': 417449551481...</td>\n",
       "      <td>BARVIVO</td>\n",
       "      <td>2021-12-10 12:37:01</td>\n",
       "      <td>2021-11-19 12:05:44</td>\n",
       "      <td>a28aaf62-53c2-4e01-ab92-68d1102caed4</td>\n",
       "    </tr>\n",
       "    <tr>\n",
       "      <th>1</th>\n",
       "      <td>{'id': 3671385407675, 'order_id': 417664407980...</td>\n",
       "      <td>BARVIVO</td>\n",
       "      <td>2021-12-10 12:37:01</td>\n",
       "      <td>2021-11-19 12:05:45</td>\n",
       "      <td>7990fe81-8197-4eee-8e83-b7605f515ff2</td>\n",
       "    </tr>\n",
       "  </tbody>\n",
       "</table>\n",
       "</div>"
      ],
      "text/plain": [
       "                                       _airbyte_data brand_id  \\\n",
       "0  {'id': 3669417459899, 'order_id': 417449551481...  BARVIVO   \n",
       "1  {'id': 3671385407675, 'order_id': 417664407980...  BARVIVO   \n",
       "\n",
       "        aud_process_ts _airbyte_emitted_at  \\\n",
       "0  2021-12-10 12:37:01 2021-11-19 12:05:44   \n",
       "1  2021-12-10 12:37:01 2021-11-19 12:05:45   \n",
       "\n",
       "                         _airbyte_ab_id  \n",
       "0  a28aaf62-53c2-4e01-ab92-68d1102caed4  \n",
       "1  7990fe81-8197-4eee-8e83-b7605f515ff2  "
      ]
     },
     "execution_count": 30,
     "metadata": {},
     "output_type": "execute_result"
    }
   ],
   "source": [
    "ouput_df"
   ]
  },
  {
   "cell_type": "code",
   "execution_count": 33,
   "metadata": {},
   "outputs": [],
   "source": [
    "ouput_df.to_json(\"/Users/emif/Downloads/out.jsonl\", orient=\"records\", lines=True)"
   ]
  }
 ],
 "metadata": {
  "interpreter": {
   "hash": "f9758907f0c25170018385fc1f095ac47265e9e3e39f011a0fd0d17c6140cc47"
  },
  "kernelspec": {
   "display_name": "Python 3.7.12 64-bit",
   "language": "python",
   "name": "python3"
  },
  "language_info": {
   "codemirror_mode": {
    "name": "ipython",
    "version": 3
   },
   "file_extension": ".py",
   "mimetype": "text/x-python",
   "name": "python",
   "nbconvert_exporter": "python",
   "pygments_lexer": "ipython3",
   "version": "3.7.12"
  },
  "orig_nbformat": 4
 },
 "nbformat": 4,
 "nbformat_minor": 2
}

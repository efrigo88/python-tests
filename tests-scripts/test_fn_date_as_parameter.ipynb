{
 "cells": [
  {
   "cell_type": "code",
   "execution_count": 3,
   "metadata": {},
   "outputs": [],
   "source": [
    "import time\n",
    "from datetime import datetime"
   ]
  },
  {
   "cell_type": "code",
   "execution_count": 4,
   "metadata": {},
   "outputs": [],
   "source": [
    "def foo_ok(date_arg=None):\n",
    "    date_arg = date_arg or datetime.now()\n",
    "    # OR\n",
    "    # date_arg = date_arg if date_arg is not None else datetime.now()\n",
    "    print(f\"Hola EmiF: {date_arg}\")"
   ]
  },
  {
   "cell_type": "code",
   "execution_count": 5,
   "metadata": {},
   "outputs": [
    {
     "name": "stdout",
     "output_type": "stream",
     "text": [
      "Hola EmiF: 2021-12-29 15:56:25.002911\n",
      "Hola EmiF: 2021-12-29 15:56:26.007554\n",
      "Hola EmiF: 2021-12-29 15:56:27.009800\n",
      "Hola EmiF: 2021-12-29 15:56:28.015164\n",
      "Hola EmiF: 2021-12-29 15:56:29.016845\n"
     ]
    }
   ],
   "source": [
    "for i in range(5):\n",
    "    foo_ok()\n",
    "    time.sleep(1)"
   ]
  },
  {
   "cell_type": "code",
   "execution_count": null,
   "metadata": {},
   "outputs": [],
   "source": []
  },
  {
   "cell_type": "code",
   "execution_count": null,
   "metadata": {},
   "outputs": [],
   "source": []
  }
 ],
 "metadata": {
  "interpreter": {
   "hash": "f9758907f0c25170018385fc1f095ac47265e9e3e39f011a0fd0d17c6140cc47"
  },
  "kernelspec": {
   "display_name": "Python 3.7.12 64-bit",
   "language": "python",
   "name": "python3"
  },
  "language_info": {
   "codemirror_mode": {
    "name": "ipython",
    "version": 3
   },
   "file_extension": ".py",
   "mimetype": "text/x-python",
   "name": "python",
   "nbconvert_exporter": "python",
   "pygments_lexer": "ipython3",
   "version": "3.7.12"
  },
  "orig_nbformat": 4
 },
 "nbformat": 4,
 "nbformat_minor": 2
}

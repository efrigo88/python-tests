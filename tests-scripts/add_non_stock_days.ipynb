{
 "cells": [
  {
   "cell_type": "code",
   "execution_count": 1,
   "metadata": {},
   "outputs": [],
   "source": [
    "from datetime import datetime\n",
    "import pyspark.sql.functions as F\n",
    "import pyspark.sql.types as T\n",
    "from pyspark.sql import DataFrame\n",
    "from pyspark.sql import SparkSession\n",
    "from pyspark.sql import Window"
   ]
  },
  {
   "cell_type": "code",
   "execution_count": 2,
   "metadata": {},
   "outputs": [
    {
     "name": "stderr",
     "output_type": "stream",
     "text": [
      "21/12/16 15:35:59 WARN Utils: Your hostname, emif-MacBook-Pro.local resolves to a loopback address: 127.0.0.1; using 192.168.0.18 instead (on interface en0)\n",
      "21/12/16 15:35:59 WARN Utils: Set SPARK_LOCAL_IP if you need to bind to another address\n",
      "Using Spark's default log4j profile: org/apache/spark/log4j-defaults.properties\n",
      "Setting default log level to \"WARN\".\n",
      "To adjust logging level use sc.setLogLevel(newLevel). For SparkR, use setLogLevel(newLevel).\n",
      "21/12/16 15:36:00 WARN NativeCodeLoader: Unable to load native-hadoop library for your platform... using builtin-java classes where applicable\n"
     ]
    }
   ],
   "source": [
    "spark = SparkSession.builder.getOrCreate()"
   ]
  },
  {
   "cell_type": "code",
   "execution_count": 3,
   "metadata": {},
   "outputs": [
    {
     "name": "stderr",
     "output_type": "stream",
     "text": [
      "                                                                                \r"
     ]
    }
   ],
   "source": [
    "sdf = spark.read.json(\n",
    "    \"/Users/emif/Downloads/part-00000-5c7001db-eae0-4f45-9e2d-8e3fa67c6a0c-c000.json\"\n",
    ")"
   ]
  },
  {
   "cell_type": "code",
   "execution_count": 4,
   "metadata": {},
   "outputs": [],
   "source": [
    "end_date = datetime.now()"
   ]
  },
  {
   "cell_type": "code",
   "execution_count": 5,
   "metadata": {},
   "outputs": [
    {
     "name": "stdout",
     "output_type": "stream",
     "text": [
      "root\n",
      " |-- brand_id: string (nullable = true)\n",
      " |-- carrier_damaged_units: long (nullable = true)\n",
      " |-- country_id: string (nullable = true)\n",
      " |-- customer_damaged_units: long (nullable = true)\n",
      " |-- defective_units: long (nullable = true)\n",
      " |-- distributor_damaged_units: long (nullable = true)\n",
      " |-- expired_units: long (nullable = true)\n",
      " |-- other_status_units: long (nullable = true)\n",
      " |-- p_snapshot_dt: string (nullable = true)\n",
      " |-- product_sku: string (nullable = true)\n",
      " |-- region_id: string (nullable = true)\n",
      " |-- sellable_units: long (nullable = true)\n",
      " |-- total_units: long (nullable = true)\n",
      " |-- warehouse_damaged_units: long (nullable = true)\n",
      " |-- warehouse_id: string (nullable = true)\n",
      "\n"
     ]
    }
   ],
   "source": [
    "sdf.printSchema()"
   ]
  },
  {
   "cell_type": "code",
   "execution_count": 6,
   "metadata": {},
   "outputs": [
    {
     "data": {
      "text/plain": [
       "89"
      ]
     },
     "execution_count": 6,
     "metadata": {},
     "output_type": "execute_result"
    }
   ],
   "source": [
    "sdf.count()"
   ]
  },
  {
   "cell_type": "code",
   "execution_count": 7,
   "metadata": {},
   "outputs": [],
   "source": [
    "sdf = sdf.withColumn(\"p_snapshot_dt\", F.col(\"p_snapshot_dt\").cast(T.DateType()))"
   ]
  },
  {
   "cell_type": "code",
   "execution_count": 8,
   "metadata": {},
   "outputs": [
    {
     "name": "stdout",
     "output_type": "stream",
     "text": [
      "root\n",
      " |-- brand_id: string (nullable = true)\n",
      " |-- carrier_damaged_units: long (nullable = true)\n",
      " |-- country_id: string (nullable = true)\n",
      " |-- customer_damaged_units: long (nullable = true)\n",
      " |-- defective_units: long (nullable = true)\n",
      " |-- distributor_damaged_units: long (nullable = true)\n",
      " |-- expired_units: long (nullable = true)\n",
      " |-- other_status_units: long (nullable = true)\n",
      " |-- p_snapshot_dt: date (nullable = true)\n",
      " |-- product_sku: string (nullable = true)\n",
      " |-- region_id: string (nullable = true)\n",
      " |-- sellable_units: long (nullable = true)\n",
      " |-- total_units: long (nullable = true)\n",
      " |-- warehouse_damaged_units: long (nullable = true)\n",
      " |-- warehouse_id: string (nullable = true)\n",
      "\n"
     ]
    }
   ],
   "source": [
    "sdf.printSchema()"
   ]
  },
  {
   "cell_type": "code",
   "execution_count": 9,
   "metadata": {},
   "outputs": [],
   "source": [
    "partition_cols = [\"brand_id\", \"region_id\", \"country_id\", \"product_sku\", \"warehouse_id\"]"
   ]
  },
  {
   "cell_type": "code",
   "execution_count": 10,
   "metadata": {},
   "outputs": [],
   "source": [
    "dates_sdf = sdf.select(*partition_cols, \"p_snapshot_dt\").dropDuplicates()"
   ]
  },
  {
   "cell_type": "code",
   "execution_count": 11,
   "metadata": {},
   "outputs": [
    {
     "data": {
      "text/plain": [
       "89"
      ]
     },
     "execution_count": 11,
     "metadata": {},
     "output_type": "execute_result"
    }
   ],
   "source": [
    "dates_sdf.count()"
   ]
  },
  {
   "cell_type": "code",
   "execution_count": 12,
   "metadata": {},
   "outputs": [
    {
     "name": "stdout",
     "output_type": "stream",
     "text": [
      "+--------+---------+----------+------------+------------+-------------+\n",
      "|brand_id|region_id|country_id| product_sku|warehouse_id|p_snapshot_dt|\n",
      "+--------+---------+----------+------------+------------+-------------+\n",
      "| BARVIVO|       EU|        CZ|54-QTPI-ILUX|        PRG2|   2021-03-09|\n",
      "| BARVIVO|       EU|        CZ|54-QTPI-ILUX|        PRG2|   2021-03-15|\n",
      "| BARVIVO|       EU|        CZ|54-QTPI-ILUX|        PRG2|   2021-03-20|\n",
      "| BARVIVO|       EU|        CZ|54-QTPI-ILUX|        PRG2|   2021-04-13|\n",
      "| BARVIVO|       EU|        CZ|54-QTPI-ILUX|        PRG2|   2021-02-22|\n",
      "+--------+---------+----------+------------+------------+-------------+\n",
      "only showing top 5 rows\n",
      "\n"
     ]
    }
   ],
   "source": [
    "dates_sdf.show(5)"
   ]
  },
  {
   "cell_type": "code",
   "execution_count": 18,
   "metadata": {},
   "outputs": [],
   "source": [
    "# dates_sdf.select(\"p_snapshot_dt\").orderBy(\"p_snapshot_dt\").write.mode(\"overwrite\").json(\"/Users/emif/Downloads/dts.json\")"
   ]
  },
  {
   "cell_type": "code",
   "execution_count": 19,
   "metadata": {},
   "outputs": [],
   "source": [
    "sequence = \"sequence(p_snapshot_dt, p_snapshot_dt_next, interval 1 day)\"\n",
    "win = Window().partitionBy(*partition_cols).orderBy(\"p_snapshot_dt\")"
   ]
  },
  {
   "cell_type": "code",
   "execution_count": 20,
   "metadata": {},
   "outputs": [],
   "source": [
    "all_dates_sdf = (\n",
    "    dates_sdf.withColumn(\"p_snapshot_dt_next\", F.lead(\"p_snapshot_dt\").over(win))\n",
    "    .fillna({\"p_snapshot_dt_next\": end_date.isoformat()})\n",
    "    .withColumn(\"p_snapshot_dt\", F.explode(F.expr(sequence)))\n",
    ").dropDuplicates()"
   ]
  },
  {
   "cell_type": "code",
   "execution_count": 21,
   "metadata": {},
   "outputs": [
    {
     "data": {
      "text/plain": [
       "705"
      ]
     },
     "execution_count": 21,
     "metadata": {},
     "output_type": "execute_result"
    }
   ],
   "source": [
    "all_dates_sdf.count()"
   ]
  },
  {
   "cell_type": "code",
   "execution_count": 22,
   "metadata": {},
   "outputs": [
    {
     "name": "stdout",
     "output_type": "stream",
     "text": [
      "+--------+---------+----------+------------+------------+-------------+------------------+\n",
      "|brand_id|region_id|country_id| product_sku|warehouse_id|p_snapshot_dt|p_snapshot_dt_next|\n",
      "+--------+---------+----------+------------+------------+-------------+------------------+\n",
      "| BARVIVO|       EU|        CZ|54-QTPI-ILUX|        PRG2|   2020-04-09|        2020-04-10|\n",
      "| BARVIVO|       EU|        CZ|54-QTPI-ILUX|        PRG2|   2020-04-10|        2020-04-10|\n",
      "| BARVIVO|       EU|        CZ|54-QTPI-ILUX|        PRG2|   2020-04-10|        2020-04-11|\n",
      "| BARVIVO|       EU|        CZ|54-QTPI-ILUX|        PRG2|   2020-04-11|        2020-04-11|\n",
      "| BARVIVO|       EU|        CZ|54-QTPI-ILUX|        PRG2|   2020-04-11|        2020-04-12|\n",
      "+--------+---------+----------+------------+------------+-------------+------------------+\n",
      "only showing top 5 rows\n",
      "\n"
     ]
    }
   ],
   "source": [
    "all_dates_sdf.show(5)"
   ]
  },
  {
   "cell_type": "code",
   "execution_count": 23,
   "metadata": {},
   "outputs": [],
   "source": [
    "join_condition = [\n",
    "    all_dates_sdf.p_snapshot_dt == sdf.p_snapshot_dt,\n",
    "    all_dates_sdf.warehouse_id == sdf.warehouse_id,\n",
    "    all_dates_sdf.product_sku == sdf.product_sku,\n",
    "    all_dates_sdf.country_id == sdf.country_id,\n",
    "    all_dates_sdf.region_id == sdf.region_id,\n",
    "    all_dates_sdf.brand_id == sdf.brand_id,\n",
    "]"
   ]
  },
  {
   "cell_type": "code",
   "execution_count": 26,
   "metadata": {},
   "outputs": [],
   "source": [
    "joined_sdf = all_dates_sdf.alias(\"all_dts\").join(\n",
    "    sdf.alias(\"daily_inv\"), join_condition, \"left\"\n",
    ")"
   ]
  },
  {
   "cell_type": "code",
   "execution_count": 27,
   "metadata": {},
   "outputs": [
    {
     "name": "stdout",
     "output_type": "stream",
     "text": [
      "root\n",
      " |-- brand_id: string (nullable = true)\n",
      " |-- region_id: string (nullable = true)\n",
      " |-- country_id: string (nullable = true)\n",
      " |-- product_sku: string (nullable = true)\n",
      " |-- warehouse_id: string (nullable = true)\n",
      " |-- p_snapshot_dt: date (nullable = false)\n",
      " |-- p_snapshot_dt_next: date (nullable = true)\n",
      " |-- brand_id: string (nullable = true)\n",
      " |-- carrier_damaged_units: long (nullable = true)\n",
      " |-- country_id: string (nullable = true)\n",
      " |-- customer_damaged_units: long (nullable = true)\n",
      " |-- defective_units: long (nullable = true)\n",
      " |-- distributor_damaged_units: long (nullable = true)\n",
      " |-- expired_units: long (nullable = true)\n",
      " |-- other_status_units: long (nullable = true)\n",
      " |-- p_snapshot_dt: date (nullable = true)\n",
      " |-- product_sku: string (nullable = true)\n",
      " |-- region_id: string (nullable = true)\n",
      " |-- sellable_units: long (nullable = true)\n",
      " |-- total_units: long (nullable = true)\n",
      " |-- warehouse_damaged_units: long (nullable = true)\n",
      " |-- warehouse_id: string (nullable = true)\n",
      "\n"
     ]
    }
   ],
   "source": [
    "joined_sdf.printSchema()"
   ]
  },
  {
   "cell_type": "code",
   "execution_count": 28,
   "metadata": {},
   "outputs": [
    {
     "name": "stdout",
     "output_type": "stream",
     "text": [
      "[Column<'all_dts.brand_id AS brand_id'>, Column<'all_dts.region_id AS region_id'>, Column<'all_dts.country_id AS country_id'>, Column<'all_dts.product_sku AS product_sku'>, Column<'all_dts.warehouse_id AS warehouse_id'>, Column<'all_dts.p_snapshot_dt AS p_snapshot_dt'>]\n"
     ]
    }
   ],
   "source": [
    "all_dates_cols = [\n",
    "    F.col(f\"all_dts.{col}\").alias(col)\n",
    "    for col in all_dates_sdf.columns\n",
    "    if col != \"p_snapshot_dt_next\"\n",
    "]\n",
    "print(all_dates_cols)"
   ]
  },
  {
   "cell_type": "code",
   "execution_count": 29,
   "metadata": {},
   "outputs": [
    {
     "name": "stdout",
     "output_type": "stream",
     "text": [
      "[Column<'daily_inv.carrier_damaged_units AS carrier_damaged_units'>, Column<'daily_inv.customer_damaged_units AS customer_damaged_units'>, Column<'daily_inv.defective_units AS defective_units'>, Column<'daily_inv.distributor_damaged_units AS distributor_damaged_units'>, Column<'daily_inv.expired_units AS expired_units'>, Column<'daily_inv.other_status_units AS other_status_units'>, Column<'daily_inv.sellable_units AS sellable_units'>, Column<'daily_inv.total_units AS total_units'>, Column<'daily_inv.warehouse_damaged_units AS warehouse_damaged_units'>]\n"
     ]
    }
   ],
   "source": [
    "daily_inv_cols = [\n",
    "    F.col(f\"daily_inv.{col}\").alias(col)\n",
    "    for col in sdf.columns\n",
    "    if col not in partition_cols and col != \"p_snapshot_dt\"\n",
    "]\n",
    "print(daily_inv_cols)"
   ]
  },
  {
   "cell_type": "code",
   "execution_count": 30,
   "metadata": {},
   "outputs": [],
   "source": [
    "output_sdf = joined_sdf.select(*all_dates_cols, *daily_inv_cols)\n",
    "output_sdf = output_sdf.select(\n",
    "    F.col(\"brand_id\").cast(T.StringType()),\n",
    "    F.col(\"region_id\").cast(T.StringType()),\n",
    "    F.col(\"country_id\").cast(T.StringType()),\n",
    "    F.col(\"product_sku\").cast(T.StringType()),\n",
    "    F.col(\"warehouse_id\").cast(T.StringType()),\n",
    "    F.col(\"sellable_units\").cast(T.IntegerType()),\n",
    "    F.col(\"defective_units\").cast(T.IntegerType()),\n",
    "    F.col(\"expired_units\").cast(T.IntegerType()),\n",
    "    F.col(\"customer_damaged_units\").cast(T.IntegerType()),\n",
    "    F.col(\"distributor_damaged_units\").cast(T.IntegerType()),\n",
    "    F.col(\"carrier_damaged_units\").cast(T.IntegerType()),\n",
    "    F.col(\"warehouse_damaged_units\").cast(T.IntegerType()),\n",
    "    F.col(\"other_status_units\").cast(T.IntegerType()),\n",
    "    F.col(\"total_units\").cast(T.IntegerType()),\n",
    "    F.col(\"p_snapshot_dt\").cast(T.DateType()),\n",
    ")"
   ]
  },
  {
   "cell_type": "code",
   "execution_count": 31,
   "metadata": {},
   "outputs": [
    {
     "name": "stdout",
     "output_type": "stream",
     "text": [
      "+--------+---------+----------+------------+------------+--------------+---------------+-------------+----------------------+-------------------------+---------------------+-----------------------+------------------+-----------+-------------+\n",
      "|brand_id|region_id|country_id| product_sku|warehouse_id|sellable_units|defective_units|expired_units|customer_damaged_units|distributor_damaged_units|carrier_damaged_units|warehouse_damaged_units|other_status_units|total_units|p_snapshot_dt|\n",
      "+--------+---------+----------+------------+------------+--------------+---------------+-------------+----------------------+-------------------------+---------------------+-----------------------+------------------+-----------+-------------+\n",
      "| BARVIVO|       EU|        CZ|54-QTPI-ILUX|        PRG2|             1|              0|            0|                     0|                        0|                    0|                      0|                 0|          1|   2020-04-09|\n",
      "| BARVIVO|       EU|        CZ|54-QTPI-ILUX|        PRG2|             1|              0|            0|                     0|                        0|                    0|                      0|                 0|          1|   2020-04-10|\n",
      "| BARVIVO|       EU|        CZ|54-QTPI-ILUX|        PRG2|             1|              0|            0|                     0|                        0|                    0|                      0|                 0|          1|   2020-04-10|\n",
      "| BARVIVO|       EU|        CZ|54-QTPI-ILUX|        PRG2|             1|              0|            0|                     0|                        0|                    0|                      0|                 0|          1|   2020-04-11|\n",
      "| BARVIVO|       EU|        CZ|54-QTPI-ILUX|        PRG2|             1|              0|            0|                     0|                        0|                    0|                      0|                 0|          1|   2020-04-11|\n",
      "+--------+---------+----------+------------+------------+--------------+---------------+-------------+----------------------+-------------------------+---------------------+-----------------------+------------------+-----------+-------------+\n",
      "only showing top 5 rows\n",
      "\n"
     ]
    }
   ],
   "source": [
    "output_sdf.show(5)\n",
    "# output_sdf.write.json(\"/Users/emif/Downloads/test.json\")"
   ]
  },
  {
   "cell_type": "code",
   "execution_count": 32,
   "metadata": {},
   "outputs": [],
   "source": [
    "metrics_cols = [\n",
    "    \"sellable_units\",\n",
    "    \"defective_units\",\n",
    "    \"expired_units\",\n",
    "    \"customer_damaged_units\",\n",
    "    \"distributor_damaged_units\",\n",
    "    \"carrier_damaged_units\",\n",
    "    \"warehouse_damaged_units\",\n",
    "    \"other_status_units\",\n",
    "    \"total_units\",\n",
    "]"
   ]
  },
  {
   "cell_type": "code",
   "execution_count": 33,
   "metadata": {},
   "outputs": [],
   "source": [
    "def replace_nulls_in_columns(\n",
    "    input_sdf: DataFrame, replacement_cols, new_value=0\n",
    ") -> DataFrame:\n",
    "    original_cols = input_sdf.columns\n",
    "    for col_name in replacement_cols:\n",
    "        input_sdf = input_sdf.withColumn(\n",
    "            col_name, F.coalesce(col_name, F.lit(new_value)).alias(col_name)\n",
    "        )\n",
    "    return input_sdf.select(*original_cols)"
   ]
  },
  {
   "cell_type": "code",
   "execution_count": 34,
   "metadata": {},
   "outputs": [],
   "source": [
    "final_sdf = replace_nulls_in_columns(output_sdf, metrics_cols).dropDuplicates()"
   ]
  },
  {
   "cell_type": "code",
   "execution_count": 35,
   "metadata": {},
   "outputs": [
    {
     "name": "stdout",
     "output_type": "stream",
     "text": [
      "root\n",
      " |-- brand_id: string (nullable = true)\n",
      " |-- region_id: string (nullable = true)\n",
      " |-- country_id: string (nullable = true)\n",
      " |-- product_sku: string (nullable = true)\n",
      " |-- warehouse_id: string (nullable = true)\n",
      " |-- sellable_units: integer (nullable = false)\n",
      " |-- defective_units: integer (nullable = false)\n",
      " |-- expired_units: integer (nullable = false)\n",
      " |-- customer_damaged_units: integer (nullable = false)\n",
      " |-- distributor_damaged_units: integer (nullable = false)\n",
      " |-- carrier_damaged_units: integer (nullable = false)\n",
      " |-- warehouse_damaged_units: integer (nullable = false)\n",
      " |-- other_status_units: integer (nullable = false)\n",
      " |-- total_units: integer (nullable = false)\n",
      " |-- p_snapshot_dt: date (nullable = false)\n",
      "\n"
     ]
    }
   ],
   "source": [
    "final_sdf.printSchema()"
   ]
  },
  {
   "cell_type": "code",
   "execution_count": 36,
   "metadata": {},
   "outputs": [
    {
     "data": {
      "text/plain": [
       "617"
      ]
     },
     "execution_count": 36,
     "metadata": {},
     "output_type": "execute_result"
    }
   ],
   "source": [
    "final_sdf.count()"
   ]
  },
  {
   "cell_type": "code",
   "execution_count": 37,
   "metadata": {},
   "outputs": [
    {
     "name": "stderr",
     "output_type": "stream",
     "text": [
      "21/12/16 18:50:35 WARN HeartbeatReceiver: Removing executor driver with no recent heartbeats: 1874164 ms exceeds timeout 120000 ms\n",
      "21/12/16 18:50:35 WARN SparkContext: Killing executors is not supported by current scheduler.\n"
     ]
    }
   ],
   "source": [
    "final_sdf.write.mode(\"overwrite\").json(\"/Users/emif/Downloads/final.json\")"
   ]
  },
  {
   "cell_type": "code",
   "execution_count": null,
   "metadata": {},
   "outputs": [],
   "source": []
  },
  {
   "cell_type": "code",
   "execution_count": null,
   "metadata": {},
   "outputs": [],
   "source": []
  },
  {
   "cell_type": "code",
   "execution_count": null,
   "metadata": {},
   "outputs": [],
   "source": []
  },
  {
   "cell_type": "code",
   "execution_count": null,
   "metadata": {},
   "outputs": [],
   "source": []
  }
 ],
 "metadata": {
  "interpreter": {
   "hash": "078a30763b33786fd9d1b83c8038d09f0a2d8a997def4bae5ea4c6a7699445d8"
  },
  "kernelspec": {
   "display_name": "Python 3.9.7 64-bit ('spark_test': pyenv)",
   "language": "python",
   "name": "python3"
  },
  "language_info": {
   "codemirror_mode": {
    "name": "ipython",
    "version": 3
   },
   "file_extension": ".py",
   "mimetype": "text/x-python",
   "name": "python",
   "nbconvert_exporter": "python",
   "pygments_lexer": "ipython3",
   "version": "3.9.7"
  },
  "orig_nbformat": 4
 },
 "nbformat": 4,
 "nbformat_minor": 2
}

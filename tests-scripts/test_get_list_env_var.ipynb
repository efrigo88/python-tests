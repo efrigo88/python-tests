{
 "cells": [
  {
   "cell_type": "code",
   "execution_count": 2,
   "metadata": {},
   "outputs": [],
   "source": [
    "TABLES = {\n",
    "    \"get_fba_fulfillment_current_inventory_data\": {\n",
    "        \"glue_reports\": [\"agg_daily_inventory_report\", \"agg_daily_inventory_coverage\",],\n",
    "        \"raw_database\": \"lalalala1\",\n",
    "        \"app_database\": \"lalalala2\",\n",
    "        \"sort_key_col\": \"snapshot_dt\",\n",
    "        \"run_great_expectations\": False\n",
    "    },\n",
    "}"
   ]
  },
  {
   "cell_type": "code",
   "execution_count": 7,
   "metadata": {},
   "outputs": [
    {
     "name": "stdout",
     "output_type": "stream",
     "text": [
      "['agg_daily_inventory_report', 'agg_daily_inventory_coverage']\n",
      "lalalala1\n",
      "lalalala2\n",
      "snapshot_dt\n",
      "False\n",
      "None\n"
     ]
    }
   ],
   "source": [
    "for table, props in TABLES.items():\n",
    "\n",
    "    glue_reports = props[\"glue_reports\"]\n",
    "    raw_database = props[\"raw_database\"]\n",
    "    app_database = props[\"app_database\"]\n",
    "    sort_key_col = props[\"sort_key_col\"]\n",
    "    run_great_expectations = props.get(\"run_great_expectations\", False)\n",
    "    great_expectations_payload = props.get(\"great_expectations_payload\")\n",
    "\n",
    "\n",
    "    print(glue_reports)\n",
    "    print(raw_database)\n",
    "    print(app_database)\n",
    "    print(sort_key_col)\n",
    "    print(run_great_expectations)\n",
    "    print(great_expectations_payload)\n",
    "    \n"
   ]
  },
  {
   "cell_type": "code",
   "execution_count": null,
   "metadata": {},
   "outputs": [],
   "source": []
  },
  {
   "cell_type": "code",
   "execution_count": null,
   "metadata": {},
   "outputs": [],
   "source": []
  }
 ],
 "metadata": {
  "interpreter": {
   "hash": "f9758907f0c25170018385fc1f095ac47265e9e3e39f011a0fd0d17c6140cc47"
  },
  "kernelspec": {
   "display_name": "Python 3.7.12 64-bit",
   "language": "python",
   "name": "python3"
  },
  "language_info": {
   "name": "python",
   "version": "3.7.12"
  },
  "orig_nbformat": 4
 },
 "nbformat": 4,
 "nbformat_minor": 2
}

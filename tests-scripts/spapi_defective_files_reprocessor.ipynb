{
 "cells": [
  {
   "cell_type": "markdown",
   "metadata": {},
   "source": [
    "## Functions"
   ]
  },
  {
   "cell_type": "code",
   "execution_count": 149,
   "metadata": {},
   "outputs": [],
   "source": [
    "def input_key_cleaner(input_list):\n",
    "\n",
    "    keys_data_cleaned = []\n",
    "\n",
    "    for i in input_list:\n",
    "        data = i.split(\"/\")\n",
    "        dt = data[2].replace(\"p_creation_dt=\", \"\")\n",
    "        filename = data[3].split(\".\")[0]\n",
    "\n",
    "        keys_data_cleaned.append((dt, filename))\n",
    "    \n",
    "    return keys_data_cleaned"
   ]
  },
  {
   "cell_type": "code",
   "execution_count": 159,
   "metadata": {},
   "outputs": [],
   "source": [
    "# Dump Fn from S3\n",
    "def s3_items_from_table(bucket, prefix):\n",
    "    paginator = s3.get_paginator('list_objects_v2')\n",
    "    pages = paginator.paginate(Bucket=bucket, Prefix=prefix)\n",
    "    objects = []\n",
    "    for page in pages:\n",
    "        for item in page['Contents']:\n",
    "            objects.append(item['Key'])\n",
    "    \n",
    "    return objects"
   ]
  },
  {
   "cell_type": "code",
   "execution_count": 182,
   "metadata": {},
   "outputs": [],
   "source": [
    "def get_selected_files(items_to_look_for, files):\n",
    "\n",
    "    defective_landing_files = []\n",
    "\n",
    "    for i in items_to_look_for:\n",
    "        for j in files:\n",
    "            if i[0] in j and i[1] in j:\n",
    "                defective_landing_files.append(j)\n",
    "    \n",
    "    return defective_landing_files\n"
   ]
  },
  {
   "cell_type": "code",
   "execution_count": 82,
   "metadata": {},
   "outputs": [],
   "source": [
    "def read_from_s3(\n",
    "    s3_client, bucket_name: str, file_prefix: str, encoding: str = \"utf-8\"\n",
    ") -> str:\n",
    "    obj = s3_client.get_object(Bucket=bucket_name, Key=file_prefix)\n",
    "    body = obj[\"Body\"].read().decode(encoding)\n",
    "\n",
    "    return body"
   ]
  },
  {
   "cell_type": "code",
   "execution_count": 166,
   "metadata": {},
   "outputs": [],
   "source": [
    "def fix_item(body):\n",
    "    body_lst = list(body)\n",
    "    pos = body.find('\"')\n",
    "    \n",
    "    del body_lst[:pos]\n",
    "    \n",
    "    body_mod = \"\".join(body_lst)\n",
    "\n",
    "    body_tab = body_mod.replace('\",\"', \"\t\")\n",
    "    body_fixed = body_tab.replace('\"', \"\")\n",
    "\n",
    "    return body_fixed"
   ]
  },
  {
   "cell_type": "code",
   "execution_count": 120,
   "metadata": {},
   "outputs": [],
   "source": [
    "def df_from_str(\n",
    "    body: str, quotechar: str = '\"', sep: str = \",\", delim_whitespace: bool = False\n",
    ") -> pd.DataFrame:\n",
    "    df = pd.read_csv(\n",
    "        io.StringIO(body),\n",
    "        quotechar=quotechar,\n",
    "        sep=sep,\n",
    "        delim_whitespace=delim_whitespace,\n",
    "    )\n",
    "\n",
    "    return df"
   ]
  },
  {
   "cell_type": "code",
   "execution_count": 123,
   "metadata": {},
   "outputs": [],
   "source": [
    "from datetime import datetime\n",
    "\n",
    "\n",
    "def spapi_df_transform(\n",
    "    df: pd.DataFrame,\n",
    "    brand_id: str,\n",
    "    region_id: str,\n",
    "    aud_process_ts: datetime = datetime.now(),\n",
    ") -> pd.DataFrame:\n",
    "    df[\"brand_id\"] = brand_id.upper()\n",
    "    df[\"region_id\"] = region_id.upper()\n",
    "    df[\"aud_process_ts\"] = aud_process_ts.strftime(\n",
    "        \"%Y-%m-%d %H:%M:%S\"\n",
    "    )\n",
    "\n",
    "    return df"
   ]
  },
  {
   "cell_type": "code",
   "execution_count": 124,
   "metadata": {},
   "outputs": [],
   "source": [
    "def fix_col_titles(df: pd.DataFrame) -> pd.DataFrame:\n",
    "    dest_cols = []\n",
    "    for col in df.columns:\n",
    "        new_name = (\n",
    "            col.lower()\n",
    "            .replace(\"-\", \"_\")\n",
    "            .replace(\" \", \"_\")\n",
    "            .replace(\"___\", \"_\")\n",
    "            .replace(\"(\", \"\")\n",
    "            .replace(\")\", \"\")\n",
    "        )\n",
    "        dest_cols.append(new_name)\n",
    "        df[new_name] = df[col]\n",
    "\n",
    "    return df[dest_cols]"
   ]
  },
  {
   "cell_type": "code",
   "execution_count": 125,
   "metadata": {},
   "outputs": [],
   "source": [
    "def replace_with_raw_extension(input_file_name: str) -> str:\n",
    "    return input_file_name[: input_file_name.find(\".\")] + \".jsonl\""
   ]
  },
  {
   "cell_type": "code",
   "execution_count": 127,
   "metadata": {},
   "outputs": [],
   "source": [
    "def get_destination_prefix_spapi(file_prefix: str):\n",
    "    file_prefix = file_prefix.split(\"/\")\n",
    "    file_name = file_prefix[-1]\n",
    "    root = file_prefix[0]\n",
    "    brand = file_prefix[3].replace(\"p_brand_id=\", \"\")\n",
    "    region = file_prefix[4].replace(\"p_region_id=\", \"\")\n",
    "    report = file_prefix[1].lower()\n",
    "    dt = file_prefix[2]\n",
    "\n",
    "    destination_prefix = f\"{root}/{report}/{dt}/{file_name}\"\n",
    "\n",
    "    return destination_prefix, brand, region"
   ]
  },
  {
   "cell_type": "code",
   "execution_count": 168,
   "metadata": {},
   "outputs": [],
   "source": [
    "def df_to_s3_as_jsonl(s3, df, bucket, prefix):\n",
    "\n",
    "    json_buffer = io.StringIO()\n",
    "    df.to_json(json_buffer, orient=\"records\", lines=True)\n",
    "    my_bucket = s3.Bucket(bucket)\n",
    "    my_bucket.put_object(Key=prefix, Body=json_buffer.getvalue())\n"
   ]
  },
  {
   "cell_type": "markdown",
   "metadata": {},
   "source": [
    "## Main Execution"
   ]
  },
  {
   "cell_type": "code",
   "execution_count": 190,
   "metadata": {},
   "outputs": [],
   "source": [
    "import pandas as pd\n",
    "import progressbar\n",
    "import io\n",
    "import boto3"
   ]
  },
  {
   "cell_type": "code",
   "execution_count": 158,
   "metadata": {},
   "outputs": [],
   "source": [
    "aws_access_key_id = \"your_access_key\"\n",
    "aws_secret_access_key = \"your_secret_key\"\n",
    "aws_session_token = \"your_session_token\""
   ]
  },
  {
   "cell_type": "code",
   "execution_count": 167,
   "metadata": {},
   "outputs": [],
   "source": [
    "# Cliente S3\n",
    "s3 = boto3.client('s3', aws_access_key_id=aws_access_key_id, \n",
    "                          aws_secret_access_key=aws_secret_access_key, \n",
    "                          aws_session_token=aws_session_token)\n",
    "\n",
    "s3_res = boto3.resource('s3', aws_access_key_id=aws_access_key_id, \n",
    "                            aws_secret_access_key=aws_secret_access_key, \n",
    "                            aws_session_token=aws_session_token)\n"
   ]
  },
  {
   "cell_type": "code",
   "execution_count": 196,
   "metadata": {},
   "outputs": [],
   "source": [
    "bucket = 'f14-datalake-landing-dev'\n",
    "destination_bucket = 'f14-datalake-raw-dev'\n",
    "prefix = 'amazon_sp_api/GET_FBA_FULFILLMENT_CURRENT_INVENTORY_DATA/'"
   ]
  },
  {
   "cell_type": "code",
   "execution_count": 213,
   "metadata": {},
   "outputs": [
    {
     "name": "stdout",
     "output_type": "stream",
     "text": [
      "30\n"
     ]
    }
   ],
   "source": [
    "defective_raw_keys = [\"amazon_sp_api/get_fba_fulfillment_current_inventory_data/p_creation_dt=2021-11-22/357488018953.jsonl\",\n",
    "                    \"amazon_sp_api/get_fba_fulfillment_current_inventory_data/p_creation_dt=2021-11-22/648067018953.jsonl\",\n",
    "                    \"amazon_sp_api/get_fba_fulfillment_current_inventory_data/p_creation_dt=2021-11-22/648130018953.jsonl\",\n",
    "                    \"amazon_sp_api/get_fba_fulfillment_current_inventory_data/p_creation_dt=2021-11-22/809464018953.jsonl\",\n",
    "                    \"amazon_sp_api/get_fba_fulfillment_current_inventory_data/p_creation_dt=2021-11-22/809465018953.jsonl\",\n",
    "                    \"amazon_sp_api/get_fba_fulfillment_current_inventory_data/p_creation_dt=2021-11-22/809468018953.jsonl\",\n",
    "                    \"amazon_sp_api/get_fba_fulfillment_current_inventory_data/p_creation_dt=2021-11-22/809574018953.jsonl\",\n",
    "                    \"amazon_sp_api/get_fba_fulfillment_current_inventory_data/p_creation_dt=2021-11-24/358541018955.jsonl\",\n",
    "                    \"amazon_sp_api/get_fba_fulfillment_current_inventory_data/p_creation_dt=2021-11-24/358542018955.jsonl\",\n",
    "                    \"amazon_sp_api/get_fba_fulfillment_current_inventory_data/p_creation_dt=2021-11-24/649570018955.jsonl\",\n",
    "                    \"amazon_sp_api/get_fba_fulfillment_current_inventory_data/p_creation_dt=2021-11-24/689919018955.jsonl\",\n",
    "                    \"amazon_sp_api/get_fba_fulfillment_current_inventory_data/p_creation_dt=2021-11-24/812229018955.jsonl\",\n",
    "                    \"amazon_sp_api/get_fba_fulfillment_current_inventory_data/p_creation_dt=2021-11-25/691423018956.jsonl\",\n",
    "                    \"amazon_sp_api/get_fba_fulfillment_current_inventory_data/p_creation_dt=2021-12-01/516697018962.jsonl\",\n",
    "                    \"amazon_sp_api/get_fba_fulfillment_current_inventory_data/p_creation_dt=2021-12-01/532139018962.jsonl\",\n",
    "                    \"amazon_sp_api/get_fba_fulfillment_current_inventory_data/p_creation_dt=2021-12-03/655708018964.jsonl\",\n",
    "                    \"amazon_sp_api/get_fba_fulfillment_current_inventory_data/p_creation_dt=2021-12-03/822433018964.jsonl\",\n",
    "                    \"amazon_sp_api/get_fba_fulfillment_current_inventory_data/p_creation_dt=2021-12-03/822442018964.jsonl\",\n",
    "                    \"amazon_sp_api/get_fba_fulfillment_current_inventory_data/p_creation_dt=2021-12-04/534306018965.jsonl\",\n",
    "                    \"amazon_sp_api/get_fba_fulfillment_current_inventory_data/p_creation_dt=2021-12-07/708338018968.jsonl\",\n",
    "                    \"amazon_sp_api/get_fba_fulfillment_current_inventory_data/p_creation_dt=2021-12-10/93094018971.jsonl\",\n",
    "                    \"amazon_sp_api/get_fba_fulfillment_current_inventory_data/p_creation_dt=2021-12-12/249889018973.jsonl\",\n",
    "                    \"amazon_sp_api/get_fba_fulfillment_current_inventory_data/p_creation_dt=2021-12-16/524066018977.jsonl\",\n",
    "                    \"amazon_sp_api/get_fba_fulfillment_current_inventory_data/p_creation_dt=2021-12-16/543187018977.jsonl\",\n",
    "                    \"amazon_sp_api/get_fba_fulfillment_current_inventory_data/p_creation_dt=2021-12-16/543188018977.jsonl\",\n",
    "                    \"amazon_sp_api/get_fba_fulfillment_current_inventory_data/p_creation_dt=2021-12-17/524657018978.jsonl\",\n",
    "                    \"amazon_sp_api/get_fba_fulfillment_current_inventory_data/p_creation_dt=2021-12-17/543187018977.jsonl\",\n",
    "                    \"amazon_sp_api/get_fba_fulfillment_current_inventory_data/p_creation_dt=2021-12-17/543188018977.jsonl\",\n",
    "                    \"amazon_sp_api/get_fba_fulfillment_current_inventory_data/p_creation_dt=2021-12-18/524066018977.jsonl\",\n",
    "                    \"amazon_sp_api/get_fba_fulfillment_current_inventory_data/p_creation_dt=2021-12-18/524657018978.jsonl\",]\n",
    "print(len(defective_raw_keys))"
   ]
  },
  {
   "cell_type": "code",
   "execution_count": 214,
   "metadata": {},
   "outputs": [],
   "source": [
    "keys_data_cleaned = input_key_cleaner(defective_raw_keys)"
   ]
  },
  {
   "cell_type": "code",
   "execution_count": 215,
   "metadata": {},
   "outputs": [
    {
     "name": "stdout",
     "output_type": "stream",
     "text": [
      "[('2021-11-22', '357488018953'), ('2021-11-22', '648067018953'), ('2021-11-22', '648130018953'), ('2021-11-22', '809464018953'), ('2021-11-22', '809465018953'), ('2021-11-22', '809468018953'), ('2021-11-22', '809574018953'), ('2021-11-24', '358541018955'), ('2021-11-24', '358542018955'), ('2021-11-24', '649570018955'), ('2021-11-24', '689919018955'), ('2021-11-24', '812229018955'), ('2021-11-25', '691423018956'), ('2021-12-01', '516697018962'), ('2021-12-01', '532139018962'), ('2021-12-03', '655708018964'), ('2021-12-03', '822433018964'), ('2021-12-03', '822442018964'), ('2021-12-04', '534306018965'), ('2021-12-07', '708338018968'), ('2021-12-10', '93094018971'), ('2021-12-12', '249889018973'), ('2021-12-16', '524066018977'), ('2021-12-16', '543187018977'), ('2021-12-16', '543188018977'), ('2021-12-17', '524657018978'), ('2021-12-17', '543187018977'), ('2021-12-17', '543188018977'), ('2021-12-18', '524066018977'), ('2021-12-18', '524657018978')]\n",
      "30\n"
     ]
    }
   ],
   "source": [
    "print(keys_data_cleaned)\n",
    "print(len(keys_data_cleaned))"
   ]
  },
  {
   "cell_type": "code",
   "execution_count": 219,
   "metadata": {},
   "outputs": [
    {
     "name": "stdout",
     "output_type": "stream",
     "text": [
      "3623 items in total\n"
     ]
    }
   ],
   "source": [
    "# list S3 Objects\n",
    "files = s3_items_from_table(bucket=bucket, prefix=prefix)\n",
    "print(f'{len(files)} items in total')"
   ]
  },
  {
   "cell_type": "code",
   "execution_count": 220,
   "metadata": {},
   "outputs": [
    {
     "data": {
      "text/plain": [
       "['amazon_sp_api/GET_FBA_FULFILLMENT_CURRENT_INVENTORY_DATA/p_creation_dt=2021-10-27/p_brand_id=BARVIVO/p_region_id=EU/768408018927.tsv',\n",
       " 'amazon_sp_api/GET_FBA_FULFILLMENT_CURRENT_INVENTORY_DATA/p_creation_dt=2021-10-27/p_brand_id=BARVIVO/p_region_id=EU/768411018927.tsv',\n",
       " 'amazon_sp_api/GET_FBA_FULFILLMENT_CURRENT_INVENTORY_DATA/p_creation_dt=2021-10-27/p_brand_id=BARVIVO/p_region_id=EU/768415018927.tsv',\n",
       " 'amazon_sp_api/GET_FBA_FULFILLMENT_CURRENT_INVENTORY_DATA/p_creation_dt=2021-10-27/p_brand_id=BARVIVO/p_region_id=EU/768419018927.tsv',\n",
       " 'amazon_sp_api/GET_FBA_FULFILLMENT_CURRENT_INVENTORY_DATA/p_creation_dt=2021-10-27/p_brand_id=BARVIVO/p_region_id=EU/768428018927.tsv']"
      ]
     },
     "execution_count": 220,
     "metadata": {},
     "output_type": "execute_result"
    }
   ],
   "source": [
    "files[:5]"
   ]
  },
  {
   "cell_type": "code",
   "execution_count": 221,
   "metadata": {},
   "outputs": [
    {
     "name": "stdout",
     "output_type": "stream",
     "text": [
      "30\n"
     ]
    }
   ],
   "source": [
    "defective_landing_files = get_selected_files(keys_data_cleaned, files)\n",
    "print(len(defective_landing_files))"
   ]
  },
  {
   "cell_type": "code",
   "execution_count": 222,
   "metadata": {},
   "outputs": [
    {
     "data": {
      "text/plain": [
       "['amazon_sp_api/GET_FBA_FULFILLMENT_CURRENT_INVENTORY_DATA/p_creation_dt=2021-11-22/p_brand_id=WWO/p_region_id=US/357488018953.tsv',\n",
       " 'amazon_sp_api/GET_FBA_FULFILLMENT_CURRENT_INVENTORY_DATA/p_creation_dt=2021-11-22/p_brand_id=BARVIVO/p_region_id=US/648067018953.tsv',\n",
       " 'amazon_sp_api/GET_FBA_FULFILLMENT_CURRENT_INVENTORY_DATA/p_creation_dt=2021-11-22/p_brand_id=BARVIVO/p_region_id=US/648130018953.tsv',\n",
       " 'amazon_sp_api/GET_FBA_FULFILLMENT_CURRENT_INVENTORY_DATA/p_creation_dt=2021-11-22/p_brand_id=BARVIVO/p_region_id=EU/809464018953.tsv',\n",
       " 'amazon_sp_api/GET_FBA_FULFILLMENT_CURRENT_INVENTORY_DATA/p_creation_dt=2021-11-22/p_brand_id=BARVIVO/p_region_id=EU/809465018953.tsv']"
      ]
     },
     "execution_count": 222,
     "metadata": {},
     "output_type": "execute_result"
    }
   ],
   "source": [
    "defective_landing_files[:5]"
   ]
  },
  {
   "cell_type": "code",
   "execution_count": 223,
   "metadata": {},
   "outputs": [
    {
     "name": "stderr",
     "output_type": "stream",
     "text": [
      "100% (31 of 31) |########################| Elapsed Time: 0:06:54 Time:  0:06:54\n"
     ]
    },
    {
     "name": "stdout",
     "output_type": "stream",
     "text": [
      "Done!!!, processed files:30\n",
      "s3://f14-datalake-raw-dev/amazon_sp_api/get_fba_fulfillment_current_inventory_data/p_creation_dt=2021-11-22/357488018953.jsonl\n",
      "s3://f14-datalake-raw-dev/amazon_sp_api/get_fba_fulfillment_current_inventory_data/p_creation_dt=2021-11-22/648067018953.jsonl\n",
      "s3://f14-datalake-raw-dev/amazon_sp_api/get_fba_fulfillment_current_inventory_data/p_creation_dt=2021-11-22/648130018953.jsonl\n",
      "s3://f14-datalake-raw-dev/amazon_sp_api/get_fba_fulfillment_current_inventory_data/p_creation_dt=2021-11-22/809464018953.jsonl\n",
      "s3://f14-datalake-raw-dev/amazon_sp_api/get_fba_fulfillment_current_inventory_data/p_creation_dt=2021-11-22/809465018953.jsonl\n",
      "s3://f14-datalake-raw-dev/amazon_sp_api/get_fba_fulfillment_current_inventory_data/p_creation_dt=2021-11-22/809468018953.jsonl\n",
      "s3://f14-datalake-raw-dev/amazon_sp_api/get_fba_fulfillment_current_inventory_data/p_creation_dt=2021-11-22/809574018953.jsonl\n",
      "s3://f14-datalake-raw-dev/amazon_sp_api/get_fba_fulfillment_current_inventory_data/p_creation_dt=2021-11-24/358541018955.jsonl\n",
      "s3://f14-datalake-raw-dev/amazon_sp_api/get_fba_fulfillment_current_inventory_data/p_creation_dt=2021-11-24/358542018955.jsonl\n",
      "s3://f14-datalake-raw-dev/amazon_sp_api/get_fba_fulfillment_current_inventory_data/p_creation_dt=2021-11-24/649570018955.jsonl\n",
      "s3://f14-datalake-raw-dev/amazon_sp_api/get_fba_fulfillment_current_inventory_data/p_creation_dt=2021-11-24/689919018955.jsonl\n",
      "s3://f14-datalake-raw-dev/amazon_sp_api/get_fba_fulfillment_current_inventory_data/p_creation_dt=2021-11-24/812229018955.jsonl\n",
      "s3://f14-datalake-raw-dev/amazon_sp_api/get_fba_fulfillment_current_inventory_data/p_creation_dt=2021-11-25/691423018956.jsonl\n",
      "s3://f14-datalake-raw-dev/amazon_sp_api/get_fba_fulfillment_current_inventory_data/p_creation_dt=2021-12-01/516697018962.jsonl\n",
      "s3://f14-datalake-raw-dev/amazon_sp_api/get_fba_fulfillment_current_inventory_data/p_creation_dt=2021-12-01/532139018962.jsonl\n",
      "s3://f14-datalake-raw-dev/amazon_sp_api/get_fba_fulfillment_current_inventory_data/p_creation_dt=2021-12-03/655708018964.jsonl\n",
      "s3://f14-datalake-raw-dev/amazon_sp_api/get_fba_fulfillment_current_inventory_data/p_creation_dt=2021-12-03/822433018964.jsonl\n",
      "s3://f14-datalake-raw-dev/amazon_sp_api/get_fba_fulfillment_current_inventory_data/p_creation_dt=2021-12-03/822442018964.jsonl\n",
      "s3://f14-datalake-raw-dev/amazon_sp_api/get_fba_fulfillment_current_inventory_data/p_creation_dt=2021-12-04/534306018965.jsonl\n",
      "s3://f14-datalake-raw-dev/amazon_sp_api/get_fba_fulfillment_current_inventory_data/p_creation_dt=2021-12-07/708338018968.jsonl\n",
      "s3://f14-datalake-raw-dev/amazon_sp_api/get_fba_fulfillment_current_inventory_data/p_creation_dt=2021-12-10/93094018971.jsonl\n",
      "s3://f14-datalake-raw-dev/amazon_sp_api/get_fba_fulfillment_current_inventory_data/p_creation_dt=2021-12-12/249889018973.jsonl\n",
      "s3://f14-datalake-raw-dev/amazon_sp_api/get_fba_fulfillment_current_inventory_data/p_creation_dt=2021-12-16/524066018977.jsonl\n",
      "s3://f14-datalake-raw-dev/amazon_sp_api/get_fba_fulfillment_current_inventory_data/p_creation_dt=2021-12-16/543187018977.jsonl\n",
      "s3://f14-datalake-raw-dev/amazon_sp_api/get_fba_fulfillment_current_inventory_data/p_creation_dt=2021-12-16/543188018977.jsonl\n",
      "s3://f14-datalake-raw-dev/amazon_sp_api/get_fba_fulfillment_current_inventory_data/p_creation_dt=2021-12-17/524657018978.jsonl\n",
      "s3://f14-datalake-raw-dev/amazon_sp_api/get_fba_fulfillment_current_inventory_data/p_creation_dt=2021-12-17/543187018977.jsonl\n",
      "s3://f14-datalake-raw-dev/amazon_sp_api/get_fba_fulfillment_current_inventory_data/p_creation_dt=2021-12-17/543188018977.jsonl\n",
      "s3://f14-datalake-raw-dev/amazon_sp_api/get_fba_fulfillment_current_inventory_data/p_creation_dt=2021-12-18/524066018977.jsonl\n",
      "s3://f14-datalake-raw-dev/amazon_sp_api/get_fba_fulfillment_current_inventory_data/p_creation_dt=2021-12-18/524657018978.jsonl\n"
     ]
    }
   ],
   "source": [
    "i = 0\n",
    "with progressbar.ProgressBar(max_value=len(defective_landing_files)+1) as bar:\n",
    "    \n",
    "    processed_file_names = []\n",
    "\n",
    "    for def_land_file in defective_landing_files:\n",
    "        \n",
    "        body = read_from_s3(s3, bucket, def_land_file)\n",
    "\n",
    "        if '\"' in body:\n",
    "            body = fix_item(body)\n",
    "            df = df_from_str(body, sep=\"\\t\")\n",
    "            \n",
    "            output_prefix, brand_id, region_id = get_destination_prefix_spapi(def_land_file)\n",
    "            output_prefix = replace_with_raw_extension(output_prefix)\n",
    "\n",
    "            df = spapi_df_transform(df, brand_id, region_id)\n",
    "            df = fix_col_titles(df)\n",
    "\n",
    "            df_to_s3_as_jsonl(s3_res, df, destination_bucket, output_prefix)\n",
    "\n",
    "            processed_file_names.append(f\"s3://{destination_bucket}/{output_prefix}\")\n",
    "\n",
    "            i = i + 1\n",
    "            bar.update(i)\n",
    "        else:\n",
    "            print(f\"file {output_prefix} won't be processed\")\n",
    "\n",
    "print(f\"Done!!!, processed files:{len(processed_file_names)}\")\n",
    "for x in processed_file_names:\n",
    "    print(x)\n"
   ]
  }
 ],
 "metadata": {
  "interpreter": {
   "hash": "f9758907f0c25170018385fc1f095ac47265e9e3e39f011a0fd0d17c6140cc47"
  },
  "kernelspec": {
   "display_name": "Python 3.7.12 64-bit",
   "language": "python",
   "name": "python3"
  },
  "language_info": {
   "codemirror_mode": {
    "name": "ipython",
    "version": 3
   },
   "file_extension": ".py",
   "mimetype": "text/x-python",
   "name": "python",
   "nbconvert_exporter": "python",
   "pygments_lexer": "ipython3",
   "version": "3.7.12"
  },
  "orig_nbformat": 4
 },
 "nbformat": 4,
 "nbformat_minor": 2
}

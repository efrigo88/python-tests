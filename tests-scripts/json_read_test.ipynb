{
 "cells": [
  {
   "cell_type": "code",
   "execution_count": 1,
   "metadata": {},
   "outputs": [],
   "source": [
    "import json"
   ]
  },
  {
   "cell_type": "code",
   "execution_count": 5,
   "metadata": {},
   "outputs": [],
   "source": [
    "path = \"/Users/emif/Downloads/input_data.txt\""
   ]
  },
  {
   "cell_type": "code",
   "execution_count": 9,
   "metadata": {},
   "outputs": [],
   "source": [
    "with open(path, \"r\") as text_file:\n",
    "    test_event = text_file.read()"
   ]
  },
  {
   "cell_type": "code",
   "execution_count": 10,
   "metadata": {},
   "outputs": [
    {
     "data": {
      "text/plain": [
       "'{\\n    \"Records\": [\\n        {\\n            \"eventVersion\": \"2.1\",\\n            \"eventSource\": \"aws:s3\",\\n            \"awsRegion\": \"eu-west-1\",\\n            \"eventTime\": \"2021-11-25T18:58:47.293Z\",\\n            \"eventName\": \"ObjectCreated:Copy\",\\n            \"userIdentity\": {\"principalId\": \"AWS:AROAZKQQG4WBXB55I7DI7:name\"},\\n            \"requestParameters\": {\"sourceIPAddress\": \"181.199.145.196\"},\\n            \"responseElements\": {\\n                \"x-amz-request-id\": \"YDX9AABCEDWFY8B4\",\\n                \"x-amz-id-2\": \"RB3Ay5rAc+WDHI0aey9U+JzxnPzv9o+jiWSHHwDlw00o69Uao/ek3cFrXxVgP6nltb5sm2EnG57yPnTbXiKeFhMtWilA1Qzl\"\\n            },\\n            \"s3\": {\\n                \"s3SchemaVersion\": \"1.0\",\\n                \"configurationId\": \"LandingFileProcessor\",\\n                \"bucket\": {\\n                    \"name\": \"f14-datalake-landing-dev\",\\n                    \"ownerIdentity\": {\"principalId\": \"AS2T68464ICAX\"},\\n                    \"arn\": \"arn:aws:s3:::f14-datalake-landing-dev\"\\n                },\\n                \"object\": {\\n                    \"key\": \"scrapers/seller_central_test/detail_page_sales_and_traffic_by_child_item_by_asin/p_creation_dt%3D2019-11-17/p_brand_id%3DBARVIVO/p_region_id%3DNA/p_country_id%3DUS/barvivo-na-us-detailsalestrafficbychilditem-2019-11-17.csv\",\\n                    \"size\": 7258,\\n                    \"eTag\": \"a9f9ef808d1c0aa4f07d8e18b9606727\",\\n                    \"sequencer\": \"00619FDCE73B1C304F\"\\n                }\\n            }\\n        }\\n    ]\\n}\\n'"
      ]
     },
     "execution_count": 10,
     "metadata": {},
     "output_type": "execute_result"
    }
   ],
   "source": [
    "test_event"
   ]
  },
  {
   "cell_type": "code",
   "execution_count": 11,
   "metadata": {},
   "outputs": [],
   "source": [
    "json_test_event = json.loads(test_event)"
   ]
  },
  {
   "cell_type": "code",
   "execution_count": 12,
   "metadata": {},
   "outputs": [
    {
     "data": {
      "text/plain": [
       "{'Records': [{'eventVersion': '2.1',\n",
       "   'eventSource': 'aws:s3',\n",
       "   'awsRegion': 'eu-west-1',\n",
       "   'eventTime': '2021-11-25T18:58:47.293Z',\n",
       "   'eventName': 'ObjectCreated:Copy',\n",
       "   'userIdentity': {'principalId': 'AWS:AROAZKQQG4WBXB55I7DI7:name'},\n",
       "   'requestParameters': {'sourceIPAddress': '181.199.145.196'},\n",
       "   'responseElements': {'x-amz-request-id': 'YDX9AABCEDWFY8B4',\n",
       "    'x-amz-id-2': 'RB3Ay5rAc+WDHI0aey9U+JzxnPzv9o+jiWSHHwDlw00o69Uao/ek3cFrXxVgP6nltb5sm2EnG57yPnTbXiKeFhMtWilA1Qzl'},\n",
       "   's3': {'s3SchemaVersion': '1.0',\n",
       "    'configurationId': 'LandingFileProcessor',\n",
       "    'bucket': {'name': 'f14-datalake-landing-dev',\n",
       "     'ownerIdentity': {'principalId': 'AS2T68464ICAX'},\n",
       "     'arn': 'arn:aws:s3:::f14-datalake-landing-dev'},\n",
       "    'object': {'key': 'scrapers/seller_central_test/detail_page_sales_and_traffic_by_child_item_by_asin/p_creation_dt%3D2019-11-17/p_brand_id%3DBARVIVO/p_region_id%3DNA/p_country_id%3DUS/barvivo-na-us-detailsalestrafficbychilditem-2019-11-17.csv',\n",
       "     'size': 7258,\n",
       "     'eTag': 'a9f9ef808d1c0aa4f07d8e18b9606727',\n",
       "     'sequencer': '00619FDCE73B1C304F'}}}]}"
      ]
     },
     "execution_count": 12,
     "metadata": {},
     "output_type": "execute_result"
    }
   ],
   "source": [
    "json_test_event"
   ]
  }
 ],
 "metadata": {
  "interpreter": {
   "hash": "f9758907f0c25170018385fc1f095ac47265e9e3e39f011a0fd0d17c6140cc47"
  },
  "kernelspec": {
   "display_name": "Python 3.7.12 64-bit",
   "language": "python",
   "name": "python3"
  },
  "language_info": {
   "codemirror_mode": {
    "name": "ipython",
    "version": 3
   },
   "file_extension": ".py",
   "mimetype": "text/x-python",
   "name": "python",
   "nbconvert_exporter": "python",
   "pygments_lexer": "ipython3",
   "version": "3.7.12"
  },
  "orig_nbformat": 4
 },
 "nbformat": 4,
 "nbformat_minor": 2
}

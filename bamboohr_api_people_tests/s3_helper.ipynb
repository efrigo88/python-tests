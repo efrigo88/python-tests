{
 "cells": [
  {
   "cell_type": "code",
   "execution_count": null,
   "metadata": {},
   "outputs": [],
   "source": [
    "import os\n",
    "import json\n",
    "import boto3\n",
    "\n",
    "from typing import List\n",
    "from datetime import datetime\n",
    "from botocore.exceptions import BotoCoreError, ClientError"
   ]
  },
  {
   "cell_type": "code",
   "execution_count": null,
   "metadata": {},
   "outputs": [],
   "source": [
    "class S3Helper:\n",
    "    \"\"\"Utility class for handling S3 operations.\"\"\"\n",
    "\n",
    "    def __init__(\n",
    "        self,\n",
    "        aws_access_key_id: str,\n",
    "        aws_secret_access_key: str,\n",
    "        region_name: str = \"eu-east-1\",\n",
    "    ):\n",
    "        \"\"\"\n",
    "        Initializes the S3Helper with AWS credentials and region.\n",
    "\n",
    "        Args:\n",
    "            aws_access_key_id (str): Your AWS access key ID.\n",
    "            aws_secret_access_key (str): Your AWS secret access key.\n",
    "            region_name (str): The AWS region to connect to (default: \"us-east-1\").\n",
    "        \"\"\"\n",
    "        self.s3_client = boto3.client(\n",
    "            \"s3\",\n",
    "            aws_access_key_id=aws_access_key_id,\n",
    "            aws_secret_access_key=aws_secret_access_key,\n",
    "            region_name=region_name,\n",
    "        )\n",
    "\n",
    "    def upload_json(self, data: List[dict], s3_path: str, bucket: str):\n",
    "        \"\"\"\n",
    "        Upload JSON data to an S3 bucket.\n",
    "\n",
    "        Args:\n",
    "            data (List[dict]): The data to upload.\n",
    "            s3_path (str): The S3 key/path where the file will be saved.\n",
    "            bucket (str): The S3 bucket name.\n",
    "        \"\"\"\n",
    "        try:\n",
    "            json_data = json.dumps(data)\n",
    "            self.s3_client.put_object(Bucket=bucket, Key=s3_path, Body=json_data)\n",
    "            print(f\"Successfully uploaded data to s3://{bucket}/{s3_path}\")\n",
    "        except (BotoCoreError, ClientError) as e:\n",
    "            print(\"Failed to upload data to S3.\", e)\n",
    "            raise"
   ]
  },
  {
   "cell_type": "code",
   "execution_count": null,
   "metadata": {},
   "outputs": [],
   "source": [
    "# Fetch credentials\n",
    "aws_access_key_id = os.getenv(\"AWS_ACCESS_KEY_ID\")\n",
    "aws_secret_access_key = os.getenv(\"AWS_SECRET_ACCESS_KEY\")\n",
    "aws_region = os.getenv(\"AWS_REGION\")\n",
    "\n",
    "s3 = S3Helper(\n",
    "    aws_access_key_id=aws_access_key_id,\n",
    "    aws_secret_access_key=aws_secret_access_key,\n",
    "    region_name=aws_region,\n",
    ")\n",
    "\n",
    "_date = datetime.now().strftime(\"%Y-%m-%d\")\n",
    "target_bucket = \"landing-bucket-1cc1ed4e8908\"\n",
    "\n",
    "# Upload files\n",
    "s3.upload_json(posts, bucket=target_bucket, s3_path=f\"posts/{_date}.json\")\n",
    "s3.upload_json(albums, bucket=target_bucket, s3_path=f\"albums/{_date}.json\")\n",
    "s3.upload_json(users, bucket=target_bucket, s3_path=f\"users/{_date}.json\")"
   ]
  },
  {
   "cell_type": "code",
   "execution_count": null,
   "metadata": {},
   "outputs": [],
   "source": []
  }
 ],
 "metadata": {
  "kernelspec": {
   "display_name": ".venv",
   "language": "python",
   "name": "python3"
  },
  "language_info": {
   "name": "python",
   "version": "3.10.3"
  }
 },
 "nbformat": 4,
 "nbformat_minor": 2
}

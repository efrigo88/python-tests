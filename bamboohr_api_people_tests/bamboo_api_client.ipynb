{
 "cells": [
  {
   "cell_type": "markdown",
   "metadata": {},
   "source": [
    "### API Requests"
   ]
  },
  {
   "cell_type": "code",
   "execution_count": 1,
   "metadata": {},
   "outputs": [],
   "source": [
    "import os\n",
    "import json\n",
    "import requests\n",
    "\n",
    "from typing import List\n",
    "from dotenv import load_dotenv\n",
    "from urllib3.util.retry import Retry\n",
    "from requests.adapters import HTTPAdapter\n",
    "\n",
    "# Spark\n",
    "from pyspark.sql.types import StringType\n",
    "from delta import configure_spark_with_delta_pip\n",
    "from pyspark.sql import DataFrame, SparkSession, functions as F"
   ]
  },
  {
   "cell_type": "code",
   "execution_count": 2,
   "metadata": {},
   "outputs": [],
   "source": [
    "# Load environment variables\n",
    "load_dotenv()\n",
    "\n",
    "api_key = os.getenv(\"API_KEY\")\n",
    "encryption_key = os.getenv(\"ENCRYPTION_KEY\")"
   ]
  },
  {
   "cell_type": "markdown",
   "metadata": {},
   "source": [
    "### BambooHR API Client"
   ]
  },
  {
   "cell_type": "code",
   "execution_count": 3,
   "metadata": {},
   "outputs": [],
   "source": [
    "# Used https://jsonplaceholder.typicode.com/ as a sample API to build the logic"
   ]
  },
  {
   "cell_type": "code",
   "execution_count": 4,
   "metadata": {},
   "outputs": [],
   "source": [
    "class BambooHRClient:\n",
    "    \"\"\"A client for the BambooHR API.\n",
    "    \n",
    "    This client handles authentication, session management, and API requests\n",
    "    to the BambooHR API or a placeholder API for demonstration purposes.\n",
    "    \"\"\"\n",
    "\n",
    "    # BASE_URL = \"https://api.bamboohr.com/api/gateway.php/{company_domain}/v1\"\n",
    "    BASE_URL = \"https://jsonplaceholder.{company_domain}.com\"\n",
    "    ENDPOINTS = {\n",
    "        \"posts\": \"/posts\",\n",
    "        \"albums\": \"/albums\",\n",
    "        \"users\": \"/users\",\n",
    "    }\n",
    "\n",
    "    def __init__(self, api_key, company_domain):\n",
    "        \"\"\"\n",
    "        Initialize the BambooHRClient with an API key and company domain.\n",
    "\n",
    "        Args:\n",
    "            api_key (str): The API key for authenticating requests.\n",
    "            company_domain (str): The domain of the company for API requests.\n",
    "        \"\"\"\n",
    "        self.api_key = api_key\n",
    "        self.company_domain = company_domain\n",
    "        self.base_url = self.BASE_URL.format(company_domain=company_domain)\n",
    "        self.session = self._create_session()\n",
    "        self.headers = {\n",
    "            \"Content-Type\": \"application/json\",\n",
    "            \"accept\": \"application/json\",\n",
    "            \"Authorization\": f\"Basic {self.api_key}\",\n",
    "        }\n",
    "    \n",
    "    def _create_session(self) -> requests.Session:\n",
    "        \"\"\"Create a session with a retry strategy for handling transient errors.\"\"\"\n",
    "        retry_strategy = Retry(\n",
    "            total=5,\n",
    "            backoff_factor=2,\n",
    "            status_forcelist=[429, 503],\n",
    "            allowed_methods=[\"GET\"],\n",
    "        )\n",
    "\n",
    "        # Create an adapter with the retry strategy\n",
    "        adapter = HTTPAdapter(max_retries=retry_strategy)\n",
    "\n",
    "        # Create a session and mount the adapter\n",
    "        session = requests.Session()\n",
    "        session.mount(\"https://\", adapter)\n",
    "\n",
    "        return session\n",
    "\n",
    "    def get(self, endpoint_key: str, params: dict = None) -> dict:\n",
    "        \"\"\"\n",
    "        Fetch data from a specified endpoint using the endpoint key.\n",
    "\n",
    "        Args:\n",
    "            endpoint_key (str): The key for the desired endpoint (e.g., \"posts\").\n",
    "            params (dict, optional): Query parameters to include in the request.\n",
    "\n",
    "        Returns:\n",
    "            dict: The JSON response from the API.\n",
    "\n",
    "        Raises:\n",
    "            ValueError: If an invalid endpoint key is provided.\n",
    "            requests.exceptions.RequestException: If the request fails.\n",
    "\n",
    "        Example:\n",
    "            >>> client = BambooHRClient(api_key=\"my_api_key\", company_domain=\"typicode\")\n",
    "            >>> posts = client.get(\"posts\")\n",
    "            >>> print(posts)\n",
    "        \"\"\"\n",
    "        endpoint = self.ENDPOINTS.get(endpoint_key)\n",
    "        if not endpoint:\n",
    "            raise ValueError(f\"Invalid endpoint key: {endpoint_key}\")\n",
    "        url = f\"{self.base_url}{endpoint}\"\n",
    "        response = self.session.get(url, headers=self.headers, params=params)\n",
    "        response.raise_for_status()\n",
    "        return response.json()\n"
   ]
  },
  {
   "cell_type": "code",
   "execution_count": 5,
   "metadata": {},
   "outputs": [
    {
     "name": "stdout",
     "output_type": "stream",
     "text": [
      "[{'userId': 1, 'id': 1, 'title': 'sunt aut facere repellat provident occaecati excepturi optio reprehenderit', 'body': 'quia et suscipit\\nsuscipit recusandae consequuntur expedita et cum\\nreprehenderit molestiae ut ut quas totam\\nnostrum rerum est autem sunt rem eveniet architecto'}]\n",
      "[{'userId': 1, 'id': 1, 'title': 'quidem molestiae enim'}]\n",
      "[{'id': 1, 'name': 'Leanne Graham', 'username': 'Bret', 'email': 'Sincere@april.biz', 'address': {'street': 'Kulas Light', 'suite': 'Apt. 556', 'city': 'Gwenborough', 'zipcode': '92998-3874', 'geo': {'lat': '-37.3159', 'lng': '81.1496'}}, 'phone': '1-770-736-8031 x56442', 'website': 'hildegard.org', 'company': {'name': 'Romaguera-Crona', 'catchPhrase': 'Multi-layered client-server neural-net', 'bs': 'harness real-time e-markets'}}]\n"
     ]
    }
   ],
   "source": [
    "COMPANY_DOMAIN = \"typicode\"\n",
    "\n",
    "# Initialize the client\n",
    "client = BambooHRClient(\n",
    "    api_key=api_key, \n",
    "    company_domain=COMPANY_DOMAIN\n",
    ")\n",
    "\n",
    "posts = client.get(\"posts\")\n",
    "albums = client.get(\"albums\")\n",
    "users = client.get(\"users\")\n",
    "\n",
    "print(posts[:1])\n",
    "print(albums[:1])\n",
    "print(users[:1])"
   ]
  },
  {
   "cell_type": "code",
   "execution_count": 6,
   "metadata": {},
   "outputs": [],
   "source": [
    "# Create a data directory and save the json outputs to check responses.\n",
    "\n",
    "# os.makedirs(\"data\", exist_ok=True)\n",
    "\n",
    "# def save_json_data(data: dict, filename: str) -> None:\n",
    "#     with open(f\"data/{filename}\", \"w\") as f:\n",
    "#         json.dump(data, f, indent=4)\n",
    "#     print(f\"{filename} file saved successfully\")\n",
    "\n",
    "# for data, data_name in zip([posts, albums, users], [\"posts\", \"albums\", \"users\"]):\n",
    "#     save_json_data(data, f\"{data_name}.json\")"
   ]
  },
  {
   "cell_type": "markdown",
   "metadata": {},
   "source": [
    "### Transform and Save data in delta format"
   ]
  },
  {
   "cell_type": "code",
   "execution_count": 7,
   "metadata": {},
   "outputs": [],
   "source": [
    "class DeltaFileManager:\n",
    "    \"\"\"Handles the creation, transformation, and storage of data in Delta format.\"\"\"\n",
    "\n",
    "    def __init__(self, app_name: str = \"MyApp\", encryption_key: str = None):\n",
    "        \"\"\"\n",
    "        Initializes the Spark session with Delta Lake configurations and optionally sets the encryption key.\n",
    "\n",
    "        Args:\n",
    "            app_name (str): Name of the Spark application.\n",
    "            encryption_key (str): Encryption key for AES encryption (default: None).\n",
    "        \"\"\"\n",
    "        builder = (\n",
    "            SparkSession.builder.appName(app_name)\n",
    "            .config(\"spark.sql.extensions\", \"io.delta.sql.DeltaSparkSessionExtension\")\n",
    "            .config(\n",
    "                \"spark.sql.catalog.spark_catalog\",\n",
    "                \"org.apache.spark.sql.delta.catalog.DeltaCatalog\",\n",
    "            )\n",
    "        )\n",
    "        self.spark = configure_spark_with_delta_pip(builder).getOrCreate()\n",
    "        self.encryption_key = encryption_key\n",
    "\n",
    "    def convert_to_json_string(self, data: List[dict]) -> list:\n",
    "        \"\"\"\n",
    "        Converts a list of dictionaries into a list of JSON strings.\n",
    "\n",
    "        This method serializes each dictionary in the input list into a JSON-formatted\n",
    "        string. The `default=str` parameter ensures that non-serializable types\n",
    "        (e.g., datetime objects) are converted to strings during serialization.\n",
    "        \"\"\"\n",
    "        return [json.dumps(record, default=str) for record in data]\n",
    "\n",
    "    def create_schemaless_df(self, json_strings: list) -> DataFrame:\n",
    "        \"\"\"Converts a list of JSON strings into a schemaless DataFrame.\"\"\"\n",
    "        return self.spark.createDataFrame(json_strings, StringType())\n",
    "\n",
    "    def add_timestamp_column(self, df: DataFrame) -> DataFrame:\n",
    "        \"\"\"Adds a processed timestamp column to a DataFrame.\"\"\"\n",
    "        return df.withColumn(\"processed_at\", F.current_timestamp())\n",
    "\n",
    "    def encrypt_columns(\n",
    "        self,\n",
    "        df: DataFrame,\n",
    "        columns: list,\n",
    "        encryption_mode: str = \"ECB\",\n",
    "    ) -> DataFrame:\n",
    "        \"\"\"\n",
    "        Encrypts the specified columns in the DataFrame using AES encryption and Base64 encoding.\n",
    "\n",
    "        Args:\n",
    "            df (DataFrame): The input DataFrame.\n",
    "            columns (list): List of column names to encrypt.\n",
    "            encryption_mode (str): The encryption mode for AES (default: \"ECB\").\n",
    "\n",
    "        Returns:\n",
    "            DataFrame: The DataFrame with encrypted columns.\n",
    "        \"\"\"\n",
    "        if not self.encryption_key:\n",
    "            raise ValueError(\"Encryption key is not set. Please provide an encryption key.\")\n",
    "\n",
    "        for col_name in columns:\n",
    "            encrypted_col = F.expr(f\"aes_encrypt({col_name}, '{self.encryption_key}', '{encryption_mode}')\")\n",
    "            base64_encoded_col = F.base64(encrypted_col)\n",
    "            df = df.withColumn(col_name, base64_encoded_col)\n",
    "        return df\n",
    "\n",
    "    def save_to_delta(\n",
    "        self, df: DataFrame, path: str, repartition: int = 1, mode: str = \"append\"\n",
    "    ):\n",
    "        \"\"\"Saves a DataFrame to a Delta table.\"\"\"\n",
    "        df.repartition(repartition).write.format(\"delta\").mode(mode).save(path)"
   ]
  },
  {
   "cell_type": "code",
   "execution_count": 8,
   "metadata": {},
   "outputs": [
    {
     "name": "stderr",
     "output_type": "stream",
     "text": [
      "25/01/17 11:39:43 WARN Utils: Your hostname, emif-MacBook-Pro.local resolves to a loopback address: 127.0.0.1; using 192.168.1.136 instead (on interface en0)\n",
      "25/01/17 11:39:43 WARN Utils: Set SPARK_LOCAL_IP if you need to bind to another address\n"
     ]
    },
    {
     "name": "stdout",
     "output_type": "stream",
     "text": [
      ":: loading settings :: url = jar:file:/Users/emif/Documents/python-tests/.venv/lib/python3.10/site-packages/pyspark/jars/ivy-2.5.1.jar!/org/apache/ivy/core/settings/ivysettings.xml\n"
     ]
    },
    {
     "name": "stderr",
     "output_type": "stream",
     "text": [
      "Ivy Default Cache set to: /Users/emif/.ivy2/cache\n",
      "The jars for the packages stored in: /Users/emif/.ivy2/jars\n",
      "io.delta#delta-spark_2.12 added as a dependency\n",
      ":: resolving dependencies :: org.apache.spark#spark-submit-parent-a3b31a97-ae42-4ec0-b6e9-766d73f7bbe5;1.0\n",
      "\tconfs: [default]\n",
      "\tfound io.delta#delta-spark_2.12;3.3.0 in central\n",
      "\tfound io.delta#delta-storage;3.3.0 in central\n",
      "\tfound org.antlr#antlr4-runtime;4.9.3 in central\n",
      ":: resolution report :: resolve 307ms :: artifacts dl 16ms\n",
      "\t:: modules in use:\n",
      "\tio.delta#delta-spark_2.12;3.3.0 from central in [default]\n",
      "\tio.delta#delta-storage;3.3.0 from central in [default]\n",
      "\torg.antlr#antlr4-runtime;4.9.3 from central in [default]\n",
      "\t---------------------------------------------------------------------\n",
      "\t|                  |            modules            ||   artifacts   |\n",
      "\t|       conf       | number| search|dwnlded|evicted|| number|dwnlded|\n",
      "\t---------------------------------------------------------------------\n",
      "\t|      default     |   3   |   0   |   0   |   0   ||   3   |   0   |\n",
      "\t---------------------------------------------------------------------\n",
      ":: retrieving :: org.apache.spark#spark-submit-parent-a3b31a97-ae42-4ec0-b6e9-766d73f7bbe5\n",
      "\tconfs: [default]\n",
      "\t0 artifacts copied, 3 already retrieved (0kB/9ms)\n",
      "25/01/17 11:39:44 WARN NativeCodeLoader: Unable to load native-hadoop library for your platform... using builtin-java classes where applicable\n",
      "Setting default log level to \"WARN\".\n",
      "To adjust logging level use sc.setLogLevel(newLevel). For SparkR, use setLogLevel(newLevel).\n",
      "25/01/17 11:40:09 WARN SparkStringUtils: Truncated the string representation of a plan since it was too large. This behavior can be adjusted by setting 'spark.sql.debug.maxToStringFields'.\n",
      "                                                                                \r"
     ]
    }
   ],
   "source": [
    "# Initialize the manager\n",
    "manager = DeltaFileManager(encryption_key=encryption_key)\n",
    "\n",
    "# Prepare input files into json_strings\n",
    "posts_string = manager.convert_to_json_string(posts)\n",
    "albums_string = manager.convert_to_json_string(albums)\n",
    "users_string = manager.convert_to_json_string(users)\n",
    "\n",
    "# Create schemaless DataFrames\n",
    "posts_df = manager.create_schemaless_df(posts_string)\n",
    "albums_df = manager.create_schemaless_df(albums_string)\n",
    "users_df = manager.create_schemaless_df(users_string)\n",
    "\n",
    "# Add a timestamp column\n",
    "posts_df = manager.add_timestamp_column(posts_df)\n",
    "albums_df = manager.add_timestamp_column(albums_df)\n",
    "users_df = manager.add_timestamp_column(users_df)\n",
    "\n",
    "# Encrypt data\n",
    "posts_df = manager.encrypt_columns(posts_df, columns=[\"value\"])\n",
    "albums_df = manager.encrypt_columns(albums_df, columns=[\"value\"])\n",
    "users_df = manager.encrypt_columns(users_df, columns=[\"value\"])\n",
    "\n",
    "# Save to Delta tables\n",
    "manager.save_to_delta(posts_df, \"data/delta_tables/posts\", mode=\"overwrite\")\n",
    "manager.save_to_delta(albums_df, \"data/delta_tables/albums\", mode=\"overwrite\")\n",
    "manager.save_to_delta(users_df, \"data/delta_tables/users\", mode=\"overwrite\")"
   ]
  },
  {
   "cell_type": "code",
   "execution_count": 9,
   "metadata": {},
   "outputs": [
    {
     "name": "stdout",
     "output_type": "stream",
     "text": [
      "root\n",
      " |-- value: string (nullable = true)\n",
      " |-- processed_at: timestamp (nullable = false)\n",
      "\n",
      "root\n",
      " |-- value: string (nullable = true)\n",
      " |-- processed_at: timestamp (nullable = false)\n",
      "\n",
      "root\n",
      " |-- value: string (nullable = true)\n",
      " |-- processed_at: timestamp (nullable = false)\n",
      "\n"
     ]
    }
   ],
   "source": [
    "# Schemas\n",
    "posts_df.printSchema()\n",
    "albums_df.printSchema()\n",
    "users_df.printSchema()"
   ]
  },
  {
   "cell_type": "code",
   "execution_count": 10,
   "metadata": {},
   "outputs": [
    {
     "name": "stdout",
     "output_type": "stream",
     "text": [
      "+--------------------------------------------------------------------------------------------------------------------------------------------------------------------------------------------------------------------------------------------------------------------------------------------------------------------------------------------------------------------------------------------------------------------+-----------------------+\n",
      "|value                                                                                                                                                                                                                                                                                                                                                                                                               |processed_at           |\n",
      "+--------------------------------------------------------------------------------------------------------------------------------------------------------------------------------------------------------------------------------------------------------------------------------------------------------------------------------------------------------------------------------------------------------------------+-----------------------+\n",
      "|Z70cyjalbc9WP3vEHa0ch7V2FMJYXJF3ddNN9y2Fgiv91Zg7GPSPXBtKihf0m7HKaRJULl33G5c7\\r\\nWCk4MNx0u5nVKnnpsgtl0mlJje1RLoH6kf9X1JfW0ngKrUWGZtrtr3aP7Gx2ZiU0eJLdmBcHKqdb\\r\\n5oHP8YNziA3PFAm8Dhc8KqOmSXnhbKOJOyr8iLFp44qFyGlkS26PDSGUe7BRTJ95bRDmd/kWvAzr\\r\\nZXOuHbfBxZY1UaW56eM+999Y9BBAhpfKzfhEWQ9MIXx3ojKPEueHZf/6sGCLsqGtYa01SKAMyo23\\r\\nZ0cOHHy9C9la9rZmZeVS6wFmKzsIy5soB1FcnxapSr4S6SYNev5eVbrbGhccdqqoXxPau3TN6xBc\\r\\nCEHk|2025-01-17 11:40:23.465|\n",
      "+--------------------------------------------------------------------------------------------------------------------------------------------------------------------------------------------------------------------------------------------------------------------------------------------------------------------------------------------------------------------------------------------------------------------+-----------------------+\n",
      "only showing top 1 row\n",
      "\n",
      "+--------------------------------------------------------------------------------------------+-----------------------+\n",
      "|value                                                                                       |processed_at           |\n",
      "+--------------------------------------------------------------------------------------------+-----------------------+\n",
      "|Z70cyjalbc9WP3vEHa0ch7V2FMJYXJF3ddNN9y2FgiveRxR0pkM0g3r44gW+Wx3uRnIQ4FQEmQiN\\r\\nnR9dGOIVEg==|2025-01-17 11:40:23.823|\n",
      "+--------------------------------------------------------------------------------------------+-----------------------+\n",
      "only showing top 1 row\n",
      "\n",
      "+----------------------------------------------------------------------------------------------------------------------------------------------------------------------------------------------------------------------------------------------------------------------------------------------------------------------------------------------------------------------------------------------------------------------------------------------------------------------------------------------------------------------------------------------------------------------------------------------------------------------------------------------------+----------------------+\n",
      "|value                                                                                                                                                                                                                                                                                                                                                                                                                                                                                                                                                                                                                                               |processed_at          |\n",
      "+----------------------------------------------------------------------------------------------------------------------------------------------------------------------------------------------------------------------------------------------------------------------------------------------------------------------------------------------------------------------------------------------------------------------------------------------------------------------------------------------------------------------------------------------------------------------------------------------------------------------------------------------------+----------------------+\n",
      "|NH+lpwHoY0o98VGOYGKihgbY6Ak33Tdg4LmLwlsm+7s5vzCZxijoJIQ9wGltcrZiY663ICQeUxjy\\r\\niPymXe3J6DeBVvOkfSYAE89PpVuO+f/A09D53TOJzoaguA51dtXeKcj5IPgAZyL386SDkQrKuCM8\\r\\nITPai9CgWwCBfPGKLgbCfbOUWkrWCZa1+nQXt/+0BfcCtLBlyd8w9gokku72PBJfRwKnxBeIK22V\\r\\nY/Nuyy97VPfMbSdYPH9hx6OohcQzR0kRWNtrGd8J8MBKMS9ECbylWH/kGeVzlgTt9uxMmj4sc9Xy\\r\\njCoo3/utT1jv+hMZMsWhJR8FS+fNrNwOFwpE2VBmXvOVGOiyOOdJl/VLrC3RTaiYiltnJ7sivvuf\\r\\nJSRB20rkCTz/BFZQ9eRgFR6BS+K54XAUiR2ZsTmgI/r4pecrNIVdyE8O3944ShtSZZyZjCnazBqw\\r\\nuBgaiTO0DWjxfjQ0C+JweWJNsyZC+K7Kv0s5pn7lNMA2ldOY/EZYgkcHgZH9nDBbMPjH7v7PboCA\\r\\n/7/BOIbiyytag7UO0E6FKRv3LJKuev5V/UL+hD0mFiVVePnAAnV2GjVx4dm9nWmm8g==|2025-01-17 11:40:24.06|\n",
      "+----------------------------------------------------------------------------------------------------------------------------------------------------------------------------------------------------------------------------------------------------------------------------------------------------------------------------------------------------------------------------------------------------------------------------------------------------------------------------------------------------------------------------------------------------------------------------------------------------------------------------------------------------+----------------------+\n",
      "only showing top 1 row\n",
      "\n"
     ]
    }
   ],
   "source": [
    "# Display results\n",
    "posts_df.show(1, truncate=False)\n",
    "albums_df.show(1, truncate=False)\n",
    "users_df.show(1, truncate=False)"
   ]
  },
  {
   "cell_type": "markdown",
   "metadata": {},
   "source": [
    "### Decrypt value"
   ]
  },
  {
   "cell_type": "code",
   "execution_count": 11,
   "metadata": {},
   "outputs": [],
   "source": [
    "def decrypt_columns(\n",
    "        df: DataFrame, \n",
    "        columns: list, \n",
    "        encryption_key: str = encryption_key, \n",
    "        encryption_mode: str = \"ECB\") -> DataFrame:\n",
    "    \"\"\"\n",
    "    Decrypts the specified columns in the DataFrame using AES decryption and Base64 decoding.\n",
    "\n",
    "    Args:\n",
    "        df (DataFrame): The input DataFrame.\n",
    "        columns (list): List of column names to decrypt.\n",
    "        encryption_key (str): The decryption key for AES decryption.\n",
    "        encryption_mode (str): The decryption mode for AES (default: \"ECB\").\n",
    "\n",
    "    Returns:\n",
    "        DataFrame: The DataFrame with decrypted columns.\n",
    "    \"\"\"\n",
    "    for col_name in columns:\n",
    "        decrypted_col = F.expr(\n",
    "            f\"aes_decrypt(unbase64({col_name}), '{encryption_key}', '{encryption_mode}')\"\n",
    "        ).cast(\"string\")\n",
    "        df = df.withColumn(col_name, decrypted_col)\n",
    "\n",
    "    return df"
   ]
  },
  {
   "cell_type": "code",
   "execution_count": 12,
   "metadata": {},
   "outputs": [
    {
     "name": "stdout",
     "output_type": "stream",
     "text": [
      "+------------------------------------------------------------------------------------------------------------------------------------------------------------------------------------------------------------------------------------------------------------------------------------------+-----------------------+\n",
      "|value                                                                                                                                                                                                                                                                                     |processed_at           |\n",
      "+------------------------------------------------------------------------------------------------------------------------------------------------------------------------------------------------------------------------------------------------------------------------------------------+-----------------------+\n",
      "|{\"userId\": 1, \"id\": 1, \"title\": \"sunt aut facere repellat provident occaecati excepturi optio reprehenderit\", \"body\": \"quia et suscipit\\nsuscipit recusandae consequuntur expedita et cum\\nreprehenderit molestiae ut ut quas totam\\nnostrum rerum est autem sunt rem eveniet architecto\"}|2025-01-17 11:40:24.491|\n",
      "+------------------------------------------------------------------------------------------------------------------------------------------------------------------------------------------------------------------------------------------------------------------------------------------+-----------------------+\n",
      "only showing top 1 row\n",
      "\n",
      "+--------------------------------------------------------+-----------------------+\n",
      "|value                                                   |processed_at           |\n",
      "+--------------------------------------------------------+-----------------------+\n",
      "|{\"userId\": 1, \"id\": 1, \"title\": \"quidem molestiae enim\"}|2025-01-17 11:40:24.675|\n",
      "+--------------------------------------------------------+-----------------------+\n",
      "only showing top 1 row\n",
      "\n",
      "+-------------------------------------------------------------------------------------------------------------------------------------------------------------------------------------------------------------------------------------------------------------------------------------------------------------------------------------------------------------------------------------------------------------------------------------------------+-----------------------+\n",
      "|value                                                                                                                                                                                                                                                                                                                                                                                                                                            |processed_at           |\n",
      "+-------------------------------------------------------------------------------------------------------------------------------------------------------------------------------------------------------------------------------------------------------------------------------------------------------------------------------------------------------------------------------------------------------------------------------------------------+-----------------------+\n",
      "|{\"id\": 1, \"name\": \"Leanne Graham\", \"username\": \"Bret\", \"email\": \"Sincere@april.biz\", \"address\": {\"street\": \"Kulas Light\", \"suite\": \"Apt. 556\", \"city\": \"Gwenborough\", \"zipcode\": \"92998-3874\", \"geo\": {\"lat\": \"-37.3159\", \"lng\": \"81.1496\"}}, \"phone\": \"1-770-736-8031 x56442\", \"website\": \"hildegard.org\", \"company\": {\"name\": \"Romaguera-Crona\", \"catchPhrase\": \"Multi-layered client-server neural-net\", \"bs\": \"harness real-time e-markets\"}}|2025-01-17 11:40:24.945|\n",
      "+-------------------------------------------------------------------------------------------------------------------------------------------------------------------------------------------------------------------------------------------------------------------------------------------------------------------------------------------------------------------------------------------------------------------------------------------------+-----------------------+\n",
      "only showing top 1 row\n",
      "\n"
     ]
    }
   ],
   "source": [
    "# Encrypt data\n",
    "posts_df = decrypt_columns(posts_df, columns=[\"value\"])\n",
    "albums_df = decrypt_columns(albums_df, columns=[\"value\"])\n",
    "users_df = decrypt_columns(users_df, columns=[\"value\"])\n",
    "\n",
    "# Display results\n",
    "posts_df.show(1, truncate=False)\n",
    "albums_df.show(1, truncate=False)\n",
    "users_df.show(1, truncate=False)"
   ]
  }
 ],
 "metadata": {
  "kernelspec": {
   "display_name": ".venv",
   "language": "python",
   "name": "python3"
  },
  "language_info": {
   "codemirror_mode": {
    "name": "ipython",
    "version": 3
   },
   "file_extension": ".py",
   "mimetype": "text/x-python",
   "name": "python",
   "nbconvert_exporter": "python",
   "pygments_lexer": "ipython3",
   "version": "3.10.3"
  }
 },
 "nbformat": 4,
 "nbformat_minor": 2
}

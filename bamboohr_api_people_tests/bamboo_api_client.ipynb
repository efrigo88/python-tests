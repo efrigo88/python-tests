{
 "cells": [
  {
   "cell_type": "markdown",
   "metadata": {},
   "source": [
    "### API Requests"
   ]
  },
  {
   "cell_type": "code",
   "execution_count": 16,
   "metadata": {},
   "outputs": [],
   "source": [
    "import os\n",
    "import json\n",
    "import requests\n",
    "from typing import List\n",
    "from urllib3.util.retry import Retry\n",
    "from requests.adapters import HTTPAdapter\n",
    "\n",
    "import pyspark\n",
    "from pyspark.sql import DataFrame\n",
    "from pyspark.sql import functions as F\n",
    "from pyspark.sql.types import StringType\n",
    "from delta import configure_spark_with_delta_pip"
   ]
  },
  {
   "cell_type": "code",
   "execution_count": 2,
   "metadata": {},
   "outputs": [],
   "source": [
    "class Endpoints:\n",
    "    \"\"\" Class to define the endpoints for the BambooHR API \"\"\"\n",
    "    # BASE_URL = \"https://api.bamboohr.com/api/gateway.php/{company_domain}/v1\"\n",
    "    BASE_URL = \"https://jsonplaceholder.{company_domain}.com\"\n",
    "    \n",
    "    @staticmethod\n",
    "    def posts():\n",
    "        return \"/posts\"\n",
    "\n",
    "    @staticmethod\n",
    "    def albums():\n",
    "        return \"/albums\"\n",
    "\n",
    "    @staticmethod\n",
    "    def users():\n",
    "        return \"/users\""
   ]
  },
  {
   "cell_type": "code",
   "execution_count": 3,
   "metadata": {},
   "outputs": [],
   "source": [
    "class BambooHRClient:\n",
    "    \"\"\" A client for the BambooHR API \"\"\"\n",
    "    def __init__(self, api_key, company_domain):\n",
    "        \"\"\" Initialize the BambooHRClient with an API key and company domain \n",
    "\n",
    "        Args:\n",
    "            api_key (str): The API key for the BambooHR API\n",
    "            company_domain (str): The domain for the company\n",
    "        \"\"\"\n",
    "        self.api_key = api_key\n",
    "        self.company_domain = company_domain\n",
    "        self.base_url = Endpoints.BASE_URL.format(company_domain=company_domain)\n",
    "        self.session = self._create_session()\n",
    "        self.headers = {\n",
    "            \"Authorization\": f\"Basic {self.api_key}\",\n",
    "            \"Accept\": \"application/json\",\n",
    "        }\n",
    "    \n",
    "    @staticmethod\n",
    "    def _create_session() -> requests.Session:\n",
    "        \"\"\" Create a session with a retry strategy \"\"\"\n",
    "        retry_strategy = Retry(\n",
    "            total=5,\n",
    "            backoff_factor=2,\n",
    "            status_forcelist=[429, 503],\n",
    "            allowed_methods=[\"GET\"],\n",
    "        )\n",
    "\n",
    "        # Create an adapter with the retry strategy\n",
    "        adapter = HTTPAdapter(max_retries=retry_strategy)\n",
    "\n",
    "        # Create a session and mount the adapter\n",
    "        session = requests.Session()\n",
    "        session.mount(\"https://\", adapter)\n",
    "\n",
    "        return session\n",
    "\n",
    "    def get(self, endpoint=str, params=None) -> dict:\n",
    "        \"\"\" Make a GET request to the BambooHR API\n",
    "\n",
    "        Args:\n",
    "            endpoint (str): The endpoint to make the request to\n",
    "            params (dict): The query parameters for the request\n",
    "        \"\"\"\n",
    "        url = f\"{self.base_url}{endpoint}\"\n",
    "        response = self.session.get(url, headers=self.headers, params=params)\n",
    "        response.raise_for_status()\n",
    "        return response.json()\n",
    "\n",
    "    def get_posts(self) -> dict:\n",
    "        return self.get(Endpoints.posts())\n",
    "\n",
    "    def get_albums(self) -> dict:\n",
    "        return self.get(Endpoints.albums())\n",
    "\n",
    "    def get_users(self) -> dict:\n",
    "        return self.get(Endpoints.users())"
   ]
  },
  {
   "cell_type": "code",
   "execution_count": 31,
   "metadata": {},
   "outputs": [
    {
     "name": "stdout",
     "output_type": "stream",
     "text": [
      "[{'userId': 1, 'id': 1, 'title': 'sunt aut facere repellat provident occaecati excepturi optio reprehenderit', 'body': 'quia et suscipit\\nsuscipit recusandae consequuntur expedita et cum\\nreprehenderit molestiae ut ut quas totam\\nnostrum rerum est autem sunt rem eveniet architecto'}]\n",
      "\n",
      "\n",
      "[{'userId': 1, 'id': 1, 'title': 'quidem molestiae enim'}]\n",
      "\n",
      "\n",
      "[{'id': 1, 'name': 'Leanne Graham', 'username': 'Bret', 'email': 'Sincere@april.biz', 'address': {'street': 'Kulas Light', 'suite': 'Apt. 556', 'city': 'Gwenborough', 'zipcode': '92998-3874', 'geo': {'lat': '-37.3159', 'lng': '81.1496'}}, 'phone': '1-770-736-8031 x56442', 'website': 'hildegard.org', 'company': {'name': 'Romaguera-Crona', 'catchPhrase': 'Multi-layered client-server neural-net', 'bs': 'harness real-time e-markets'}}]\n"
     ]
    }
   ],
   "source": [
    "API_KEY = \"<your_api_key>\"\n",
    "COMPANY_DOMAIN = \"typicode\"\n",
    "\n",
    "# Initialize the client\n",
    "client = BambooHRClient(\n",
    "    api_key=API_KEY, \n",
    "    company_domain=COMPANY_DOMAIN\n",
    ")\n",
    "\n",
    "posts = client.get_posts()\n",
    "albums = client.get_albums()\n",
    "users = client.get_users()\n",
    "\n",
    "print(posts[:1])\n",
    "print(\"\\n\")\n",
    "print(albums[:1])\n",
    "print(\"\\n\")\n",
    "print(users[:1])"
   ]
  },
  {
   "cell_type": "code",
   "execution_count": null,
   "metadata": {},
   "outputs": [],
   "source": [
    "# Create a data directory and save the json outputs\n",
    "# os.makedirs(\"data\", exist_ok=True)\n",
    "\n",
    "# def save_json_data(data: dict, filename: str) -> None:\n",
    "#     with open(f\"data/{filename}\", \"w\") as f:\n",
    "#         json.dump(data, f, indent=4)\n",
    "#     print(f\"{filename} file saved successfully\")\n",
    "\n",
    "# for data, data_name in zip([posts, albums, users], [\"posts\", \"albums\", \"users\"]):\n",
    "#     save_json_data(data, f\"{data_name}.json\")"
   ]
  },
  {
   "cell_type": "code",
   "execution_count": 6,
   "metadata": {},
   "outputs": [],
   "source": [
    "def convert_to_json_string(data: List[dict]) -> list:\n",
    "    \"\"\" Convert a list of dictionaries to a list of JSON strings \"\"\"\n",
    "    return [json.dumps(record, default=str) for record in data]\n",
    "\n",
    "posts_string = convert_to_json_string(posts)\n",
    "albums_string = convert_to_json_string(albums)\n",
    "users_string = convert_to_json_string(users)"
   ]
  },
  {
   "cell_type": "markdown",
   "metadata": {},
   "source": [
    "### Store delta files schemaless"
   ]
  },
  {
   "cell_type": "code",
   "execution_count": 7,
   "metadata": {},
   "outputs": [
    {
     "name": "stderr",
     "output_type": "stream",
     "text": [
      "25/01/10 15:28:11 WARN Utils: Your hostname, emif-MacBook-Pro.local resolves to a loopback address: 127.0.0.1; using 192.168.1.136 instead (on interface en0)\n",
      "25/01/10 15:28:11 WARN Utils: Set SPARK_LOCAL_IP if you need to bind to another address\n"
     ]
    },
    {
     "name": "stdout",
     "output_type": "stream",
     "text": [
      ":: loading settings :: url = jar:file:/Users/emif/Documents/python-tests/.venv/lib/python3.10/site-packages/pyspark/jars/ivy-2.5.1.jar!/org/apache/ivy/core/settings/ivysettings.xml\n"
     ]
    },
    {
     "name": "stderr",
     "output_type": "stream",
     "text": [
      "Ivy Default Cache set to: /Users/emif/.ivy2/cache\n",
      "The jars for the packages stored in: /Users/emif/.ivy2/jars\n",
      "io.delta#delta-spark_2.12 added as a dependency\n",
      ":: resolving dependencies :: org.apache.spark#spark-submit-parent-72a1dbf5-dd29-45f3-bb27-2087a88d7084;1.0\n",
      "\tconfs: [default]\n",
      "\tfound io.delta#delta-spark_2.12;3.3.0 in central\n",
      "\tfound io.delta#delta-storage;3.3.0 in central\n",
      "\tfound org.antlr#antlr4-runtime;4.9.3 in central\n",
      ":: resolution report :: resolve 321ms :: artifacts dl 17ms\n",
      "\t:: modules in use:\n",
      "\tio.delta#delta-spark_2.12;3.3.0 from central in [default]\n",
      "\tio.delta#delta-storage;3.3.0 from central in [default]\n",
      "\torg.antlr#antlr4-runtime;4.9.3 from central in [default]\n",
      "\t---------------------------------------------------------------------\n",
      "\t|                  |            modules            ||   artifacts   |\n",
      "\t|       conf       | number| search|dwnlded|evicted|| number|dwnlded|\n",
      "\t---------------------------------------------------------------------\n",
      "\t|      default     |   3   |   0   |   0   |   0   ||   3   |   0   |\n",
      "\t---------------------------------------------------------------------\n",
      ":: retrieving :: org.apache.spark#spark-submit-parent-72a1dbf5-dd29-45f3-bb27-2087a88d7084\n",
      "\tconfs: [default]\n",
      "\t0 artifacts copied, 3 already retrieved (0kB/10ms)\n",
      "25/01/10 15:28:12 WARN NativeCodeLoader: Unable to load native-hadoop library for your platform... using builtin-java classes where applicable\n",
      "Setting default log level to \"WARN\".\n",
      "To adjust logging level use sc.setLogLevel(newLevel). For SparkR, use setLogLevel(newLevel).\n"
     ]
    }
   ],
   "source": [
    "builder = (\n",
    "    pyspark.sql.SparkSession.builder.appName(\"MyApp\")\n",
    "    .config(\"spark.sql.extensions\", \"io.delta.sql.DeltaSparkSessionExtension\")\n",
    "    .config(\n",
    "        \"spark.sql.catalog.spark_catalog\",\n",
    "        \"org.apache.spark.sql.delta.catalog.DeltaCatalog\",\n",
    "    )\n",
    ")\n",
    "\n",
    "spark = configure_spark_with_delta_pip(builder).getOrCreate()\n"
   ]
  },
  {
   "cell_type": "code",
   "execution_count": 22,
   "metadata": {},
   "outputs": [],
   "source": [
    "# Creating schemaless DataFrames\n",
    "posts_df = spark.createDataFrame(posts_string, StringType())\n",
    "albums_df = spark.createDataFrame(albums_string, StringType())\n",
    "users_df = spark.createDataFrame(users_string, StringType())"
   ]
  },
  {
   "cell_type": "code",
   "execution_count": 26,
   "metadata": {},
   "outputs": [],
   "source": [
    "# TODO: Add airflow logical date column and any other necessary columns"
   ]
  },
  {
   "cell_type": "code",
   "execution_count": 24,
   "metadata": {},
   "outputs": [],
   "source": [
    "def generate_timestamp(df: DataFrame) -> DataFrame:\n",
    "    return df.withColumn(\"processed_at\", F.current_timestamp())"
   ]
  },
  {
   "cell_type": "code",
   "execution_count": 25,
   "metadata": {},
   "outputs": [],
   "source": [
    "posts_df = generate_timestamp(posts_df)\n",
    "albums_df = generate_timestamp(albums_df)\n",
    "users_df = generate_timestamp(users_df)\n"
   ]
  },
  {
   "cell_type": "code",
   "execution_count": 32,
   "metadata": {},
   "outputs": [
    {
     "name": "stdout",
     "output_type": "stream",
     "text": [
      "root\n",
      " |-- value: string (nullable = true)\n",
      " |-- processed_at: timestamp (nullable = true)\n",
      "\n",
      "root\n",
      " |-- value: string (nullable = true)\n",
      " |-- processed_at: timestamp (nullable = true)\n",
      "\n",
      "root\n",
      " |-- value: string (nullable = true)\n",
      " |-- processed_at: timestamp (nullable = true)\n",
      "\n"
     ]
    }
   ],
   "source": [
    "posts_df.printSchema()\n",
    "albums_df.printSchema()\n",
    "users_df.printSchema()"
   ]
  },
  {
   "cell_type": "code",
   "execution_count": 27,
   "metadata": {},
   "outputs": [
    {
     "name": "stdout",
     "output_type": "stream",
     "text": [
      "+------------------------------------------------------------------------------------------------------------------------------------------------------------------------------------------------------------------------------------------------------------------------------------------+-----------------------+\n",
      "|value                                                                                                                                                                                                                                                                                     |processed_at           |\n",
      "+------------------------------------------------------------------------------------------------------------------------------------------------------------------------------------------------------------------------------------------------------------------------------------------+-----------------------+\n",
      "|{\"userId\": 1, \"id\": 1, \"title\": \"sunt aut facere repellat provident occaecati excepturi optio reprehenderit\", \"body\": \"quia et suscipit\\nsuscipit recusandae consequuntur expedita et cum\\nreprehenderit molestiae ut ut quas totam\\nnostrum rerum est autem sunt rem eveniet architecto\"}|2025-01-10 15:47:27.002|\n",
      "|{\"userId\": 1, \"id\": 2, \"title\": \"qui est esse\", \"body\": \"est rerum tempore vitae\\nsequi sint nihil reprehenderit dolor beatae ea dolores neque\\nfugiat blanditiis voluptate porro vel nihil molestiae ut reiciendis\\nqui aperiam non debitis possimus qui neque nisi nulla\"}              |2025-01-10 15:47:27.002|\n",
      "|{\"userId\": 1, \"id\": 3, \"title\": \"ea molestias quasi exercitationem repellat qui ipsa sit aut\", \"body\": \"et iusto sed quo iure\\nvoluptatem occaecati omnis eligendi aut ad\\nvoluptatem doloribus vel accusantium quis pariatur\\nmolestiae porro eius odio et labore et velit aut\"}         |2025-01-10 15:47:27.002|\n",
      "+------------------------------------------------------------------------------------------------------------------------------------------------------------------------------------------------------------------------------------------------------------------------------------------+-----------------------+\n",
      "only showing top 3 rows\n",
      "\n",
      "+-------------------------------------------------------------------+-----------------------+\n",
      "|value                                                              |processed_at           |\n",
      "+-------------------------------------------------------------------+-----------------------+\n",
      "|{\"userId\": 1, \"id\": 1, \"title\": \"quidem molestiae enim\"}           |2025-01-10 15:47:27.372|\n",
      "|{\"userId\": 1, \"id\": 2, \"title\": \"sunt qui excepturi placeat culpa\"}|2025-01-10 15:47:27.372|\n",
      "|{\"userId\": 1, \"id\": 3, \"title\": \"omnis laborum odio\"}              |2025-01-10 15:47:27.372|\n",
      "+-------------------------------------------------------------------+-----------------------+\n",
      "only showing top 3 rows\n",
      "\n",
      "+------------------------------------------------------------------------------------------------------------------------------------------------------------------------------------------------------------------------------------------------------------------------------------------------------------------------------------------------------------------------------------------------------------------------------------------------------------+-----------------------+\n",
      "|value                                                                                                                                                                                                                                                                                                                                                                                                                                                       |processed_at           |\n",
      "+------------------------------------------------------------------------------------------------------------------------------------------------------------------------------------------------------------------------------------------------------------------------------------------------------------------------------------------------------------------------------------------------------------------------------------------------------------+-----------------------+\n",
      "|{\"id\": 1, \"name\": \"Leanne Graham\", \"username\": \"Bret\", \"email\": \"Sincere@april.biz\", \"address\": {\"street\": \"Kulas Light\", \"suite\": \"Apt. 556\", \"city\": \"Gwenborough\", \"zipcode\": \"92998-3874\", \"geo\": {\"lat\": \"-37.3159\", \"lng\": \"81.1496\"}}, \"phone\": \"1-770-736-8031 x56442\", \"website\": \"hildegard.org\", \"company\": {\"name\": \"Romaguera-Crona\", \"catchPhrase\": \"Multi-layered client-server neural-net\", \"bs\": \"harness real-time e-markets\"}}           |2025-01-10 15:47:27.604|\n",
      "|{\"id\": 2, \"name\": \"Ervin Howell\", \"username\": \"Antonette\", \"email\": \"Shanna@melissa.tv\", \"address\": {\"street\": \"Victor Plains\", \"suite\": \"Suite 879\", \"city\": \"Wisokyburgh\", \"zipcode\": \"90566-7771\", \"geo\": {\"lat\": \"-43.9509\", \"lng\": \"-34.4618\"}}, \"phone\": \"010-692-6593 x09125\", \"website\": \"anastasia.net\", \"company\": {\"name\": \"Deckow-Crist\", \"catchPhrase\": \"Proactive didactic contingency\", \"bs\": \"synergize scalable supply-chains\"}}           |2025-01-10 15:47:27.604|\n",
      "|{\"id\": 3, \"name\": \"Clementine Bauch\", \"username\": \"Samantha\", \"email\": \"Nathan@yesenia.net\", \"address\": {\"street\": \"Douglas Extension\", \"suite\": \"Suite 847\", \"city\": \"McKenziehaven\", \"zipcode\": \"59590-4157\", \"geo\": {\"lat\": \"-68.6102\", \"lng\": \"-47.0653\"}}, \"phone\": \"1-463-123-4447\", \"website\": \"ramiro.info\", \"company\": {\"name\": \"Romaguera-Jacobson\", \"catchPhrase\": \"Face to face bifurcated interface\", \"bs\": \"e-enable strategic applications\"}}|2025-01-10 15:47:27.604|\n",
      "+------------------------------------------------------------------------------------------------------------------------------------------------------------------------------------------------------------------------------------------------------------------------------------------------------------------------------------------------------------------------------------------------------------------------------------------------------------+-----------------------+\n",
      "only showing top 3 rows\n",
      "\n"
     ]
    }
   ],
   "source": [
    "posts_df.show(3, truncate=False)\n",
    "albums_df.show(3, truncate=False)\n",
    "users_df.show(3, truncate=False)"
   ]
  },
  {
   "cell_type": "code",
   "execution_count": 28,
   "metadata": {},
   "outputs": [
    {
     "name": "stderr",
     "output_type": "stream",
     "text": [
      "                                                                                \r"
     ]
    }
   ],
   "source": [
    "# Storing DataFrame as Delta format\n",
    "posts_df.repartition(1).write.format(\"delta\").mode(\"overwrite\").save(\"data/delta_tables/posts\")\n",
    "albums_df.repartition(1).write.format(\"delta\").mode(\"overwrite\").save(\"data/delta_tables/albums\")\n",
    "users_df.repartition(1).write.format(\"delta\").mode(\"overwrite\").save(\"data/delta_tables/users\")"
   ]
  },
  {
   "cell_type": "code",
   "execution_count": 29,
   "metadata": {},
   "outputs": [],
   "source": [
    "posts_df = spark.read.format(\"delta\").load(\"data/delta_tables/posts\")\n",
    "albums_df = spark.read.format(\"delta\").load(\"data/delta_tables/albums\")\n",
    "users_df = spark.read.format(\"delta\").load(\"data/delta_tables/users\")"
   ]
  },
  {
   "cell_type": "code",
   "execution_count": 30,
   "metadata": {},
   "outputs": [
    {
     "name": "stdout",
     "output_type": "stream",
     "text": [
      "+------------------------------------------------------------------------------------------------------------------------------------------------------------------------------------------------------------------------------------------------------------------------------------------+-----------------------+\n",
      "|value                                                                                                                                                                                                                                                                                     |processed_at           |\n",
      "+------------------------------------------------------------------------------------------------------------------------------------------------------------------------------------------------------------------------------------------------------------------------------------------+-----------------------+\n",
      "|{\"userId\": 1, \"id\": 1, \"title\": \"sunt aut facere repellat provident occaecati excepturi optio reprehenderit\", \"body\": \"quia et suscipit\\nsuscipit recusandae consequuntur expedita et cum\\nreprehenderit molestiae ut ut quas totam\\nnostrum rerum est autem sunt rem eveniet architecto\"}|2025-01-10 15:47:28.382|\n",
      "|{\"userId\": 1, \"id\": 2, \"title\": \"qui est esse\", \"body\": \"est rerum tempore vitae\\nsequi sint nihil reprehenderit dolor beatae ea dolores neque\\nfugiat blanditiis voluptate porro vel nihil molestiae ut reiciendis\\nqui aperiam non debitis possimus qui neque nisi nulla\"}              |2025-01-10 15:47:28.382|\n",
      "|{\"userId\": 1, \"id\": 3, \"title\": \"ea molestias quasi exercitationem repellat qui ipsa sit aut\", \"body\": \"et iusto sed quo iure\\nvoluptatem occaecati omnis eligendi aut ad\\nvoluptatem doloribus vel accusantium quis pariatur\\nmolestiae porro eius odio et labore et velit aut\"}         |2025-01-10 15:47:28.382|\n",
      "+------------------------------------------------------------------------------------------------------------------------------------------------------------------------------------------------------------------------------------------------------------------------------------------+-----------------------+\n",
      "only showing top 3 rows\n",
      "\n",
      "+-------------------------------------------------------------------+-----------------------+\n",
      "|value                                                              |processed_at           |\n",
      "+-------------------------------------------------------------------+-----------------------+\n",
      "|{\"userId\": 1, \"id\": 1, \"title\": \"quidem molestiae enim\"}           |2025-01-10 15:47:32.433|\n",
      "|{\"userId\": 1, \"id\": 2, \"title\": \"sunt qui excepturi placeat culpa\"}|2025-01-10 15:47:32.433|\n",
      "|{\"userId\": 1, \"id\": 3, \"title\": \"omnis laborum odio\"}              |2025-01-10 15:47:32.433|\n",
      "+-------------------------------------------------------------------+-----------------------+\n",
      "only showing top 3 rows\n",
      "\n",
      "+------------------------------------------------------------------------------------------------------------------------------------------------------------------------------------------------------------------------------------------------------------------------------------------------------------------------------------------------------------------------------------------------------------------------------------------------------------+-----------------------+\n",
      "|value                                                                                                                                                                                                                                                                                                                                                                                                                                                       |processed_at           |\n",
      "+------------------------------------------------------------------------------------------------------------------------------------------------------------------------------------------------------------------------------------------------------------------------------------------------------------------------------------------------------------------------------------------------------------------------------------------------------------+-----------------------+\n",
      "|{\"id\": 1, \"name\": \"Leanne Graham\", \"username\": \"Bret\", \"email\": \"Sincere@april.biz\", \"address\": {\"street\": \"Kulas Light\", \"suite\": \"Apt. 556\", \"city\": \"Gwenborough\", \"zipcode\": \"92998-3874\", \"geo\": {\"lat\": \"-37.3159\", \"lng\": \"81.1496\"}}, \"phone\": \"1-770-736-8031 x56442\", \"website\": \"hildegard.org\", \"company\": {\"name\": \"Romaguera-Crona\", \"catchPhrase\": \"Multi-layered client-server neural-net\", \"bs\": \"harness real-time e-markets\"}}           |2025-01-10 15:47:35.647|\n",
      "|{\"id\": 2, \"name\": \"Ervin Howell\", \"username\": \"Antonette\", \"email\": \"Shanna@melissa.tv\", \"address\": {\"street\": \"Victor Plains\", \"suite\": \"Suite 879\", \"city\": \"Wisokyburgh\", \"zipcode\": \"90566-7771\", \"geo\": {\"lat\": \"-43.9509\", \"lng\": \"-34.4618\"}}, \"phone\": \"010-692-6593 x09125\", \"website\": \"anastasia.net\", \"company\": {\"name\": \"Deckow-Crist\", \"catchPhrase\": \"Proactive didactic contingency\", \"bs\": \"synergize scalable supply-chains\"}}           |2025-01-10 15:47:35.647|\n",
      "|{\"id\": 3, \"name\": \"Clementine Bauch\", \"username\": \"Samantha\", \"email\": \"Nathan@yesenia.net\", \"address\": {\"street\": \"Douglas Extension\", \"suite\": \"Suite 847\", \"city\": \"McKenziehaven\", \"zipcode\": \"59590-4157\", \"geo\": {\"lat\": \"-68.6102\", \"lng\": \"-47.0653\"}}, \"phone\": \"1-463-123-4447\", \"website\": \"ramiro.info\", \"company\": {\"name\": \"Romaguera-Jacobson\", \"catchPhrase\": \"Face to face bifurcated interface\", \"bs\": \"e-enable strategic applications\"}}|2025-01-10 15:47:35.647|\n",
      "+------------------------------------------------------------------------------------------------------------------------------------------------------------------------------------------------------------------------------------------------------------------------------------------------------------------------------------------------------------------------------------------------------------------------------------------------------------+-----------------------+\n",
      "only showing top 3 rows\n",
      "\n"
     ]
    }
   ],
   "source": [
    "posts_df.show(3, truncate=False)\n",
    "albums_df.show(3, truncate=False)\n",
    "users_df.show(3, truncate=False)"
   ]
  }
 ],
 "metadata": {
  "kernelspec": {
   "display_name": ".venv",
   "language": "python",
   "name": "python3"
  },
  "language_info": {
   "codemirror_mode": {
    "name": "ipython",
    "version": 3
   },
   "file_extension": ".py",
   "mimetype": "text/x-python",
   "name": "python",
   "nbconvert_exporter": "python",
   "pygments_lexer": "ipython3",
   "version": "3.10.3"
  }
 },
 "nbformat": 4,
 "nbformat_minor": 2
}

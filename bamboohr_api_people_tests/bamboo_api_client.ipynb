{
 "cells": [
  {
   "cell_type": "markdown",
   "metadata": {},
   "source": [
    "### API Requests"
   ]
  },
  {
   "cell_type": "code",
   "execution_count": 17,
   "metadata": {},
   "outputs": [],
   "source": [
    "import os\n",
    "import json\n",
    "import requests\n",
    "from typing import List\n",
    "from urllib3.util.retry import Retry\n",
    "from requests.adapters import HTTPAdapter\n",
    "\n",
    "import pyspark\n",
    "from pyspark.sql import DataFrame\n",
    "from pyspark.sql import functions as F\n",
    "from pyspark.sql.types import StringType\n",
    "from delta import configure_spark_with_delta_pip"
   ]
  },
  {
   "cell_type": "code",
   "execution_count": 2,
   "metadata": {},
   "outputs": [],
   "source": [
    "# Used https://jsonplaceholder.typicode.com/ as a sample API to build the logic"
   ]
  },
  {
   "cell_type": "code",
   "execution_count": 18,
   "metadata": {},
   "outputs": [],
   "source": [
    "class BambooHRClient:\n",
    "    \"\"\"A client for the BambooHR API.\n",
    "    \n",
    "    This client handles authentication, session management, and API requests\n",
    "    to the BambooHR API or a placeholder API for demonstration purposes.\n",
    "    \"\"\"\n",
    "\n",
    "    # BASE_URL = \"https://api.bamboohr.com/api/gateway.php/{company_domain}/v1\"\n",
    "    BASE_URL = \"https://jsonplaceholder.{company_domain}.com\"\n",
    "    ENDPOINTS = {\n",
    "        \"posts\": \"/posts\",\n",
    "        \"albums\": \"/albums\",\n",
    "        \"users\": \"/users\",\n",
    "    }\n",
    "\n",
    "    def __init__(self, api_key, company_domain):\n",
    "        \"\"\"\n",
    "        Initialize the BambooHRClient with an API key and company domain.\n",
    "\n",
    "        Args:\n",
    "            api_key (str): The API key for authenticating requests.\n",
    "            company_domain (str): The domain of the company for API requests.\n",
    "        \"\"\"\n",
    "        self.api_key = api_key\n",
    "        self.company_domain = company_domain\n",
    "        self.base_url = self.BASE_URL.format(company_domain=company_domain)\n",
    "        self.session = self._create_session()\n",
    "        self.headers = {\n",
    "            \"Authorization\": f\"Basic {self.api_key}\",\n",
    "            \"Accept\": \"application/json\",\n",
    "        }\n",
    "    \n",
    "    @staticmethod\n",
    "    def _create_session() -> requests.Session:\n",
    "        \"\"\"\n",
    "        Create a session with a retry strategy for handling transient errors.\n",
    "\n",
    "        Returns:\n",
    "            requests.Session: A configured session object with retry strategy.\n",
    "        \"\"\"\n",
    "        retry_strategy = Retry(\n",
    "            total=5,\n",
    "            backoff_factor=2,\n",
    "            status_forcelist=[429, 503],\n",
    "            allowed_methods=[\"GET\"],\n",
    "        )\n",
    "\n",
    "        # Create an adapter with the retry strategy\n",
    "        adapter = HTTPAdapter(max_retries=retry_strategy)\n",
    "\n",
    "        # Create a session and mount the adapter\n",
    "        session = requests.Session()\n",
    "        session.mount(\"https://\", adapter)\n",
    "\n",
    "        return session\n",
    "\n",
    "    def get(self, endpoint_key: str, params: dict = None) -> dict:\n",
    "        \"\"\"\n",
    "        Fetch data from a specified endpoint using the endpoint key.\n",
    "\n",
    "        Args:\n",
    "            endpoint_key (str): The key for the desired endpoint (e.g., \"posts\").\n",
    "            params (dict, optional): Query parameters to include in the request.\n",
    "\n",
    "        Returns:\n",
    "            dict: The JSON response from the API.\n",
    "\n",
    "        Raises:\n",
    "            ValueError: If an invalid endpoint key is provided.\n",
    "            requests.exceptions.RequestException: If the request fails.\n",
    "\n",
    "        Example:\n",
    "            >>> client = BambooHRClient(api_key=\"my_api_key\", company_domain=\"typicode\")\n",
    "            >>> posts = client.get(\"posts\")\n",
    "            >>> print(posts)\n",
    "        \"\"\"\n",
    "        endpoint = self.ENDPOINTS.get(endpoint_key)\n",
    "        if not endpoint:\n",
    "            raise ValueError(f\"Invalid endpoint key: {endpoint_key}\")\n",
    "        url = f\"{self.base_url}{endpoint}\"\n",
    "        response = self.session.get(url, headers=self.headers, params=params)\n",
    "        response.raise_for_status()\n",
    "        return response.json()\n"
   ]
  },
  {
   "cell_type": "code",
   "execution_count": 19,
   "metadata": {},
   "outputs": [
    {
     "name": "stdout",
     "output_type": "stream",
     "text": [
      "[{'userId': 1, 'id': 1, 'title': 'sunt aut facere repellat provident occaecati excepturi optio reprehenderit', 'body': 'quia et suscipit\\nsuscipit recusandae consequuntur expedita et cum\\nreprehenderit molestiae ut ut quas totam\\nnostrum rerum est autem sunt rem eveniet architecto'}]\n",
      "\n",
      "\n",
      "[{'userId': 1, 'id': 1, 'title': 'quidem molestiae enim'}]\n",
      "\n",
      "\n",
      "[{'id': 1, 'name': 'Leanne Graham', 'username': 'Bret', 'email': 'Sincere@april.biz', 'address': {'street': 'Kulas Light', 'suite': 'Apt. 556', 'city': 'Gwenborough', 'zipcode': '92998-3874', 'geo': {'lat': '-37.3159', 'lng': '81.1496'}}, 'phone': '1-770-736-8031 x56442', 'website': 'hildegard.org', 'company': {'name': 'Romaguera-Crona', 'catchPhrase': 'Multi-layered client-server neural-net', 'bs': 'harness real-time e-markets'}}]\n"
     ]
    }
   ],
   "source": [
    "API_KEY = \"<your_api_key>\"\n",
    "COMPANY_DOMAIN = \"typicode\"\n",
    "\n",
    "# Initialize the client\n",
    "client = BambooHRClient(\n",
    "    api_key=API_KEY, \n",
    "    company_domain=COMPANY_DOMAIN\n",
    ")\n",
    "\n",
    "posts = client.get(\"posts\")\n",
    "albums = client.get(\"albums\")\n",
    "users = client.get(\"users\")\n",
    "\n",
    "print(posts[:1])\n",
    "print(\"\\n\")\n",
    "print(albums[:1])\n",
    "print(\"\\n\")\n",
    "print(users[:1])"
   ]
  },
  {
   "cell_type": "code",
   "execution_count": 5,
   "metadata": {},
   "outputs": [],
   "source": [
    "# Create a data directory and save the json outputs\n",
    "# os.makedirs(\"data\", exist_ok=True)\n",
    "\n",
    "# def save_json_data(data: dict, filename: str) -> None:\n",
    "#     with open(f\"data/{filename}\", \"w\") as f:\n",
    "#         json.dump(data, f, indent=4)\n",
    "#     print(f\"{filename} file saved successfully\")\n",
    "\n",
    "# for data, data_name in zip([posts, albums, users], [\"posts\", \"albums\", \"users\"]):\n",
    "#     save_json_data(data, f\"{data_name}.json\")"
   ]
  },
  {
   "cell_type": "code",
   "execution_count": 6,
   "metadata": {},
   "outputs": [],
   "source": [
    "def convert_to_json_string(data: List[dict]) -> list:\n",
    "    \"\"\" Convert a list of dictionaries to a list of JSON strings \"\"\"\n",
    "    return [json.dumps(record, default=str) for record in data]\n",
    "\n",
    "posts_string = convert_to_json_string(posts)\n",
    "albums_string = convert_to_json_string(albums)\n",
    "users_string = convert_to_json_string(users)"
   ]
  },
  {
   "cell_type": "markdown",
   "metadata": {},
   "source": [
    "### Store delta files schemaless"
   ]
  },
  {
   "cell_type": "code",
   "execution_count": null,
   "metadata": {},
   "outputs": [],
   "source": [
    "builder = (\n",
    "    pyspark.sql.SparkSession.builder.appName(\"MyApp\")\n",
    "    .config(\"spark.sql.extensions\", \"io.delta.sql.DeltaSparkSessionExtension\")\n",
    "    .config(\n",
    "        \"spark.sql.catalog.spark_catalog\",\n",
    "        \"org.apache.spark.sql.delta.catalog.DeltaCatalog\",\n",
    "    )\n",
    ")\n",
    "\n",
    "spark = configure_spark_with_delta_pip(builder).getOrCreate()\n"
   ]
  },
  {
   "cell_type": "code",
   "execution_count": 8,
   "metadata": {},
   "outputs": [],
   "source": [
    "# Creating schemaless DataFrames\n",
    "posts_df = spark.createDataFrame(posts_string, StringType())\n",
    "albums_df = spark.createDataFrame(albums_string, StringType())\n",
    "users_df = spark.createDataFrame(users_string, StringType())"
   ]
  },
  {
   "cell_type": "code",
   "execution_count": 9,
   "metadata": {},
   "outputs": [],
   "source": [
    "# TODO: Add airflow logical date column and any other necessary columns"
   ]
  },
  {
   "cell_type": "code",
   "execution_count": 10,
   "metadata": {},
   "outputs": [],
   "source": [
    "def generate_timestamp(df: DataFrame) -> DataFrame:\n",
    "    return df.withColumn(\"processed_at\", F.current_timestamp())"
   ]
  },
  {
   "cell_type": "code",
   "execution_count": 11,
   "metadata": {},
   "outputs": [],
   "source": [
    "posts_df = generate_timestamp(posts_df)\n",
    "albums_df = generate_timestamp(albums_df)\n",
    "users_df = generate_timestamp(users_df)\n"
   ]
  },
  {
   "cell_type": "code",
   "execution_count": 12,
   "metadata": {},
   "outputs": [
    {
     "name": "stdout",
     "output_type": "stream",
     "text": [
      "root\n",
      " |-- value: string (nullable = true)\n",
      " |-- processed_at: timestamp (nullable = false)\n",
      "\n",
      "root\n",
      " |-- value: string (nullable = true)\n",
      " |-- processed_at: timestamp (nullable = false)\n",
      "\n",
      "root\n",
      " |-- value: string (nullable = true)\n",
      " |-- processed_at: timestamp (nullable = false)\n",
      "\n"
     ]
    }
   ],
   "source": [
    "posts_df.printSchema()\n",
    "albums_df.printSchema()\n",
    "users_df.printSchema()"
   ]
  },
  {
   "cell_type": "code",
   "execution_count": 13,
   "metadata": {},
   "outputs": [
    {
     "name": "stderr",
     "output_type": "stream",
     "text": [
      "                                                                                \r"
     ]
    },
    {
     "name": "stdout",
     "output_type": "stream",
     "text": [
      "+------------------------------------------------------------------------------------------------------------------------------------------------------------------------------------------------------------------------------------------------------------------------------------------+----------------------+\n",
      "|value                                                                                                                                                                                                                                                                                     |processed_at          |\n",
      "+------------------------------------------------------------------------------------------------------------------------------------------------------------------------------------------------------------------------------------------------------------------------------------------+----------------------+\n",
      "|{\"userId\": 1, \"id\": 1, \"title\": \"sunt aut facere repellat provident occaecati excepturi optio reprehenderit\", \"body\": \"quia et suscipit\\nsuscipit recusandae consequuntur expedita et cum\\nreprehenderit molestiae ut ut quas totam\\nnostrum rerum est autem sunt rem eveniet architecto\"}|2025-01-10 18:00:20.95|\n",
      "|{\"userId\": 1, \"id\": 2, \"title\": \"qui est esse\", \"body\": \"est rerum tempore vitae\\nsequi sint nihil reprehenderit dolor beatae ea dolores neque\\nfugiat blanditiis voluptate porro vel nihil molestiae ut reiciendis\\nqui aperiam non debitis possimus qui neque nisi nulla\"}              |2025-01-10 18:00:20.95|\n",
      "|{\"userId\": 1, \"id\": 3, \"title\": \"ea molestias quasi exercitationem repellat qui ipsa sit aut\", \"body\": \"et iusto sed quo iure\\nvoluptatem occaecati omnis eligendi aut ad\\nvoluptatem doloribus vel accusantium quis pariatur\\nmolestiae porro eius odio et labore et velit aut\"}         |2025-01-10 18:00:20.95|\n",
      "+------------------------------------------------------------------------------------------------------------------------------------------------------------------------------------------------------------------------------------------------------------------------------------------+----------------------+\n",
      "only showing top 3 rows\n",
      "\n",
      "+-------------------------------------------------------------------+-----------------------+\n",
      "|value                                                              |processed_at           |\n",
      "+-------------------------------------------------------------------+-----------------------+\n",
      "|{\"userId\": 1, \"id\": 1, \"title\": \"quidem molestiae enim\"}           |2025-01-10 18:00:26.105|\n",
      "|{\"userId\": 1, \"id\": 2, \"title\": \"sunt qui excepturi placeat culpa\"}|2025-01-10 18:00:26.105|\n",
      "|{\"userId\": 1, \"id\": 3, \"title\": \"omnis laborum odio\"}              |2025-01-10 18:00:26.105|\n",
      "+-------------------------------------------------------------------+-----------------------+\n",
      "only showing top 3 rows\n",
      "\n",
      "+------------------------------------------------------------------------------------------------------------------------------------------------------------------------------------------------------------------------------------------------------------------------------------------------------------------------------------------------------------------------------------------------------------------------------------------------------------+----------------------+\n",
      "|value                                                                                                                                                                                                                                                                                                                                                                                                                                                       |processed_at          |\n",
      "+------------------------------------------------------------------------------------------------------------------------------------------------------------------------------------------------------------------------------------------------------------------------------------------------------------------------------------------------------------------------------------------------------------------------------------------------------------+----------------------+\n",
      "|{\"id\": 1, \"name\": \"Leanne Graham\", \"username\": \"Bret\", \"email\": \"Sincere@april.biz\", \"address\": {\"street\": \"Kulas Light\", \"suite\": \"Apt. 556\", \"city\": \"Gwenborough\", \"zipcode\": \"92998-3874\", \"geo\": {\"lat\": \"-37.3159\", \"lng\": \"81.1496\"}}, \"phone\": \"1-770-736-8031 x56442\", \"website\": \"hildegard.org\", \"company\": {\"name\": \"Romaguera-Crona\", \"catchPhrase\": \"Multi-layered client-server neural-net\", \"bs\": \"harness real-time e-markets\"}}           |2025-01-10 18:00:26.52|\n",
      "|{\"id\": 2, \"name\": \"Ervin Howell\", \"username\": \"Antonette\", \"email\": \"Shanna@melissa.tv\", \"address\": {\"street\": \"Victor Plains\", \"suite\": \"Suite 879\", \"city\": \"Wisokyburgh\", \"zipcode\": \"90566-7771\", \"geo\": {\"lat\": \"-43.9509\", \"lng\": \"-34.4618\"}}, \"phone\": \"010-692-6593 x09125\", \"website\": \"anastasia.net\", \"company\": {\"name\": \"Deckow-Crist\", \"catchPhrase\": \"Proactive didactic contingency\", \"bs\": \"synergize scalable supply-chains\"}}           |2025-01-10 18:00:26.52|\n",
      "|{\"id\": 3, \"name\": \"Clementine Bauch\", \"username\": \"Samantha\", \"email\": \"Nathan@yesenia.net\", \"address\": {\"street\": \"Douglas Extension\", \"suite\": \"Suite 847\", \"city\": \"McKenziehaven\", \"zipcode\": \"59590-4157\", \"geo\": {\"lat\": \"-68.6102\", \"lng\": \"-47.0653\"}}, \"phone\": \"1-463-123-4447\", \"website\": \"ramiro.info\", \"company\": {\"name\": \"Romaguera-Jacobson\", \"catchPhrase\": \"Face to face bifurcated interface\", \"bs\": \"e-enable strategic applications\"}}|2025-01-10 18:00:26.52|\n",
      "+------------------------------------------------------------------------------------------------------------------------------------------------------------------------------------------------------------------------------------------------------------------------------------------------------------------------------------------------------------------------------------------------------------------------------------------------------------+----------------------+\n",
      "only showing top 3 rows\n",
      "\n"
     ]
    }
   ],
   "source": [
    "posts_df.show(3, truncate=False)\n",
    "albums_df.show(3, truncate=False)\n",
    "users_df.show(3, truncate=False)"
   ]
  },
  {
   "cell_type": "code",
   "execution_count": null,
   "metadata": {},
   "outputs": [
    {
     "name": "stderr",
     "output_type": "stream",
     "text": [
      "25/01/10 18:00:38 WARN SparkStringUtils: Truncated the string representation of a plan since it was too large. This behavior can be adjusted by setting 'spark.sql.debug.maxToStringFields'.\n",
      "                                                                                \r"
     ]
    }
   ],
   "source": [
    "# Saving DataFrames\n",
    "posts_df.repartition(1).write.format(\"delta\").mode(\"overwrite\").save(\"data/delta_tables/posts\")\n",
    "albums_df.repartition(1).write.format(\"delta\").mode(\"overwrite\").save(\"data/delta_tables/albums\")\n",
    "users_df.repartition(1).write.format(\"delta\").mode(\"overwrite\").save(\"data/delta_tables/users\")"
   ]
  },
  {
   "cell_type": "code",
   "execution_count": 15,
   "metadata": {},
   "outputs": [],
   "source": [
    "posts_df = spark.read.format(\"delta\").load(\"data/delta_tables/posts\")\n",
    "albums_df = spark.read.format(\"delta\").load(\"data/delta_tables/albums\")\n",
    "users_df = spark.read.format(\"delta\").load(\"data/delta_tables/users\")"
   ]
  },
  {
   "cell_type": "code",
   "execution_count": 16,
   "metadata": {},
   "outputs": [
    {
     "name": "stderr",
     "output_type": "stream",
     "text": [
      "                                                                                \r"
     ]
    },
    {
     "name": "stdout",
     "output_type": "stream",
     "text": [
      "+------------------------------------------------------------------------------------------------------------------------------------------------------------------------------------------------------------------------------------------------------------------------------------------+-----------------------+\n",
      "|value                                                                                                                                                                                                                                                                                     |processed_at           |\n",
      "+------------------------------------------------------------------------------------------------------------------------------------------------------------------------------------------------------------------------------------------------------------------------------------------+-----------------------+\n",
      "|{\"userId\": 1, \"id\": 1, \"title\": \"sunt aut facere repellat provident occaecati excepturi optio reprehenderit\", \"body\": \"quia et suscipit\\nsuscipit recusandae consequuntur expedita et cum\\nreprehenderit molestiae ut ut quas totam\\nnostrum rerum est autem sunt rem eveniet architecto\"}|2025-01-10 18:00:28.459|\n",
      "|{\"userId\": 1, \"id\": 2, \"title\": \"qui est esse\", \"body\": \"est rerum tempore vitae\\nsequi sint nihil reprehenderit dolor beatae ea dolores neque\\nfugiat blanditiis voluptate porro vel nihil molestiae ut reiciendis\\nqui aperiam non debitis possimus qui neque nisi nulla\"}              |2025-01-10 18:00:28.459|\n",
      "|{\"userId\": 1, \"id\": 3, \"title\": \"ea molestias quasi exercitationem repellat qui ipsa sit aut\", \"body\": \"et iusto sed quo iure\\nvoluptatem occaecati omnis eligendi aut ad\\nvoluptatem doloribus vel accusantium quis pariatur\\nmolestiae porro eius odio et labore et velit aut\"}         |2025-01-10 18:00:28.459|\n",
      "+------------------------------------------------------------------------------------------------------------------------------------------------------------------------------------------------------------------------------------------------------------------------------------------+-----------------------+\n",
      "only showing top 3 rows\n",
      "\n"
     ]
    },
    {
     "name": "stderr",
     "output_type": "stream",
     "text": [
      "                                                                                \r"
     ]
    },
    {
     "name": "stdout",
     "output_type": "stream",
     "text": [
      "+-------------------------------------------------------------------+-----------------------+\n",
      "|value                                                              |processed_at           |\n",
      "+-------------------------------------------------------------------+-----------------------+\n",
      "|{\"userId\": 1, \"id\": 1, \"title\": \"quidem molestiae enim\"}           |2025-01-10 18:00:45.997|\n",
      "|{\"userId\": 1, \"id\": 2, \"title\": \"sunt qui excepturi placeat culpa\"}|2025-01-10 18:00:45.997|\n",
      "|{\"userId\": 1, \"id\": 3, \"title\": \"omnis laborum odio\"}              |2025-01-10 18:00:45.997|\n",
      "+-------------------------------------------------------------------+-----------------------+\n",
      "only showing top 3 rows\n",
      "\n",
      "+------------------------------------------------------------------------------------------------------------------------------------------------------------------------------------------------------------------------------------------------------------------------------------------------------------------------------------------------------------------------------------------------------------------------------------------------------------+-----------------------+\n",
      "|value                                                                                                                                                                                                                                                                                                                                                                                                                                                       |processed_at           |\n",
      "+------------------------------------------------------------------------------------------------------------------------------------------------------------------------------------------------------------------------------------------------------------------------------------------------------------------------------------------------------------------------------------------------------------------------------------------------------------+-----------------------+\n",
      "|{\"id\": 1, \"name\": \"Leanne Graham\", \"username\": \"Bret\", \"email\": \"Sincere@april.biz\", \"address\": {\"street\": \"Kulas Light\", \"suite\": \"Apt. 556\", \"city\": \"Gwenborough\", \"zipcode\": \"92998-3874\", \"geo\": {\"lat\": \"-37.3159\", \"lng\": \"81.1496\"}}, \"phone\": \"1-770-736-8031 x56442\", \"website\": \"hildegard.org\", \"company\": {\"name\": \"Romaguera-Crona\", \"catchPhrase\": \"Multi-layered client-server neural-net\", \"bs\": \"harness real-time e-markets\"}}           |2025-01-10 18:00:50.639|\n",
      "|{\"id\": 2, \"name\": \"Ervin Howell\", \"username\": \"Antonette\", \"email\": \"Shanna@melissa.tv\", \"address\": {\"street\": \"Victor Plains\", \"suite\": \"Suite 879\", \"city\": \"Wisokyburgh\", \"zipcode\": \"90566-7771\", \"geo\": {\"lat\": \"-43.9509\", \"lng\": \"-34.4618\"}}, \"phone\": \"010-692-6593 x09125\", \"website\": \"anastasia.net\", \"company\": {\"name\": \"Deckow-Crist\", \"catchPhrase\": \"Proactive didactic contingency\", \"bs\": \"synergize scalable supply-chains\"}}           |2025-01-10 18:00:50.639|\n",
      "|{\"id\": 3, \"name\": \"Clementine Bauch\", \"username\": \"Samantha\", \"email\": \"Nathan@yesenia.net\", \"address\": {\"street\": \"Douglas Extension\", \"suite\": \"Suite 847\", \"city\": \"McKenziehaven\", \"zipcode\": \"59590-4157\", \"geo\": {\"lat\": \"-68.6102\", \"lng\": \"-47.0653\"}}, \"phone\": \"1-463-123-4447\", \"website\": \"ramiro.info\", \"company\": {\"name\": \"Romaguera-Jacobson\", \"catchPhrase\": \"Face to face bifurcated interface\", \"bs\": \"e-enable strategic applications\"}}|2025-01-10 18:00:50.639|\n",
      "+------------------------------------------------------------------------------------------------------------------------------------------------------------------------------------------------------------------------------------------------------------------------------------------------------------------------------------------------------------------------------------------------------------------------------------------------------------+-----------------------+\n",
      "only showing top 3 rows\n",
      "\n"
     ]
    }
   ],
   "source": [
    "posts_df.show(3, truncate=False)\n",
    "albums_df.show(3, truncate=False)\n",
    "users_df.show(3, truncate=False)"
   ]
  }
 ],
 "metadata": {
  "kernelspec": {
   "display_name": ".venv",
   "language": "python",
   "name": "python3"
  },
  "language_info": {
   "codemirror_mode": {
    "name": "ipython",
    "version": 3
   },
   "file_extension": ".py",
   "mimetype": "text/x-python",
   "name": "python",
   "nbconvert_exporter": "python",
   "pygments_lexer": "ipython3",
   "version": "3.10.3"
  }
 },
 "nbformat": 4,
 "nbformat_minor": 2
}

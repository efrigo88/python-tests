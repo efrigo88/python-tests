{
 "cells": [
  {
   "cell_type": "code",
   "execution_count": 42,
   "metadata": {},
   "outputs": [],
   "source": [
    "from pyspark.sql.types import StructType, StructField, StringType\n",
    "from delta import configure_spark_with_delta_pip\n",
    "from pyspark.sql import DataFrame, SparkSession, functions as F"
   ]
  },
  {
   "cell_type": "code",
   "execution_count": 43,
   "metadata": {},
   "outputs": [],
   "source": [
    "def get_session (app_name: str = \"MyApp\"):\n",
    "    builder = (\n",
    "        SparkSession.builder.appName(app_name)\n",
    "        .config(\"spark.sql.extensions\", \"io.delta.sql.DeltaSparkSessionExtension\")\n",
    "        .config(\n",
    "            \"spark.sql.catalog.spark_catalog\",\n",
    "            \"org.apache.spark.sql.delta.catalog.DeltaCatalog\",\n",
    "        )\n",
    "    )\n",
    "    return configure_spark_with_delta_pip(builder).getOrCreate()"
   ]
  },
  {
   "cell_type": "code",
   "execution_count": 44,
   "metadata": {},
   "outputs": [],
   "source": [
    "spark = get_session()"
   ]
  },
  {
   "cell_type": "code",
   "execution_count": null,
   "metadata": {},
   "outputs": [],
   "source": [
    "# Based on: https://datamadness.medium.com/column-encryption-and-decryption-in-databricks-baf9ada3a7cf"
   ]
  },
  {
   "cell_type": "code",
   "execution_count": 45,
   "metadata": {},
   "outputs": [],
   "source": [
    "sample_data = [\n",
    "    ('James', 'Smith', '111-22-3333'),\n",
    "    ('Michael', 'Jones', '222-33-4444'),\n",
    "    ('Maria', 'Anne', '333-44-5555'),\n",
    "    ('James', 'Smith', '111-22-3333')\n",
    "  ]\n",
    "\n",
    "sample_schema = StructType([ \\\n",
    "    StructField('FirstName', StringType(),True),\n",
    "    StructField('LastName', StringType(),True),\n",
    "    StructField('SSN', StringType(),True)\n",
    "  ])\n",
    "\n",
    "df = spark.createDataFrame(data=sample_data, schema=sample_schema)"
   ]
  },
  {
   "cell_type": "code",
   "execution_count": 46,
   "metadata": {},
   "outputs": [
    {
     "name": "stdout",
     "output_type": "stream",
     "text": [
      "+---------+--------+-----------+\n",
      "|FirstName|LastName|        SSN|\n",
      "+---------+--------+-----------+\n",
      "|    James|   Smith|111-22-3333|\n",
      "|  Michael|   Jones|222-33-4444|\n",
      "|    Maria|    Anne|333-44-5555|\n",
      "|    James|   Smith|111-22-3333|\n",
      "+---------+--------+-----------+\n",
      "\n"
     ]
    }
   ],
   "source": [
    "df.show()"
   ]
  },
  {
   "cell_type": "code",
   "execution_count": 47,
   "metadata": {},
   "outputs": [],
   "source": [
    "# The Spark documentation for aes_encrypt and aes_decrypt says that the key needs to be 16, 24, or 32 bytes long.\n",
    "ENCRYPTION_KEY = \"PayclipPeopleEncryptionKey123456\""
   ]
  },
  {
   "cell_type": "code",
   "execution_count": 48,
   "metadata": {},
   "outputs": [],
   "source": [
    "def encrypt_columns(df: DataFrame, columns: list, encryption_key: str, encryption_mode: str = \"ECB\") -> DataFrame:\n",
    "    \"\"\"\n",
    "    Encrypts the specified columns in the DataFrame using AES encryption and Base64 encoding.\n",
    "\n",
    "    Args:\n",
    "        df (DataFrame): The input DataFrame.\n",
    "        columns (list): List of column names to encrypt.\n",
    "        encryption_key (str): The encryption key for AES encryption.\n",
    "        encryption_mode (str): The encryption mode for AES (default: \"ECB\").\n",
    "\n",
    "    Returns:\n",
    "        DataFrame: The DataFrame with encrypted columns.\n",
    "    \"\"\"\n",
    "    for col_name in columns:\n",
    "        encrypted_col = F.expr(f\"aes_encrypt({col_name}, '{encryption_key}', '{encryption_mode}')\")\n",
    "        base64_encoded_col = F.base64(encrypted_col)\n",
    "        df = df.withColumn(col_name, base64_encoded_col)\n",
    "\n",
    "    return df"
   ]
  },
  {
   "cell_type": "code",
   "execution_count": 49,
   "metadata": {},
   "outputs": [],
   "source": [
    "def decrypt_columns(df: DataFrame, columns: list, encryption_key: str, encryption_mode: str = \"ECB\") -> DataFrame:\n",
    "    \"\"\"\n",
    "    Decrypts the specified columns in the DataFrame using AES decryption and Base64 decoding.\n",
    "\n",
    "    Args:\n",
    "        df (DataFrame): The input DataFrame.\n",
    "        columns (list): List of column names to decrypt.\n",
    "        encryption_key (str): The decryption key for AES decryption.\n",
    "        encryption_mode (str): The decryption mode for AES (default: \"ECB\").\n",
    "\n",
    "    Returns:\n",
    "        DataFrame: The DataFrame with decrypted columns.\n",
    "    \"\"\"\n",
    "    for col_name in columns:\n",
    "        decrypted_col = F.expr(\n",
    "            f\"aes_decrypt(unbase64({col_name}), '{encryption_key}', '{encryption_mode}')\"\n",
    "        ).cast(\"string\")\n",
    "        df = df.withColumn(col_name, decrypted_col)\n",
    "\n",
    "    return df"
   ]
  },
  {
   "cell_type": "code",
   "execution_count": 50,
   "metadata": {},
   "outputs": [
    {
     "name": "stdout",
     "output_type": "stream",
     "text": [
      "+---------+--------+--------------------+\n",
      "|FirstName|LastName|                 SSN|\n",
      "+---------+--------+--------------------+\n",
      "|    James|   Smith|XGhgYPX7X0YEJ0XWT...|\n",
      "|  Michael|   Jones|q4c7hkvFWcdkRNZ4o...|\n",
      "|    Maria|    Anne|ROA+9VUHcaYShLu4C...|\n",
      "|    James|   Smith|XGhgYPX7X0YEJ0XWT...|\n",
      "+---------+--------+--------------------+\n",
      "\n"
     ]
    }
   ],
   "source": [
    "df_encrypted = (\n",
    "    encrypt_columns(\n",
    "        df=df,\n",
    "        columns=[\"SSN\"], \n",
    "        encryption_key=ENCRYPTION_KEY\n",
    "    )\n",
    ")\n",
    "df_encrypted.show()"
   ]
  },
  {
   "cell_type": "code",
   "execution_count": 51,
   "metadata": {},
   "outputs": [
    {
     "name": "stdout",
     "output_type": "stream",
     "text": [
      "+---------+--------+-----------+\n",
      "|FirstName|LastName|        SSN|\n",
      "+---------+--------+-----------+\n",
      "|    James|   Smith|111-22-3333|\n",
      "|  Michael|   Jones|222-33-4444|\n",
      "|    Maria|    Anne|333-44-5555|\n",
      "|    James|   Smith|111-22-3333|\n",
      "+---------+--------+-----------+\n",
      "\n"
     ]
    }
   ],
   "source": [
    "df_decrypted = (\n",
    "    decrypt_columns(\n",
    "        df=df_encrypted,\n",
    "        columns=[\"SSN\"], \n",
    "        encryption_key=ENCRYPTION_KEY\n",
    "    )\n",
    ")\n",
    "df_decrypted.show()"
   ]
  }
 ],
 "metadata": {
  "kernelspec": {
   "display_name": ".venv",
   "language": "python",
   "name": "python3"
  },
  "language_info": {
   "codemirror_mode": {
    "name": "ipython",
    "version": 3
   },
   "file_extension": ".py",
   "mimetype": "text/x-python",
   "name": "python",
   "nbconvert_exporter": "python",
   "pygments_lexer": "ipython3",
   "version": "3.10.3"
  }
 },
 "nbformat": 4,
 "nbformat_minor": 2
}

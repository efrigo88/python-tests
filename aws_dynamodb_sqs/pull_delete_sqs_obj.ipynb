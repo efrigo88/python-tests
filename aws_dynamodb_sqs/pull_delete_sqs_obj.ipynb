{
 "cells": [
  {
   "cell_type": "code",
   "execution_count": 1,
   "metadata": {},
   "outputs": [],
   "source": [
    "import json\n",
    "\n",
    "import boto3\n",
    "\n",
    "sqs_queue_url = \"https://sqs.us-east-1.amazonaws.com/442426869000/draft-declaration-rag-pipeline-playground-file-pointer-queue\"\n",
    "\n",
    "# Initialize SQS client\n",
    "sqs = boto3.client(\"sqs\")"
   ]
  },
  {
   "cell_type": "code",
   "execution_count": 8,
   "metadata": {},
   "outputs": [
    {
     "name": "stdout",
     "output_type": "stream",
     "text": [
      "No messages in the queue.\n"
     ]
    }
   ],
   "source": [
    "# Receive one message\n",
    "response = sqs.receive_message(\n",
    "    QueueUrl=sqs_queue_url,\n",
    "    MaxNumberOfMessages=1,\n",
    "    WaitTimeSeconds=1,  # long-polling to avoid empty returns\n",
    "    VisibilityTimeout=0,  # message will be invisible for 0 seconds\n",
    ")\n",
    "\n",
    "# Show the message\n",
    "messages = response.get(\"Messages\", [])\n",
    "if not messages:\n",
    "    print(\"No messages in the queue.\")\n",
    "else:\n",
    "    message = messages[0]\n",
    "    body = json.loads(message[\"Body\"])\n",
    "    print(\"Raw message body:\")\n",
    "    print(json.dumps(body, indent=2))"
   ]
  },
  {
   "cell_type": "code",
   "execution_count": 9,
   "metadata": {},
   "outputs": [
    {
     "name": "stdout",
     "output_type": "stream",
     "text": [
      "Message deleted from queue.\n"
     ]
    }
   ],
   "source": [
    "# delete the message\n",
    "receipt_handle = message[\"ReceiptHandle\"]\n",
    "sqs.delete_message(QueueUrl=sqs_queue_url, ReceiptHandle=receipt_handle)\n",
    "print(\"Message deleted from queue.\")"
   ]
  }
 ],
 "metadata": {
  "kernelspec": {
   "display_name": ".venv",
   "language": "python",
   "name": "python3"
  },
  "language_info": {
   "codemirror_mode": {
    "name": "ipython",
    "version": 3
   },
   "file_extension": ".py",
   "mimetype": "text/x-python",
   "name": "python",
   "nbconvert_exporter": "python",
   "pygments_lexer": "ipython3",
   "version": "3.10.16"
  }
 },
 "nbformat": 4,
 "nbformat_minor": 2
}

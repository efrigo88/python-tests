{
 "cells": [
  {
   "cell_type": "code",
   "execution_count": 26,
   "metadata": {},
   "outputs": [],
   "source": [
    "import json\n",
    "\n",
    "import boto3\n",
    "\n",
    "# Replace with your actual queue URL\n",
    "sqs_queue_url = (\n",
    "    \"https://sqs.us-east-1.amazonaws.com/442426869000/file-pointer-queue\"\n",
    ")\n",
    "\n",
    "# Initialize SQS client\n",
    "sqs = boto3.client(\"sqs\")"
   ]
  },
  {
   "cell_type": "code",
   "execution_count": 29,
   "metadata": {},
   "outputs": [],
   "source": [
    "# Receive one message\n",
    "response = sqs.receive_message(\n",
    "    QueueUrl=sqs_queue_url,\n",
    "    MaxNumberOfMessages=1,\n",
    "    WaitTimeSeconds=1,  # long-polling to avoid empty returns\n",
    "    VisibilityTimeout=0,  # message will be invisible for 0 seconds\n",
    ")"
   ]
  },
  {
   "cell_type": "code",
   "execution_count": 30,
   "metadata": {},
   "outputs": [
    {
     "name": "stdout",
     "output_type": "stream",
     "text": [
      "No messages in the queue.\n"
     ]
    }
   ],
   "source": [
    "messages = response.get(\"Messages\", [])\n",
    "if not messages:\n",
    "    print(\"No messages in the queue.\")\n",
    "else:\n",
    "    message = messages[0]\n",
    "    body = json.loads(message[\"Body\"])\n",
    "\n",
    "    print(\"Raw message body:\")\n",
    "    print(json.dumps(body, indent=2))\n",
    "\n",
    "    # Optional: delete the message after processing\n",
    "    receipt_handle = message[\"ReceiptHandle\"]\n",
    "    sqs.delete_message(QueueUrl=sqs_queue_url, ReceiptHandle=receipt_handle)\n",
    "    print(\"Message deleted from queue.\")"
   ]
  },
  {
   "cell_type": "code",
   "execution_count": 8,
   "metadata": {},
   "outputs": [
    {
     "name": "stdout",
     "output_type": "stream",
     "text": [
      "d0a06f53402548f0ca5fdba88b9abd2c\n",
      "INSERT\n",
      "eefd7b74-4b13-4c40-8f41-494ef07c061d\n",
      "s3://your-bucket/path/to/file.txt\n",
      "PENDING\n",
      "2025-06-12T12:45:55.035739+00:00Z\n"
     ]
    }
   ],
   "source": [
    "event_id = body[\"eventID\"]\n",
    "event_name = body[\"eventName\"]\n",
    "\n",
    "dynamodb_row_id = body[\"dynamodb\"][\"NewImage\"][\"id\"][\"S\"]\n",
    "dynamodb_s3_path = body[\"dynamodb\"][\"NewImage\"][\"s3_path\"][\"S\"]\n",
    "dynamodb_status = body[\"dynamodb\"][\"NewImage\"][\"status\"][\"S\"]\n",
    "dynamodb_created_at = body[\"dynamodb\"][\"NewImage\"][\"created_at\"][\"S\"]\n",
    "\n",
    "print(event_id)\n",
    "print(event_name)\n",
    "\n",
    "print(dynamodb_row_id)\n",
    "print(dynamodb_s3_path)\n",
    "print(dynamodb_status)\n",
    "print(dynamodb_created_at)"
   ]
  }
 ],
 "metadata": {
  "kernelspec": {
   "display_name": ".venv",
   "language": "python",
   "name": "python3"
  },
  "language_info": {
   "codemirror_mode": {
    "name": "ipython",
    "version": 3
   },
   "file_extension": ".py",
   "mimetype": "text/x-python",
   "name": "python",
   "nbconvert_exporter": "python",
   "pygments_lexer": "ipython3",
   "version": "3.10.16"
  }
 },
 "nbformat": 4,
 "nbformat_minor": 2
}

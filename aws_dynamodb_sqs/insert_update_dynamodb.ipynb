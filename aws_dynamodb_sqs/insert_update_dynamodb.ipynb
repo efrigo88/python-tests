{
 "cells": [
  {
   "cell_type": "code",
   "execution_count": 10,
   "metadata": {},
   "outputs": [],
   "source": [
    "import uuid\n",
    "from datetime import datetime, timezone\n",
    "\n",
    "import boto3\n",
    "from boto3.dynamodb.conditions import Key"
   ]
  },
  {
   "cell_type": "code",
   "execution_count": 18,
   "metadata": {},
   "outputs": [],
   "source": [
    "project_name = \"draft-declaration-rag-pipeline\"\n",
    "environment = \"playground\"\n",
    "\n",
    "dynamodb_table_name = f\"{project_name}-{environment}-dynamodb-table\"\n",
    "\n",
    "dynamodb = boto3.resource(\"dynamodb\")\n",
    "table = dynamodb.Table(dynamodb_table_name)"
   ]
  },
  {
   "cell_type": "code",
   "execution_count": 20,
   "metadata": {},
   "outputs": [
    {
     "name": "stdout",
     "output_type": "stream",
     "text": [
      "Item inserted successfully!\n"
     ]
    }
   ],
   "source": [
    "s3_path = f\"s3://{project_name}-{environment}/data/input/client=clientA/psychology_notes.pdf\"\n",
    "\n",
    "dynamodb = boto3.resource(\"dynamodb\")\n",
    "item = {\n",
    "    \"id\": str(uuid.uuid4()),\n",
    "    \"status\": \"PENDING\",\n",
    "    \"input_path\": s3_path,\n",
    "    \"created_at\": datetime.now(timezone.utc).isoformat() + \"Z\",\n",
    "}\n",
    "\n",
    "# Insert the item\n",
    "table.put_item(Item=item)\n",
    "print(\"Item inserted successfully!\")"
   ]
  },
  {
   "cell_type": "code",
   "execution_count": 10,
   "metadata": {},
   "outputs": [
    {
     "name": "stdout",
     "output_type": "stream",
     "text": [
      "[{'created_at': '2025-06-12T12:45:55.035739+00:00Z', 'id': 'eefd7b74-4b13-4c40-8f41-494ef07c061d', 'status': 'PENDING', 's3_path': 's3://your-bucket/path/to/file.txt'}]\n",
      "Item eefd7b74-4b13-4c40-8f41-494ef07c061d status updated to FINISHED.\n"
     ]
    }
   ],
   "source": [
    "# Query using the GSI 'status-index'\n",
    "response = table.query(\n",
    "    IndexName=\"status-index\",\n",
    "    KeyConditionExpression=Key(\"status\").eq(\"PENDING\"),\n",
    ")\n",
    "\n",
    "items = response.get(\"Items\", [])\n",
    "print(items)\n",
    "\n",
    "item_ids = []\n",
    "\n",
    "if not items:\n",
    "    print(\"No PENDING items found.\")\n",
    "else:\n",
    "    for item in items:\n",
    "        item_ids.append(item[\"id\"])\n",
    "\n",
    "    for item_id in item_ids:\n",
    "        # Step 2: Update status to FINISHED\n",
    "        table.update_item(\n",
    "            Key={\"id\": item_id},\n",
    "            UpdateExpression=\"SET #s = :new_status\",\n",
    "            ExpressionAttributeNames={\"#s\": \"status\"},\n",
    "            ExpressionAttributeValues={\":new_status\": \"FINISHED\"},\n",
    "        )\n",
    "\n",
    "    print(f\"Item {item_id} status updated to FINISHED.\")"
   ]
  }
 ],
 "metadata": {
  "kernelspec": {
   "display_name": ".venv",
   "language": "python",
   "name": "python3"
  },
  "language_info": {
   "codemirror_mode": {
    "name": "ipython",
    "version": 3
   },
   "file_extension": ".py",
   "mimetype": "text/x-python",
   "name": "python",
   "nbconvert_exporter": "python",
   "pygments_lexer": "ipython3",
   "version": "3.10.16"
  }
 },
 "nbformat": 4,
 "nbformat_minor": 2
}

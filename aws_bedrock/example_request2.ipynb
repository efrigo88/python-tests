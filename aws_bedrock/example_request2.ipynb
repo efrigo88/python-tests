{
 "cells": [
  {
   "cell_type": "code",
   "execution_count": 11,
   "metadata": {},
   "outputs": [
    {
     "data": {
      "text/plain": [
       "True"
      ]
     },
     "execution_count": 11,
     "metadata": {},
     "output_type": "execute_result"
    }
   ],
   "source": [
    "import json\n",
    "import os\n",
    "\n",
    "import boto3\n",
    "from dotenv import load_dotenv\n",
    "\n",
    "# Load environment variables (AWS keys and region)\n",
    "load_dotenv()"
   ]
  },
  {
   "cell_type": "code",
   "execution_count": 12,
   "metadata": {},
   "outputs": [],
   "source": [
    "client = boto3.client(\n",
    "    \"bedrock-runtime\",\n",
    "    region_name=os.getenv(\"AWS_DEFAULT_REGION\"),\n",
    "    aws_access_key_id=os.getenv(\"AWS_ACCESS_KEY_ID\"),\n",
    "    aws_secret_access_key=os.getenv(\"AWS_SECRET_ACCESS_KEY\"),\n",
    ")"
   ]
  },
  {
   "cell_type": "code",
   "execution_count": 13,
   "metadata": {},
   "outputs": [],
   "source": [
    "# Choose your model here\n",
    "model_id = \"anthropic.claude-3-5-sonnet-20240620-v1:0\"\n",
    "\n",
    "# Define the prompt\n",
    "prompt_text = \"\"\"\n",
    "You are an expert legal assistant. Write a formal draft declaration for a tax-related affidavit. \n",
    "It should include a heading, an introductory statement, a clear explanation of the declarant’s position, \n",
    "legal disclaimers, and a closing signature line.\n",
    "\"\"\""
   ]
  },
  {
   "cell_type": "code",
   "execution_count": 14,
   "metadata": {},
   "outputs": [],
   "source": [
    "# Claude message format\n",
    "body = {\n",
    "    \"anthropic_version\": \"bedrock-2023-05-31\",\n",
    "    \"max_tokens\": 1000,\n",
    "    \"messages\": [\n",
    "        {\"role\": \"user\", \"content\": [{\"type\": \"text\", \"text\": prompt_text}]}\n",
    "    ],\n",
    "}\n",
    "\n",
    "# Convert body to JSON string\n",
    "payload = json.dumps(body)"
   ]
  },
  {
   "cell_type": "code",
   "execution_count": 15,
   "metadata": {},
   "outputs": [],
   "source": [
    "# Call the model\n",
    "response = client.invoke_model(\n",
    "    modelId=model_id,\n",
    "    body=payload,\n",
    "    contentType=\"application/json\",\n",
    "    accept=\"application/json\",\n",
    ")"
   ]
  },
  {
   "cell_type": "code",
   "execution_count": 16,
   "metadata": {},
   "outputs": [],
   "source": [
    "response_body = json.loads(response[\"body\"].read())"
   ]
  },
  {
   "cell_type": "code",
   "execution_count": 17,
   "metadata": {},
   "outputs": [],
   "source": [
    "# import pprint\n",
    "# pprint.pprint(response_body)"
   ]
  },
  {
   "cell_type": "code",
   "execution_count": 20,
   "metadata": {},
   "outputs": [
    {
     "name": "stdout",
     "output_type": "stream",
     "text": [
      "\n",
      "Claude Response:\n",
      "\n",
      "Here's a draft declaration for a tax-related affidavit:\n",
      "\n",
      "DECLARATION OF [FULL NAME]\n",
      "\n",
      "I, [FULL NAME], declare under penalty of perjury that the following is true and correct to the best of my knowledge and belief:\n",
      "\n",
      "1. I am over the age of 18 and competent to make this declaration.\n",
      "\n",
      "2. I reside at [FULL ADDRESS].\n",
      "\n",
      "3. I am making this declaration in support of [PURPOSE OF DECLARATION, e.g., \"my tax filing for the year 2022\"].\n",
      "\n",
      "4. [DETAILED EXPLANATION OF THE TAX-RELATED ISSUE OR STATEMENT]\n",
      "For example:\n",
      "\"I hereby affirm that I have reported all income received during the tax year 2022 on my federal income tax return. This includes wages from my primary employment, freelance income, and interest earned from savings accounts.\"\n",
      "\n",
      "5. [ADDITIONAL RELEVANT INFORMATION OR STATEMENTS]\n",
      "For example:\n",
      "\"I have maintained accurate records of all business expenses claimed on Schedule C of my tax return and can provide supporting documentation if required.\"\n",
      "\n",
      "6. I understand that this declaration may be used in administrative or judicial proceedings related to my tax filings.\n",
      "\n",
      "7. I am aware that any false statements made in this declaration may subject me to penalties for perjury under applicable federal and state laws.\n",
      "\n",
      "8. I have not been coerced or unduly influenced in making this declaration, and I make it freely and voluntarily.\n",
      "\n",
      "9. I affirm that I have reviewed all the information contained in this declaration and believe it to be true and accurate to the best of my knowledge.\n",
      "\n",
      "I declare under penalty of perjury under the laws of the United States of America that the foregoing is true and correct.\n",
      "\n",
      "Executed on this [DAY] day of [MONTH], [YEAR], at [CITY], [STATE].\n",
      "\n",
      "_______________________________\n",
      "[FULL NAME]\n",
      "Declarant\n",
      "\n",
      "[If notarization is required, add:]\n",
      "Subscribed and sworn to before me on this [DAY] day of [MONTH], [YEAR].\n",
      "\n",
      "_______________________________\n",
      "Notary Public\n",
      "My commission expires: [DATE]\n"
     ]
    }
   ],
   "source": [
    "response_content = response_body.get(\"content\", [])\n",
    "\n",
    "print(\"\\nClaude Response:\\n\")\n",
    "\n",
    "for block in response_content:\n",
    "    if block.get(\"type\") == \"text\":\n",
    "        for line in block[\"text\"].splitlines():\n",
    "            print(line.strip())"
   ]
  }
 ],
 "metadata": {
  "kernelspec": {
   "display_name": ".venv",
   "language": "python",
   "name": "python3"
  },
  "language_info": {
   "codemirror_mode": {
    "name": "ipython",
    "version": 3
   },
   "file_extension": ".py",
   "mimetype": "text/x-python",
   "name": "python",
   "nbconvert_exporter": "python",
   "pygments_lexer": "ipython3",
   "version": "3.10.16"
  }
 },
 "nbformat": 4,
 "nbformat_minor": 2
}

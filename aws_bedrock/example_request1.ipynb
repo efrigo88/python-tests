{
 "cells": [
  {
   "cell_type": "code",
   "execution_count": 1,
   "metadata": {},
   "outputs": [
    {
     "data": {
      "text/plain": [
       "True"
      ]
     },
     "execution_count": 1,
     "metadata": {},
     "output_type": "execute_result"
    }
   ],
   "source": [
    "import json\n",
    "import os\n",
    "\n",
    "import boto3\n",
    "from dotenv import load_dotenv\n",
    "\n",
    "# Load environment variables (AWS keys and region)\n",
    "load_dotenv()"
   ]
  },
  {
   "cell_type": "code",
   "execution_count": 2,
   "metadata": {},
   "outputs": [],
   "source": [
    "client = boto3.client(\n",
    "    \"bedrock-runtime\",\n",
    "    region_name=os.getenv(\"AWS_DEFAULT_REGION\"),\n",
    "    aws_access_key_id=os.getenv(\"AWS_ACCESS_KEY_ID\"),\n",
    "    aws_secret_access_key=os.getenv(\"AWS_SECRET_ACCESS_KEY\"),\n",
    ")"
   ]
  },
  {
   "cell_type": "code",
   "execution_count": 3,
   "metadata": {},
   "outputs": [],
   "source": [
    "# Choose your model here\n",
    "model_id = \"ai21.jamba-1-5-large-v1:0\"\n",
    "\n",
    "# Define the prompt\n",
    "prompt_text = \"\"\"\n",
    "You are an expert legal assistant. Write a formal draft declaration for a tax-related affidavit. \n",
    "It should include a heading, an introductory statement, a clear explanation of the declarant’s position, \n",
    "legal disclaimers, and a closing signature line.\n",
    "\"\"\""
   ]
  },
  {
   "cell_type": "code",
   "execution_count": 4,
   "metadata": {},
   "outputs": [],
   "source": [
    "# Format input based on model type (AI21 expects 'prompt' and 'maxTokens')\n",
    "body = {\n",
    "    \"messages\": [{\"role\": \"user\", \"content\": prompt_text}],\n",
    "    \"max_tokens\": 1000,\n",
    "    \"temperature\": 0.7,\n",
    "    \"top_p\": 0.9,\n",
    "}\n",
    "\n",
    "# Convert body to JSON string\n",
    "payload = json.dumps(body)"
   ]
  },
  {
   "cell_type": "code",
   "execution_count": 5,
   "metadata": {},
   "outputs": [],
   "source": [
    "# Call the model\n",
    "response = client.invoke_model(\n",
    "    modelId=model_id,\n",
    "    body=payload,\n",
    "    contentType=\"application/json\",\n",
    "    accept=\"application/json\",\n",
    ")"
   ]
  },
  {
   "cell_type": "code",
   "execution_count": 6,
   "metadata": {},
   "outputs": [],
   "source": [
    "response_body = json.loads(response[\"body\"].read())"
   ]
  },
  {
   "cell_type": "code",
   "execution_count": 7,
   "metadata": {},
   "outputs": [],
   "source": [
    "# import pprint\n",
    "# pprint.pprint(response_body)"
   ]
  },
  {
   "cell_type": "code",
   "execution_count": null,
   "metadata": {},
   "outputs": [],
   "source": [
    "content = (\n",
    "    response_body.get(\"choices\", [{}])[0]\n",
    "    .get(\"message\", {})\n",
    "    .get(\"content\", \"No output found.\")\n",
    ")\n",
    "print(\"\\nGenerated Output:\\n\")\n",
    "print(content)"
   ]
  }
 ],
 "metadata": {
  "kernelspec": {
   "display_name": ".venv",
   "language": "python",
   "name": "python3"
  },
  "language_info": {
   "codemirror_mode": {
    "name": "ipython",
    "version": 3
   },
   "file_extension": ".py",
   "mimetype": "text/x-python",
   "name": "python",
   "nbconvert_exporter": "python",
   "pygments_lexer": "ipython3",
   "version": "3.10.16"
  }
 },
 "nbformat": 4,
 "nbformat_minor": 2
}
